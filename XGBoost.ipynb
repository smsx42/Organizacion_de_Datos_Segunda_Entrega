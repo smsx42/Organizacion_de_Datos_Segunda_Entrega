{
  "nbformat": 4,
  "nbformat_minor": 0,
  "metadata": {
    "colab": {
      "provenance": []
    },
    "kernelspec": {
      "name": "python3",
      "display_name": "Python 3"
    },
    "language_info": {
      "name": "python"
    }
  },
  "cells": [
    {
      "cell_type": "markdown",
      "source": [
        "# Importación de librerías y lectura del Data Frame"
      ],
      "metadata": {
        "id": "2IKijoxVmtHq"
      }
    },
    {
      "cell_type": "code",
      "execution_count": null,
      "metadata": {
        "id": "rj2DZW4dyB6M",
        "colab": {
          "base_uri": "https://localhost:8080/"
        },
        "outputId": "dafa9389-38b5-4144-fcb3-14d20f9b300d"
      },
      "outputs": [
        {
          "output_type": "stream",
          "name": "stdout",
          "text": [
            "Looking in indexes: https://pypi.org/simple, https://us-python.pkg.dev/colab-wheels/public/simple/\n",
            "Requirement already satisfied: category_encoders in /usr/local/lib/python3.10/dist-packages (2.6.1)\n",
            "Requirement already satisfied: numpy>=1.14.0 in /usr/local/lib/python3.10/dist-packages (from category_encoders) (1.22.4)\n",
            "Requirement already satisfied: scikit-learn>=0.20.0 in /usr/local/lib/python3.10/dist-packages (from category_encoders) (1.2.2)\n",
            "Requirement already satisfied: scipy>=1.0.0 in /usr/local/lib/python3.10/dist-packages (from category_encoders) (1.10.1)\n",
            "Requirement already satisfied: statsmodels>=0.9.0 in /usr/local/lib/python3.10/dist-packages (from category_encoders) (0.13.5)\n",
            "Requirement already satisfied: pandas>=1.0.5 in /usr/local/lib/python3.10/dist-packages (from category_encoders) (1.5.3)\n",
            "Requirement already satisfied: patsy>=0.5.1 in /usr/local/lib/python3.10/dist-packages (from category_encoders) (0.5.3)\n",
            "Requirement already satisfied: python-dateutil>=2.8.1 in /usr/local/lib/python3.10/dist-packages (from pandas>=1.0.5->category_encoders) (2.8.2)\n",
            "Requirement already satisfied: pytz>=2020.1 in /usr/local/lib/python3.10/dist-packages (from pandas>=1.0.5->category_encoders) (2022.7.1)\n",
            "Requirement already satisfied: six in /usr/local/lib/python3.10/dist-packages (from patsy>=0.5.1->category_encoders) (1.16.0)\n",
            "Requirement already satisfied: joblib>=1.1.1 in /usr/local/lib/python3.10/dist-packages (from scikit-learn>=0.20.0->category_encoders) (1.2.0)\n",
            "Requirement already satisfied: threadpoolctl>=2.0.0 in /usr/local/lib/python3.10/dist-packages (from scikit-learn>=0.20.0->category_encoders) (3.1.0)\n",
            "Requirement already satisfied: packaging>=21.3 in /usr/local/lib/python3.10/dist-packages (from statsmodels>=0.9.0->category_encoders) (23.1)\n"
          ]
        }
      ],
      "source": [
        "import xgboost as xgb\n",
        "from sklearn.model_selection import train_test_split, RandomizedSearchCV\n",
        "import pandas as pd\n",
        "import numpy as np\n",
        "import matplotlib.pyplot as plt\n",
        "from sklearn import tree\n",
        "!pip install category_encoders\n",
        "from category_encoders import TargetEncoder\n",
        "from sklearn.preprocessing import OneHotEncoder\n",
        "from sklearn.metrics import confusion_matrix, mean_squared_error, roc_auc_score\n",
        "import seaborn as sns"
      ]
    },
    {
      "cell_type": "code",
      "source": [
        "df_secundario = pd.read_csv(\"/content/drive/MyDrive/secondary_data.csv\", delimiter=';')"
      ],
      "metadata": {
        "id": "_VhzrFZ8PDcL"
      },
      "execution_count": null,
      "outputs": []
    },
    {
      "cell_type": "markdown",
      "source": [
        "# Exploración de los datos\n",
        "\n",
        "Al igual que en la parte 3, no se van a utilizar todas las columnas y se van a ir probando de a poco hasta alcanzar buenos resultados. Por enunciado si o si debo tener por lo menos 40 features numéricas.\n"
      ],
      "metadata": {
        "id": "D8FVlwy7JwR0"
      }
    },
    {
      "cell_type": "markdown",
      "source": [
        "Elimino las columnas que no voy a usar."
      ],
      "metadata": {
        "id": "bWNA1_rAFqBF"
      }
    },
    {
      "cell_type": "code",
      "source": [
        "df_secundario = df_secundario.drop(\"stem-root\", axis = 1)\n",
        "df_secundario = df_secundario.drop(\"stem-surface\", axis = 1)\n",
        "df_secundario = df_secundario.drop(\"veil-type\", axis = 1)\n",
        "df_secundario = df_secundario.drop(\"veil-color\", axis = 1)\n",
        "df_secundario = df_secundario.drop(\"spore-print-color\", axis = 1)\n",
        "df_secundario = df_secundario.drop(\"season\", axis = 1)\n",
        "df_secundario = df_secundario.drop(\"does-bruise-or-bleed\", axis = 1)"
      ],
      "metadata": {
        "id": "pZGpHRFXpiKh"
      },
      "execution_count": null,
      "outputs": []
    },
    {
      "cell_type": "code",
      "source": [
        "# Imputa los Nans dedos un df, la nombre de la features y un caracter.\n",
        "def imputar_nans(df, nombre_feature, caracter):\n",
        "\n",
        "  df[nombre_feature] = df[nombre_feature].fillna(caracter)"
      ],
      "metadata": {
        "id": "BpvsPO7wPMkR"
      },
      "execution_count": null,
      "outputs": []
    },
    {
      "cell_type": "code",
      "source": [
        "#Reemplaza la d por o en esta categoria.\n",
        "df_secundario['cap-surface'] = df_secundario[\"cap-surface\"].map(lambda x: 'o' if x == 'd' else x)"
      ],
      "metadata": {
        "id": "BfA6RLM6P-aq"
      },
      "execution_count": null,
      "outputs": []
    },
    {
      "cell_type": "code",
      "source": [
        "imputar_nans(df_secundario, 'cap-surface', 'o')\n",
        "imputar_nans(df_secundario, 'gill-attachment', 'o')\n",
        "imputar_nans(df_secundario, 'gill-spacing', 'o')\n",
        "imputar_nans(df_secundario, 'ring-type', 'o')"
      ],
      "metadata": {
        "id": "_j1qlUptQAPU"
      },
      "execution_count": null,
      "outputs": []
    },
    {
      "cell_type": "markdown",
      "source": [
        "# Preparación de los datos\n",
        "\n",
        "En esta sección se preparan los datos para realizar un XGBoost de clasificación.\n"
      ],
      "metadata": {
        "id": "ivXIC9lKNNVv"
      }
    },
    {
      "cell_type": "markdown",
      "source": [
        "Separo el target del resto del Data Frame."
      ],
      "metadata": {
        "id": "pdDd8CPsE3dp"
      }
    },
    {
      "cell_type": "code",
      "source": [
        "X = df_secundario.drop('class', axis=1)"
      ],
      "metadata": {
        "id": "34_sAwjGM0Eh"
      },
      "execution_count": null,
      "outputs": []
    },
    {
      "cell_type": "code",
      "source": [
        "y = df_secundario['class']"
      ],
      "metadata": {
        "id": "nnIFgLB9M-LM"
      },
      "execution_count": null,
      "outputs": []
    },
    {
      "cell_type": "markdown",
      "source": [
        "Creo un set de entrenamiento y uno de medición."
      ],
      "metadata": {
        "id": "u1KOgzISE_0M"
      }
    },
    {
      "cell_type": "code",
      "source": [
        "X_train, X_med, y_train, y_med = train_test_split(X, y, test_size=0.2, random_state=13)"
      ],
      "metadata": {
        "id": "5YgWFGVbM_Nu"
      },
      "execution_count": null,
      "outputs": []
    },
    {
      "cell_type": "markdown",
      "source": [
        "Creo un set de testeo y uno de validación a partir del de medición."
      ],
      "metadata": {
        "id": "qYDaSNgUFICC"
      }
    },
    {
      "cell_type": "code",
      "source": [
        "X_test, X_validation, y_test, y_validation = train_test_split(X_med, y_med, test_size=0.5, random_state=13)"
      ],
      "metadata": {
        "id": "7LVv5aY-NChG"
      },
      "execution_count": null,
      "outputs": []
    },
    {
      "cell_type": "markdown",
      "metadata": {
        "id": "kiY8HtVtqnCp"
      },
      "source": [
        "Voy a utilizar una variable binaria {0, 1} para representar al target (\"class\") en donde 1 es para indicar que el hongo es venenoso ('p') y 0 si el hongo es comestible ('e')."
      ]
    },
    {
      "cell_type": "code",
      "source": [
        "y_train =  y_train.map(lambda x: 1 if x == 'p' else 0)"
      ],
      "metadata": {
        "id": "nrdaiGsiNJG0"
      },
      "execution_count": null,
      "outputs": []
    },
    {
      "cell_type": "code",
      "source": [
        "y_validation =  y_validation.map(lambda x: 1 if x == 'p' else 0)"
      ],
      "metadata": {
        "id": "uOPEh5ixN11C"
      },
      "execution_count": null,
      "outputs": []
    },
    {
      "cell_type": "code",
      "source": [
        "y_test =  y_test.map(lambda x: 1 if x == 'p' else 0)"
      ],
      "metadata": {
        "id": "q4pXPUM1OBQe"
      },
      "execution_count": null,
      "outputs": []
    },
    {
      "cell_type": "markdown",
      "metadata": {
        "id": "-HBc5FyxVTxm"
      },
      "source": [
        "Aplico un encoding a todas las columnas. Por enunciado, necesito aplicar mean coding y OHE por lo menos una vez."
      ]
    },
    {
      "cell_type": "code",
      "source": [
        "#Aplica OHE a cada columna dada una feature.\n",
        "def aplicar_ohe(nombre_feature, columnas):\n",
        "\n",
        "  global X_train, X_test, X_validation\n",
        "  ohe = OneHotEncoder()\n",
        "  encoded_train = ohe.fit_transform(X_train[[nombre_feature]]).todense().astype(int)\n",
        "  encoded_test = ohe.fit_transform(X_test[[nombre_feature]]).todense().astype(int)\n",
        "  encoded_validation = ohe.transform(X_validation[[nombre_feature]]).todense().astype(int)\n",
        "  X_train = X_train.reset_index().drop(['index', nombre_feature],axis=1).join(pd.DataFrame(encoded_train))\n",
        "  X_test = X_test.reset_index().drop(['index', nombre_feature],axis=1).join(pd.DataFrame(encoded_test))\n",
        "  X_validation = X_validation.reset_index().drop(['index', nombre_feature],axis=1).join(pd.DataFrame(encoded_validation))\n",
        "  X_train = X_train.rename(columns=columnas)\n",
        "  X_test = X_test.rename(columns=columnas)\n",
        "  X_validation = X_validation.rename(columns=columnas)"
      ],
      "metadata": {
        "id": "ck05vhP5QH4A"
      },
      "execution_count": null,
      "outputs": []
    },
    {
      "cell_type": "code",
      "source": [
        "#Aplica Mean encoding por cada columa.\n",
        "def aplicar_mean_encoding(nombre_feature):\n",
        "\n",
        "  global X_train, X_test, X_validation\n",
        "  encoder = TargetEncoder()\n",
        "  X_train[nombre_feature+ \"-mean\"] = encoder.fit_transform(X_train[nombre_feature], y_train)\n",
        "  X_test[nombre_feature+ \"-mean\"] = encoder.transform(X_test[nombre_feature], y_test)\n",
        "  X_validation[nombre_feature+ \"-mean\"] = encoder.transform(X_validation[nombre_feature], y_validation)\n",
        "  X_train = X_train.drop([nombre_feature],axis=1)\n",
        "  X_test = X_test.drop([nombre_feature],axis=1)\n",
        "  X_validation = X_validation.drop([nombre_feature],axis=1)\n"
      ],
      "metadata": {
        "id": "S09257e-RAdE"
      },
      "execution_count": null,
      "outputs": []
    },
    {
      "cell_type": "markdown",
      "source": [
        "* Aplicación de Mean Encoding.\n"
      ],
      "metadata": {
        "id": "BgSBOMMKn3qC"
      }
    },
    {
      "cell_type": "markdown",
      "source": [
        "Con \"cap-surface\":"
      ],
      "metadata": {
        "id": "iKxW5j3jFxl6"
      }
    },
    {
      "cell_type": "code",
      "source": [
        "aplicar_mean_encoding('cap-surface')"
      ],
      "metadata": {
        "id": "kk5x1aHUF9Kz"
      },
      "execution_count": null,
      "outputs": []
    },
    {
      "cell_type": "markdown",
      "metadata": {
        "id": "9wg7UsPOo85D"
      },
      "source": [
        "Con \"gill-spacing\":"
      ]
    },
    {
      "cell_type": "code",
      "source": [
        "aplicar_mean_encoding('gill-spacing')"
      ],
      "metadata": {
        "id": "F1Y9kCZuGw93"
      },
      "execution_count": null,
      "outputs": []
    },
    {
      "cell_type": "markdown",
      "metadata": {
        "id": "by1Uz3RIuxmf"
      },
      "source": [
        "Con \"ring-type\":"
      ]
    },
    {
      "cell_type": "code",
      "source": [
        "aplicar_mean_encoding('ring-type')"
      ],
      "metadata": {
        "id": "fz9XyQVMHv7Z"
      },
      "execution_count": null,
      "outputs": []
    },
    {
      "cell_type": "markdown",
      "metadata": {
        "id": "FDOleFR7yGgZ"
      },
      "source": [
        "Con \"habitat\":"
      ]
    },
    {
      "cell_type": "code",
      "source": [
        "aplicar_mean_encoding('habitat')"
      ],
      "metadata": {
        "id": "XWDj_7MQH_pp"
      },
      "execution_count": null,
      "outputs": []
    },
    {
      "cell_type": "markdown",
      "source": [
        "* Aplicación de OHE."
      ],
      "metadata": {
        "id": "V8k6KkQPoXmp"
      }
    },
    {
      "cell_type": "markdown",
      "source": [
        "Con \"cap-shape\":"
      ],
      "metadata": {
        "id": "ZEf8p-yKFp1O"
      }
    },
    {
      "cell_type": "code",
      "source": [
        "aplicar_ohe('cap-shape', {0:'b0',1:'c0',2:'f0',3:'o0',4:'p0',5:'s0',6:'x0'})"
      ],
      "metadata": {
        "id": "J3KrDH5WFr5V"
      },
      "execution_count": null,
      "outputs": []
    },
    {
      "cell_type": "markdown",
      "source": [
        "Con \"cap-color\":"
      ],
      "metadata": {
        "id": "C3D7ZEZfGRWE"
      }
    },
    {
      "cell_type": "code",
      "source": [
        "aplicar_ohe('cap-color', {0:'b2',1:'e2',2:'g2',3:'k2',4:'l2',5:'n2',6:'o2', 7:'p2', 8:'r2', 9:'u2', 10:'w2', 11:'y2'})"
      ],
      "metadata": {
        "id": "oW1-2Z8QGWS1"
      },
      "execution_count": null,
      "outputs": []
    },
    {
      "cell_type": "markdown",
      "metadata": {
        "id": "-kFw7zvUm9Mc"
      },
      "source": [
        "Con \"gill-attachment\":"
      ]
    },
    {
      "cell_type": "code",
      "source": [
        "aplicar_ohe('gill-attachment', {0:'a4',1:'d4',2:'e4',3:'f4',4:'o4',5:'p4',6:'s4', 7:'x4'})"
      ],
      "metadata": {
        "id": "GXKLZfybGqFO"
      },
      "execution_count": null,
      "outputs": []
    },
    {
      "cell_type": "markdown",
      "metadata": {
        "id": "XEhrQKlCpoua"
      },
      "source": [
        "Con \"gill-color\":"
      ]
    },
    {
      "cell_type": "code",
      "source": [
        "aplicar_ohe('gill-color', {0:'b6',1:'e6',2:'f6',3:'g6',4:'k6',5:'n6',6:'o6', 7:'p6', 8:'r6', 9:'u6', 10:'w6', 11:'y6'})"
      ],
      "metadata": {
        "id": "sXOV_2M_G7Iq"
      },
      "execution_count": null,
      "outputs": []
    },
    {
      "cell_type": "markdown",
      "metadata": {
        "id": "LLwKgt4ir9KL"
      },
      "source": [
        "Con \"stem-color\":"
      ]
    },
    {
      "cell_type": "code",
      "source": [
        "aplicar_ohe('stem-color', {0:'b9',1:'e9',2:'f9',3:'g9',4:'k9',5:'l9',6:'n9', 7:'o9', 8:'p9', 9:'r9', 10:'u9', 11:'w9', 12:'y9'})"
      ],
      "metadata": {
        "id": "0RFuDi2WHSt6"
      },
      "execution_count": null,
      "outputs": []
    },
    {
      "cell_type": "markdown",
      "metadata": {
        "id": "HXditg8Oo7gZ"
      },
      "source": [
        "Con \"has-ring\":"
      ]
    },
    {
      "cell_type": "code",
      "source": [
        "aplicar_ohe('has-ring', {0:'f12',1:'t12'})"
      ],
      "metadata": {
        "id": "4Uh0Kt0zHo_c"
      },
      "execution_count": null,
      "outputs": []
    },
    {
      "cell_type": "code",
      "source": [
        "X_train"
      ],
      "metadata": {
        "colab": {
          "base_uri": "https://localhost:8080/",
          "height": 522
        },
        "id": "FOuPyXkgKTED",
        "outputId": "65805d67-3bdb-4dfb-c7ca-f231b9a2022b"
      },
      "execution_count": null,
      "outputs": [
        {
          "output_type": "execute_result",
          "data": {
            "text/plain": [
              "       cap-diameter  stem-height  stem-width  cap-surface-mean  \\\n",
              "0             15.74         5.02       28.73          0.925151   \n",
              "1              1.27         3.79        5.63          0.431833   \n",
              "2             12.05         6.03       23.98          0.479898   \n",
              "3              8.08         6.04       14.95          0.652791   \n",
              "4              6.44        12.23       12.77          0.473605   \n",
              "...             ...          ...         ...               ...   \n",
              "48850          8.53         3.63       25.28          0.529736   \n",
              "48851         10.66         5.10       19.52          0.521801   \n",
              "48852          1.62         3.73        2.63          0.830604   \n",
              "48853          1.29         5.00        2.45          0.529736   \n",
              "48854          2.46         3.41        2.38          0.830604   \n",
              "\n",
              "       gill-spacing-mean  ring-type-mean  habitat-mean  b0  c0  f0  ...  l9  \\\n",
              "0               0.585689        0.555199      0.544301   0   0   1  ...   0   \n",
              "1               0.603135        0.555199      0.544301   0   0   1  ...   0   \n",
              "2               0.563700        0.566876      0.544301   0   0   1  ...   0   \n",
              "3               0.563700        0.423019      0.544301   0   0   0  ...   0   \n",
              "4               0.563700        0.555199      0.544301   0   0   0  ...   0   \n",
              "...                  ...             ...           ...  ..  ..  ..  ...  ..   \n",
              "48850           0.603135        0.555199      0.544301   0   0   0  ...   0   \n",
              "48851           0.585689        0.555199      0.544301   0   0   1  ...   0   \n",
              "48852           0.563700        0.555199      0.686006   0   0   0  ...   0   \n",
              "48853           0.563700        0.555199      0.686006   0   0   0  ...   0   \n",
              "48854           0.563700        0.555199      0.686006   0   0   1  ...   0   \n",
              "\n",
              "       n9  o9  p9  r9  u9  w9  y9  f12  t12  \n",
              "0       1   0   0   0   0   0   0    1    0  \n",
              "1       0   0   0   0   0   0   1    1    0  \n",
              "2       1   0   0   0   0   0   0    0    1  \n",
              "3       0   0   0   0   0   0   1    0    1  \n",
              "4       0   0   0   0   0   1   0    1    0  \n",
              "...    ..  ..  ..  ..  ..  ..  ..  ...  ...  \n",
              "48850   1   0   0   0   0   0   0    1    0  \n",
              "48851   0   0   0   0   0   1   0    0    1  \n",
              "48852   0   0   0   0   0   1   0    1    0  \n",
              "48853   1   0   0   0   0   0   0    1    0  \n",
              "48854   0   0   0   0   0   1   0    1    0  \n",
              "\n",
              "[48855 rows x 61 columns]"
            ],
            "text/html": [
              "\n",
              "  <div id=\"df-f1d8a261-5b1a-430f-bce5-1a416669373c\">\n",
              "    <div class=\"colab-df-container\">\n",
              "      <div>\n",
              "<style scoped>\n",
              "    .dataframe tbody tr th:only-of-type {\n",
              "        vertical-align: middle;\n",
              "    }\n",
              "\n",
              "    .dataframe tbody tr th {\n",
              "        vertical-align: top;\n",
              "    }\n",
              "\n",
              "    .dataframe thead th {\n",
              "        text-align: right;\n",
              "    }\n",
              "</style>\n",
              "<table border=\"1\" class=\"dataframe\">\n",
              "  <thead>\n",
              "    <tr style=\"text-align: right;\">\n",
              "      <th></th>\n",
              "      <th>cap-diameter</th>\n",
              "      <th>stem-height</th>\n",
              "      <th>stem-width</th>\n",
              "      <th>cap-surface-mean</th>\n",
              "      <th>gill-spacing-mean</th>\n",
              "      <th>ring-type-mean</th>\n",
              "      <th>habitat-mean</th>\n",
              "      <th>b0</th>\n",
              "      <th>c0</th>\n",
              "      <th>f0</th>\n",
              "      <th>...</th>\n",
              "      <th>l9</th>\n",
              "      <th>n9</th>\n",
              "      <th>o9</th>\n",
              "      <th>p9</th>\n",
              "      <th>r9</th>\n",
              "      <th>u9</th>\n",
              "      <th>w9</th>\n",
              "      <th>y9</th>\n",
              "      <th>f12</th>\n",
              "      <th>t12</th>\n",
              "    </tr>\n",
              "  </thead>\n",
              "  <tbody>\n",
              "    <tr>\n",
              "      <th>0</th>\n",
              "      <td>15.74</td>\n",
              "      <td>5.02</td>\n",
              "      <td>28.73</td>\n",
              "      <td>0.925151</td>\n",
              "      <td>0.585689</td>\n",
              "      <td>0.555199</td>\n",
              "      <td>0.544301</td>\n",
              "      <td>0</td>\n",
              "      <td>0</td>\n",
              "      <td>1</td>\n",
              "      <td>...</td>\n",
              "      <td>0</td>\n",
              "      <td>1</td>\n",
              "      <td>0</td>\n",
              "      <td>0</td>\n",
              "      <td>0</td>\n",
              "      <td>0</td>\n",
              "      <td>0</td>\n",
              "      <td>0</td>\n",
              "      <td>1</td>\n",
              "      <td>0</td>\n",
              "    </tr>\n",
              "    <tr>\n",
              "      <th>1</th>\n",
              "      <td>1.27</td>\n",
              "      <td>3.79</td>\n",
              "      <td>5.63</td>\n",
              "      <td>0.431833</td>\n",
              "      <td>0.603135</td>\n",
              "      <td>0.555199</td>\n",
              "      <td>0.544301</td>\n",
              "      <td>0</td>\n",
              "      <td>0</td>\n",
              "      <td>1</td>\n",
              "      <td>...</td>\n",
              "      <td>0</td>\n",
              "      <td>0</td>\n",
              "      <td>0</td>\n",
              "      <td>0</td>\n",
              "      <td>0</td>\n",
              "      <td>0</td>\n",
              "      <td>0</td>\n",
              "      <td>1</td>\n",
              "      <td>1</td>\n",
              "      <td>0</td>\n",
              "    </tr>\n",
              "    <tr>\n",
              "      <th>2</th>\n",
              "      <td>12.05</td>\n",
              "      <td>6.03</td>\n",
              "      <td>23.98</td>\n",
              "      <td>0.479898</td>\n",
              "      <td>0.563700</td>\n",
              "      <td>0.566876</td>\n",
              "      <td>0.544301</td>\n",
              "      <td>0</td>\n",
              "      <td>0</td>\n",
              "      <td>1</td>\n",
              "      <td>...</td>\n",
              "      <td>0</td>\n",
              "      <td>1</td>\n",
              "      <td>0</td>\n",
              "      <td>0</td>\n",
              "      <td>0</td>\n",
              "      <td>0</td>\n",
              "      <td>0</td>\n",
              "      <td>0</td>\n",
              "      <td>0</td>\n",
              "      <td>1</td>\n",
              "    </tr>\n",
              "    <tr>\n",
              "      <th>3</th>\n",
              "      <td>8.08</td>\n",
              "      <td>6.04</td>\n",
              "      <td>14.95</td>\n",
              "      <td>0.652791</td>\n",
              "      <td>0.563700</td>\n",
              "      <td>0.423019</td>\n",
              "      <td>0.544301</td>\n",
              "      <td>0</td>\n",
              "      <td>0</td>\n",
              "      <td>0</td>\n",
              "      <td>...</td>\n",
              "      <td>0</td>\n",
              "      <td>0</td>\n",
              "      <td>0</td>\n",
              "      <td>0</td>\n",
              "      <td>0</td>\n",
              "      <td>0</td>\n",
              "      <td>0</td>\n",
              "      <td>1</td>\n",
              "      <td>0</td>\n",
              "      <td>1</td>\n",
              "    </tr>\n",
              "    <tr>\n",
              "      <th>4</th>\n",
              "      <td>6.44</td>\n",
              "      <td>12.23</td>\n",
              "      <td>12.77</td>\n",
              "      <td>0.473605</td>\n",
              "      <td>0.563700</td>\n",
              "      <td>0.555199</td>\n",
              "      <td>0.544301</td>\n",
              "      <td>0</td>\n",
              "      <td>0</td>\n",
              "      <td>0</td>\n",
              "      <td>...</td>\n",
              "      <td>0</td>\n",
              "      <td>0</td>\n",
              "      <td>0</td>\n",
              "      <td>0</td>\n",
              "      <td>0</td>\n",
              "      <td>0</td>\n",
              "      <td>1</td>\n",
              "      <td>0</td>\n",
              "      <td>1</td>\n",
              "      <td>0</td>\n",
              "    </tr>\n",
              "    <tr>\n",
              "      <th>...</th>\n",
              "      <td>...</td>\n",
              "      <td>...</td>\n",
              "      <td>...</td>\n",
              "      <td>...</td>\n",
              "      <td>...</td>\n",
              "      <td>...</td>\n",
              "      <td>...</td>\n",
              "      <td>...</td>\n",
              "      <td>...</td>\n",
              "      <td>...</td>\n",
              "      <td>...</td>\n",
              "      <td>...</td>\n",
              "      <td>...</td>\n",
              "      <td>...</td>\n",
              "      <td>...</td>\n",
              "      <td>...</td>\n",
              "      <td>...</td>\n",
              "      <td>...</td>\n",
              "      <td>...</td>\n",
              "      <td>...</td>\n",
              "      <td>...</td>\n",
              "    </tr>\n",
              "    <tr>\n",
              "      <th>48850</th>\n",
              "      <td>8.53</td>\n",
              "      <td>3.63</td>\n",
              "      <td>25.28</td>\n",
              "      <td>0.529736</td>\n",
              "      <td>0.603135</td>\n",
              "      <td>0.555199</td>\n",
              "      <td>0.544301</td>\n",
              "      <td>0</td>\n",
              "      <td>0</td>\n",
              "      <td>0</td>\n",
              "      <td>...</td>\n",
              "      <td>0</td>\n",
              "      <td>1</td>\n",
              "      <td>0</td>\n",
              "      <td>0</td>\n",
              "      <td>0</td>\n",
              "      <td>0</td>\n",
              "      <td>0</td>\n",
              "      <td>0</td>\n",
              "      <td>1</td>\n",
              "      <td>0</td>\n",
              "    </tr>\n",
              "    <tr>\n",
              "      <th>48851</th>\n",
              "      <td>10.66</td>\n",
              "      <td>5.10</td>\n",
              "      <td>19.52</td>\n",
              "      <td>0.521801</td>\n",
              "      <td>0.585689</td>\n",
              "      <td>0.555199</td>\n",
              "      <td>0.544301</td>\n",
              "      <td>0</td>\n",
              "      <td>0</td>\n",
              "      <td>1</td>\n",
              "      <td>...</td>\n",
              "      <td>0</td>\n",
              "      <td>0</td>\n",
              "      <td>0</td>\n",
              "      <td>0</td>\n",
              "      <td>0</td>\n",
              "      <td>0</td>\n",
              "      <td>1</td>\n",
              "      <td>0</td>\n",
              "      <td>0</td>\n",
              "      <td>1</td>\n",
              "    </tr>\n",
              "    <tr>\n",
              "      <th>48852</th>\n",
              "      <td>1.62</td>\n",
              "      <td>3.73</td>\n",
              "      <td>2.63</td>\n",
              "      <td>0.830604</td>\n",
              "      <td>0.563700</td>\n",
              "      <td>0.555199</td>\n",
              "      <td>0.686006</td>\n",
              "      <td>0</td>\n",
              "      <td>0</td>\n",
              "      <td>0</td>\n",
              "      <td>...</td>\n",
              "      <td>0</td>\n",
              "      <td>0</td>\n",
              "      <td>0</td>\n",
              "      <td>0</td>\n",
              "      <td>0</td>\n",
              "      <td>0</td>\n",
              "      <td>1</td>\n",
              "      <td>0</td>\n",
              "      <td>1</td>\n",
              "      <td>0</td>\n",
              "    </tr>\n",
              "    <tr>\n",
              "      <th>48853</th>\n",
              "      <td>1.29</td>\n",
              "      <td>5.00</td>\n",
              "      <td>2.45</td>\n",
              "      <td>0.529736</td>\n",
              "      <td>0.563700</td>\n",
              "      <td>0.555199</td>\n",
              "      <td>0.686006</td>\n",
              "      <td>0</td>\n",
              "      <td>0</td>\n",
              "      <td>0</td>\n",
              "      <td>...</td>\n",
              "      <td>0</td>\n",
              "      <td>1</td>\n",
              "      <td>0</td>\n",
              "      <td>0</td>\n",
              "      <td>0</td>\n",
              "      <td>0</td>\n",
              "      <td>0</td>\n",
              "      <td>0</td>\n",
              "      <td>1</td>\n",
              "      <td>0</td>\n",
              "    </tr>\n",
              "    <tr>\n",
              "      <th>48854</th>\n",
              "      <td>2.46</td>\n",
              "      <td>3.41</td>\n",
              "      <td>2.38</td>\n",
              "      <td>0.830604</td>\n",
              "      <td>0.563700</td>\n",
              "      <td>0.555199</td>\n",
              "      <td>0.686006</td>\n",
              "      <td>0</td>\n",
              "      <td>0</td>\n",
              "      <td>1</td>\n",
              "      <td>...</td>\n",
              "      <td>0</td>\n",
              "      <td>0</td>\n",
              "      <td>0</td>\n",
              "      <td>0</td>\n",
              "      <td>0</td>\n",
              "      <td>0</td>\n",
              "      <td>1</td>\n",
              "      <td>0</td>\n",
              "      <td>1</td>\n",
              "      <td>0</td>\n",
              "    </tr>\n",
              "  </tbody>\n",
              "</table>\n",
              "<p>48855 rows × 61 columns</p>\n",
              "</div>\n",
              "      <button class=\"colab-df-convert\" onclick=\"convertToInteractive('df-f1d8a261-5b1a-430f-bce5-1a416669373c')\"\n",
              "              title=\"Convert this dataframe to an interactive table.\"\n",
              "              style=\"display:none;\">\n",
              "        \n",
              "  <svg xmlns=\"http://www.w3.org/2000/svg\" height=\"24px\"viewBox=\"0 0 24 24\"\n",
              "       width=\"24px\">\n",
              "    <path d=\"M0 0h24v24H0V0z\" fill=\"none\"/>\n",
              "    <path d=\"M18.56 5.44l.94 2.06.94-2.06 2.06-.94-2.06-.94-.94-2.06-.94 2.06-2.06.94zm-11 1L8.5 8.5l.94-2.06 2.06-.94-2.06-.94L8.5 2.5l-.94 2.06-2.06.94zm10 10l.94 2.06.94-2.06 2.06-.94-2.06-.94-.94-2.06-.94 2.06-2.06.94z\"/><path d=\"M17.41 7.96l-1.37-1.37c-.4-.4-.92-.59-1.43-.59-.52 0-1.04.2-1.43.59L10.3 9.45l-7.72 7.72c-.78.78-.78 2.05 0 2.83L4 21.41c.39.39.9.59 1.41.59.51 0 1.02-.2 1.41-.59l7.78-7.78 2.81-2.81c.8-.78.8-2.07 0-2.86zM5.41 20L4 18.59l7.72-7.72 1.47 1.35L5.41 20z\"/>\n",
              "  </svg>\n",
              "      </button>\n",
              "      \n",
              "  <style>\n",
              "    .colab-df-container {\n",
              "      display:flex;\n",
              "      flex-wrap:wrap;\n",
              "      gap: 12px;\n",
              "    }\n",
              "\n",
              "    .colab-df-convert {\n",
              "      background-color: #E8F0FE;\n",
              "      border: none;\n",
              "      border-radius: 50%;\n",
              "      cursor: pointer;\n",
              "      display: none;\n",
              "      fill: #1967D2;\n",
              "      height: 32px;\n",
              "      padding: 0 0 0 0;\n",
              "      width: 32px;\n",
              "    }\n",
              "\n",
              "    .colab-df-convert:hover {\n",
              "      background-color: #E2EBFA;\n",
              "      box-shadow: 0px 1px 2px rgba(60, 64, 67, 0.3), 0px 1px 3px 1px rgba(60, 64, 67, 0.15);\n",
              "      fill: #174EA6;\n",
              "    }\n",
              "\n",
              "    [theme=dark] .colab-df-convert {\n",
              "      background-color: #3B4455;\n",
              "      fill: #D2E3FC;\n",
              "    }\n",
              "\n",
              "    [theme=dark] .colab-df-convert:hover {\n",
              "      background-color: #434B5C;\n",
              "      box-shadow: 0px 1px 3px 1px rgba(0, 0, 0, 0.15);\n",
              "      filter: drop-shadow(0px 1px 2px rgba(0, 0, 0, 0.3));\n",
              "      fill: #FFFFFF;\n",
              "    }\n",
              "  </style>\n",
              "\n",
              "      <script>\n",
              "        const buttonEl =\n",
              "          document.querySelector('#df-f1d8a261-5b1a-430f-bce5-1a416669373c button.colab-df-convert');\n",
              "        buttonEl.style.display =\n",
              "          google.colab.kernel.accessAllowed ? 'block' : 'none';\n",
              "\n",
              "        async function convertToInteractive(key) {\n",
              "          const element = document.querySelector('#df-f1d8a261-5b1a-430f-bce5-1a416669373c');\n",
              "          const dataTable =\n",
              "            await google.colab.kernel.invokeFunction('convertToInteractive',\n",
              "                                                     [key], {});\n",
              "          if (!dataTable) return;\n",
              "\n",
              "          const docLinkHtml = 'Like what you see? Visit the ' +\n",
              "            '<a target=\"_blank\" href=https://colab.research.google.com/notebooks/data_table.ipynb>data table notebook</a>'\n",
              "            + ' to learn more about interactive tables.';\n",
              "          element.innerHTML = '';\n",
              "          dataTable['output_type'] = 'display_data';\n",
              "          await google.colab.output.renderOutput(dataTable, element);\n",
              "          const docLink = document.createElement('div');\n",
              "          docLink.innerHTML = docLinkHtml;\n",
              "          element.appendChild(docLink);\n",
              "        }\n",
              "      </script>\n",
              "    </div>\n",
              "  </div>\n",
              "  "
            ]
          },
          "metadata": {},
          "execution_count": 26
        }
      ]
    },
    {
      "cell_type": "code",
      "source": [
        "X_validation"
      ],
      "metadata": {
        "colab": {
          "base_uri": "https://localhost:8080/",
          "height": 696
        },
        "id": "k9z1wd06qdIi",
        "outputId": "d71f9fe3-987f-4847-b776-d23a4dc4ba62"
      },
      "execution_count": null,
      "outputs": [
        {
          "output_type": "execute_result",
          "data": {
            "text/plain": [
              "      cap-diameter  stem-height  stem-width  cap-surface-mean  \\\n",
              "0             2.38         8.13        2.59          0.652791   \n",
              "1             2.35         5.48        2.31          0.529736   \n",
              "2             7.70        14.78       18.18          0.479898   \n",
              "3             5.64         6.76       12.15          0.925151   \n",
              "4             5.69         7.84       14.56          0.652791   \n",
              "...            ...          ...         ...               ...   \n",
              "6102         10.65        10.00       22.49          0.529736   \n",
              "6103          5.20        12.43       13.25          0.652791   \n",
              "6104          8.51         4.52       13.00          0.479898   \n",
              "6105          9.27        11.46       32.54          0.652791   \n",
              "6106          6.26         6.09       14.68          0.529736   \n",
              "\n",
              "      gill-spacing-mean  ring-type-mean  habitat-mean  b0  c0  f0  ...  l9  \\\n",
              "0              0.585689        0.566876  5.121951e-01   0   0   0  ...   0   \n",
              "1              0.563700        0.555199  5.443006e-01   1   0   0  ...   0   \n",
              "2              0.563700        0.555199  5.443006e-01   1   0   0  ...   0   \n",
              "3              0.585689        0.555199  6.860063e-01   0   1   0  ...   0   \n",
              "4              0.585689        0.555199  5.443006e-01   0   0   0  ...   0   \n",
              "...                 ...             ...           ...  ..  ..  ..  ...  ..   \n",
              "6102           0.563700        0.555199  5.443006e-01   0   0   0  ...   0   \n",
              "6103           0.563700        0.555199  5.443006e-01   0   1   0  ...   0   \n",
              "6104           0.585689        0.396507  2.322821e-12   0   0   1  ...   0   \n",
              "6105           0.409751        0.555199  5.443006e-01   0   0   0  ...   0   \n",
              "6106           0.563700        0.555199  5.443006e-01   0   0   0  ...   0   \n",
              "\n",
              "      n9  o9  p9  r9  u9  w9  y9  f12  t12  \n",
              "0      0   0   0   0   0   0   1    0    1  \n",
              "1      0   0   0   0   0   0   0    1    0  \n",
              "2      0   0   0   0   0   1   0    1    0  \n",
              "3      0   0   0   0   0   1   0    1    0  \n",
              "4      0   0   0   0   0   1   0    1    0  \n",
              "...   ..  ..  ..  ..  ..  ..  ..  ...  ...  \n",
              "6102   1   0   0   0   0   0   0    1    0  \n",
              "6103   1   0   0   0   0   0   0    1    0  \n",
              "6104   0   0   0   0   0   1   0    0    1  \n",
              "6105   0   0   0   0   0   1   0    1    0  \n",
              "6106   0   0   0   0   0   0   1    1    0  \n",
              "\n",
              "[6107 rows x 61 columns]"
            ],
            "text/html": [
              "\n",
              "  <div id=\"df-a4f735bf-49e4-4ad9-9fdf-d8f520ba5fb6\">\n",
              "    <div class=\"colab-df-container\">\n",
              "      <div>\n",
              "<style scoped>\n",
              "    .dataframe tbody tr th:only-of-type {\n",
              "        vertical-align: middle;\n",
              "    }\n",
              "\n",
              "    .dataframe tbody tr th {\n",
              "        vertical-align: top;\n",
              "    }\n",
              "\n",
              "    .dataframe thead th {\n",
              "        text-align: right;\n",
              "    }\n",
              "</style>\n",
              "<table border=\"1\" class=\"dataframe\">\n",
              "  <thead>\n",
              "    <tr style=\"text-align: right;\">\n",
              "      <th></th>\n",
              "      <th>cap-diameter</th>\n",
              "      <th>stem-height</th>\n",
              "      <th>stem-width</th>\n",
              "      <th>cap-surface-mean</th>\n",
              "      <th>gill-spacing-mean</th>\n",
              "      <th>ring-type-mean</th>\n",
              "      <th>habitat-mean</th>\n",
              "      <th>b0</th>\n",
              "      <th>c0</th>\n",
              "      <th>f0</th>\n",
              "      <th>...</th>\n",
              "      <th>l9</th>\n",
              "      <th>n9</th>\n",
              "      <th>o9</th>\n",
              "      <th>p9</th>\n",
              "      <th>r9</th>\n",
              "      <th>u9</th>\n",
              "      <th>w9</th>\n",
              "      <th>y9</th>\n",
              "      <th>f12</th>\n",
              "      <th>t12</th>\n",
              "    </tr>\n",
              "  </thead>\n",
              "  <tbody>\n",
              "    <tr>\n",
              "      <th>0</th>\n",
              "      <td>2.38</td>\n",
              "      <td>8.13</td>\n",
              "      <td>2.59</td>\n",
              "      <td>0.652791</td>\n",
              "      <td>0.585689</td>\n",
              "      <td>0.566876</td>\n",
              "      <td>5.121951e-01</td>\n",
              "      <td>0</td>\n",
              "      <td>0</td>\n",
              "      <td>0</td>\n",
              "      <td>...</td>\n",
              "      <td>0</td>\n",
              "      <td>0</td>\n",
              "      <td>0</td>\n",
              "      <td>0</td>\n",
              "      <td>0</td>\n",
              "      <td>0</td>\n",
              "      <td>0</td>\n",
              "      <td>1</td>\n",
              "      <td>0</td>\n",
              "      <td>1</td>\n",
              "    </tr>\n",
              "    <tr>\n",
              "      <th>1</th>\n",
              "      <td>2.35</td>\n",
              "      <td>5.48</td>\n",
              "      <td>2.31</td>\n",
              "      <td>0.529736</td>\n",
              "      <td>0.563700</td>\n",
              "      <td>0.555199</td>\n",
              "      <td>5.443006e-01</td>\n",
              "      <td>1</td>\n",
              "      <td>0</td>\n",
              "      <td>0</td>\n",
              "      <td>...</td>\n",
              "      <td>0</td>\n",
              "      <td>0</td>\n",
              "      <td>0</td>\n",
              "      <td>0</td>\n",
              "      <td>0</td>\n",
              "      <td>0</td>\n",
              "      <td>0</td>\n",
              "      <td>0</td>\n",
              "      <td>1</td>\n",
              "      <td>0</td>\n",
              "    </tr>\n",
              "    <tr>\n",
              "      <th>2</th>\n",
              "      <td>7.70</td>\n",
              "      <td>14.78</td>\n",
              "      <td>18.18</td>\n",
              "      <td>0.479898</td>\n",
              "      <td>0.563700</td>\n",
              "      <td>0.555199</td>\n",
              "      <td>5.443006e-01</td>\n",
              "      <td>1</td>\n",
              "      <td>0</td>\n",
              "      <td>0</td>\n",
              "      <td>...</td>\n",
              "      <td>0</td>\n",
              "      <td>0</td>\n",
              "      <td>0</td>\n",
              "      <td>0</td>\n",
              "      <td>0</td>\n",
              "      <td>0</td>\n",
              "      <td>1</td>\n",
              "      <td>0</td>\n",
              "      <td>1</td>\n",
              "      <td>0</td>\n",
              "    </tr>\n",
              "    <tr>\n",
              "      <th>3</th>\n",
              "      <td>5.64</td>\n",
              "      <td>6.76</td>\n",
              "      <td>12.15</td>\n",
              "      <td>0.925151</td>\n",
              "      <td>0.585689</td>\n",
              "      <td>0.555199</td>\n",
              "      <td>6.860063e-01</td>\n",
              "      <td>0</td>\n",
              "      <td>1</td>\n",
              "      <td>0</td>\n",
              "      <td>...</td>\n",
              "      <td>0</td>\n",
              "      <td>0</td>\n",
              "      <td>0</td>\n",
              "      <td>0</td>\n",
              "      <td>0</td>\n",
              "      <td>0</td>\n",
              "      <td>1</td>\n",
              "      <td>0</td>\n",
              "      <td>1</td>\n",
              "      <td>0</td>\n",
              "    </tr>\n",
              "    <tr>\n",
              "      <th>4</th>\n",
              "      <td>5.69</td>\n",
              "      <td>7.84</td>\n",
              "      <td>14.56</td>\n",
              "      <td>0.652791</td>\n",
              "      <td>0.585689</td>\n",
              "      <td>0.555199</td>\n",
              "      <td>5.443006e-01</td>\n",
              "      <td>0</td>\n",
              "      <td>0</td>\n",
              "      <td>0</td>\n",
              "      <td>...</td>\n",
              "      <td>0</td>\n",
              "      <td>0</td>\n",
              "      <td>0</td>\n",
              "      <td>0</td>\n",
              "      <td>0</td>\n",
              "      <td>0</td>\n",
              "      <td>1</td>\n",
              "      <td>0</td>\n",
              "      <td>1</td>\n",
              "      <td>0</td>\n",
              "    </tr>\n",
              "    <tr>\n",
              "      <th>...</th>\n",
              "      <td>...</td>\n",
              "      <td>...</td>\n",
              "      <td>...</td>\n",
              "      <td>...</td>\n",
              "      <td>...</td>\n",
              "      <td>...</td>\n",
              "      <td>...</td>\n",
              "      <td>...</td>\n",
              "      <td>...</td>\n",
              "      <td>...</td>\n",
              "      <td>...</td>\n",
              "      <td>...</td>\n",
              "      <td>...</td>\n",
              "      <td>...</td>\n",
              "      <td>...</td>\n",
              "      <td>...</td>\n",
              "      <td>...</td>\n",
              "      <td>...</td>\n",
              "      <td>...</td>\n",
              "      <td>...</td>\n",
              "      <td>...</td>\n",
              "    </tr>\n",
              "    <tr>\n",
              "      <th>6102</th>\n",
              "      <td>10.65</td>\n",
              "      <td>10.00</td>\n",
              "      <td>22.49</td>\n",
              "      <td>0.529736</td>\n",
              "      <td>0.563700</td>\n",
              "      <td>0.555199</td>\n",
              "      <td>5.443006e-01</td>\n",
              "      <td>0</td>\n",
              "      <td>0</td>\n",
              "      <td>0</td>\n",
              "      <td>...</td>\n",
              "      <td>0</td>\n",
              "      <td>1</td>\n",
              "      <td>0</td>\n",
              "      <td>0</td>\n",
              "      <td>0</td>\n",
              "      <td>0</td>\n",
              "      <td>0</td>\n",
              "      <td>0</td>\n",
              "      <td>1</td>\n",
              "      <td>0</td>\n",
              "    </tr>\n",
              "    <tr>\n",
              "      <th>6103</th>\n",
              "      <td>5.20</td>\n",
              "      <td>12.43</td>\n",
              "      <td>13.25</td>\n",
              "      <td>0.652791</td>\n",
              "      <td>0.563700</td>\n",
              "      <td>0.555199</td>\n",
              "      <td>5.443006e-01</td>\n",
              "      <td>0</td>\n",
              "      <td>1</td>\n",
              "      <td>0</td>\n",
              "      <td>...</td>\n",
              "      <td>0</td>\n",
              "      <td>1</td>\n",
              "      <td>0</td>\n",
              "      <td>0</td>\n",
              "      <td>0</td>\n",
              "      <td>0</td>\n",
              "      <td>0</td>\n",
              "      <td>0</td>\n",
              "      <td>1</td>\n",
              "      <td>0</td>\n",
              "    </tr>\n",
              "    <tr>\n",
              "      <th>6104</th>\n",
              "      <td>8.51</td>\n",
              "      <td>4.52</td>\n",
              "      <td>13.00</td>\n",
              "      <td>0.479898</td>\n",
              "      <td>0.585689</td>\n",
              "      <td>0.396507</td>\n",
              "      <td>2.322821e-12</td>\n",
              "      <td>0</td>\n",
              "      <td>0</td>\n",
              "      <td>1</td>\n",
              "      <td>...</td>\n",
              "      <td>0</td>\n",
              "      <td>0</td>\n",
              "      <td>0</td>\n",
              "      <td>0</td>\n",
              "      <td>0</td>\n",
              "      <td>0</td>\n",
              "      <td>1</td>\n",
              "      <td>0</td>\n",
              "      <td>0</td>\n",
              "      <td>1</td>\n",
              "    </tr>\n",
              "    <tr>\n",
              "      <th>6105</th>\n",
              "      <td>9.27</td>\n",
              "      <td>11.46</td>\n",
              "      <td>32.54</td>\n",
              "      <td>0.652791</td>\n",
              "      <td>0.409751</td>\n",
              "      <td>0.555199</td>\n",
              "      <td>5.443006e-01</td>\n",
              "      <td>0</td>\n",
              "      <td>0</td>\n",
              "      <td>0</td>\n",
              "      <td>...</td>\n",
              "      <td>0</td>\n",
              "      <td>0</td>\n",
              "      <td>0</td>\n",
              "      <td>0</td>\n",
              "      <td>0</td>\n",
              "      <td>0</td>\n",
              "      <td>1</td>\n",
              "      <td>0</td>\n",
              "      <td>1</td>\n",
              "      <td>0</td>\n",
              "    </tr>\n",
              "    <tr>\n",
              "      <th>6106</th>\n",
              "      <td>6.26</td>\n",
              "      <td>6.09</td>\n",
              "      <td>14.68</td>\n",
              "      <td>0.529736</td>\n",
              "      <td>0.563700</td>\n",
              "      <td>0.555199</td>\n",
              "      <td>5.443006e-01</td>\n",
              "      <td>0</td>\n",
              "      <td>0</td>\n",
              "      <td>0</td>\n",
              "      <td>...</td>\n",
              "      <td>0</td>\n",
              "      <td>0</td>\n",
              "      <td>0</td>\n",
              "      <td>0</td>\n",
              "      <td>0</td>\n",
              "      <td>0</td>\n",
              "      <td>0</td>\n",
              "      <td>1</td>\n",
              "      <td>1</td>\n",
              "      <td>0</td>\n",
              "    </tr>\n",
              "  </tbody>\n",
              "</table>\n",
              "<p>6107 rows × 61 columns</p>\n",
              "</div>\n",
              "      <button class=\"colab-df-convert\" onclick=\"convertToInteractive('df-a4f735bf-49e4-4ad9-9fdf-d8f520ba5fb6')\"\n",
              "              title=\"Convert this dataframe to an interactive table.\"\n",
              "              style=\"display:none;\">\n",
              "        \n",
              "  <svg xmlns=\"http://www.w3.org/2000/svg\" height=\"24px\"viewBox=\"0 0 24 24\"\n",
              "       width=\"24px\">\n",
              "    <path d=\"M0 0h24v24H0V0z\" fill=\"none\"/>\n",
              "    <path d=\"M18.56 5.44l.94 2.06.94-2.06 2.06-.94-2.06-.94-.94-2.06-.94 2.06-2.06.94zm-11 1L8.5 8.5l.94-2.06 2.06-.94-2.06-.94L8.5 2.5l-.94 2.06-2.06.94zm10 10l.94 2.06.94-2.06 2.06-.94-2.06-.94-.94-2.06-.94 2.06-2.06.94z\"/><path d=\"M17.41 7.96l-1.37-1.37c-.4-.4-.92-.59-1.43-.59-.52 0-1.04.2-1.43.59L10.3 9.45l-7.72 7.72c-.78.78-.78 2.05 0 2.83L4 21.41c.39.39.9.59 1.41.59.51 0 1.02-.2 1.41-.59l7.78-7.78 2.81-2.81c.8-.78.8-2.07 0-2.86zM5.41 20L4 18.59l7.72-7.72 1.47 1.35L5.41 20z\"/>\n",
              "  </svg>\n",
              "      </button>\n",
              "      \n",
              "  <style>\n",
              "    .colab-df-container {\n",
              "      display:flex;\n",
              "      flex-wrap:wrap;\n",
              "      gap: 12px;\n",
              "    }\n",
              "\n",
              "    .colab-df-convert {\n",
              "      background-color: #E8F0FE;\n",
              "      border: none;\n",
              "      border-radius: 50%;\n",
              "      cursor: pointer;\n",
              "      display: none;\n",
              "      fill: #1967D2;\n",
              "      height: 32px;\n",
              "      padding: 0 0 0 0;\n",
              "      width: 32px;\n",
              "    }\n",
              "\n",
              "    .colab-df-convert:hover {\n",
              "      background-color: #E2EBFA;\n",
              "      box-shadow: 0px 1px 2px rgba(60, 64, 67, 0.3), 0px 1px 3px 1px rgba(60, 64, 67, 0.15);\n",
              "      fill: #174EA6;\n",
              "    }\n",
              "\n",
              "    [theme=dark] .colab-df-convert {\n",
              "      background-color: #3B4455;\n",
              "      fill: #D2E3FC;\n",
              "    }\n",
              "\n",
              "    [theme=dark] .colab-df-convert:hover {\n",
              "      background-color: #434B5C;\n",
              "      box-shadow: 0px 1px 3px 1px rgba(0, 0, 0, 0.15);\n",
              "      filter: drop-shadow(0px 1px 2px rgba(0, 0, 0, 0.3));\n",
              "      fill: #FFFFFF;\n",
              "    }\n",
              "  </style>\n",
              "\n",
              "      <script>\n",
              "        const buttonEl =\n",
              "          document.querySelector('#df-a4f735bf-49e4-4ad9-9fdf-d8f520ba5fb6 button.colab-df-convert');\n",
              "        buttonEl.style.display =\n",
              "          google.colab.kernel.accessAllowed ? 'block' : 'none';\n",
              "\n",
              "        async function convertToInteractive(key) {\n",
              "          const element = document.querySelector('#df-a4f735bf-49e4-4ad9-9fdf-d8f520ba5fb6');\n",
              "          const dataTable =\n",
              "            await google.colab.kernel.invokeFunction('convertToInteractive',\n",
              "                                                     [key], {});\n",
              "          if (!dataTable) return;\n",
              "\n",
              "          const docLinkHtml = 'Like what you see? Visit the ' +\n",
              "            '<a target=\"_blank\" href=https://colab.research.google.com/notebooks/data_table.ipynb>data table notebook</a>'\n",
              "            + ' to learn more about interactive tables.';\n",
              "          element.innerHTML = '';\n",
              "          dataTable['output_type'] = 'display_data';\n",
              "          await google.colab.output.renderOutput(dataTable, element);\n",
              "          const docLink = document.createElement('div');\n",
              "          docLink.innerHTML = docLinkHtml;\n",
              "          element.appendChild(docLink);\n",
              "        }\n",
              "      </script>\n",
              "    </div>\n",
              "  </div>\n",
              "  "
            ]
          },
          "metadata": {},
          "execution_count": 27
        }
      ]
    },
    {
      "cell_type": "code",
      "source": [
        "X_test"
      ],
      "metadata": {
        "colab": {
          "base_uri": "https://localhost:8080/",
          "height": 522
        },
        "id": "4uSZ_iGOqeoC",
        "outputId": "02462947-8b88-4656-8cb3-b19205538cb9"
      },
      "execution_count": null,
      "outputs": [
        {
          "output_type": "execute_result",
          "data": {
            "text/plain": [
              "      cap-diameter  stem-height  stem-width  cap-surface-mean  \\\n",
              "0             7.81         6.27       18.18          0.652791   \n",
              "1            10.96         3.89       26.20          0.529736   \n",
              "2             9.27        11.77       18.76          0.830604   \n",
              "3             7.93         7.56       13.68          0.479898   \n",
              "4             9.96         8.33       15.72          0.652791   \n",
              "...            ...          ...         ...               ...   \n",
              "6102         13.53         6.19       16.40          0.652791   \n",
              "6103          3.55         4.84        6.47          0.652791   \n",
              "6104          4.16         5.16       10.51          0.431833   \n",
              "6105          4.51         6.44        9.02          0.473605   \n",
              "6106          4.10         5.69        7.02          0.652791   \n",
              "\n",
              "      gill-spacing-mean  ring-type-mean  habitat-mean  b0  c0  f0  ...  l9  \\\n",
              "0              0.585689        0.555199      0.544301   0   0   0  ...   0   \n",
              "1              0.603135        0.555199      0.544301   0   0   0  ...   0   \n",
              "2              0.563700        0.555199      0.544301   0   0   0  ...   0   \n",
              "3              0.563700        0.396507      0.686006   0   0   0  ...   0   \n",
              "4              0.563700        0.423019      0.544301   0   0   0  ...   0   \n",
              "...                 ...             ...           ...  ..  ..  ..  ...  ..   \n",
              "6102           0.585689        0.555199      0.544301   0   0   1  ...   0   \n",
              "6103           0.585689        1.000000      0.544301   0   0   0  ...   0   \n",
              "6104           0.563700        0.555199      0.544301   0   0   0  ...   0   \n",
              "6105           0.585689        0.566876      0.686006   0   0   0  ...   0   \n",
              "6106           0.585689        0.555199      0.686006   0   0   0  ...   0   \n",
              "\n",
              "      n9  o9  p9  r9  u9  w9  y9  f12  t12  \n",
              "0      0   0   0   0   0   0   1    1    0  \n",
              "1      1   0   0   0   0   0   0    1    0  \n",
              "2      1   0   0   0   0   0   0    1    0  \n",
              "3      0   0   0   0   0   1   0    0    1  \n",
              "4      0   0   0   0   0   0   1    0    1  \n",
              "...   ..  ..  ..  ..  ..  ..  ..  ...  ...  \n",
              "6102   1   0   0   0   0   0   0    1    0  \n",
              "6103   1   0   0   0   0   0   0    0    1  \n",
              "6104   1   0   0   0   0   0   0    1    0  \n",
              "6105   1   0   0   0   0   0   0    0    1  \n",
              "6106   0   1   0   0   0   0   0    1    0  \n",
              "\n",
              "[6107 rows x 61 columns]"
            ],
            "text/html": [
              "\n",
              "  <div id=\"df-0947c9e8-ece6-4413-803c-e7756deb6a5f\">\n",
              "    <div class=\"colab-df-container\">\n",
              "      <div>\n",
              "<style scoped>\n",
              "    .dataframe tbody tr th:only-of-type {\n",
              "        vertical-align: middle;\n",
              "    }\n",
              "\n",
              "    .dataframe tbody tr th {\n",
              "        vertical-align: top;\n",
              "    }\n",
              "\n",
              "    .dataframe thead th {\n",
              "        text-align: right;\n",
              "    }\n",
              "</style>\n",
              "<table border=\"1\" class=\"dataframe\">\n",
              "  <thead>\n",
              "    <tr style=\"text-align: right;\">\n",
              "      <th></th>\n",
              "      <th>cap-diameter</th>\n",
              "      <th>stem-height</th>\n",
              "      <th>stem-width</th>\n",
              "      <th>cap-surface-mean</th>\n",
              "      <th>gill-spacing-mean</th>\n",
              "      <th>ring-type-mean</th>\n",
              "      <th>habitat-mean</th>\n",
              "      <th>b0</th>\n",
              "      <th>c0</th>\n",
              "      <th>f0</th>\n",
              "      <th>...</th>\n",
              "      <th>l9</th>\n",
              "      <th>n9</th>\n",
              "      <th>o9</th>\n",
              "      <th>p9</th>\n",
              "      <th>r9</th>\n",
              "      <th>u9</th>\n",
              "      <th>w9</th>\n",
              "      <th>y9</th>\n",
              "      <th>f12</th>\n",
              "      <th>t12</th>\n",
              "    </tr>\n",
              "  </thead>\n",
              "  <tbody>\n",
              "    <tr>\n",
              "      <th>0</th>\n",
              "      <td>7.81</td>\n",
              "      <td>6.27</td>\n",
              "      <td>18.18</td>\n",
              "      <td>0.652791</td>\n",
              "      <td>0.585689</td>\n",
              "      <td>0.555199</td>\n",
              "      <td>0.544301</td>\n",
              "      <td>0</td>\n",
              "      <td>0</td>\n",
              "      <td>0</td>\n",
              "      <td>...</td>\n",
              "      <td>0</td>\n",
              "      <td>0</td>\n",
              "      <td>0</td>\n",
              "      <td>0</td>\n",
              "      <td>0</td>\n",
              "      <td>0</td>\n",
              "      <td>0</td>\n",
              "      <td>1</td>\n",
              "      <td>1</td>\n",
              "      <td>0</td>\n",
              "    </tr>\n",
              "    <tr>\n",
              "      <th>1</th>\n",
              "      <td>10.96</td>\n",
              "      <td>3.89</td>\n",
              "      <td>26.20</td>\n",
              "      <td>0.529736</td>\n",
              "      <td>0.603135</td>\n",
              "      <td>0.555199</td>\n",
              "      <td>0.544301</td>\n",
              "      <td>0</td>\n",
              "      <td>0</td>\n",
              "      <td>0</td>\n",
              "      <td>...</td>\n",
              "      <td>0</td>\n",
              "      <td>1</td>\n",
              "      <td>0</td>\n",
              "      <td>0</td>\n",
              "      <td>0</td>\n",
              "      <td>0</td>\n",
              "      <td>0</td>\n",
              "      <td>0</td>\n",
              "      <td>1</td>\n",
              "      <td>0</td>\n",
              "    </tr>\n",
              "    <tr>\n",
              "      <th>2</th>\n",
              "      <td>9.27</td>\n",
              "      <td>11.77</td>\n",
              "      <td>18.76</td>\n",
              "      <td>0.830604</td>\n",
              "      <td>0.563700</td>\n",
              "      <td>0.555199</td>\n",
              "      <td>0.544301</td>\n",
              "      <td>0</td>\n",
              "      <td>0</td>\n",
              "      <td>0</td>\n",
              "      <td>...</td>\n",
              "      <td>0</td>\n",
              "      <td>1</td>\n",
              "      <td>0</td>\n",
              "      <td>0</td>\n",
              "      <td>0</td>\n",
              "      <td>0</td>\n",
              "      <td>0</td>\n",
              "      <td>0</td>\n",
              "      <td>1</td>\n",
              "      <td>0</td>\n",
              "    </tr>\n",
              "    <tr>\n",
              "      <th>3</th>\n",
              "      <td>7.93</td>\n",
              "      <td>7.56</td>\n",
              "      <td>13.68</td>\n",
              "      <td>0.479898</td>\n",
              "      <td>0.563700</td>\n",
              "      <td>0.396507</td>\n",
              "      <td>0.686006</td>\n",
              "      <td>0</td>\n",
              "      <td>0</td>\n",
              "      <td>0</td>\n",
              "      <td>...</td>\n",
              "      <td>0</td>\n",
              "      <td>0</td>\n",
              "      <td>0</td>\n",
              "      <td>0</td>\n",
              "      <td>0</td>\n",
              "      <td>0</td>\n",
              "      <td>1</td>\n",
              "      <td>0</td>\n",
              "      <td>0</td>\n",
              "      <td>1</td>\n",
              "    </tr>\n",
              "    <tr>\n",
              "      <th>4</th>\n",
              "      <td>9.96</td>\n",
              "      <td>8.33</td>\n",
              "      <td>15.72</td>\n",
              "      <td>0.652791</td>\n",
              "      <td>0.563700</td>\n",
              "      <td>0.423019</td>\n",
              "      <td>0.544301</td>\n",
              "      <td>0</td>\n",
              "      <td>0</td>\n",
              "      <td>0</td>\n",
              "      <td>...</td>\n",
              "      <td>0</td>\n",
              "      <td>0</td>\n",
              "      <td>0</td>\n",
              "      <td>0</td>\n",
              "      <td>0</td>\n",
              "      <td>0</td>\n",
              "      <td>0</td>\n",
              "      <td>1</td>\n",
              "      <td>0</td>\n",
              "      <td>1</td>\n",
              "    </tr>\n",
              "    <tr>\n",
              "      <th>...</th>\n",
              "      <td>...</td>\n",
              "      <td>...</td>\n",
              "      <td>...</td>\n",
              "      <td>...</td>\n",
              "      <td>...</td>\n",
              "      <td>...</td>\n",
              "      <td>...</td>\n",
              "      <td>...</td>\n",
              "      <td>...</td>\n",
              "      <td>...</td>\n",
              "      <td>...</td>\n",
              "      <td>...</td>\n",
              "      <td>...</td>\n",
              "      <td>...</td>\n",
              "      <td>...</td>\n",
              "      <td>...</td>\n",
              "      <td>...</td>\n",
              "      <td>...</td>\n",
              "      <td>...</td>\n",
              "      <td>...</td>\n",
              "      <td>...</td>\n",
              "    </tr>\n",
              "    <tr>\n",
              "      <th>6102</th>\n",
              "      <td>13.53</td>\n",
              "      <td>6.19</td>\n",
              "      <td>16.40</td>\n",
              "      <td>0.652791</td>\n",
              "      <td>0.585689</td>\n",
              "      <td>0.555199</td>\n",
              "      <td>0.544301</td>\n",
              "      <td>0</td>\n",
              "      <td>0</td>\n",
              "      <td>1</td>\n",
              "      <td>...</td>\n",
              "      <td>0</td>\n",
              "      <td>1</td>\n",
              "      <td>0</td>\n",
              "      <td>0</td>\n",
              "      <td>0</td>\n",
              "      <td>0</td>\n",
              "      <td>0</td>\n",
              "      <td>0</td>\n",
              "      <td>1</td>\n",
              "      <td>0</td>\n",
              "    </tr>\n",
              "    <tr>\n",
              "      <th>6103</th>\n",
              "      <td>3.55</td>\n",
              "      <td>4.84</td>\n",
              "      <td>6.47</td>\n",
              "      <td>0.652791</td>\n",
              "      <td>0.585689</td>\n",
              "      <td>1.000000</td>\n",
              "      <td>0.544301</td>\n",
              "      <td>0</td>\n",
              "      <td>0</td>\n",
              "      <td>0</td>\n",
              "      <td>...</td>\n",
              "      <td>0</td>\n",
              "      <td>1</td>\n",
              "      <td>0</td>\n",
              "      <td>0</td>\n",
              "      <td>0</td>\n",
              "      <td>0</td>\n",
              "      <td>0</td>\n",
              "      <td>0</td>\n",
              "      <td>0</td>\n",
              "      <td>1</td>\n",
              "    </tr>\n",
              "    <tr>\n",
              "      <th>6104</th>\n",
              "      <td>4.16</td>\n",
              "      <td>5.16</td>\n",
              "      <td>10.51</td>\n",
              "      <td>0.431833</td>\n",
              "      <td>0.563700</td>\n",
              "      <td>0.555199</td>\n",
              "      <td>0.544301</td>\n",
              "      <td>0</td>\n",
              "      <td>0</td>\n",
              "      <td>0</td>\n",
              "      <td>...</td>\n",
              "      <td>0</td>\n",
              "      <td>1</td>\n",
              "      <td>0</td>\n",
              "      <td>0</td>\n",
              "      <td>0</td>\n",
              "      <td>0</td>\n",
              "      <td>0</td>\n",
              "      <td>0</td>\n",
              "      <td>1</td>\n",
              "      <td>0</td>\n",
              "    </tr>\n",
              "    <tr>\n",
              "      <th>6105</th>\n",
              "      <td>4.51</td>\n",
              "      <td>6.44</td>\n",
              "      <td>9.02</td>\n",
              "      <td>0.473605</td>\n",
              "      <td>0.585689</td>\n",
              "      <td>0.566876</td>\n",
              "      <td>0.686006</td>\n",
              "      <td>0</td>\n",
              "      <td>0</td>\n",
              "      <td>0</td>\n",
              "      <td>...</td>\n",
              "      <td>0</td>\n",
              "      <td>1</td>\n",
              "      <td>0</td>\n",
              "      <td>0</td>\n",
              "      <td>0</td>\n",
              "      <td>0</td>\n",
              "      <td>0</td>\n",
              "      <td>0</td>\n",
              "      <td>0</td>\n",
              "      <td>1</td>\n",
              "    </tr>\n",
              "    <tr>\n",
              "      <th>6106</th>\n",
              "      <td>4.10</td>\n",
              "      <td>5.69</td>\n",
              "      <td>7.02</td>\n",
              "      <td>0.652791</td>\n",
              "      <td>0.585689</td>\n",
              "      <td>0.555199</td>\n",
              "      <td>0.686006</td>\n",
              "      <td>0</td>\n",
              "      <td>0</td>\n",
              "      <td>0</td>\n",
              "      <td>...</td>\n",
              "      <td>0</td>\n",
              "      <td>0</td>\n",
              "      <td>1</td>\n",
              "      <td>0</td>\n",
              "      <td>0</td>\n",
              "      <td>0</td>\n",
              "      <td>0</td>\n",
              "      <td>0</td>\n",
              "      <td>1</td>\n",
              "      <td>0</td>\n",
              "    </tr>\n",
              "  </tbody>\n",
              "</table>\n",
              "<p>6107 rows × 61 columns</p>\n",
              "</div>\n",
              "      <button class=\"colab-df-convert\" onclick=\"convertToInteractive('df-0947c9e8-ece6-4413-803c-e7756deb6a5f')\"\n",
              "              title=\"Convert this dataframe to an interactive table.\"\n",
              "              style=\"display:none;\">\n",
              "        \n",
              "  <svg xmlns=\"http://www.w3.org/2000/svg\" height=\"24px\"viewBox=\"0 0 24 24\"\n",
              "       width=\"24px\">\n",
              "    <path d=\"M0 0h24v24H0V0z\" fill=\"none\"/>\n",
              "    <path d=\"M18.56 5.44l.94 2.06.94-2.06 2.06-.94-2.06-.94-.94-2.06-.94 2.06-2.06.94zm-11 1L8.5 8.5l.94-2.06 2.06-.94-2.06-.94L8.5 2.5l-.94 2.06-2.06.94zm10 10l.94 2.06.94-2.06 2.06-.94-2.06-.94-.94-2.06-.94 2.06-2.06.94z\"/><path d=\"M17.41 7.96l-1.37-1.37c-.4-.4-.92-.59-1.43-.59-.52 0-1.04.2-1.43.59L10.3 9.45l-7.72 7.72c-.78.78-.78 2.05 0 2.83L4 21.41c.39.39.9.59 1.41.59.51 0 1.02-.2 1.41-.59l7.78-7.78 2.81-2.81c.8-.78.8-2.07 0-2.86zM5.41 20L4 18.59l7.72-7.72 1.47 1.35L5.41 20z\"/>\n",
              "  </svg>\n",
              "      </button>\n",
              "      \n",
              "  <style>\n",
              "    .colab-df-container {\n",
              "      display:flex;\n",
              "      flex-wrap:wrap;\n",
              "      gap: 12px;\n",
              "    }\n",
              "\n",
              "    .colab-df-convert {\n",
              "      background-color: #E8F0FE;\n",
              "      border: none;\n",
              "      border-radius: 50%;\n",
              "      cursor: pointer;\n",
              "      display: none;\n",
              "      fill: #1967D2;\n",
              "      height: 32px;\n",
              "      padding: 0 0 0 0;\n",
              "      width: 32px;\n",
              "    }\n",
              "\n",
              "    .colab-df-convert:hover {\n",
              "      background-color: #E2EBFA;\n",
              "      box-shadow: 0px 1px 2px rgba(60, 64, 67, 0.3), 0px 1px 3px 1px rgba(60, 64, 67, 0.15);\n",
              "      fill: #174EA6;\n",
              "    }\n",
              "\n",
              "    [theme=dark] .colab-df-convert {\n",
              "      background-color: #3B4455;\n",
              "      fill: #D2E3FC;\n",
              "    }\n",
              "\n",
              "    [theme=dark] .colab-df-convert:hover {\n",
              "      background-color: #434B5C;\n",
              "      box-shadow: 0px 1px 3px 1px rgba(0, 0, 0, 0.15);\n",
              "      filter: drop-shadow(0px 1px 2px rgba(0, 0, 0, 0.3));\n",
              "      fill: #FFFFFF;\n",
              "    }\n",
              "  </style>\n",
              "\n",
              "      <script>\n",
              "        const buttonEl =\n",
              "          document.querySelector('#df-0947c9e8-ece6-4413-803c-e7756deb6a5f button.colab-df-convert');\n",
              "        buttonEl.style.display =\n",
              "          google.colab.kernel.accessAllowed ? 'block' : 'none';\n",
              "\n",
              "        async function convertToInteractive(key) {\n",
              "          const element = document.querySelector('#df-0947c9e8-ece6-4413-803c-e7756deb6a5f');\n",
              "          const dataTable =\n",
              "            await google.colab.kernel.invokeFunction('convertToInteractive',\n",
              "                                                     [key], {});\n",
              "          if (!dataTable) return;\n",
              "\n",
              "          const docLinkHtml = 'Like what you see? Visit the ' +\n",
              "            '<a target=\"_blank\" href=https://colab.research.google.com/notebooks/data_table.ipynb>data table notebook</a>'\n",
              "            + ' to learn more about interactive tables.';\n",
              "          element.innerHTML = '';\n",
              "          dataTable['output_type'] = 'display_data';\n",
              "          await google.colab.output.renderOutput(dataTable, element);\n",
              "          const docLink = document.createElement('div');\n",
              "          docLink.innerHTML = docLinkHtml;\n",
              "          element.appendChild(docLink);\n",
              "        }\n",
              "      </script>\n",
              "    </div>\n",
              "  </div>\n",
              "  "
            ]
          },
          "metadata": {},
          "execution_count": 28
        }
      ]
    },
    {
      "cell_type": "markdown",
      "source": [
        "# Entrenamiento y validacion del modelo\n",
        "\n",
        "En esta sección se encuentra el entrenamiento y búsqueda de híper parámetros del modelo mediante los set de entrenamiento y validación."
      ],
      "metadata": {
        "id": "-1sNwpHWGBpN"
      }
    },
    {
      "cell_type": "markdown",
      "source": [
        "Entreno un XGboost de clasificación."
      ],
      "metadata": {
        "id": "o6jy1twxGHX8"
      }
    },
    {
      "cell_type": "code",
      "source": [
        "xg_model = xgb.XGBClassifier(random_state = 16)\n",
        "\n",
        "params = {\"learning_rate\": [0, 0.1, 0.2, 1],\n",
        "           \"max_depth\": [1,3, None],\n",
        "           \"subsample\": [0.1, 0.3, 1],\n",
        "           \"n_estimators\": [1, 2, 10, 100]}\n",
        "\n",
        "rs = RandomizedSearchCV(xg_model, param_distributions=params, n_iter=10, random_state=13, scoring='roc_auc')"
      ],
      "metadata": {
        "id": "IpHxKEJc4zsu"
      },
      "execution_count": null,
      "outputs": []
    },
    {
      "cell_type": "code",
      "source": [
        "rs.fit(X_train, y_train)"
      ],
      "metadata": {
        "colab": {
          "base_uri": "https://localhost:8080/",
          "height": 118
        },
        "id": "7jBimotMI8Lz",
        "outputId": "fc5f2789-ac85-4a03-d2bc-d8d5b99d74e3"
      },
      "execution_count": null,
      "outputs": [
        {
          "output_type": "execute_result",
          "data": {
            "text/plain": [
              "RandomizedSearchCV(estimator=XGBClassifier(base_score=None, booster=None,\n",
              "                                           callbacks=None,\n",
              "                                           colsample_bylevel=None,\n",
              "                                           colsample_bynode=None,\n",
              "                                           colsample_bytree=None,\n",
              "                                           early_stopping_rounds=None,\n",
              "                                           enable_categorical=False,\n",
              "                                           eval_metric=None, feature_types=None,\n",
              "                                           gamma=None, gpu_id=None,\n",
              "                                           grow_policy=None,\n",
              "                                           importance_type=None,\n",
              "                                           interaction_constraints=None,\n",
              "                                           learning_rate=None...\n",
              "                                           max_delta_step=None, max_depth=None,\n",
              "                                           max_leaves=None,\n",
              "                                           min_child_weight=None, missing=nan,\n",
              "                                           monotone_constraints=None,\n",
              "                                           n_estimators=100, n_jobs=None,\n",
              "                                           num_parallel_tree=None,\n",
              "                                           predictor=None, random_state=16, ...),\n",
              "                   param_distributions={'learning_rate': [0, 0.1, 0.2, 1],\n",
              "                                        'max_depth': [1, 3, None],\n",
              "                                        'n_estimators': [1, 2, 10, 100],\n",
              "                                        'subsample': [0.1, 0.3, 1]},\n",
              "                   random_state=13, scoring='roc_auc')"
            ],
            "text/html": [
              "<style>#sk-container-id-1 {color: black;background-color: white;}#sk-container-id-1 pre{padding: 0;}#sk-container-id-1 div.sk-toggleable {background-color: white;}#sk-container-id-1 label.sk-toggleable__label {cursor: pointer;display: block;width: 100%;margin-bottom: 0;padding: 0.3em;box-sizing: border-box;text-align: center;}#sk-container-id-1 label.sk-toggleable__label-arrow:before {content: \"▸\";float: left;margin-right: 0.25em;color: #696969;}#sk-container-id-1 label.sk-toggleable__label-arrow:hover:before {color: black;}#sk-container-id-1 div.sk-estimator:hover label.sk-toggleable__label-arrow:before {color: black;}#sk-container-id-1 div.sk-toggleable__content {max-height: 0;max-width: 0;overflow: hidden;text-align: left;background-color: #f0f8ff;}#sk-container-id-1 div.sk-toggleable__content pre {margin: 0.2em;color: black;border-radius: 0.25em;background-color: #f0f8ff;}#sk-container-id-1 input.sk-toggleable__control:checked~div.sk-toggleable__content {max-height: 200px;max-width: 100%;overflow: auto;}#sk-container-id-1 input.sk-toggleable__control:checked~label.sk-toggleable__label-arrow:before {content: \"▾\";}#sk-container-id-1 div.sk-estimator input.sk-toggleable__control:checked~label.sk-toggleable__label {background-color: #d4ebff;}#sk-container-id-1 div.sk-label input.sk-toggleable__control:checked~label.sk-toggleable__label {background-color: #d4ebff;}#sk-container-id-1 input.sk-hidden--visually {border: 0;clip: rect(1px 1px 1px 1px);clip: rect(1px, 1px, 1px, 1px);height: 1px;margin: -1px;overflow: hidden;padding: 0;position: absolute;width: 1px;}#sk-container-id-1 div.sk-estimator {font-family: monospace;background-color: #f0f8ff;border: 1px dotted black;border-radius: 0.25em;box-sizing: border-box;margin-bottom: 0.5em;}#sk-container-id-1 div.sk-estimator:hover {background-color: #d4ebff;}#sk-container-id-1 div.sk-parallel-item::after {content: \"\";width: 100%;border-bottom: 1px solid gray;flex-grow: 1;}#sk-container-id-1 div.sk-label:hover label.sk-toggleable__label {background-color: #d4ebff;}#sk-container-id-1 div.sk-serial::before {content: \"\";position: absolute;border-left: 1px solid gray;box-sizing: border-box;top: 0;bottom: 0;left: 50%;z-index: 0;}#sk-container-id-1 div.sk-serial {display: flex;flex-direction: column;align-items: center;background-color: white;padding-right: 0.2em;padding-left: 0.2em;position: relative;}#sk-container-id-1 div.sk-item {position: relative;z-index: 1;}#sk-container-id-1 div.sk-parallel {display: flex;align-items: stretch;justify-content: center;background-color: white;position: relative;}#sk-container-id-1 div.sk-item::before, #sk-container-id-1 div.sk-parallel-item::before {content: \"\";position: absolute;border-left: 1px solid gray;box-sizing: border-box;top: 0;bottom: 0;left: 50%;z-index: -1;}#sk-container-id-1 div.sk-parallel-item {display: flex;flex-direction: column;z-index: 1;position: relative;background-color: white;}#sk-container-id-1 div.sk-parallel-item:first-child::after {align-self: flex-end;width: 50%;}#sk-container-id-1 div.sk-parallel-item:last-child::after {align-self: flex-start;width: 50%;}#sk-container-id-1 div.sk-parallel-item:only-child::after {width: 0;}#sk-container-id-1 div.sk-dashed-wrapped {border: 1px dashed gray;margin: 0 0.4em 0.5em 0.4em;box-sizing: border-box;padding-bottom: 0.4em;background-color: white;}#sk-container-id-1 div.sk-label label {font-family: monospace;font-weight: bold;display: inline-block;line-height: 1.2em;}#sk-container-id-1 div.sk-label-container {text-align: center;}#sk-container-id-1 div.sk-container {/* jupyter's `normalize.less` sets `[hidden] { display: none; }` but bootstrap.min.css set `[hidden] { display: none !important; }` so we also need the `!important` here to be able to override the default hidden behavior on the sphinx rendered scikit-learn.org. See: https://github.com/scikit-learn/scikit-learn/issues/21755 */display: inline-block !important;position: relative;}#sk-container-id-1 div.sk-text-repr-fallback {display: none;}</style><div id=\"sk-container-id-1\" class=\"sk-top-container\"><div class=\"sk-text-repr-fallback\"><pre>RandomizedSearchCV(estimator=XGBClassifier(base_score=None, booster=None,\n",
              "                                           callbacks=None,\n",
              "                                           colsample_bylevel=None,\n",
              "                                           colsample_bynode=None,\n",
              "                                           colsample_bytree=None,\n",
              "                                           early_stopping_rounds=None,\n",
              "                                           enable_categorical=False,\n",
              "                                           eval_metric=None, feature_types=None,\n",
              "                                           gamma=None, gpu_id=None,\n",
              "                                           grow_policy=None,\n",
              "                                           importance_type=None,\n",
              "                                           interaction_constraints=None,\n",
              "                                           learning_rate=None...\n",
              "                                           max_delta_step=None, max_depth=None,\n",
              "                                           max_leaves=None,\n",
              "                                           min_child_weight=None, missing=nan,\n",
              "                                           monotone_constraints=None,\n",
              "                                           n_estimators=100, n_jobs=None,\n",
              "                                           num_parallel_tree=None,\n",
              "                                           predictor=None, random_state=16, ...),\n",
              "                   param_distributions={&#x27;learning_rate&#x27;: [0, 0.1, 0.2, 1],\n",
              "                                        &#x27;max_depth&#x27;: [1, 3, None],\n",
              "                                        &#x27;n_estimators&#x27;: [1, 2, 10, 100],\n",
              "                                        &#x27;subsample&#x27;: [0.1, 0.3, 1]},\n",
              "                   random_state=13, scoring=&#x27;roc_auc&#x27;)</pre><b>In a Jupyter environment, please rerun this cell to show the HTML representation or trust the notebook. <br />On GitHub, the HTML representation is unable to render, please try loading this page with nbviewer.org.</b></div><div class=\"sk-container\" hidden><div class=\"sk-item sk-dashed-wrapped\"><div class=\"sk-label-container\"><div class=\"sk-label sk-toggleable\"><input class=\"sk-toggleable__control sk-hidden--visually\" id=\"sk-estimator-id-1\" type=\"checkbox\" ><label for=\"sk-estimator-id-1\" class=\"sk-toggleable__label sk-toggleable__label-arrow\">RandomizedSearchCV</label><div class=\"sk-toggleable__content\"><pre>RandomizedSearchCV(estimator=XGBClassifier(base_score=None, booster=None,\n",
              "                                           callbacks=None,\n",
              "                                           colsample_bylevel=None,\n",
              "                                           colsample_bynode=None,\n",
              "                                           colsample_bytree=None,\n",
              "                                           early_stopping_rounds=None,\n",
              "                                           enable_categorical=False,\n",
              "                                           eval_metric=None, feature_types=None,\n",
              "                                           gamma=None, gpu_id=None,\n",
              "                                           grow_policy=None,\n",
              "                                           importance_type=None,\n",
              "                                           interaction_constraints=None,\n",
              "                                           learning_rate=None...\n",
              "                                           max_delta_step=None, max_depth=None,\n",
              "                                           max_leaves=None,\n",
              "                                           min_child_weight=None, missing=nan,\n",
              "                                           monotone_constraints=None,\n",
              "                                           n_estimators=100, n_jobs=None,\n",
              "                                           num_parallel_tree=None,\n",
              "                                           predictor=None, random_state=16, ...),\n",
              "                   param_distributions={&#x27;learning_rate&#x27;: [0, 0.1, 0.2, 1],\n",
              "                                        &#x27;max_depth&#x27;: [1, 3, None],\n",
              "                                        &#x27;n_estimators&#x27;: [1, 2, 10, 100],\n",
              "                                        &#x27;subsample&#x27;: [0.1, 0.3, 1]},\n",
              "                   random_state=13, scoring=&#x27;roc_auc&#x27;)</pre></div></div></div><div class=\"sk-parallel\"><div class=\"sk-parallel-item\"><div class=\"sk-item\"><div class=\"sk-label-container\"><div class=\"sk-label sk-toggleable\"><input class=\"sk-toggleable__control sk-hidden--visually\" id=\"sk-estimator-id-2\" type=\"checkbox\" ><label for=\"sk-estimator-id-2\" class=\"sk-toggleable__label sk-toggleable__label-arrow\">estimator: XGBClassifier</label><div class=\"sk-toggleable__content\"><pre>XGBClassifier(base_score=None, booster=None, callbacks=None,\n",
              "              colsample_bylevel=None, colsample_bynode=None,\n",
              "              colsample_bytree=None, early_stopping_rounds=None,\n",
              "              enable_categorical=False, eval_metric=None, feature_types=None,\n",
              "              gamma=None, gpu_id=None, grow_policy=None, importance_type=None,\n",
              "              interaction_constraints=None, learning_rate=None, max_bin=None,\n",
              "              max_cat_threshold=None, max_cat_to_onehot=None,\n",
              "              max_delta_step=None, max_depth=None, max_leaves=None,\n",
              "              min_child_weight=None, missing=nan, monotone_constraints=None,\n",
              "              n_estimators=100, n_jobs=None, num_parallel_tree=None,\n",
              "              predictor=None, random_state=16, ...)</pre></div></div></div><div class=\"sk-serial\"><div class=\"sk-item\"><div class=\"sk-estimator sk-toggleable\"><input class=\"sk-toggleable__control sk-hidden--visually\" id=\"sk-estimator-id-3\" type=\"checkbox\" ><label for=\"sk-estimator-id-3\" class=\"sk-toggleable__label sk-toggleable__label-arrow\">XGBClassifier</label><div class=\"sk-toggleable__content\"><pre>XGBClassifier(base_score=None, booster=None, callbacks=None,\n",
              "              colsample_bylevel=None, colsample_bynode=None,\n",
              "              colsample_bytree=None, early_stopping_rounds=None,\n",
              "              enable_categorical=False, eval_metric=None, feature_types=None,\n",
              "              gamma=None, gpu_id=None, grow_policy=None, importance_type=None,\n",
              "              interaction_constraints=None, learning_rate=None, max_bin=None,\n",
              "              max_cat_threshold=None, max_cat_to_onehot=None,\n",
              "              max_delta_step=None, max_depth=None, max_leaves=None,\n",
              "              min_child_weight=None, missing=nan, monotone_constraints=None,\n",
              "              n_estimators=100, n_jobs=None, num_parallel_tree=None,\n",
              "              predictor=None, random_state=16, ...)</pre></div></div></div></div></div></div></div></div></div></div>"
            ]
          },
          "metadata": {},
          "execution_count": 30
        }
      ]
    },
    {
      "cell_type": "code",
      "source": [
        "rs.best_params_"
      ],
      "metadata": {
        "colab": {
          "base_uri": "https://localhost:8080/"
        },
        "id": "rFy1nyANJBea",
        "outputId": "b02d87c1-dda8-41f4-f9ff-c85a47e7bc8d"
      },
      "execution_count": null,
      "outputs": [
        {
          "output_type": "execute_result",
          "data": {
            "text/plain": [
              "{'subsample': 0.3, 'n_estimators': 100, 'max_depth': 3, 'learning_rate': 1}"
            ]
          },
          "metadata": {},
          "execution_count": 31
        }
      ]
    },
    {
      "cell_type": "code",
      "source": [
        "model = rs.best_estimator_"
      ],
      "metadata": {
        "id": "KRzc25zWJLNd"
      },
      "execution_count": null,
      "outputs": []
    },
    {
      "cell_type": "markdown",
      "source": [
        "Entreno el modelo con los mejores parámetros."
      ],
      "metadata": {
        "id": "fV07AO7fVSpI"
      }
    },
    {
      "cell_type": "code",
      "source": [
        "model.fit(X_train, y_train)"
      ],
      "metadata": {
        "colab": {
          "base_uri": "https://localhost:8080/",
          "height": 248
        },
        "id": "0LZwpuDUJPAM",
        "outputId": "89b6f186-ba52-4fac-c375-6c9fe03a0724"
      },
      "execution_count": null,
      "outputs": [
        {
          "output_type": "execute_result",
          "data": {
            "text/plain": [
              "XGBClassifier(base_score=None, booster=None, callbacks=None,\n",
              "              colsample_bylevel=None, colsample_bynode=None,\n",
              "              colsample_bytree=None, early_stopping_rounds=None,\n",
              "              enable_categorical=False, eval_metric=None, feature_types=None,\n",
              "              gamma=None, gpu_id=None, grow_policy=None, importance_type=None,\n",
              "              interaction_constraints=None, learning_rate=1, max_bin=None,\n",
              "              max_cat_threshold=None, max_cat_to_onehot=None,\n",
              "              max_delta_step=None, max_depth=3, max_leaves=None,\n",
              "              min_child_weight=None, missing=nan, monotone_constraints=None,\n",
              "              n_estimators=100, n_jobs=None, num_parallel_tree=None,\n",
              "              predictor=None, random_state=16, ...)"
            ],
            "text/html": [
              "<style>#sk-container-id-2 {color: black;background-color: white;}#sk-container-id-2 pre{padding: 0;}#sk-container-id-2 div.sk-toggleable {background-color: white;}#sk-container-id-2 label.sk-toggleable__label {cursor: pointer;display: block;width: 100%;margin-bottom: 0;padding: 0.3em;box-sizing: border-box;text-align: center;}#sk-container-id-2 label.sk-toggleable__label-arrow:before {content: \"▸\";float: left;margin-right: 0.25em;color: #696969;}#sk-container-id-2 label.sk-toggleable__label-arrow:hover:before {color: black;}#sk-container-id-2 div.sk-estimator:hover label.sk-toggleable__label-arrow:before {color: black;}#sk-container-id-2 div.sk-toggleable__content {max-height: 0;max-width: 0;overflow: hidden;text-align: left;background-color: #f0f8ff;}#sk-container-id-2 div.sk-toggleable__content pre {margin: 0.2em;color: black;border-radius: 0.25em;background-color: #f0f8ff;}#sk-container-id-2 input.sk-toggleable__control:checked~div.sk-toggleable__content {max-height: 200px;max-width: 100%;overflow: auto;}#sk-container-id-2 input.sk-toggleable__control:checked~label.sk-toggleable__label-arrow:before {content: \"▾\";}#sk-container-id-2 div.sk-estimator input.sk-toggleable__control:checked~label.sk-toggleable__label {background-color: #d4ebff;}#sk-container-id-2 div.sk-label input.sk-toggleable__control:checked~label.sk-toggleable__label {background-color: #d4ebff;}#sk-container-id-2 input.sk-hidden--visually {border: 0;clip: rect(1px 1px 1px 1px);clip: rect(1px, 1px, 1px, 1px);height: 1px;margin: -1px;overflow: hidden;padding: 0;position: absolute;width: 1px;}#sk-container-id-2 div.sk-estimator {font-family: monospace;background-color: #f0f8ff;border: 1px dotted black;border-radius: 0.25em;box-sizing: border-box;margin-bottom: 0.5em;}#sk-container-id-2 div.sk-estimator:hover {background-color: #d4ebff;}#sk-container-id-2 div.sk-parallel-item::after {content: \"\";width: 100%;border-bottom: 1px solid gray;flex-grow: 1;}#sk-container-id-2 div.sk-label:hover label.sk-toggleable__label {background-color: #d4ebff;}#sk-container-id-2 div.sk-serial::before {content: \"\";position: absolute;border-left: 1px solid gray;box-sizing: border-box;top: 0;bottom: 0;left: 50%;z-index: 0;}#sk-container-id-2 div.sk-serial {display: flex;flex-direction: column;align-items: center;background-color: white;padding-right: 0.2em;padding-left: 0.2em;position: relative;}#sk-container-id-2 div.sk-item {position: relative;z-index: 1;}#sk-container-id-2 div.sk-parallel {display: flex;align-items: stretch;justify-content: center;background-color: white;position: relative;}#sk-container-id-2 div.sk-item::before, #sk-container-id-2 div.sk-parallel-item::before {content: \"\";position: absolute;border-left: 1px solid gray;box-sizing: border-box;top: 0;bottom: 0;left: 50%;z-index: -1;}#sk-container-id-2 div.sk-parallel-item {display: flex;flex-direction: column;z-index: 1;position: relative;background-color: white;}#sk-container-id-2 div.sk-parallel-item:first-child::after {align-self: flex-end;width: 50%;}#sk-container-id-2 div.sk-parallel-item:last-child::after {align-self: flex-start;width: 50%;}#sk-container-id-2 div.sk-parallel-item:only-child::after {width: 0;}#sk-container-id-2 div.sk-dashed-wrapped {border: 1px dashed gray;margin: 0 0.4em 0.5em 0.4em;box-sizing: border-box;padding-bottom: 0.4em;background-color: white;}#sk-container-id-2 div.sk-label label {font-family: monospace;font-weight: bold;display: inline-block;line-height: 1.2em;}#sk-container-id-2 div.sk-label-container {text-align: center;}#sk-container-id-2 div.sk-container {/* jupyter's `normalize.less` sets `[hidden] { display: none; }` but bootstrap.min.css set `[hidden] { display: none !important; }` so we also need the `!important` here to be able to override the default hidden behavior on the sphinx rendered scikit-learn.org. See: https://github.com/scikit-learn/scikit-learn/issues/21755 */display: inline-block !important;position: relative;}#sk-container-id-2 div.sk-text-repr-fallback {display: none;}</style><div id=\"sk-container-id-2\" class=\"sk-top-container\"><div class=\"sk-text-repr-fallback\"><pre>XGBClassifier(base_score=None, booster=None, callbacks=None,\n",
              "              colsample_bylevel=None, colsample_bynode=None,\n",
              "              colsample_bytree=None, early_stopping_rounds=None,\n",
              "              enable_categorical=False, eval_metric=None, feature_types=None,\n",
              "              gamma=None, gpu_id=None, grow_policy=None, importance_type=None,\n",
              "              interaction_constraints=None, learning_rate=1, max_bin=None,\n",
              "              max_cat_threshold=None, max_cat_to_onehot=None,\n",
              "              max_delta_step=None, max_depth=3, max_leaves=None,\n",
              "              min_child_weight=None, missing=nan, monotone_constraints=None,\n",
              "              n_estimators=100, n_jobs=None, num_parallel_tree=None,\n",
              "              predictor=None, random_state=16, ...)</pre><b>In a Jupyter environment, please rerun this cell to show the HTML representation or trust the notebook. <br />On GitHub, the HTML representation is unable to render, please try loading this page with nbviewer.org.</b></div><div class=\"sk-container\" hidden><div class=\"sk-item\"><div class=\"sk-estimator sk-toggleable\"><input class=\"sk-toggleable__control sk-hidden--visually\" id=\"sk-estimator-id-4\" type=\"checkbox\" checked><label for=\"sk-estimator-id-4\" class=\"sk-toggleable__label sk-toggleable__label-arrow\">XGBClassifier</label><div class=\"sk-toggleable__content\"><pre>XGBClassifier(base_score=None, booster=None, callbacks=None,\n",
              "              colsample_bylevel=None, colsample_bynode=None,\n",
              "              colsample_bytree=None, early_stopping_rounds=None,\n",
              "              enable_categorical=False, eval_metric=None, feature_types=None,\n",
              "              gamma=None, gpu_id=None, grow_policy=None, importance_type=None,\n",
              "              interaction_constraints=None, learning_rate=1, max_bin=None,\n",
              "              max_cat_threshold=None, max_cat_to_onehot=None,\n",
              "              max_delta_step=None, max_depth=3, max_leaves=None,\n",
              "              min_child_weight=None, missing=nan, monotone_constraints=None,\n",
              "              n_estimators=100, n_jobs=None, num_parallel_tree=None,\n",
              "              predictor=None, random_state=16, ...)</pre></div></div></div></div></div>"
            ]
          },
          "metadata": {},
          "execution_count": 33
        }
      ]
    },
    {
      "cell_type": "code",
      "source": [
        "y_pred_validation = model.predict(X_validation)"
      ],
      "metadata": {
        "id": "1tAsPSlyreLJ"
      },
      "execution_count": null,
      "outputs": []
    },
    {
      "cell_type": "code",
      "source": [
        "y_pred_validation"
      ],
      "metadata": {
        "colab": {
          "base_uri": "https://localhost:8080/"
        },
        "id": "EhyMKufUrqki",
        "outputId": "7f2c3acf-5ab7-4a02-fc42-a8bd882f8900"
      },
      "execution_count": null,
      "outputs": [
        {
          "output_type": "execute_result",
          "data": {
            "text/plain": [
              "array([1, 1, 1, ..., 0, 1, 0])"
            ]
          },
          "metadata": {},
          "execution_count": 35
        }
      ]
    },
    {
      "cell_type": "markdown",
      "source": [
        "Realizo una matriz de confusión con el set de validación."
      ],
      "metadata": {
        "id": "C7h6TVChs-La"
      }
    },
    {
      "cell_type": "code",
      "source": [
        "matriz_confusion_validation = confusion_matrix(y_validation, y_pred_validation)"
      ],
      "metadata": {
        "id": "6CwV8ScnsHRc"
      },
      "execution_count": null,
      "outputs": []
    },
    {
      "cell_type": "code",
      "source": [
        "sns.heatmap(matriz_confusion_validation, annot=True, cmap='Greens', fmt='g')\n",
        "plt.title('Matriz de Confusión')\n",
        "plt.xlabel('Predicción')\n",
        "plt.ylabel('Actual')\n",
        "plt.show()"
      ],
      "metadata": {
        "colab": {
          "base_uri": "https://localhost:8080/",
          "height": 472
        },
        "id": "2daQJAccbSy8",
        "outputId": "d164f8c4-6dcd-4a97-af83-e50bd0e0220b"
      },
      "execution_count": null,
      "outputs": [
        {
          "output_type": "display_data",
          "data": {
            "text/plain": [
              "<Figure size 640x480 with 2 Axes>"
            ],
            "image/png": "[encoded data removed]"
          },
          "metadata": {}
        }
      ]
    },
    {
      "cell_type": "markdown",
      "source": [
        "Métricas del set de validación"
      ],
      "metadata": {
        "id": "DfKw3SMPX6M9"
      }
    },
    {
      "cell_type": "code",
      "source": [
        "roc_auc = roc_auc_score(y_validation, model.predict_proba(X_validation)[:, 1])\n",
        "print(\"ROC AUC SCORE:\", (roc_auc))"
      ],
      "metadata": {
        "colab": {
          "base_uri": "https://localhost:8080/"
        },
        "id": "h_nqIkSMr4h-",
        "outputId": "1717f7bf-d369-4be7-9e62-e037e08bcdc6"
      },
      "execution_count": null,
      "outputs": [
        {
          "output_type": "stream",
          "name": "stdout",
          "text": [
            "ROC AUC SCORE: 0.9998069374881169\n"
          ]
        }
      ]
    },
    {
      "cell_type": "code",
      "source": [
        "rmse = np.sqrt(mean_squared_error(y_validation, y_pred_validation))\n",
        "print(\"RMSE: %f\" % (rmse))"
      ],
      "metadata": {
        "id": "CtaVG4gqsuyK",
        "colab": {
          "base_uri": "https://localhost:8080/"
        },
        "outputId": "95d3c3f5-addf-4b8c-ce84-1498401d5cd7"
      },
      "execution_count": null,
      "outputs": [
        {
          "output_type": "stream",
          "name": "stdout",
          "text": [
            "RMSE: 0.036194\n"
          ]
        }
      ]
    },
    {
      "cell_type": "markdown",
      "source": [
        "# Pruebas realizadas\n",
        "\n",
        "En esta sección están las pruebas realizados con el set de validación en busca de los híper parámetros."
      ],
      "metadata": {
        "id": "Q_sNE_eOHz7d"
      }
    },
    {
      "cell_type": "markdown",
      "source": [
        "Pruebas:\n",
        "\n",
        "* Prueba 1: Con \"subsample\" = 0.5, \"n_estimators\" = 4, \"max_depth\" = \"None\", \"learning_rate\" = 1 y los demás parámetros por defecto, con features numéricas, cap-shape, cap-color, cap-surface, habitat, stem-color y season.\n",
        "ROC AUC SCORE: 0.9520915756592341, RMSE: 0.350442, Matriz de confusión:([[2384,339],[411, 2973]]).\n",
        "\n",
        "* Prueba 2: Con \"subsample\" = 0.5, \"n_estimators\" = 4, \"max_depth\" = \"None\", \"learning_rate\" = 1 y los demás parámetros por defecto, con features numéricas, cap-shape, cap-color, cap-surface, habitat, stem-color, season, gill-spacing y gill-attachment.\n",
        "ROC AUC SCORE: 0.9862181148416996, RMSE: 0.241102, Matriz de confusión:([[2531,192],[163, 3221]]).\n",
        "\n",
        "* Prueba 3: Con \"subsample\" = 0.5, \"n_estimators\" = 4, \"max_depth\" = \"None\", \"learning_rate\" = 1 y los demás parámetros por defecto, con features numéricas, cap-shape, cap-color, cap-surface, habitat, stem-color, gill-spacing, gill-attac y gill-color:\n",
        "ROC AUC SCORE: 0.9856791350973104, RMSE: 0.242794, Matriz de confusión: ([[2531,192],[168, 3216]]).\n",
        "\n",
        "* Prueba 4: Con \"subsample\" = 0.5, \"n_estimators\" = 4, \"max_depth\" = \"None\", \"learning_rate\" = 1 y los demás parámetros por defecto, con features numéricas, cap-shape, cap-color, cap-surface, habitat, stem-color, gill-spacing, gill-attachment, gill-color, ring-type y has-ring:\n",
        "ROC AUC SCORE: 0.9868512925963838, RMSE: 0.214124, Matriz de confusión: ([[2570,153],[127, 3257]]).\n",
        "\n",
        "* Prueba 5: Con \"subsample\" = 0.3, \"n_estimators\" = 100, \"max_depth\" = 3, \"learning_rate\" = 1 y los demás parámetros por defecto, con features numéricas, cap-shape, cap-color, cap-surface, habitat, stem-color, gill-spacing, gill-attachment, gill-color, ring-type, has-ring:\n",
        "ROC AUC SCORE: 0.9985668988191824, RMSE: 0.036194, Matriz de confusión: ([[2716,7],[1, 3383]]).\n",
        "\n",
        "Si bien es cierto que el modelo no llega a ser igual de bueno que el Random Forest de la parte 3, logra predecir de manera bastante eficaz si un hongo es venenoso o comestible, dando un resultado similar.\n",
        "Una explicación que le puedo dar a esto es que dada la información del data set, es muy probable que su información pueda moldearse de forma eficaz mediante el uso de árboles de decisión, tal y como sucede con este modelo y el de la parte 3, permitiendo que el entrenamiento de dichos modelos sea efectivo.\n",
        "Dado que se pide trabajar el modelo hasta conseguir un Auc Roc Score de por lo menos 0.9, decidí mejorarlo un poco  desde la prueba 1, pero no lo suficiente para que sea igual de eficaz que el de la parte 3; esto último me parece importante aclararlo ya que muy probablemente ambas métricas serian iguales si hiciera un par de pruebas más o si hubiera utilizado un encoding similar.\n"
      ],
      "metadata": {
        "id": "Gtve2nfRLOGE"
      }
    },
    {
      "cell_type": "markdown",
      "source": [
        "# Importancias de las Features por prueba\n",
        "\n",
        "En esta sección se encuentra la evolución de la importancia de las features dependiendo de la prueba.\n",
        "Al igual que en la parte 3, decidi incluirlo mas alla de que no este pedido en el enunciado con la diferencia de que decidi dejar las importancias indiviudales.\n"
      ],
      "metadata": {
        "id": "UTkgEP-hIYY1"
      }
    },
    {
      "cell_type": "markdown",
      "source": [
        "Prueba 1"
      ],
      "metadata": {
        "id": "As2h5KJrlLWD"
      }
    },
    {
      "cell_type": "code",
      "source": [
        "plt.rcParams['figure.figsize'] = [12, 7]\n",
        "xgb.plot_importance(model)"
      ],
      "metadata": {
        "colab": {
          "base_uri": "https://localhost:8080/",
          "height": 567
        },
        "outputId": "fb18d30a-43c3-4dab-e8a5-81de5990710d",
        "id": "NtxqSTFMVdnv"
      },
      "execution_count": null,
      "outputs": [
        {
          "output_type": "execute_result",
          "data": {
            "text/plain": [
              "<Axes: title={'center': 'Feature importance'}, xlabel='F score', ylabel='Features'>"
            ]
          },
          "metadata": {},
          "execution_count": 300
        },
        {
          "output_type": "display_data",
          "data": {
            "text/plain": [
              "<Figure size 1200x700 with 1 Axes>"
            ],
            "image/png": "[encoded data removed]"
          },
          "metadata": {}
        }
      ]
    },
    {
      "cell_type": "markdown",
      "source": [
        "Prueba 2"
      ],
      "metadata": {
        "id": "KQjf3dRCmRPy"
      }
    },
    {
      "cell_type": "code",
      "source": [
        "plt.rcParams['figure.figsize'] = [12, 7]\n",
        "xgb.plot_importance(model)"
      ],
      "metadata": {
        "colab": {
          "base_uri": "https://localhost:8080/",
          "height": 567
        },
        "id": "VmPAwSlcOk0I",
        "outputId": "25e3f80d-0bb4-4880-dc85-98ac56123937"
      },
      "execution_count": null,
      "outputs": [
        {
          "output_type": "execute_result",
          "data": {
            "text/plain": [
              "<Axes: title={'center': 'Feature importance'}, xlabel='F score', ylabel='Features'>"
            ]
          },
          "metadata": {},
          "execution_count": 153
        },
        {
          "output_type": "display_data",
          "data": {
            "text/plain": [
              "<Figure size 1200x700 with 1 Axes>"
            ],
            "image/png": "[encoded data removed]"
          },
          "metadata": {}
        }
      ]
    },
    {
      "cell_type": "markdown",
      "source": [
        "Prueba 3"
      ],
      "metadata": {
        "id": "L8Y2JfDSpRhB"
      }
    },
    {
      "cell_type": "code",
      "source": [
        "plt.rcParams['figure.figsize'] = [12, 7]\n",
        "xgb.plot_importance(model)"
      ],
      "metadata": {
        "colab": {
          "base_uri": "https://localhost:8080/",
          "height": 658
        },
        "id": "eiTU6d3QmUAj",
        "outputId": "336d5b63-7657-40a9-e8c2-9ec8118ed7ad"
      },
      "execution_count": null,
      "outputs": [
        {
          "output_type": "execute_result",
          "data": {
            "text/plain": [
              "<Axes: title={'center': 'Feature importance'}, xlabel='F score', ylabel='Features'>"
            ]
          },
          "metadata": {},
          "execution_count": 305
        },
        {
          "output_type": "display_data",
          "data": {
            "text/plain": [
              "<Figure size 1200x700 with 1 Axes>"
            ],
            "image/png": "[encoded data removed]"
          },
          "metadata": {}
        }
      ]
    },
    {
      "cell_type": "markdown",
      "source": [
        "Prueba 4"
      ],
      "metadata": {
        "id": "n5YjKGQqvpjk"
      }
    },
    {
      "cell_type": "code",
      "source": [
        "plt.rcParams['figure.figsize'] = [12, 7]\n",
        "xgb.plot_importance(model)"
      ],
      "metadata": {
        "colab": {
          "base_uri": "https://localhost:8080/",
          "height": 658
        },
        "id": "aJjRpUezpUfc",
        "outputId": "2a137d3f-b6af-4041-bbb3-eaed0a6acae1"
      },
      "execution_count": null,
      "outputs": [
        {
          "output_type": "execute_result",
          "data": {
            "text/plain": [
              "<Axes: title={'center': 'Feature importance'}, xlabel='F score', ylabel='Features'>"
            ]
          },
          "metadata": {},
          "execution_count": 343
        },
        {
          "output_type": "display_data",
          "data": {
            "text/plain": [
              "<Figure size 1200x700 with 1 Axes>"
            ],
            "image/png": "[encoded data removed]"
          },
          "metadata": {}
        }
      ]
    },
    {
      "cell_type": "markdown",
      "source": [
        "Prueba 5"
      ],
      "metadata": {
        "id": "ekchPxXk2E-l"
      }
    },
    {
      "cell_type": "code",
      "source": [
        "plt.rcParams['figure.figsize'] = [12, 7]\n",
        "xgb.plot_importance(model)"
      ],
      "metadata": {
        "colab": {
          "base_uri": "https://localhost:8080/",
          "height": 658
        },
        "id": "WPx7cWC0vrtq",
        "outputId": "e74e30fd-ccb0-47ee-f03b-126023306aa4"
      },
      "execution_count": null,
      "outputs": [
        {
          "output_type": "execute_result",
          "data": {
            "text/plain": [
              "<Axes: title={'center': 'Feature importance'}, xlabel='F score', ylabel='Features'>"
            ]
          },
          "metadata": {},
          "execution_count": 401
        },
        {
          "output_type": "display_data",
          "data": {
            "text/plain": [
              "<Figure size 1200x700 with 1 Axes>"
            ],
            "image/png": "[encoded data removed]"
          },
          "metadata": {}
        }
      ]
    },
    {
      "cell_type": "markdown",
      "source": [
        "# Testeo del modelo con el set de testeo\n",
        "\n",
        "La idea de esta sección es ver algunas métricas del modelo final."
      ],
      "metadata": {
        "id": "TwUfA1N42OUT"
      }
    },
    {
      "cell_type": "code",
      "source": [
        "y_pred_test = model.predict(X_test)"
      ],
      "metadata": {
        "id": "nNhpkbsO2IGK"
      },
      "execution_count": null,
      "outputs": []
    },
    {
      "cell_type": "code",
      "source": [
        "y_pred_test"
      ],
      "metadata": {
        "colab": {
          "base_uri": "https://localhost:8080/"
        },
        "id": "z0_1m9112iUL",
        "outputId": "535ed67e-a01b-476c-f62a-829c04fe913f"
      },
      "execution_count": null,
      "outputs": [
        {
          "output_type": "execute_result",
          "data": {
            "text/plain": [
              "array([1, 1, 1, ..., 0, 1, 1])"
            ]
          },
          "metadata": {},
          "execution_count": 45
        }
      ]
    },
    {
      "cell_type": "markdown",
      "source": [
        "Realizo una matriz de confusión."
      ],
      "metadata": {
        "id": "EzwK5wDNU9MH"
      }
    },
    {
      "cell_type": "code",
      "source": [
        "matriz_confusion_test = confusion_matrix(y_test, y_pred_test)"
      ],
      "metadata": {
        "id": "7xCUx0ll2q2g"
      },
      "execution_count": null,
      "outputs": []
    },
    {
      "cell_type": "code",
      "source": [
        "sns.heatmap(matriz_confusion_test, annot=True, cmap='Greens', fmt='g')\n",
        "plt.title('Matriz de Confusión')\n",
        "plt.xlabel('Predicción')\n",
        "plt.ylabel('Actual')\n",
        "plt.show()"
      ],
      "metadata": {
        "colab": {
          "base_uri": "https://localhost:8080/",
          "height": 472
        },
        "id": "8opUEJUtb3lM",
        "outputId": "aa9b3571-a1fc-4e08-e5bb-3b4d5cdd90de"
      },
      "execution_count": null,
      "outputs": [
        {
          "output_type": "display_data",
          "data": {
            "text/plain": [
              "<Figure size 640x480 with 2 Axes>"
            ],
            "image/png": "[encoded data removed]"
          },
          "metadata": {}
        }
      ]
    },
    {
      "cell_type": "markdown",
      "source": [
        "Calculo de las metricas."
      ],
      "metadata": {
        "id": "VXKC0OS0VFuf"
      }
    },
    {
      "cell_type": "code",
      "source": [
        "rmse = np.sqrt(mean_squared_error(y_test, y_pred_test))\n",
        "print(\"RMSE: %f\" % (rmse))"
      ],
      "metadata": {
        "colab": {
          "base_uri": "https://localhost:8080/"
        },
        "id": "HAvWkYj23NVE",
        "outputId": "8f0667bf-5cd8-40f7-8958-12978a02f9ef"
      },
      "execution_count": null,
      "outputs": [
        {
          "output_type": "stream",
          "name": "stdout",
          "text": [
            "RMSE: 0.042441\n"
          ]
        }
      ]
    },
    {
      "cell_type": "code",
      "source": [
        "roc_auc = roc_auc_score(y_test, model.predict_proba(X_test)[:, 1])\n",
        "print(\"ROC AUC SCORE:\", (roc_auc))"
      ],
      "metadata": {
        "colab": {
          "base_uri": "https://localhost:8080/"
        },
        "id": "LMPhi9ne2jk6",
        "outputId": "f234d6c7-07c8-4809-91f8-c5bffc693293"
      },
      "execution_count": null,
      "outputs": [
        {
          "output_type": "stream",
          "name": "stdout",
          "text": [
            "ROC AUC SCORE: 0.9999789613911161\n"
          ]
        }
      ]
    },
    {
      "cell_type": "markdown",
      "source": [
        "Guardo las predicciones en un archivo.csv."
      ],
      "metadata": {
        "id": "honSv5j4VLnn"
      }
    },
    {
      "cell_type": "code",
      "source": [
        "df_predicciones = pd.DataFrame(y_test)"
      ],
      "metadata": {
        "id": "a5vkXA1Z3U36"
      },
      "execution_count": null,
      "outputs": []
    },
    {
      "cell_type": "code",
      "source": [
        "df_predicciones.columns = ['Actual']"
      ],
      "metadata": {
        "id": "lnwpNNN3V-aE"
      },
      "execution_count": null,
      "outputs": []
    },
    {
      "cell_type": "code",
      "source": [
        "df_predicciones[\"Prediccion\"] = y_pred_test"
      ],
      "metadata": {
        "id": "xNGrETv1WCdT"
      },
      "execution_count": null,
      "outputs": []
    },
    {
      "cell_type": "code",
      "source": [
        "df_predicciones"
      ],
      "metadata": {
        "colab": {
          "base_uri": "https://localhost:8080/",
          "height": 424
        },
        "id": "-PlkcLEuWR3W",
        "outputId": "25b0ea5b-0c02-459e-96a7-034819a54ae4"
      },
      "execution_count": null,
      "outputs": [
        {
          "output_type": "execute_result",
          "data": {
            "text/plain": [
              "       Actual  Prediccion\n",
              "22594       1           1\n",
              "60018       1           1\n",
              "38408       1           1\n",
              "43407       1           1\n",
              "52538       0           0\n",
              "...       ...         ...\n",
              "53557       1           1\n",
              "35871       1           1\n",
              "51464       0           0\n",
              "37312       1           1\n",
              "19368       1           1\n",
              "\n",
              "[6107 rows x 2 columns]"
            ],
            "text/html": [
              "\n",
              "  <div id=\"df-96475921-4dc1-40dc-807b-8600dc7fbc09\">\n",
              "    <div class=\"colab-df-container\">\n",
              "      <div>\n",
              "<style scoped>\n",
              "    .dataframe tbody tr th:only-of-type {\n",
              "        vertical-align: middle;\n",
              "    }\n",
              "\n",
              "    .dataframe tbody tr th {\n",
              "        vertical-align: top;\n",
              "    }\n",
              "\n",
              "    .dataframe thead th {\n",
              "        text-align: right;\n",
              "    }\n",
              "</style>\n",
              "<table border=\"1\" class=\"dataframe\">\n",
              "  <thead>\n",
              "    <tr style=\"text-align: right;\">\n",
              "      <th></th>\n",
              "      <th>Actual</th>\n",
              "      <th>Prediccion</th>\n",
              "    </tr>\n",
              "  </thead>\n",
              "  <tbody>\n",
              "    <tr>\n",
              "      <th>22594</th>\n",
              "      <td>1</td>\n",
              "      <td>1</td>\n",
              "    </tr>\n",
              "    <tr>\n",
              "      <th>60018</th>\n",
              "      <td>1</td>\n",
              "      <td>1</td>\n",
              "    </tr>\n",
              "    <tr>\n",
              "      <th>38408</th>\n",
              "      <td>1</td>\n",
              "      <td>1</td>\n",
              "    </tr>\n",
              "    <tr>\n",
              "      <th>43407</th>\n",
              "      <td>1</td>\n",
              "      <td>1</td>\n",
              "    </tr>\n",
              "    <tr>\n",
              "      <th>52538</th>\n",
              "      <td>0</td>\n",
              "      <td>0</td>\n",
              "    </tr>\n",
              "    <tr>\n",
              "      <th>...</th>\n",
              "      <td>...</td>\n",
              "      <td>...</td>\n",
              "    </tr>\n",
              "    <tr>\n",
              "      <th>53557</th>\n",
              "      <td>1</td>\n",
              "      <td>1</td>\n",
              "    </tr>\n",
              "    <tr>\n",
              "      <th>35871</th>\n",
              "      <td>1</td>\n",
              "      <td>1</td>\n",
              "    </tr>\n",
              "    <tr>\n",
              "      <th>51464</th>\n",
              "      <td>0</td>\n",
              "      <td>0</td>\n",
              "    </tr>\n",
              "    <tr>\n",
              "      <th>37312</th>\n",
              "      <td>1</td>\n",
              "      <td>1</td>\n",
              "    </tr>\n",
              "    <tr>\n",
              "      <th>19368</th>\n",
              "      <td>1</td>\n",
              "      <td>1</td>\n",
              "    </tr>\n",
              "  </tbody>\n",
              "</table>\n",
              "<p>6107 rows × 2 columns</p>\n",
              "</div>\n",
              "      <button class=\"colab-df-convert\" onclick=\"convertToInteractive('df-96475921-4dc1-40dc-807b-8600dc7fbc09')\"\n",
              "              title=\"Convert this dataframe to an interactive table.\"\n",
              "              style=\"display:none;\">\n",
              "        \n",
              "  <svg xmlns=\"http://www.w3.org/2000/svg\" height=\"24px\"viewBox=\"0 0 24 24\"\n",
              "       width=\"24px\">\n",
              "    <path d=\"M0 0h24v24H0V0z\" fill=\"none\"/>\n",
              "    <path d=\"M18.56 5.44l.94 2.06.94-2.06 2.06-.94-2.06-.94-.94-2.06-.94 2.06-2.06.94zm-11 1L8.5 8.5l.94-2.06 2.06-.94-2.06-.94L8.5 2.5l-.94 2.06-2.06.94zm10 10l.94 2.06.94-2.06 2.06-.94-2.06-.94-.94-2.06-.94 2.06-2.06.94z\"/><path d=\"M17.41 7.96l-1.37-1.37c-.4-.4-.92-.59-1.43-.59-.52 0-1.04.2-1.43.59L10.3 9.45l-7.72 7.72c-.78.78-.78 2.05 0 2.83L4 21.41c.39.39.9.59 1.41.59.51 0 1.02-.2 1.41-.59l7.78-7.78 2.81-2.81c.8-.78.8-2.07 0-2.86zM5.41 20L4 18.59l7.72-7.72 1.47 1.35L5.41 20z\"/>\n",
              "  </svg>\n",
              "      </button>\n",
              "      \n",
              "  <style>\n",
              "    .colab-df-container {\n",
              "      display:flex;\n",
              "      flex-wrap:wrap;\n",
              "      gap: 12px;\n",
              "    }\n",
              "\n",
              "    .colab-df-convert {\n",
              "      background-color: #E8F0FE;\n",
              "      border: none;\n",
              "      border-radius: 50%;\n",
              "      cursor: pointer;\n",
              "      display: none;\n",
              "      fill: #1967D2;\n",
              "      height: 32px;\n",
              "      padding: 0 0 0 0;\n",
              "      width: 32px;\n",
              "    }\n",
              "\n",
              "    .colab-df-convert:hover {\n",
              "      background-color: #E2EBFA;\n",
              "      box-shadow: 0px 1px 2px rgba(60, 64, 67, 0.3), 0px 1px 3px 1px rgba(60, 64, 67, 0.15);\n",
              "      fill: #174EA6;\n",
              "    }\n",
              "\n",
              "    [theme=dark] .colab-df-convert {\n",
              "      background-color: #3B4455;\n",
              "      fill: #D2E3FC;\n",
              "    }\n",
              "\n",
              "    [theme=dark] .colab-df-convert:hover {\n",
              "      background-color: #434B5C;\n",
              "      box-shadow: 0px 1px 3px 1px rgba(0, 0, 0, 0.15);\n",
              "      filter: drop-shadow(0px 1px 2px rgba(0, 0, 0, 0.3));\n",
              "      fill: #FFFFFF;\n",
              "    }\n",
              "  </style>\n",
              "\n",
              "      <script>\n",
              "        const buttonEl =\n",
              "          document.querySelector('#df-96475921-4dc1-40dc-807b-8600dc7fbc09 button.colab-df-convert');\n",
              "        buttonEl.style.display =\n",
              "          google.colab.kernel.accessAllowed ? 'block' : 'none';\n",
              "\n",
              "        async function convertToInteractive(key) {\n",
              "          const element = document.querySelector('#df-96475921-4dc1-40dc-807b-8600dc7fbc09');\n",
              "          const dataTable =\n",
              "            await google.colab.kernel.invokeFunction('convertToInteractive',\n",
              "                                                     [key], {});\n",
              "          if (!dataTable) return;\n",
              "\n",
              "          const docLinkHtml = 'Like what you see? Visit the ' +\n",
              "            '<a target=\"_blank\" href=https://colab.research.google.com/notebooks/data_table.ipynb>data table notebook</a>'\n",
              "            + ' to learn more about interactive tables.';\n",
              "          element.innerHTML = '';\n",
              "          dataTable['output_type'] = 'display_data';\n",
              "          await google.colab.output.renderOutput(dataTable, element);\n",
              "          const docLink = document.createElement('div');\n",
              "          docLink.innerHTML = docLinkHtml;\n",
              "          element.appendChild(docLink);\n",
              "        }\n",
              "      </script>\n",
              "    </div>\n",
              "  </div>\n",
              "  "
            ]
          },
          "metadata": {},
          "execution_count": 53
        }
      ]
    },
    {
      "cell_type": "code",
      "source": [
        "df_predicciones.to_csv('test.csv')"
      ],
      "metadata": {
        "id": "TzG0BZUCWUE4"
      },
      "execution_count": null,
      "outputs": []
    },
    {
      "cell_type": "markdown",
      "source": [
        "Se generar un archivo.csv en la notebook."
      ],
      "metadata": {
        "id": "1swTuwp573An"
      }
    },
    {
      "cell_type": "code",
      "source": [],
      "metadata": {
        "id": "Z3_UWtge76tm"
      },
      "execution_count": null,
      "outputs": []
    }
  ]
}