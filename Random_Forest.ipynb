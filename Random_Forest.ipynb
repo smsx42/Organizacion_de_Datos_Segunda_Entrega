{
  "nbformat": 4,
  "nbformat_minor": 0,
  "metadata": {
    "colab": {
      "provenance": []
    },
    "kernelspec": {
      "name": "python3",
      "display_name": "Python 3"
    },
    "language_info": {
      "name": "python"
    }
  },
  "cells": [
    {
      "cell_type": "markdown",
      "source": [
        "# Importación de librerías y lectura del Data Frame"
      ],
      "metadata": {
        "id": "2IKijoxVmtHq"
      }
    },
    {
      "cell_type": "code",
      "execution_count": null,
      "metadata": {
        "id": "b9kJSf8FMznj"
      },
      "outputs": [],
      "source": [
        "from sklearn.ensemble import RandomForestClassifier\n",
        "import pandas as pd\n",
        "import numpy as np\n",
        "import matplotlib.pyplot as plt\n",
        "from sklearn import tree\n",
        "from sklearn.model_selection import train_test_split, RandomizedSearchCV\n",
        "from sklearn.preprocessing import OneHotEncoder\n",
        "from sklearn.metrics import confusion_matrix, roc_auc_score, mean_squared_error\n",
        "import seaborn as sns"
      ]
    },
    {
      "cell_type": "code",
      "source": [
        "df_secundario = pd.read_csv(\"/content/drive/MyDrive/secondary_data.csv\", delimiter=';')"
      ],
      "metadata": {
        "id": "uglN4IA9NV_g"
      },
      "execution_count": null,
      "outputs": []
    },
    {
      "cell_type": "markdown",
      "source": [
        "# Exploración de los datos\n",
        "\n",
        "Teniendo en cuenta que se utilizaran los mismos criterios que la parte 2, esta sección tiene menos contenido. Cabe aclarar que en este modelo al no ser obligatorio usar todas las columnas, se fueron probando distintas combinaciones hasta conseguir el score pedido.\n"
      ],
      "metadata": {
        "id": "D8FVlwy7JwR0"
      }
    },
    {
      "cell_type": "markdown",
      "source": [
        "Elimino las columnas que no voy a usar."
      ],
      "metadata": {
        "id": "bWNA1_rAFqBF"
      }
    },
    {
      "cell_type": "code",
      "source": [
        "df_secundario = df_secundario.drop(\"cap-surface\", axis = 1)\n",
        "df_secundario = df_secundario.drop(\"stem-root\", axis = 1)\n",
        "df_secundario = df_secundario.drop(\"stem-surface\", axis = 1)\n",
        "df_secundario = df_secundario.drop(\"veil-type\", axis = 1)\n",
        "df_secundario = df_secundario.drop(\"veil-color\", axis = 1)\n",
        "df_secundario = df_secundario.drop(\"spore-print-color\", axis = 1)"
      ],
      "metadata": {
        "id": "s5JQzMwONeUu"
      },
      "execution_count": null,
      "outputs": []
    },
    {
      "cell_type": "markdown",
      "source": [
        "Imputación de los Nans."
      ],
      "metadata": {
        "id": "z4ZwyJ7772r_"
      }
    },
    {
      "cell_type": "code",
      "source": [
        "# Imputa los Nans dedos un df, la nombre de la features y un caracter.\n",
        "def imputar_nans(df, nombre_feature, caracter):\n",
        "\n",
        "  df[nombre_feature] = df[nombre_feature].fillna(caracter)\n"
      ],
      "metadata": {
        "id": "KRjkqdkSNzM_"
      },
      "execution_count": null,
      "outputs": []
    },
    {
      "cell_type": "code",
      "source": [
        "imputar_nans(df_secundario, 'gill-attachment', 'o')\n",
        "imputar_nans(df_secundario, 'gill-spacing', 'o')\n",
        "imputar_nans(df_secundario, 'ring-type', 'o')"
      ],
      "metadata": {
        "id": "4oiWiKSFOBrv"
      },
      "execution_count": null,
      "outputs": []
    },
    {
      "cell_type": "markdown",
      "source": [
        "# Preparación de los datos\n",
        "\n",
        "En esta sección se preparan los datos para realizar un Random Forest de clasificación.\n"
      ],
      "metadata": {
        "id": "ivXIC9lKNNVv"
      }
    },
    {
      "cell_type": "markdown",
      "source": [
        "Separo el target del resto del Data Frame."
      ],
      "metadata": {
        "id": "pdDd8CPsE3dp"
      }
    },
    {
      "cell_type": "code",
      "source": [
        "X = df_secundario.drop('class', axis=1)"
      ],
      "metadata": {
        "id": "34_sAwjGM0Eh"
      },
      "execution_count": null,
      "outputs": []
    },
    {
      "cell_type": "code",
      "source": [
        "y = df_secundario['class']"
      ],
      "metadata": {
        "id": "rIYmFoEjOGIa"
      },
      "execution_count": null,
      "outputs": []
    },
    {
      "cell_type": "markdown",
      "source": [
        "Creo un set de entrenamiento y uno de medición."
      ],
      "metadata": {
        "id": "u1KOgzISE_0M"
      }
    },
    {
      "cell_type": "code",
      "source": [
        "X_train, X_med, y_train, y_med = train_test_split(X, y, test_size=0.2, random_state=13)"
      ],
      "metadata": {
        "id": "IRjdLgLwOHlm"
      },
      "execution_count": null,
      "outputs": []
    },
    {
      "cell_type": "markdown",
      "source": [
        "Creo un set de testeo y uno de validación a partir del de medición."
      ],
      "metadata": {
        "id": "qYDaSNgUFICC"
      }
    },
    {
      "cell_type": "code",
      "source": [
        "X_test, X_validation, y_test, y_validation = train_test_split(X_med, y_med, test_size=0.5, random_state=13)"
      ],
      "metadata": {
        "id": "lueeoYuoTlBM"
      },
      "execution_count": null,
      "outputs": []
    },
    {
      "cell_type": "markdown",
      "metadata": {
        "id": "kiY8HtVtqnCp"
      },
      "source": [
        "Voy a utilizar una variable binaria {0, 1} para representar al target (\"class\") en donde 1 es para indicar que el hongo es venenoso ('p') y 0 si el hongo es comestible ('e')."
      ]
    },
    {
      "cell_type": "code",
      "source": [
        "y_train =  y_train.map(lambda x: 1 if x == 'p' else 0)"
      ],
      "metadata": {
        "id": "v27Jqx3ITpGX"
      },
      "execution_count": null,
      "outputs": []
    },
    {
      "cell_type": "code",
      "source": [
        "y_validation =  y_validation.map(lambda x: 1 if x == 'p' else 0)"
      ],
      "metadata": {
        "id": "zjMRg2MCTtOC"
      },
      "execution_count": null,
      "outputs": []
    },
    {
      "cell_type": "code",
      "source": [
        "y_test =  y_test.map(lambda x: 1 if x == 'p' else 0)"
      ],
      "metadata": {
        "id": "tZ3aG0hcUI7j"
      },
      "execution_count": null,
      "outputs": []
    },
    {
      "cell_type": "markdown",
      "metadata": {
        "id": "-HBc5FyxVTxm"
      },
      "source": [
        "Aplico un encoding a todas las columnas. Al igual que en la parte 2, al no tener una gran cantidad de columnas por cada clase, también voy a utilizar OHE para todas las columnas categóricas."
      ]
    },
    {
      "cell_type": "code",
      "source": [
        "#Aplica OHE a cada columna dada una feature\n",
        "def aplicar_ohe(nombre_feature, columnas):\n",
        "\n",
        "  global X_train, X_test, X_validation\n",
        "  ohe = OneHotEncoder()\n",
        "  encoded_train = ohe.fit_transform(X_train[[nombre_feature]]).todense().astype(int)\n",
        "  encoded_test = ohe.fit_transform(X_test[[nombre_feature]]).todense().astype(int)\n",
        "  encoded_validation = ohe.transform(X_validation[[nombre_feature]]).todense().astype(int)\n",
        "  X_train = X_train.reset_index().drop(['index', nombre_feature],axis=1).join(pd.DataFrame(encoded_train))\n",
        "  X_test = X_test.reset_index().drop(['index', nombre_feature],axis=1).join(pd.DataFrame(encoded_test))\n",
        "  X_validation = X_validation.reset_index().drop(['index', nombre_feature],axis=1).join(pd.DataFrame(encoded_validation))\n",
        "  X_train = X_train.rename(columns=columnas)\n",
        "  X_test = X_test.rename(columns=columnas)\n",
        "  X_validation = X_validation.rename(columns=columnas)"
      ],
      "metadata": {
        "id": "xvLmDwWNUKQi"
      },
      "execution_count": null,
      "outputs": []
    },
    {
      "cell_type": "markdown",
      "source": [
        "Con \"cap-shape\":"
      ],
      "metadata": {
        "id": "ZEf8p-yKFp1O"
      }
    },
    {
      "cell_type": "code",
      "source": [
        "aplicar_ohe('cap-shape', {0:'b0',1:'c0',2:'f0',3:'o0',4:'p0',5:'s0',6:'x0'})"
      ],
      "metadata": {
        "id": "J3KrDH5WFr5V"
      },
      "execution_count": null,
      "outputs": []
    },
    {
      "cell_type": "markdown",
      "source": [
        "Con \"cap-color\":"
      ],
      "metadata": {
        "id": "C3D7ZEZfGRWE"
      }
    },
    {
      "cell_type": "code",
      "source": [
        "aplicar_ohe('cap-color', {0:'b2',1:'e2',2:'g2',3:'k2',4:'l2',5:'n2',6:'o2', 7:'p2', 8:'r2', 9:'u2', 10:'w2', 11:'y2'})"
      ],
      "metadata": {
        "id": "oW1-2Z8QGWS1"
      },
      "execution_count": null,
      "outputs": []
    },
    {
      "cell_type": "markdown",
      "source": [
        "Con \"does-bruise-or-bleed\":"
      ],
      "metadata": {
        "id": "X0MyYuWoGb6I"
      }
    },
    {
      "cell_type": "code",
      "source": [
        "aplicar_ohe('does-bruise-or-bleed', {0:'f3',1:'t3'})"
      ],
      "metadata": {
        "id": "EiRcQbbAGf6R"
      },
      "execution_count": null,
      "outputs": []
    },
    {
      "cell_type": "markdown",
      "metadata": {
        "id": "-kFw7zvUm9Mc"
      },
      "source": [
        "Con \"gill-attachment\":"
      ]
    },
    {
      "cell_type": "code",
      "source": [
        "aplicar_ohe('gill-attachment', {0:'a4',1:'d4',2:'e4',3:'f4',4:'o4',5:'p4',6:'s4', 7:'x4'})"
      ],
      "metadata": {
        "id": "GXKLZfybGqFO"
      },
      "execution_count": null,
      "outputs": []
    },
    {
      "cell_type": "markdown",
      "metadata": {
        "id": "9wg7UsPOo85D"
      },
      "source": [
        "Con \"gill-spacing\":"
      ]
    },
    {
      "cell_type": "code",
      "source": [
        "aplicar_ohe('gill-spacing', {0:'c5',1:'d5',2:'f5',3:'o5'})"
      ],
      "metadata": {
        "id": "F1Y9kCZuGw93"
      },
      "execution_count": null,
      "outputs": []
    },
    {
      "cell_type": "markdown",
      "metadata": {
        "id": "XEhrQKlCpoua"
      },
      "source": [
        "Con \"gill-color\":"
      ]
    },
    {
      "cell_type": "code",
      "source": [
        "aplicar_ohe('gill-color', {0:'b6',1:'e6',2:'f6',3:'g6',4:'k6',5:'n6',6:'o6', 7:'p6', 8:'r6', 9:'u6', 10:'w6', 11:'y6'})"
      ],
      "metadata": {
        "id": "sXOV_2M_G7Iq"
      },
      "execution_count": null,
      "outputs": []
    },
    {
      "cell_type": "markdown",
      "metadata": {
        "id": "LLwKgt4ir9KL"
      },
      "source": [
        "Con \"stem-color\":"
      ]
    },
    {
      "cell_type": "code",
      "source": [
        "aplicar_ohe('stem-color', {0:'b9',1:'e9',2:'f9',3:'g9',4:'k9',5:'l9',6:'n9', 7:'o9', 8:'p9', 9:'r9', 10:'u9', 11:'w9', 12:'y9'})"
      ],
      "metadata": {
        "id": "0RFuDi2WHSt6"
      },
      "execution_count": null,
      "outputs": []
    },
    {
      "cell_type": "markdown",
      "metadata": {
        "id": "by1Uz3RIuxmf"
      },
      "source": [
        "Con has-ring"
      ]
    },
    {
      "cell_type": "code",
      "source": [
        "aplicar_ohe('has-ring', {0:'f12',1:'t12'})"
      ],
      "metadata": {
        "id": "4Uh0Kt0zHo_c"
      },
      "execution_count": null,
      "outputs": []
    },
    {
      "cell_type": "markdown",
      "metadata": {
        "id": "HqMqt4rpvfgp"
      },
      "source": [
        "Con \"ring-type\":"
      ]
    },
    {
      "cell_type": "code",
      "source": [
        "aplicar_ohe('ring-type', {0:'e13',1:'f13',2:'g13',3:'l13',4:'m13',5:'o13',6:'p13', 7:'r13', 8:'z13'})"
      ],
      "metadata": {
        "id": "fz9XyQVMHv7Z"
      },
      "execution_count": null,
      "outputs": []
    },
    {
      "cell_type": "markdown",
      "metadata": {
        "id": "FDOleFR7yGgZ"
      },
      "source": [
        "Con \"habitat\":"
      ]
    },
    {
      "cell_type": "code",
      "source": [
        "aplicar_ohe('habitat', {0:'d15',1:'g15',2:'h15',3:'l15',4:'m15',5:'p15',6:'u15', 7:'w15'})"
      ],
      "metadata": {
        "id": "XWDj_7MQH_pp"
      },
      "execution_count": null,
      "outputs": []
    },
    {
      "cell_type": "markdown",
      "metadata": {
        "id": "_kId_v6Uy6kD"
      },
      "source": [
        "Con \"season\":"
      ]
    },
    {
      "cell_type": "code",
      "source": [
        "aplicar_ohe('season', {0:'a16',1:'s16',2:'u16',3:'w16'})"
      ],
      "metadata": {
        "id": "ttOb0llwIGr1"
      },
      "execution_count": null,
      "outputs": []
    },
    {
      "cell_type": "code",
      "source": [
        "X_train"
      ],
      "metadata": {
        "id": "NO1F6KyBUmnq",
        "colab": {
          "base_uri": "https://localhost:8080/",
          "height": 485
        },
        "outputId": "60021649-1234-44a6-fa01-5791b1a02535"
      },
      "execution_count": null,
      "outputs": [
        {
          "output_type": "execute_result",
          "data": {
            "text/plain": [
              "       cap-diameter  stem-height  stem-width  b0  c0  f0  o0  p0  s0  x0  ...  \\\n",
              "0             15.74         5.02       28.73   0   0   1   0   0   0   0  ...   \n",
              "1              1.27         3.79        5.63   0   0   1   0   0   0   0  ...   \n",
              "2             12.05         6.03       23.98   0   0   1   0   0   0   0  ...   \n",
              "3              8.08         6.04       14.95   0   0   0   0   0   0   1  ...   \n",
              "4              6.44        12.23       12.77   0   0   0   0   0   0   1  ...   \n",
              "...             ...          ...         ...  ..  ..  ..  ..  ..  ..  ..  ...   \n",
              "48850          8.53         3.63       25.28   0   0   0   1   0   0   0  ...   \n",
              "48851         10.66         5.10       19.52   0   0   1   0   0   0   0  ...   \n",
              "48852          1.62         3.73        2.63   0   0   0   0   0   0   1  ...   \n",
              "48853          1.29         5.00        2.45   0   0   0   0   0   0   1  ...   \n",
              "48854          2.46         3.41        2.38   0   0   1   0   0   0   0  ...   \n",
              "\n",
              "       h15  l15  m15  p15  u15  w15  a16  s16  u16  w16  \n",
              "0        0    0    0    0    0    0    1    0    0    0  \n",
              "1        0    0    0    0    0    0    1    0    0    0  \n",
              "2        0    0    0    0    0    0    1    0    0    0  \n",
              "3        0    0    0    0    0    0    1    0    0    0  \n",
              "4        0    0    0    0    0    0    0    0    1    0  \n",
              "...    ...  ...  ...  ...  ...  ...  ...  ...  ...  ...  \n",
              "48850    0    0    0    0    0    0    0    1    0    0  \n",
              "48851    0    0    0    0    0    0    1    0    0    0  \n",
              "48852    0    0    0    0    0    0    1    0    0    0  \n",
              "48853    0    0    0    0    0    0    1    0    0    0  \n",
              "48854    0    0    0    0    0    0    0    0    1    0  \n",
              "\n",
              "[48855 rows x 84 columns]"
            ],
            "text/html": [
              "\n",
              "  <div id=\"df-e16008e5-f9fd-4b75-9fbc-b91580fa2391\">\n",
              "    <div class=\"colab-df-container\">\n",
              "      <div>\n",
              "<style scoped>\n",
              "    .dataframe tbody tr th:only-of-type {\n",
              "        vertical-align: middle;\n",
              "    }\n",
              "\n",
              "    .dataframe tbody tr th {\n",
              "        vertical-align: top;\n",
              "    }\n",
              "\n",
              "    .dataframe thead th {\n",
              "        text-align: right;\n",
              "    }\n",
              "</style>\n",
              "<table border=\"1\" class=\"dataframe\">\n",
              "  <thead>\n",
              "    <tr style=\"text-align: right;\">\n",
              "      <th></th>\n",
              "      <th>cap-diameter</th>\n",
              "      <th>stem-height</th>\n",
              "      <th>stem-width</th>\n",
              "      <th>b0</th>\n",
              "      <th>c0</th>\n",
              "      <th>f0</th>\n",
              "      <th>o0</th>\n",
              "      <th>p0</th>\n",
              "      <th>s0</th>\n",
              "      <th>x0</th>\n",
              "      <th>...</th>\n",
              "      <th>h15</th>\n",
              "      <th>l15</th>\n",
              "      <th>m15</th>\n",
              "      <th>p15</th>\n",
              "      <th>u15</th>\n",
              "      <th>w15</th>\n",
              "      <th>a16</th>\n",
              "      <th>s16</th>\n",
              "      <th>u16</th>\n",
              "      <th>w16</th>\n",
              "    </tr>\n",
              "  </thead>\n",
              "  <tbody>\n",
              "    <tr>\n",
              "      <th>0</th>\n",
              "      <td>15.74</td>\n",
              "      <td>5.02</td>\n",
              "      <td>28.73</td>\n",
              "      <td>0</td>\n",
              "      <td>0</td>\n",
              "      <td>1</td>\n",
              "      <td>0</td>\n",
              "      <td>0</td>\n",
              "      <td>0</td>\n",
              "      <td>0</td>\n",
              "      <td>...</td>\n",
              "      <td>0</td>\n",
              "      <td>0</td>\n",
              "      <td>0</td>\n",
              "      <td>0</td>\n",
              "      <td>0</td>\n",
              "      <td>0</td>\n",
              "      <td>1</td>\n",
              "      <td>0</td>\n",
              "      <td>0</td>\n",
              "      <td>0</td>\n",
              "    </tr>\n",
              "    <tr>\n",
              "      <th>1</th>\n",
              "      <td>1.27</td>\n",
              "      <td>3.79</td>\n",
              "      <td>5.63</td>\n",
              "      <td>0</td>\n",
              "      <td>0</td>\n",
              "      <td>1</td>\n",
              "      <td>0</td>\n",
              "      <td>0</td>\n",
              "      <td>0</td>\n",
              "      <td>0</td>\n",
              "      <td>...</td>\n",
              "      <td>0</td>\n",
              "      <td>0</td>\n",
              "      <td>0</td>\n",
              "      <td>0</td>\n",
              "      <td>0</td>\n",
              "      <td>0</td>\n",
              "      <td>1</td>\n",
              "      <td>0</td>\n",
              "      <td>0</td>\n",
              "      <td>0</td>\n",
              "    </tr>\n",
              "    <tr>\n",
              "      <th>2</th>\n",
              "      <td>12.05</td>\n",
              "      <td>6.03</td>\n",
              "      <td>23.98</td>\n",
              "      <td>0</td>\n",
              "      <td>0</td>\n",
              "      <td>1</td>\n",
              "      <td>0</td>\n",
              "      <td>0</td>\n",
              "      <td>0</td>\n",
              "      <td>0</td>\n",
              "      <td>...</td>\n",
              "      <td>0</td>\n",
              "      <td>0</td>\n",
              "      <td>0</td>\n",
              "      <td>0</td>\n",
              "      <td>0</td>\n",
              "      <td>0</td>\n",
              "      <td>1</td>\n",
              "      <td>0</td>\n",
              "      <td>0</td>\n",
              "      <td>0</td>\n",
              "    </tr>\n",
              "    <tr>\n",
              "      <th>3</th>\n",
              "      <td>8.08</td>\n",
              "      <td>6.04</td>\n",
              "      <td>14.95</td>\n",
              "      <td>0</td>\n",
              "      <td>0</td>\n",
              "      <td>0</td>\n",
              "      <td>0</td>\n",
              "      <td>0</td>\n",
              "      <td>0</td>\n",
              "      <td>1</td>\n",
              "      <td>...</td>\n",
              "      <td>0</td>\n",
              "      <td>0</td>\n",
              "      <td>0</td>\n",
              "      <td>0</td>\n",
              "      <td>0</td>\n",
              "      <td>0</td>\n",
              "      <td>1</td>\n",
              "      <td>0</td>\n",
              "      <td>0</td>\n",
              "      <td>0</td>\n",
              "    </tr>\n",
              "    <tr>\n",
              "      <th>4</th>\n",
              "      <td>6.44</td>\n",
              "      <td>12.23</td>\n",
              "      <td>12.77</td>\n",
              "      <td>0</td>\n",
              "      <td>0</td>\n",
              "      <td>0</td>\n",
              "      <td>0</td>\n",
              "      <td>0</td>\n",
              "      <td>0</td>\n",
              "      <td>1</td>\n",
              "      <td>...</td>\n",
              "      <td>0</td>\n",
              "      <td>0</td>\n",
              "      <td>0</td>\n",
              "      <td>0</td>\n",
              "      <td>0</td>\n",
              "      <td>0</td>\n",
              "      <td>0</td>\n",
              "      <td>0</td>\n",
              "      <td>1</td>\n",
              "      <td>0</td>\n",
              "    </tr>\n",
              "    <tr>\n",
              "      <th>...</th>\n",
              "      <td>...</td>\n",
              "      <td>...</td>\n",
              "      <td>...</td>\n",
              "      <td>...</td>\n",
              "      <td>...</td>\n",
              "      <td>...</td>\n",
              "      <td>...</td>\n",
              "      <td>...</td>\n",
              "      <td>...</td>\n",
              "      <td>...</td>\n",
              "      <td>...</td>\n",
              "      <td>...</td>\n",
              "      <td>...</td>\n",
              "      <td>...</td>\n",
              "      <td>...</td>\n",
              "      <td>...</td>\n",
              "      <td>...</td>\n",
              "      <td>...</td>\n",
              "      <td>...</td>\n",
              "      <td>...</td>\n",
              "      <td>...</td>\n",
              "    </tr>\n",
              "    <tr>\n",
              "      <th>48850</th>\n",
              "      <td>8.53</td>\n",
              "      <td>3.63</td>\n",
              "      <td>25.28</td>\n",
              "      <td>0</td>\n",
              "      <td>0</td>\n",
              "      <td>0</td>\n",
              "      <td>1</td>\n",
              "      <td>0</td>\n",
              "      <td>0</td>\n",
              "      <td>0</td>\n",
              "      <td>...</td>\n",
              "      <td>0</td>\n",
              "      <td>0</td>\n",
              "      <td>0</td>\n",
              "      <td>0</td>\n",
              "      <td>0</td>\n",
              "      <td>0</td>\n",
              "      <td>0</td>\n",
              "      <td>1</td>\n",
              "      <td>0</td>\n",
              "      <td>0</td>\n",
              "    </tr>\n",
              "    <tr>\n",
              "      <th>48851</th>\n",
              "      <td>10.66</td>\n",
              "      <td>5.10</td>\n",
              "      <td>19.52</td>\n",
              "      <td>0</td>\n",
              "      <td>0</td>\n",
              "      <td>1</td>\n",
              "      <td>0</td>\n",
              "      <td>0</td>\n",
              "      <td>0</td>\n",
              "      <td>0</td>\n",
              "      <td>...</td>\n",
              "      <td>0</td>\n",
              "      <td>0</td>\n",
              "      <td>0</td>\n",
              "      <td>0</td>\n",
              "      <td>0</td>\n",
              "      <td>0</td>\n",
              "      <td>1</td>\n",
              "      <td>0</td>\n",
              "      <td>0</td>\n",
              "      <td>0</td>\n",
              "    </tr>\n",
              "    <tr>\n",
              "      <th>48852</th>\n",
              "      <td>1.62</td>\n",
              "      <td>3.73</td>\n",
              "      <td>2.63</td>\n",
              "      <td>0</td>\n",
              "      <td>0</td>\n",
              "      <td>0</td>\n",
              "      <td>0</td>\n",
              "      <td>0</td>\n",
              "      <td>0</td>\n",
              "      <td>1</td>\n",
              "      <td>...</td>\n",
              "      <td>0</td>\n",
              "      <td>0</td>\n",
              "      <td>0</td>\n",
              "      <td>0</td>\n",
              "      <td>0</td>\n",
              "      <td>0</td>\n",
              "      <td>1</td>\n",
              "      <td>0</td>\n",
              "      <td>0</td>\n",
              "      <td>0</td>\n",
              "    </tr>\n",
              "    <tr>\n",
              "      <th>48853</th>\n",
              "      <td>1.29</td>\n",
              "      <td>5.00</td>\n",
              "      <td>2.45</td>\n",
              "      <td>0</td>\n",
              "      <td>0</td>\n",
              "      <td>0</td>\n",
              "      <td>0</td>\n",
              "      <td>0</td>\n",
              "      <td>0</td>\n",
              "      <td>1</td>\n",
              "      <td>...</td>\n",
              "      <td>0</td>\n",
              "      <td>0</td>\n",
              "      <td>0</td>\n",
              "      <td>0</td>\n",
              "      <td>0</td>\n",
              "      <td>0</td>\n",
              "      <td>1</td>\n",
              "      <td>0</td>\n",
              "      <td>0</td>\n",
              "      <td>0</td>\n",
              "    </tr>\n",
              "    <tr>\n",
              "      <th>48854</th>\n",
              "      <td>2.46</td>\n",
              "      <td>3.41</td>\n",
              "      <td>2.38</td>\n",
              "      <td>0</td>\n",
              "      <td>0</td>\n",
              "      <td>1</td>\n",
              "      <td>0</td>\n",
              "      <td>0</td>\n",
              "      <td>0</td>\n",
              "      <td>0</td>\n",
              "      <td>...</td>\n",
              "      <td>0</td>\n",
              "      <td>0</td>\n",
              "      <td>0</td>\n",
              "      <td>0</td>\n",
              "      <td>0</td>\n",
              "      <td>0</td>\n",
              "      <td>0</td>\n",
              "      <td>0</td>\n",
              "      <td>1</td>\n",
              "      <td>0</td>\n",
              "    </tr>\n",
              "  </tbody>\n",
              "</table>\n",
              "<p>48855 rows × 84 columns</p>\n",
              "</div>\n",
              "      <button class=\"colab-df-convert\" onclick=\"convertToInteractive('df-e16008e5-f9fd-4b75-9fbc-b91580fa2391')\"\n",
              "              title=\"Convert this dataframe to an interactive table.\"\n",
              "              style=\"display:none;\">\n",
              "        \n",
              "  <svg xmlns=\"http://www.w3.org/2000/svg\" height=\"24px\"viewBox=\"0 0 24 24\"\n",
              "       width=\"24px\">\n",
              "    <path d=\"M0 0h24v24H0V0z\" fill=\"none\"/>\n",
              "    <path d=\"M18.56 5.44l.94 2.06.94-2.06 2.06-.94-2.06-.94-.94-2.06-.94 2.06-2.06.94zm-11 1L8.5 8.5l.94-2.06 2.06-.94-2.06-.94L8.5 2.5l-.94 2.06-2.06.94zm10 10l.94 2.06.94-2.06 2.06-.94-2.06-.94-.94-2.06-.94 2.06-2.06.94z\"/><path d=\"M17.41 7.96l-1.37-1.37c-.4-.4-.92-.59-1.43-.59-.52 0-1.04.2-1.43.59L10.3 9.45l-7.72 7.72c-.78.78-.78 2.05 0 2.83L4 21.41c.39.39.9.59 1.41.59.51 0 1.02-.2 1.41-.59l7.78-7.78 2.81-2.81c.8-.78.8-2.07 0-2.86zM5.41 20L4 18.59l7.72-7.72 1.47 1.35L5.41 20z\"/>\n",
              "  </svg>\n",
              "      </button>\n",
              "      \n",
              "  <style>\n",
              "    .colab-df-container {\n",
              "      display:flex;\n",
              "      flex-wrap:wrap;\n",
              "      gap: 12px;\n",
              "    }\n",
              "\n",
              "    .colab-df-convert {\n",
              "      background-color: #E8F0FE;\n",
              "      border: none;\n",
              "      border-radius: 50%;\n",
              "      cursor: pointer;\n",
              "      display: none;\n",
              "      fill: #1967D2;\n",
              "      height: 32px;\n",
              "      padding: 0 0 0 0;\n",
              "      width: 32px;\n",
              "    }\n",
              "\n",
              "    .colab-df-convert:hover {\n",
              "      background-color: #E2EBFA;\n",
              "      box-shadow: 0px 1px 2px rgba(60, 64, 67, 0.3), 0px 1px 3px 1px rgba(60, 64, 67, 0.15);\n",
              "      fill: #174EA6;\n",
              "    }\n",
              "\n",
              "    [theme=dark] .colab-df-convert {\n",
              "      background-color: #3B4455;\n",
              "      fill: #D2E3FC;\n",
              "    }\n",
              "\n",
              "    [theme=dark] .colab-df-convert:hover {\n",
              "      background-color: #434B5C;\n",
              "      box-shadow: 0px 1px 3px 1px rgba(0, 0, 0, 0.15);\n",
              "      filter: drop-shadow(0px 1px 2px rgba(0, 0, 0, 0.3));\n",
              "      fill: #FFFFFF;\n",
              "    }\n",
              "  </style>\n",
              "\n",
              "      <script>\n",
              "        const buttonEl =\n",
              "          document.querySelector('#df-e16008e5-f9fd-4b75-9fbc-b91580fa2391 button.colab-df-convert');\n",
              "        buttonEl.style.display =\n",
              "          google.colab.kernel.accessAllowed ? 'block' : 'none';\n",
              "\n",
              "        async function convertToInteractive(key) {\n",
              "          const element = document.querySelector('#df-e16008e5-f9fd-4b75-9fbc-b91580fa2391');\n",
              "          const dataTable =\n",
              "            await google.colab.kernel.invokeFunction('convertToInteractive',\n",
              "                                                     [key], {});\n",
              "          if (!dataTable) return;\n",
              "\n",
              "          const docLinkHtml = 'Like what you see? Visit the ' +\n",
              "            '<a target=\"_blank\" href=https://colab.research.google.com/notebooks/data_table.ipynb>data table notebook</a>'\n",
              "            + ' to learn more about interactive tables.';\n",
              "          element.innerHTML = '';\n",
              "          dataTable['output_type'] = 'display_data';\n",
              "          await google.colab.output.renderOutput(dataTable, element);\n",
              "          const docLink = document.createElement('div');\n",
              "          docLink.innerHTML = docLinkHtml;\n",
              "          element.appendChild(docLink);\n",
              "        }\n",
              "      </script>\n",
              "    </div>\n",
              "  </div>\n",
              "  "
            ]
          },
          "metadata": {},
          "execution_count": 30
        }
      ]
    },
    {
      "cell_type": "code",
      "source": [
        "X_validation"
      ],
      "metadata": {
        "colab": {
          "base_uri": "https://localhost:8080/",
          "height": 485
        },
        "id": "bcfBD9HpmEx7",
        "outputId": "1a9783c8-956c-4510-8bc0-b05a072c8a61"
      },
      "execution_count": null,
      "outputs": [
        {
          "output_type": "execute_result",
          "data": {
            "text/plain": [
              "      cap-diameter  stem-height  stem-width  b0  c0  f0  o0  p0  s0  x0  ...  \\\n",
              "0             2.38         8.13        2.59   0   0   0   0   1   0   0  ...   \n",
              "1             2.35         5.48        2.31   1   0   0   0   0   0   0  ...   \n",
              "2             7.70        14.78       18.18   1   0   0   0   0   0   0  ...   \n",
              "3             5.64         6.76       12.15   0   1   0   0   0   0   0  ...   \n",
              "4             5.69         7.84       14.56   0   0   0   0   0   0   1  ...   \n",
              "...            ...          ...         ...  ..  ..  ..  ..  ..  ..  ..  ...   \n",
              "6102         10.65        10.00       22.49   0   0   0   0   0   0   1  ...   \n",
              "6103          5.20        12.43       13.25   0   1   0   0   0   0   0  ...   \n",
              "6104          8.51         4.52       13.00   0   0   1   0   0   0   0  ...   \n",
              "6105          9.27        11.46       32.54   0   0   0   0   0   0   1  ...   \n",
              "6106          6.26         6.09       14.68   0   0   0   0   0   0   1  ...   \n",
              "\n",
              "      h15  l15  m15  p15  u15  w15  a16  s16  u16  w16  \n",
              "0       0    0    1    0    0    0    1    0    0    0  \n",
              "1       0    0    0    0    0    0    0    0    1    0  \n",
              "2       0    0    0    0    0    0    1    0    0    0  \n",
              "3       0    0    0    0    0    0    1    0    0    0  \n",
              "4       0    0    0    0    0    0    1    0    0    0  \n",
              "...   ...  ...  ...  ...  ...  ...  ...  ...  ...  ...  \n",
              "6102    0    0    0    0    0    0    1    0    0    0  \n",
              "6103    0    0    0    0    0    0    0    0    1    0  \n",
              "6104    0    0    0    0    0    1    1    0    0    0  \n",
              "6105    0    0    0    0    0    0    1    0    0    0  \n",
              "6106    0    0    0    0    0    0    1    0    0    0  \n",
              "\n",
              "[6107 rows x 84 columns]"
            ],
            "text/html": [
              "\n",
              "  <div id=\"df-250740c4-9a68-4ecd-92f6-315c43db3d12\">\n",
              "    <div class=\"colab-df-container\">\n",
              "      <div>\n",
              "<style scoped>\n",
              "    .dataframe tbody tr th:only-of-type {\n",
              "        vertical-align: middle;\n",
              "    }\n",
              "\n",
              "    .dataframe tbody tr th {\n",
              "        vertical-align: top;\n",
              "    }\n",
              "\n",
              "    .dataframe thead th {\n",
              "        text-align: right;\n",
              "    }\n",
              "</style>\n",
              "<table border=\"1\" class=\"dataframe\">\n",
              "  <thead>\n",
              "    <tr style=\"text-align: right;\">\n",
              "      <th></th>\n",
              "      <th>cap-diameter</th>\n",
              "      <th>stem-height</th>\n",
              "      <th>stem-width</th>\n",
              "      <th>b0</th>\n",
              "      <th>c0</th>\n",
              "      <th>f0</th>\n",
              "      <th>o0</th>\n",
              "      <th>p0</th>\n",
              "      <th>s0</th>\n",
              "      <th>x0</th>\n",
              "      <th>...</th>\n",
              "      <th>h15</th>\n",
              "      <th>l15</th>\n",
              "      <th>m15</th>\n",
              "      <th>p15</th>\n",
              "      <th>u15</th>\n",
              "      <th>w15</th>\n",
              "      <th>a16</th>\n",
              "      <th>s16</th>\n",
              "      <th>u16</th>\n",
              "      <th>w16</th>\n",
              "    </tr>\n",
              "  </thead>\n",
              "  <tbody>\n",
              "    <tr>\n",
              "      <th>0</th>\n",
              "      <td>2.38</td>\n",
              "      <td>8.13</td>\n",
              "      <td>2.59</td>\n",
              "      <td>0</td>\n",
              "      <td>0</td>\n",
              "      <td>0</td>\n",
              "      <td>0</td>\n",
              "      <td>1</td>\n",
              "      <td>0</td>\n",
              "      <td>0</td>\n",
              "      <td>...</td>\n",
              "      <td>0</td>\n",
              "      <td>0</td>\n",
              "      <td>1</td>\n",
              "      <td>0</td>\n",
              "      <td>0</td>\n",
              "      <td>0</td>\n",
              "      <td>1</td>\n",
              "      <td>0</td>\n",
              "      <td>0</td>\n",
              "      <td>0</td>\n",
              "    </tr>\n",
              "    <tr>\n",
              "      <th>1</th>\n",
              "      <td>2.35</td>\n",
              "      <td>5.48</td>\n",
              "      <td>2.31</td>\n",
              "      <td>1</td>\n",
              "      <td>0</td>\n",
              "      <td>0</td>\n",
              "      <td>0</td>\n",
              "      <td>0</td>\n",
              "      <td>0</td>\n",
              "      <td>0</td>\n",
              "      <td>...</td>\n",
              "      <td>0</td>\n",
              "      <td>0</td>\n",
              "      <td>0</td>\n",
              "      <td>0</td>\n",
              "      <td>0</td>\n",
              "      <td>0</td>\n",
              "      <td>0</td>\n",
              "      <td>0</td>\n",
              "      <td>1</td>\n",
              "      <td>0</td>\n",
              "    </tr>\n",
              "    <tr>\n",
              "      <th>2</th>\n",
              "      <td>7.70</td>\n",
              "      <td>14.78</td>\n",
              "      <td>18.18</td>\n",
              "      <td>1</td>\n",
              "      <td>0</td>\n",
              "      <td>0</td>\n",
              "      <td>0</td>\n",
              "      <td>0</td>\n",
              "      <td>0</td>\n",
              "      <td>0</td>\n",
              "      <td>...</td>\n",
              "      <td>0</td>\n",
              "      <td>0</td>\n",
              "      <td>0</td>\n",
              "      <td>0</td>\n",
              "      <td>0</td>\n",
              "      <td>0</td>\n",
              "      <td>1</td>\n",
              "      <td>0</td>\n",
              "      <td>0</td>\n",
              "      <td>0</td>\n",
              "    </tr>\n",
              "    <tr>\n",
              "      <th>3</th>\n",
              "      <td>5.64</td>\n",
              "      <td>6.76</td>\n",
              "      <td>12.15</td>\n",
              "      <td>0</td>\n",
              "      <td>1</td>\n",
              "      <td>0</td>\n",
              "      <td>0</td>\n",
              "      <td>0</td>\n",
              "      <td>0</td>\n",
              "      <td>0</td>\n",
              "      <td>...</td>\n",
              "      <td>0</td>\n",
              "      <td>0</td>\n",
              "      <td>0</td>\n",
              "      <td>0</td>\n",
              "      <td>0</td>\n",
              "      <td>0</td>\n",
              "      <td>1</td>\n",
              "      <td>0</td>\n",
              "      <td>0</td>\n",
              "      <td>0</td>\n",
              "    </tr>\n",
              "    <tr>\n",
              "      <th>4</th>\n",
              "      <td>5.69</td>\n",
              "      <td>7.84</td>\n",
              "      <td>14.56</td>\n",
              "      <td>0</td>\n",
              "      <td>0</td>\n",
              "      <td>0</td>\n",
              "      <td>0</td>\n",
              "      <td>0</td>\n",
              "      <td>0</td>\n",
              "      <td>1</td>\n",
              "      <td>...</td>\n",
              "      <td>0</td>\n",
              "      <td>0</td>\n",
              "      <td>0</td>\n",
              "      <td>0</td>\n",
              "      <td>0</td>\n",
              "      <td>0</td>\n",
              "      <td>1</td>\n",
              "      <td>0</td>\n",
              "      <td>0</td>\n",
              "      <td>0</td>\n",
              "    </tr>\n",
              "    <tr>\n",
              "      <th>...</th>\n",
              "      <td>...</td>\n",
              "      <td>...</td>\n",
              "      <td>...</td>\n",
              "      <td>...</td>\n",
              "      <td>...</td>\n",
              "      <td>...</td>\n",
              "      <td>...</td>\n",
              "      <td>...</td>\n",
              "      <td>...</td>\n",
              "      <td>...</td>\n",
              "      <td>...</td>\n",
              "      <td>...</td>\n",
              "      <td>...</td>\n",
              "      <td>...</td>\n",
              "      <td>...</td>\n",
              "      <td>...</td>\n",
              "      <td>...</td>\n",
              "      <td>...</td>\n",
              "      <td>...</td>\n",
              "      <td>...</td>\n",
              "      <td>...</td>\n",
              "    </tr>\n",
              "    <tr>\n",
              "      <th>6102</th>\n",
              "      <td>10.65</td>\n",
              "      <td>10.00</td>\n",
              "      <td>22.49</td>\n",
              "      <td>0</td>\n",
              "      <td>0</td>\n",
              "      <td>0</td>\n",
              "      <td>0</td>\n",
              "      <td>0</td>\n",
              "      <td>0</td>\n",
              "      <td>1</td>\n",
              "      <td>...</td>\n",
              "      <td>0</td>\n",
              "      <td>0</td>\n",
              "      <td>0</td>\n",
              "      <td>0</td>\n",
              "      <td>0</td>\n",
              "      <td>0</td>\n",
              "      <td>1</td>\n",
              "      <td>0</td>\n",
              "      <td>0</td>\n",
              "      <td>0</td>\n",
              "    </tr>\n",
              "    <tr>\n",
              "      <th>6103</th>\n",
              "      <td>5.20</td>\n",
              "      <td>12.43</td>\n",
              "      <td>13.25</td>\n",
              "      <td>0</td>\n",
              "      <td>1</td>\n",
              "      <td>0</td>\n",
              "      <td>0</td>\n",
              "      <td>0</td>\n",
              "      <td>0</td>\n",
              "      <td>0</td>\n",
              "      <td>...</td>\n",
              "      <td>0</td>\n",
              "      <td>0</td>\n",
              "      <td>0</td>\n",
              "      <td>0</td>\n",
              "      <td>0</td>\n",
              "      <td>0</td>\n",
              "      <td>0</td>\n",
              "      <td>0</td>\n",
              "      <td>1</td>\n",
              "      <td>0</td>\n",
              "    </tr>\n",
              "    <tr>\n",
              "      <th>6104</th>\n",
              "      <td>8.51</td>\n",
              "      <td>4.52</td>\n",
              "      <td>13.00</td>\n",
              "      <td>0</td>\n",
              "      <td>0</td>\n",
              "      <td>1</td>\n",
              "      <td>0</td>\n",
              "      <td>0</td>\n",
              "      <td>0</td>\n",
              "      <td>0</td>\n",
              "      <td>...</td>\n",
              "      <td>0</td>\n",
              "      <td>0</td>\n",
              "      <td>0</td>\n",
              "      <td>0</td>\n",
              "      <td>0</td>\n",
              "      <td>1</td>\n",
              "      <td>1</td>\n",
              "      <td>0</td>\n",
              "      <td>0</td>\n",
              "      <td>0</td>\n",
              "    </tr>\n",
              "    <tr>\n",
              "      <th>6105</th>\n",
              "      <td>9.27</td>\n",
              "      <td>11.46</td>\n",
              "      <td>32.54</td>\n",
              "      <td>0</td>\n",
              "      <td>0</td>\n",
              "      <td>0</td>\n",
              "      <td>0</td>\n",
              "      <td>0</td>\n",
              "      <td>0</td>\n",
              "      <td>1</td>\n",
              "      <td>...</td>\n",
              "      <td>0</td>\n",
              "      <td>0</td>\n",
              "      <td>0</td>\n",
              "      <td>0</td>\n",
              "      <td>0</td>\n",
              "      <td>0</td>\n",
              "      <td>1</td>\n",
              "      <td>0</td>\n",
              "      <td>0</td>\n",
              "      <td>0</td>\n",
              "    </tr>\n",
              "    <tr>\n",
              "      <th>6106</th>\n",
              "      <td>6.26</td>\n",
              "      <td>6.09</td>\n",
              "      <td>14.68</td>\n",
              "      <td>0</td>\n",
              "      <td>0</td>\n",
              "      <td>0</td>\n",
              "      <td>0</td>\n",
              "      <td>0</td>\n",
              "      <td>0</td>\n",
              "      <td>1</td>\n",
              "      <td>...</td>\n",
              "      <td>0</td>\n",
              "      <td>0</td>\n",
              "      <td>0</td>\n",
              "      <td>0</td>\n",
              "      <td>0</td>\n",
              "      <td>0</td>\n",
              "      <td>1</td>\n",
              "      <td>0</td>\n",
              "      <td>0</td>\n",
              "      <td>0</td>\n",
              "    </tr>\n",
              "  </tbody>\n",
              "</table>\n",
              "<p>6107 rows × 84 columns</p>\n",
              "</div>\n",
              "      <button class=\"colab-df-convert\" onclick=\"convertToInteractive('df-250740c4-9a68-4ecd-92f6-315c43db3d12')\"\n",
              "              title=\"Convert this dataframe to an interactive table.\"\n",
              "              style=\"display:none;\">\n",
              "        \n",
              "  <svg xmlns=\"http://www.w3.org/2000/svg\" height=\"24px\"viewBox=\"0 0 24 24\"\n",
              "       width=\"24px\">\n",
              "    <path d=\"M0 0h24v24H0V0z\" fill=\"none\"/>\n",
              "    <path d=\"M18.56 5.44l.94 2.06.94-2.06 2.06-.94-2.06-.94-.94-2.06-.94 2.06-2.06.94zm-11 1L8.5 8.5l.94-2.06 2.06-.94-2.06-.94L8.5 2.5l-.94 2.06-2.06.94zm10 10l.94 2.06.94-2.06 2.06-.94-2.06-.94-.94-2.06-.94 2.06-2.06.94z\"/><path d=\"M17.41 7.96l-1.37-1.37c-.4-.4-.92-.59-1.43-.59-.52 0-1.04.2-1.43.59L10.3 9.45l-7.72 7.72c-.78.78-.78 2.05 0 2.83L4 21.41c.39.39.9.59 1.41.59.51 0 1.02-.2 1.41-.59l7.78-7.78 2.81-2.81c.8-.78.8-2.07 0-2.86zM5.41 20L4 18.59l7.72-7.72 1.47 1.35L5.41 20z\"/>\n",
              "  </svg>\n",
              "      </button>\n",
              "      \n",
              "  <style>\n",
              "    .colab-df-container {\n",
              "      display:flex;\n",
              "      flex-wrap:wrap;\n",
              "      gap: 12px;\n",
              "    }\n",
              "\n",
              "    .colab-df-convert {\n",
              "      background-color: #E8F0FE;\n",
              "      border: none;\n",
              "      border-radius: 50%;\n",
              "      cursor: pointer;\n",
              "      display: none;\n",
              "      fill: #1967D2;\n",
              "      height: 32px;\n",
              "      padding: 0 0 0 0;\n",
              "      width: 32px;\n",
              "    }\n",
              "\n",
              "    .colab-df-convert:hover {\n",
              "      background-color: #E2EBFA;\n",
              "      box-shadow: 0px 1px 2px rgba(60, 64, 67, 0.3), 0px 1px 3px 1px rgba(60, 64, 67, 0.15);\n",
              "      fill: #174EA6;\n",
              "    }\n",
              "\n",
              "    [theme=dark] .colab-df-convert {\n",
              "      background-color: #3B4455;\n",
              "      fill: #D2E3FC;\n",
              "    }\n",
              "\n",
              "    [theme=dark] .colab-df-convert:hover {\n",
              "      background-color: #434B5C;\n",
              "      box-shadow: 0px 1px 3px 1px rgba(0, 0, 0, 0.15);\n",
              "      filter: drop-shadow(0px 1px 2px rgba(0, 0, 0, 0.3));\n",
              "      fill: #FFFFFF;\n",
              "    }\n",
              "  </style>\n",
              "\n",
              "      <script>\n",
              "        const buttonEl =\n",
              "          document.querySelector('#df-250740c4-9a68-4ecd-92f6-315c43db3d12 button.colab-df-convert');\n",
              "        buttonEl.style.display =\n",
              "          google.colab.kernel.accessAllowed ? 'block' : 'none';\n",
              "\n",
              "        async function convertToInteractive(key) {\n",
              "          const element = document.querySelector('#df-250740c4-9a68-4ecd-92f6-315c43db3d12');\n",
              "          const dataTable =\n",
              "            await google.colab.kernel.invokeFunction('convertToInteractive',\n",
              "                                                     [key], {});\n",
              "          if (!dataTable) return;\n",
              "\n",
              "          const docLinkHtml = 'Like what you see? Visit the ' +\n",
              "            '<a target=\"_blank\" href=https://colab.research.google.com/notebooks/data_table.ipynb>data table notebook</a>'\n",
              "            + ' to learn more about interactive tables.';\n",
              "          element.innerHTML = '';\n",
              "          dataTable['output_type'] = 'display_data';\n",
              "          await google.colab.output.renderOutput(dataTable, element);\n",
              "          const docLink = document.createElement('div');\n",
              "          docLink.innerHTML = docLinkHtml;\n",
              "          element.appendChild(docLink);\n",
              "        }\n",
              "      </script>\n",
              "    </div>\n",
              "  </div>\n",
              "  "
            ]
          },
          "metadata": {},
          "execution_count": 31
        }
      ]
    },
    {
      "cell_type": "code",
      "source": [
        "X_test"
      ],
      "metadata": {
        "colab": {
          "base_uri": "https://localhost:8080/",
          "height": 485
        },
        "id": "1hMoSHfEmFiD",
        "outputId": "b0f88a31-1d5d-4b6f-d76e-6b986e0a9809"
      },
      "execution_count": null,
      "outputs": [
        {
          "output_type": "execute_result",
          "data": {
            "text/plain": [
              "      cap-diameter  stem-height  stem-width  b0  c0  f0  o0  p0  s0  x0  ...  \\\n",
              "0             7.81         6.27       18.18   0   0   0   0   0   1   0  ...   \n",
              "1            10.96         3.89       26.20   0   0   0   1   0   0   0  ...   \n",
              "2             9.27        11.77       18.76   0   0   0   0   0   0   1  ...   \n",
              "3             7.93         7.56       13.68   0   0   0   0   0   0   1  ...   \n",
              "4             9.96         8.33       15.72   0   0   0   0   0   0   1  ...   \n",
              "...            ...          ...         ...  ..  ..  ..  ..  ..  ..  ..  ...   \n",
              "6102         13.53         6.19       16.40   0   0   1   0   0   0   0  ...   \n",
              "6103          3.55         4.84        6.47   0   0   0   0   0   0   1  ...   \n",
              "6104          4.16         5.16       10.51   0   0   0   0   0   0   1  ...   \n",
              "6105          4.51         6.44        9.02   0   0   0   0   0   0   1  ...   \n",
              "6106          4.10         5.69        7.02   0   0   0   0   0   0   1  ...   \n",
              "\n",
              "      h15  l15  m15  p15  u15  w15  a16  s16  u16  w16  \n",
              "0       0    0    0    0    0    0    1    0    0    0  \n",
              "1       0    0    0    0    0    0    0    1    0    0  \n",
              "2       0    0    0    0    0    0    1    0    0    0  \n",
              "3       0    0    0    0    0    0    1    0    0    0  \n",
              "4       0    0    0    0    0    0    0    0    1    0  \n",
              "...   ...  ...  ...  ...  ...  ...  ...  ...  ...  ...  \n",
              "6102    0    0    0    0    0    0    1    0    0    0  \n",
              "6103    0    0    0    0    0    0    0    0    0    1  \n",
              "6104    0    0    0    0    0    0    0    0    1    0  \n",
              "6105    0    0    0    0    0    0    1    0    0    0  \n",
              "6106    0    0    0    0    0    0    0    0    1    0  \n",
              "\n",
              "[6107 rows x 84 columns]"
            ],
            "text/html": [
              "\n",
              "  <div id=\"df-7057a8f6-196e-4675-bf23-f9c18901aef2\">\n",
              "    <div class=\"colab-df-container\">\n",
              "      <div>\n",
              "<style scoped>\n",
              "    .dataframe tbody tr th:only-of-type {\n",
              "        vertical-align: middle;\n",
              "    }\n",
              "\n",
              "    .dataframe tbody tr th {\n",
              "        vertical-align: top;\n",
              "    }\n",
              "\n",
              "    .dataframe thead th {\n",
              "        text-align: right;\n",
              "    }\n",
              "</style>\n",
              "<table border=\"1\" class=\"dataframe\">\n",
              "  <thead>\n",
              "    <tr style=\"text-align: right;\">\n",
              "      <th></th>\n",
              "      <th>cap-diameter</th>\n",
              "      <th>stem-height</th>\n",
              "      <th>stem-width</th>\n",
              "      <th>b0</th>\n",
              "      <th>c0</th>\n",
              "      <th>f0</th>\n",
              "      <th>o0</th>\n",
              "      <th>p0</th>\n",
              "      <th>s0</th>\n",
              "      <th>x0</th>\n",
              "      <th>...</th>\n",
              "      <th>h15</th>\n",
              "      <th>l15</th>\n",
              "      <th>m15</th>\n",
              "      <th>p15</th>\n",
              "      <th>u15</th>\n",
              "      <th>w15</th>\n",
              "      <th>a16</th>\n",
              "      <th>s16</th>\n",
              "      <th>u16</th>\n",
              "      <th>w16</th>\n",
              "    </tr>\n",
              "  </thead>\n",
              "  <tbody>\n",
              "    <tr>\n",
              "      <th>0</th>\n",
              "      <td>7.81</td>\n",
              "      <td>6.27</td>\n",
              "      <td>18.18</td>\n",
              "      <td>0</td>\n",
              "      <td>0</td>\n",
              "      <td>0</td>\n",
              "      <td>0</td>\n",
              "      <td>0</td>\n",
              "      <td>1</td>\n",
              "      <td>0</td>\n",
              "      <td>...</td>\n",
              "      <td>0</td>\n",
              "      <td>0</td>\n",
              "      <td>0</td>\n",
              "      <td>0</td>\n",
              "      <td>0</td>\n",
              "      <td>0</td>\n",
              "      <td>1</td>\n",
              "      <td>0</td>\n",
              "      <td>0</td>\n",
              "      <td>0</td>\n",
              "    </tr>\n",
              "    <tr>\n",
              "      <th>1</th>\n",
              "      <td>10.96</td>\n",
              "      <td>3.89</td>\n",
              "      <td>26.20</td>\n",
              "      <td>0</td>\n",
              "      <td>0</td>\n",
              "      <td>0</td>\n",
              "      <td>1</td>\n",
              "      <td>0</td>\n",
              "      <td>0</td>\n",
              "      <td>0</td>\n",
              "      <td>...</td>\n",
              "      <td>0</td>\n",
              "      <td>0</td>\n",
              "      <td>0</td>\n",
              "      <td>0</td>\n",
              "      <td>0</td>\n",
              "      <td>0</td>\n",
              "      <td>0</td>\n",
              "      <td>1</td>\n",
              "      <td>0</td>\n",
              "      <td>0</td>\n",
              "    </tr>\n",
              "    <tr>\n",
              "      <th>2</th>\n",
              "      <td>9.27</td>\n",
              "      <td>11.77</td>\n",
              "      <td>18.76</td>\n",
              "      <td>0</td>\n",
              "      <td>0</td>\n",
              "      <td>0</td>\n",
              "      <td>0</td>\n",
              "      <td>0</td>\n",
              "      <td>0</td>\n",
              "      <td>1</td>\n",
              "      <td>...</td>\n",
              "      <td>0</td>\n",
              "      <td>0</td>\n",
              "      <td>0</td>\n",
              "      <td>0</td>\n",
              "      <td>0</td>\n",
              "      <td>0</td>\n",
              "      <td>1</td>\n",
              "      <td>0</td>\n",
              "      <td>0</td>\n",
              "      <td>0</td>\n",
              "    </tr>\n",
              "    <tr>\n",
              "      <th>3</th>\n",
              "      <td>7.93</td>\n",
              "      <td>7.56</td>\n",
              "      <td>13.68</td>\n",
              "      <td>0</td>\n",
              "      <td>0</td>\n",
              "      <td>0</td>\n",
              "      <td>0</td>\n",
              "      <td>0</td>\n",
              "      <td>0</td>\n",
              "      <td>1</td>\n",
              "      <td>...</td>\n",
              "      <td>0</td>\n",
              "      <td>0</td>\n",
              "      <td>0</td>\n",
              "      <td>0</td>\n",
              "      <td>0</td>\n",
              "      <td>0</td>\n",
              "      <td>1</td>\n",
              "      <td>0</td>\n",
              "      <td>0</td>\n",
              "      <td>0</td>\n",
              "    </tr>\n",
              "    <tr>\n",
              "      <th>4</th>\n",
              "      <td>9.96</td>\n",
              "      <td>8.33</td>\n",
              "      <td>15.72</td>\n",
              "      <td>0</td>\n",
              "      <td>0</td>\n",
              "      <td>0</td>\n",
              "      <td>0</td>\n",
              "      <td>0</td>\n",
              "      <td>0</td>\n",
              "      <td>1</td>\n",
              "      <td>...</td>\n",
              "      <td>0</td>\n",
              "      <td>0</td>\n",
              "      <td>0</td>\n",
              "      <td>0</td>\n",
              "      <td>0</td>\n",
              "      <td>0</td>\n",
              "      <td>0</td>\n",
              "      <td>0</td>\n",
              "      <td>1</td>\n",
              "      <td>0</td>\n",
              "    </tr>\n",
              "    <tr>\n",
              "      <th>...</th>\n",
              "      <td>...</td>\n",
              "      <td>...</td>\n",
              "      <td>...</td>\n",
              "      <td>...</td>\n",
              "      <td>...</td>\n",
              "      <td>...</td>\n",
              "      <td>...</td>\n",
              "      <td>...</td>\n",
              "      <td>...</td>\n",
              "      <td>...</td>\n",
              "      <td>...</td>\n",
              "      <td>...</td>\n",
              "      <td>...</td>\n",
              "      <td>...</td>\n",
              "      <td>...</td>\n",
              "      <td>...</td>\n",
              "      <td>...</td>\n",
              "      <td>...</td>\n",
              "      <td>...</td>\n",
              "      <td>...</td>\n",
              "      <td>...</td>\n",
              "    </tr>\n",
              "    <tr>\n",
              "      <th>6102</th>\n",
              "      <td>13.53</td>\n",
              "      <td>6.19</td>\n",
              "      <td>16.40</td>\n",
              "      <td>0</td>\n",
              "      <td>0</td>\n",
              "      <td>1</td>\n",
              "      <td>0</td>\n",
              "      <td>0</td>\n",
              "      <td>0</td>\n",
              "      <td>0</td>\n",
              "      <td>...</td>\n",
              "      <td>0</td>\n",
              "      <td>0</td>\n",
              "      <td>0</td>\n",
              "      <td>0</td>\n",
              "      <td>0</td>\n",
              "      <td>0</td>\n",
              "      <td>1</td>\n",
              "      <td>0</td>\n",
              "      <td>0</td>\n",
              "      <td>0</td>\n",
              "    </tr>\n",
              "    <tr>\n",
              "      <th>6103</th>\n",
              "      <td>3.55</td>\n",
              "      <td>4.84</td>\n",
              "      <td>6.47</td>\n",
              "      <td>0</td>\n",
              "      <td>0</td>\n",
              "      <td>0</td>\n",
              "      <td>0</td>\n",
              "      <td>0</td>\n",
              "      <td>0</td>\n",
              "      <td>1</td>\n",
              "      <td>...</td>\n",
              "      <td>0</td>\n",
              "      <td>0</td>\n",
              "      <td>0</td>\n",
              "      <td>0</td>\n",
              "      <td>0</td>\n",
              "      <td>0</td>\n",
              "      <td>0</td>\n",
              "      <td>0</td>\n",
              "      <td>0</td>\n",
              "      <td>1</td>\n",
              "    </tr>\n",
              "    <tr>\n",
              "      <th>6104</th>\n",
              "      <td>4.16</td>\n",
              "      <td>5.16</td>\n",
              "      <td>10.51</td>\n",
              "      <td>0</td>\n",
              "      <td>0</td>\n",
              "      <td>0</td>\n",
              "      <td>0</td>\n",
              "      <td>0</td>\n",
              "      <td>0</td>\n",
              "      <td>1</td>\n",
              "      <td>...</td>\n",
              "      <td>0</td>\n",
              "      <td>0</td>\n",
              "      <td>0</td>\n",
              "      <td>0</td>\n",
              "      <td>0</td>\n",
              "      <td>0</td>\n",
              "      <td>0</td>\n",
              "      <td>0</td>\n",
              "      <td>1</td>\n",
              "      <td>0</td>\n",
              "    </tr>\n",
              "    <tr>\n",
              "      <th>6105</th>\n",
              "      <td>4.51</td>\n",
              "      <td>6.44</td>\n",
              "      <td>9.02</td>\n",
              "      <td>0</td>\n",
              "      <td>0</td>\n",
              "      <td>0</td>\n",
              "      <td>0</td>\n",
              "      <td>0</td>\n",
              "      <td>0</td>\n",
              "      <td>1</td>\n",
              "      <td>...</td>\n",
              "      <td>0</td>\n",
              "      <td>0</td>\n",
              "      <td>0</td>\n",
              "      <td>0</td>\n",
              "      <td>0</td>\n",
              "      <td>0</td>\n",
              "      <td>1</td>\n",
              "      <td>0</td>\n",
              "      <td>0</td>\n",
              "      <td>0</td>\n",
              "    </tr>\n",
              "    <tr>\n",
              "      <th>6106</th>\n",
              "      <td>4.10</td>\n",
              "      <td>5.69</td>\n",
              "      <td>7.02</td>\n",
              "      <td>0</td>\n",
              "      <td>0</td>\n",
              "      <td>0</td>\n",
              "      <td>0</td>\n",
              "      <td>0</td>\n",
              "      <td>0</td>\n",
              "      <td>1</td>\n",
              "      <td>...</td>\n",
              "      <td>0</td>\n",
              "      <td>0</td>\n",
              "      <td>0</td>\n",
              "      <td>0</td>\n",
              "      <td>0</td>\n",
              "      <td>0</td>\n",
              "      <td>0</td>\n",
              "      <td>0</td>\n",
              "      <td>1</td>\n",
              "      <td>0</td>\n",
              "    </tr>\n",
              "  </tbody>\n",
              "</table>\n",
              "<p>6107 rows × 84 columns</p>\n",
              "</div>\n",
              "      <button class=\"colab-df-convert\" onclick=\"convertToInteractive('df-7057a8f6-196e-4675-bf23-f9c18901aef2')\"\n",
              "              title=\"Convert this dataframe to an interactive table.\"\n",
              "              style=\"display:none;\">\n",
              "        \n",
              "  <svg xmlns=\"http://www.w3.org/2000/svg\" height=\"24px\"viewBox=\"0 0 24 24\"\n",
              "       width=\"24px\">\n",
              "    <path d=\"M0 0h24v24H0V0z\" fill=\"none\"/>\n",
              "    <path d=\"M18.56 5.44l.94 2.06.94-2.06 2.06-.94-2.06-.94-.94-2.06-.94 2.06-2.06.94zm-11 1L8.5 8.5l.94-2.06 2.06-.94-2.06-.94L8.5 2.5l-.94 2.06-2.06.94zm10 10l.94 2.06.94-2.06 2.06-.94-2.06-.94-.94-2.06-.94 2.06-2.06.94z\"/><path d=\"M17.41 7.96l-1.37-1.37c-.4-.4-.92-.59-1.43-.59-.52 0-1.04.2-1.43.59L10.3 9.45l-7.72 7.72c-.78.78-.78 2.05 0 2.83L4 21.41c.39.39.9.59 1.41.59.51 0 1.02-.2 1.41-.59l7.78-7.78 2.81-2.81c.8-.78.8-2.07 0-2.86zM5.41 20L4 18.59l7.72-7.72 1.47 1.35L5.41 20z\"/>\n",
              "  </svg>\n",
              "      </button>\n",
              "      \n",
              "  <style>\n",
              "    .colab-df-container {\n",
              "      display:flex;\n",
              "      flex-wrap:wrap;\n",
              "      gap: 12px;\n",
              "    }\n",
              "\n",
              "    .colab-df-convert {\n",
              "      background-color: #E8F0FE;\n",
              "      border: none;\n",
              "      border-radius: 50%;\n",
              "      cursor: pointer;\n",
              "      display: none;\n",
              "      fill: #1967D2;\n",
              "      height: 32px;\n",
              "      padding: 0 0 0 0;\n",
              "      width: 32px;\n",
              "    }\n",
              "\n",
              "    .colab-df-convert:hover {\n",
              "      background-color: #E2EBFA;\n",
              "      box-shadow: 0px 1px 2px rgba(60, 64, 67, 0.3), 0px 1px 3px 1px rgba(60, 64, 67, 0.15);\n",
              "      fill: #174EA6;\n",
              "    }\n",
              "\n",
              "    [theme=dark] .colab-df-convert {\n",
              "      background-color: #3B4455;\n",
              "      fill: #D2E3FC;\n",
              "    }\n",
              "\n",
              "    [theme=dark] .colab-df-convert:hover {\n",
              "      background-color: #434B5C;\n",
              "      box-shadow: 0px 1px 3px 1px rgba(0, 0, 0, 0.15);\n",
              "      filter: drop-shadow(0px 1px 2px rgba(0, 0, 0, 0.3));\n",
              "      fill: #FFFFFF;\n",
              "    }\n",
              "  </style>\n",
              "\n",
              "      <script>\n",
              "        const buttonEl =\n",
              "          document.querySelector('#df-7057a8f6-196e-4675-bf23-f9c18901aef2 button.colab-df-convert');\n",
              "        buttonEl.style.display =\n",
              "          google.colab.kernel.accessAllowed ? 'block' : 'none';\n",
              "\n",
              "        async function convertToInteractive(key) {\n",
              "          const element = document.querySelector('#df-7057a8f6-196e-4675-bf23-f9c18901aef2');\n",
              "          const dataTable =\n",
              "            await google.colab.kernel.invokeFunction('convertToInteractive',\n",
              "                                                     [key], {});\n",
              "          if (!dataTable) return;\n",
              "\n",
              "          const docLinkHtml = 'Like what you see? Visit the ' +\n",
              "            '<a target=\"_blank\" href=https://colab.research.google.com/notebooks/data_table.ipynb>data table notebook</a>'\n",
              "            + ' to learn more about interactive tables.';\n",
              "          element.innerHTML = '';\n",
              "          dataTable['output_type'] = 'display_data';\n",
              "          await google.colab.output.renderOutput(dataTable, element);\n",
              "          const docLink = document.createElement('div');\n",
              "          docLink.innerHTML = docLinkHtml;\n",
              "          element.appendChild(docLink);\n",
              "        }\n",
              "      </script>\n",
              "    </div>\n",
              "  </div>\n",
              "  "
            ]
          },
          "metadata": {},
          "execution_count": 32
        }
      ]
    },
    {
      "cell_type": "markdown",
      "source": [
        "Aclaración: La elección del nombre de las columnas es el mismo usado en la parte 2."
      ],
      "metadata": {
        "id": "cyRdm80Y94i8"
      }
    },
    {
      "cell_type": "markdown",
      "source": [
        "# Entrenamiento y validación del modelo\n",
        "\n",
        "En esta sección se encuentra el entrenamiento y búsqueda de híper parámetros del modelo mediante los set de entrenamiento y validación.\n"
      ],
      "metadata": {
        "id": "-1sNwpHWGBpN"
      }
    },
    {
      "cell_type": "markdown",
      "source": [
        "Realizo un Random Forest de clasificación."
      ],
      "metadata": {
        "id": "PSQMFuaHhL-D"
      }
    },
    {
      "cell_type": "code",
      "source": [
        "rf_model = RandomForestClassifier(random_state = 16, n_estimators=12, min_samples_split=2, min_samples_leaf=2,max_features=1, max_depth=None)\n",
        "\n",
        "params = {'n_estimators': [1, 2, 3, 4,11, 12],\n",
        " 'min_samples_split': [1, 2],\n",
        " 'min_samples_leaf': [0, 2],\n",
        " 'max_depth': [1, None],\n",
        " 'max_features': [1, 2, 3]}\n",
        "\n",
        "rs = RandomizedSearchCV(rf_model, param_distributions=params, n_iter=10, random_state=13, scoring='roc_auc')"
      ],
      "metadata": {
        "id": "sow8ZmXRnGoy"
      },
      "execution_count": null,
      "outputs": []
    },
    {
      "cell_type": "code",
      "source": [
        "rs.fit(X_train, y_train)"
      ],
      "metadata": {
        "colab": {
          "base_uri": "https://localhost:8080/",
          "height": 537
        },
        "id": "pKtEKq9gnSNk",
        "outputId": "d5cb855c-38e0-4d2b-83b6-b2438b414dde"
      },
      "execution_count": null,
      "outputs": [
        {
          "output_type": "stream",
          "name": "stderr",
          "text": [
            "/usr/local/lib/python3.10/dist-packages/sklearn/model_selection/_validation.py:378: FitFailedWarning: \n",
            "20 fits failed out of a total of 50.\n",
            "The score on these train-test partitions for these parameters will be set to nan.\n",
            "If these failures are not expected, you can try to debug them by setting error_score='raise'.\n",
            "\n",
            "Below are more details about the failures:\n",
            "--------------------------------------------------------------------------------\n",
            "20 fits failed with the following error:\n",
            "Traceback (most recent call last):\n",
            "  File \"/usr/local/lib/python3.10/dist-packages/sklearn/model_selection/_validation.py\", line 686, in _fit_and_score\n",
            "    estimator.fit(X_train, y_train, **fit_params)\n",
            "  File \"/usr/local/lib/python3.10/dist-packages/sklearn/ensemble/_forest.py\", line 340, in fit\n",
            "    self._validate_params()\n",
            "  File \"/usr/local/lib/python3.10/dist-packages/sklearn/base.py\", line 600, in _validate_params\n",
            "    validate_parameter_constraints(\n",
            "  File \"/usr/local/lib/python3.10/dist-packages/sklearn/utils/_param_validation.py\", line 97, in validate_parameter_constraints\n",
            "    raise InvalidParameterError(\n",
            "sklearn.utils._param_validation.InvalidParameterError: The 'min_samples_leaf' parameter of RandomForestClassifier must be an int in the range [1, inf) or a float in the range (0.0, 1.0). Got 0 instead.\n",
            "\n",
            "  warnings.warn(some_fits_failed_message, FitFailedWarning)\n",
            "/usr/local/lib/python3.10/dist-packages/sklearn/model_selection/_search.py:952: UserWarning: One or more of the test scores are non-finite: [0.99998289 0.99999118        nan        nan 0.61077411        nan\n",
            "        nan 0.53564435 0.53541567 0.53564435]\n",
            "  warnings.warn(\n"
          ]
        },
        {
          "output_type": "execute_result",
          "data": {
            "text/plain": [
              "RandomizedSearchCV(estimator=RandomForestClassifier(max_features=1,\n",
              "                                                    min_samples_leaf=2,\n",
              "                                                    n_estimators=12,\n",
              "                                                    random_state=16),\n",
              "                   param_distributions={'max_depth': [1, None],\n",
              "                                        'max_features': [1, 2, 3],\n",
              "                                        'min_samples_leaf': [0, 2],\n",
              "                                        'min_samples_split': [1, 2],\n",
              "                                        'n_estimators': [1, 2, 3, 4, 11, 12]},\n",
              "                   random_state=13, scoring='roc_auc')"
            ],
            "text/html": [
              "<style>#sk-container-id-1 {color: black;background-color: white;}#sk-container-id-1 pre{padding: 0;}#sk-container-id-1 div.sk-toggleable {background-color: white;}#sk-container-id-1 label.sk-toggleable__label {cursor: pointer;display: block;width: 100%;margin-bottom: 0;padding: 0.3em;box-sizing: border-box;text-align: center;}#sk-container-id-1 label.sk-toggleable__label-arrow:before {content: \"▸\";float: left;margin-right: 0.25em;color: #696969;}#sk-container-id-1 label.sk-toggleable__label-arrow:hover:before {color: black;}#sk-container-id-1 div.sk-estimator:hover label.sk-toggleable__label-arrow:before {color: black;}#sk-container-id-1 div.sk-toggleable__content {max-height: 0;max-width: 0;overflow: hidden;text-align: left;background-color: #f0f8ff;}#sk-container-id-1 div.sk-toggleable__content pre {margin: 0.2em;color: black;border-radius: 0.25em;background-color: #f0f8ff;}#sk-container-id-1 input.sk-toggleable__control:checked~div.sk-toggleable__content {max-height: 200px;max-width: 100%;overflow: auto;}#sk-container-id-1 input.sk-toggleable__control:checked~label.sk-toggleable__label-arrow:before {content: \"▾\";}#sk-container-id-1 div.sk-estimator input.sk-toggleable__control:checked~label.sk-toggleable__label {background-color: #d4ebff;}#sk-container-id-1 div.sk-label input.sk-toggleable__control:checked~label.sk-toggleable__label {background-color: #d4ebff;}#sk-container-id-1 input.sk-hidden--visually {border: 0;clip: rect(1px 1px 1px 1px);clip: rect(1px, 1px, 1px, 1px);height: 1px;margin: -1px;overflow: hidden;padding: 0;position: absolute;width: 1px;}#sk-container-id-1 div.sk-estimator {font-family: monospace;background-color: #f0f8ff;border: 1px dotted black;border-radius: 0.25em;box-sizing: border-box;margin-bottom: 0.5em;}#sk-container-id-1 div.sk-estimator:hover {background-color: #d4ebff;}#sk-container-id-1 div.sk-parallel-item::after {content: \"\";width: 100%;border-bottom: 1px solid gray;flex-grow: 1;}#sk-container-id-1 div.sk-label:hover label.sk-toggleable__label {background-color: #d4ebff;}#sk-container-id-1 div.sk-serial::before {content: \"\";position: absolute;border-left: 1px solid gray;box-sizing: border-box;top: 0;bottom: 0;left: 50%;z-index: 0;}#sk-container-id-1 div.sk-serial {display: flex;flex-direction: column;align-items: center;background-color: white;padding-right: 0.2em;padding-left: 0.2em;position: relative;}#sk-container-id-1 div.sk-item {position: relative;z-index: 1;}#sk-container-id-1 div.sk-parallel {display: flex;align-items: stretch;justify-content: center;background-color: white;position: relative;}#sk-container-id-1 div.sk-item::before, #sk-container-id-1 div.sk-parallel-item::before {content: \"\";position: absolute;border-left: 1px solid gray;box-sizing: border-box;top: 0;bottom: 0;left: 50%;z-index: -1;}#sk-container-id-1 div.sk-parallel-item {display: flex;flex-direction: column;z-index: 1;position: relative;background-color: white;}#sk-container-id-1 div.sk-parallel-item:first-child::after {align-self: flex-end;width: 50%;}#sk-container-id-1 div.sk-parallel-item:last-child::after {align-self: flex-start;width: 50%;}#sk-container-id-1 div.sk-parallel-item:only-child::after {width: 0;}#sk-container-id-1 div.sk-dashed-wrapped {border: 1px dashed gray;margin: 0 0.4em 0.5em 0.4em;box-sizing: border-box;padding-bottom: 0.4em;background-color: white;}#sk-container-id-1 div.sk-label label {font-family: monospace;font-weight: bold;display: inline-block;line-height: 1.2em;}#sk-container-id-1 div.sk-label-container {text-align: center;}#sk-container-id-1 div.sk-container {/* jupyter's `normalize.less` sets `[hidden] { display: none; }` but bootstrap.min.css set `[hidden] { display: none !important; }` so we also need the `!important` here to be able to override the default hidden behavior on the sphinx rendered scikit-learn.org. See: https://github.com/scikit-learn/scikit-learn/issues/21755 */display: inline-block !important;position: relative;}#sk-container-id-1 div.sk-text-repr-fallback {display: none;}</style><div id=\"sk-container-id-1\" class=\"sk-top-container\"><div class=\"sk-text-repr-fallback\"><pre>RandomizedSearchCV(estimator=RandomForestClassifier(max_features=1,\n",
              "                                                    min_samples_leaf=2,\n",
              "                                                    n_estimators=12,\n",
              "                                                    random_state=16),\n",
              "                   param_distributions={&#x27;max_depth&#x27;: [1, None],\n",
              "                                        &#x27;max_features&#x27;: [1, 2, 3],\n",
              "                                        &#x27;min_samples_leaf&#x27;: [0, 2],\n",
              "                                        &#x27;min_samples_split&#x27;: [1, 2],\n",
              "                                        &#x27;n_estimators&#x27;: [1, 2, 3, 4, 11, 12]},\n",
              "                   random_state=13, scoring=&#x27;roc_auc&#x27;)</pre><b>In a Jupyter environment, please rerun this cell to show the HTML representation or trust the notebook. <br />On GitHub, the HTML representation is unable to render, please try loading this page with nbviewer.org.</b></div><div class=\"sk-container\" hidden><div class=\"sk-item sk-dashed-wrapped\"><div class=\"sk-label-container\"><div class=\"sk-label sk-toggleable\"><input class=\"sk-toggleable__control sk-hidden--visually\" id=\"sk-estimator-id-1\" type=\"checkbox\" ><label for=\"sk-estimator-id-1\" class=\"sk-toggleable__label sk-toggleable__label-arrow\">RandomizedSearchCV</label><div class=\"sk-toggleable__content\"><pre>RandomizedSearchCV(estimator=RandomForestClassifier(max_features=1,\n",
              "                                                    min_samples_leaf=2,\n",
              "                                                    n_estimators=12,\n",
              "                                                    random_state=16),\n",
              "                   param_distributions={&#x27;max_depth&#x27;: [1, None],\n",
              "                                        &#x27;max_features&#x27;: [1, 2, 3],\n",
              "                                        &#x27;min_samples_leaf&#x27;: [0, 2],\n",
              "                                        &#x27;min_samples_split&#x27;: [1, 2],\n",
              "                                        &#x27;n_estimators&#x27;: [1, 2, 3, 4, 11, 12]},\n",
              "                   random_state=13, scoring=&#x27;roc_auc&#x27;)</pre></div></div></div><div class=\"sk-parallel\"><div class=\"sk-parallel-item\"><div class=\"sk-item\"><div class=\"sk-label-container\"><div class=\"sk-label sk-toggleable\"><input class=\"sk-toggleable__control sk-hidden--visually\" id=\"sk-estimator-id-2\" type=\"checkbox\" ><label for=\"sk-estimator-id-2\" class=\"sk-toggleable__label sk-toggleable__label-arrow\">estimator: RandomForestClassifier</label><div class=\"sk-toggleable__content\"><pre>RandomForestClassifier(max_features=1, min_samples_leaf=2, n_estimators=12,\n",
              "                       random_state=16)</pre></div></div></div><div class=\"sk-serial\"><div class=\"sk-item\"><div class=\"sk-estimator sk-toggleable\"><input class=\"sk-toggleable__control sk-hidden--visually\" id=\"sk-estimator-id-3\" type=\"checkbox\" ><label for=\"sk-estimator-id-3\" class=\"sk-toggleable__label sk-toggleable__label-arrow\">RandomForestClassifier</label><div class=\"sk-toggleable__content\"><pre>RandomForestClassifier(max_features=1, min_samples_leaf=2, n_estimators=12,\n",
              "                       random_state=16)</pre></div></div></div></div></div></div></div></div></div></div>"
            ]
          },
          "metadata": {},
          "execution_count": 35
        }
      ]
    },
    {
      "cell_type": "code",
      "source": [
        "rs.best_params_"
      ],
      "metadata": {
        "colab": {
          "base_uri": "https://localhost:8080/"
        },
        "id": "AxtUvmrInWbk",
        "outputId": "a3cf3f8b-04ed-4a8a-ece5-44255224c2e2"
      },
      "execution_count": null,
      "outputs": [
        {
          "output_type": "execute_result",
          "data": {
            "text/plain": [
              "{'n_estimators': 12,\n",
              " 'min_samples_split': 2,\n",
              " 'min_samples_leaf': 2,\n",
              " 'max_features': 1,\n",
              " 'max_depth': None}"
            ]
          },
          "metadata": {},
          "execution_count": 36
        }
      ]
    },
    {
      "cell_type": "code",
      "source": [
        "model = rs.best_estimator_"
      ],
      "metadata": {
        "id": "LBJqUGQEnc7s"
      },
      "execution_count": null,
      "outputs": []
    },
    {
      "cell_type": "markdown",
      "source": [
        "Entreno el Random Forest con los mejores híper parámetros."
      ],
      "metadata": {
        "id": "xyxOkD8M-fq0"
      }
    },
    {
      "cell_type": "code",
      "source": [
        "model.fit(X_train, y_train)"
      ],
      "metadata": {
        "colab": {
          "base_uri": "https://localhost:8080/",
          "height": 92
        },
        "id": "aZSrvUKHnif9",
        "outputId": "87ede009-4a07-482c-c7b9-dbb9ab51d13f"
      },
      "execution_count": null,
      "outputs": [
        {
          "output_type": "execute_result",
          "data": {
            "text/plain": [
              "RandomForestClassifier(max_features=1, min_samples_leaf=2, n_estimators=12,\n",
              "                       random_state=16)"
            ],
            "text/html": [
              "<style>#sk-container-id-2 {color: black;background-color: white;}#sk-container-id-2 pre{padding: 0;}#sk-container-id-2 div.sk-toggleable {background-color: white;}#sk-container-id-2 label.sk-toggleable__label {cursor: pointer;display: block;width: 100%;margin-bottom: 0;padding: 0.3em;box-sizing: border-box;text-align: center;}#sk-container-id-2 label.sk-toggleable__label-arrow:before {content: \"▸\";float: left;margin-right: 0.25em;color: #696969;}#sk-container-id-2 label.sk-toggleable__label-arrow:hover:before {color: black;}#sk-container-id-2 div.sk-estimator:hover label.sk-toggleable__label-arrow:before {color: black;}#sk-container-id-2 div.sk-toggleable__content {max-height: 0;max-width: 0;overflow: hidden;text-align: left;background-color: #f0f8ff;}#sk-container-id-2 div.sk-toggleable__content pre {margin: 0.2em;color: black;border-radius: 0.25em;background-color: #f0f8ff;}#sk-container-id-2 input.sk-toggleable__control:checked~div.sk-toggleable__content {max-height: 200px;max-width: 100%;overflow: auto;}#sk-container-id-2 input.sk-toggleable__control:checked~label.sk-toggleable__label-arrow:before {content: \"▾\";}#sk-container-id-2 div.sk-estimator input.sk-toggleable__control:checked~label.sk-toggleable__label {background-color: #d4ebff;}#sk-container-id-2 div.sk-label input.sk-toggleable__control:checked~label.sk-toggleable__label {background-color: #d4ebff;}#sk-container-id-2 input.sk-hidden--visually {border: 0;clip: rect(1px 1px 1px 1px);clip: rect(1px, 1px, 1px, 1px);height: 1px;margin: -1px;overflow: hidden;padding: 0;position: absolute;width: 1px;}#sk-container-id-2 div.sk-estimator {font-family: monospace;background-color: #f0f8ff;border: 1px dotted black;border-radius: 0.25em;box-sizing: border-box;margin-bottom: 0.5em;}#sk-container-id-2 div.sk-estimator:hover {background-color: #d4ebff;}#sk-container-id-2 div.sk-parallel-item::after {content: \"\";width: 100%;border-bottom: 1px solid gray;flex-grow: 1;}#sk-container-id-2 div.sk-label:hover label.sk-toggleable__label {background-color: #d4ebff;}#sk-container-id-2 div.sk-serial::before {content: \"\";position: absolute;border-left: 1px solid gray;box-sizing: border-box;top: 0;bottom: 0;left: 50%;z-index: 0;}#sk-container-id-2 div.sk-serial {display: flex;flex-direction: column;align-items: center;background-color: white;padding-right: 0.2em;padding-left: 0.2em;position: relative;}#sk-container-id-2 div.sk-item {position: relative;z-index: 1;}#sk-container-id-2 div.sk-parallel {display: flex;align-items: stretch;justify-content: center;background-color: white;position: relative;}#sk-container-id-2 div.sk-item::before, #sk-container-id-2 div.sk-parallel-item::before {content: \"\";position: absolute;border-left: 1px solid gray;box-sizing: border-box;top: 0;bottom: 0;left: 50%;z-index: -1;}#sk-container-id-2 div.sk-parallel-item {display: flex;flex-direction: column;z-index: 1;position: relative;background-color: white;}#sk-container-id-2 div.sk-parallel-item:first-child::after {align-self: flex-end;width: 50%;}#sk-container-id-2 div.sk-parallel-item:last-child::after {align-self: flex-start;width: 50%;}#sk-container-id-2 div.sk-parallel-item:only-child::after {width: 0;}#sk-container-id-2 div.sk-dashed-wrapped {border: 1px dashed gray;margin: 0 0.4em 0.5em 0.4em;box-sizing: border-box;padding-bottom: 0.4em;background-color: white;}#sk-container-id-2 div.sk-label label {font-family: monospace;font-weight: bold;display: inline-block;line-height: 1.2em;}#sk-container-id-2 div.sk-label-container {text-align: center;}#sk-container-id-2 div.sk-container {/* jupyter's `normalize.less` sets `[hidden] { display: none; }` but bootstrap.min.css set `[hidden] { display: none !important; }` so we also need the `!important` here to be able to override the default hidden behavior on the sphinx rendered scikit-learn.org. See: https://github.com/scikit-learn/scikit-learn/issues/21755 */display: inline-block !important;position: relative;}#sk-container-id-2 div.sk-text-repr-fallback {display: none;}</style><div id=\"sk-container-id-2\" class=\"sk-top-container\"><div class=\"sk-text-repr-fallback\"><pre>RandomForestClassifier(max_features=1, min_samples_leaf=2, n_estimators=12,\n",
              "                       random_state=16)</pre><b>In a Jupyter environment, please rerun this cell to show the HTML representation or trust the notebook. <br />On GitHub, the HTML representation is unable to render, please try loading this page with nbviewer.org.</b></div><div class=\"sk-container\" hidden><div class=\"sk-item\"><div class=\"sk-estimator sk-toggleable\"><input class=\"sk-toggleable__control sk-hidden--visually\" id=\"sk-estimator-id-4\" type=\"checkbox\" checked><label for=\"sk-estimator-id-4\" class=\"sk-toggleable__label sk-toggleable__label-arrow\">RandomForestClassifier</label><div class=\"sk-toggleable__content\"><pre>RandomForestClassifier(max_features=1, min_samples_leaf=2, n_estimators=12,\n",
              "                       random_state=16)</pre></div></div></div></div></div>"
            ]
          },
          "metadata": {},
          "execution_count": 38
        }
      ]
    },
    {
      "cell_type": "code",
      "source": [
        "y_pred_validation = model.predict(X_validation)"
      ],
      "metadata": {
        "id": "r6ey51Gknl2S"
      },
      "execution_count": null,
      "outputs": []
    },
    {
      "cell_type": "code",
      "source": [
        "y_pred_validation"
      ],
      "metadata": {
        "colab": {
          "base_uri": "https://localhost:8080/"
        },
        "id": "hTsCGLpKnuI2",
        "outputId": "c03f1b52-469a-4b54-f381-9489a14e677b"
      },
      "execution_count": null,
      "outputs": [
        {
          "output_type": "execute_result",
          "data": {
            "text/plain": [
              "array([1, 1, 1, ..., 0, 1, 0])"
            ]
          },
          "metadata": {},
          "execution_count": 40
        }
      ]
    },
    {
      "cell_type": "markdown",
      "source": [
        "Realizo una matriz de confusión con el set de validación."
      ],
      "metadata": {
        "id": "04bTU5s5hfgt"
      }
    },
    {
      "cell_type": "code",
      "source": [
        "matriz_confusion_validation = confusion_matrix(y_validation, y_pred_validation)"
      ],
      "metadata": {
        "id": "83-ELWbOoDX8"
      },
      "execution_count": null,
      "outputs": []
    },
    {
      "cell_type": "code",
      "source": [
        "sns.heatmap(matriz_confusion_validation, annot=True, cmap='Reds', fmt='g')\n",
        "plt.title('Matriz de Confusión')\n",
        "plt.xlabel('Prediccin')\n",
        "plt.ylabel('Actual')\n",
        "plt.show()"
      ],
      "metadata": {
        "colab": {
          "base_uri": "https://localhost:8080/",
          "height": 472
        },
        "id": "RasaIhT7-5su",
        "outputId": "592bcf37-2598-4e71-807f-534383690fa3"
      },
      "execution_count": null,
      "outputs": [
        {
          "output_type": "display_data",
          "data": {
            "text/plain": [
              "<Figure size 640x480 with 2 Axes>"
            ],
            "image/png": "[encoded data removed]"
          },
          "metadata": {}
        }
      ]
    },
    {
      "cell_type": "markdown",
      "source": [
        "Métricas del set de validación."
      ],
      "metadata": {
        "id": "zAiR6QdGXpx7"
      }
    },
    {
      "cell_type": "code",
      "source": [
        "rmse = np.sqrt(mean_squared_error(y_validation, y_pred_validation))\n",
        "print(\"RMSE: %f\" % (rmse))"
      ],
      "metadata": {
        "colab": {
          "base_uri": "https://localhost:8080/"
        },
        "id": "Q47Z160Dnvmt",
        "outputId": "cbf0ab7f-acfb-4be9-86d9-bc3c37d4ff9c"
      },
      "execution_count": null,
      "outputs": [
        {
          "output_type": "stream",
          "name": "stdout",
          "text": [
            "RMSE: 0.000000\n"
          ]
        }
      ]
    },
    {
      "cell_type": "code",
      "source": [
        "roc_auc = roc_auc_score(y_validation, model.predict_proba(X_validation)[:, 1])\n",
        "print(\"ROC AUC SCORE:\", roc_auc)"
      ],
      "metadata": {
        "colab": {
          "base_uri": "https://localhost:8080/"
        },
        "id": "pUjrFK4Fn0Pq",
        "outputId": "6e6e70b5-715a-4fa3-95a7-1754b28fbfc6"
      },
      "execution_count": null,
      "outputs": [
        {
          "output_type": "stream",
          "name": "stdout",
          "text": [
            "ROC AUC SCORE: 1.0\n"
          ]
        }
      ]
    },
    {
      "cell_type": "markdown",
      "source": [
        "# Pruebas realizadas\n",
        "\n",
        "En esta sección están las pruebas realizados en el set de validación en busca de los híper parámetros.\n",
        "\n"
      ],
      "metadata": {
        "id": "Q_sNE_eOHz7d"
      }
    },
    {
      "cell_type": "markdown",
      "source": [
        "Pruebas:\n",
        "* Prueba 1: Con \"n_estimators\" = 10, \"min_samples_split\" = 2, \"min_samples_leaf\" = 2,\"max_features\" = 1, \"max_depth\" = \"None\", con solamente features numéricas:\n",
        "RMSE: 0.461201, ROC AUC SCORE: 0.87774856337182, Matriz de confusión: ([[2093,630],[669,2715]]).\n",
        "\n",
        "* Prueba 2: Con \"n_estimators\" = 10, \"min_samples_split\" = 2, \"min_samples_leaf\" = 2,\"max_features\" = 1, \"max_depth\" = \"None\",con features numéricas, \"habitat\" y \"season\":\n",
        "RMSE: 0.374170, ROC AUC SCORE: 0.9368132118569683, Matriz de confusión: ([[2287,436],[419,2965]]).\n",
        "\n",
        "* Prueba 3: Con \"n_estimators\" = 10, \"min_samples_split\" = 2, \"min_samples_leaf\" = 2,\"max_features\" = 1, \"max_depth\" = \"None\", con features numéricas, \"does-bruise-or-bleed\", \"habitat\" y \"season\":\n",
        "RMSE: 0.337348, ROC AUC SCORE: 0.956939354713243,Matriz de confusión: ([[2369,354],[341,3043]]).\n",
        "\n",
        "* Prueba 4: Con \"n_estimators\" = 10, \"min_samples_split\" = 2, \"min_samples_leaf\" = 2,\"max_features\" = 1, \"max_depth\" = \"None\", con features numéricas, \"does-bruise-or-bleed\", \"has-ring\", \"habitat\" y \"season\":\n",
        "RMSE: 0.307112, ROC AUC SCORE: 0.9668071931684304,Matriz de confusion: ([[2405,318],[258,3126]]).\n",
        "\n",
        "* Prueba 5: Con \"n_estimators\" = 10, \"min_samples_split\" = 2, \"min_samples_leaf\" = 2,\"max_features\" = 1, \"max_depth\" = \"None\", con features numéricas, \"cap-color\", \"gill-color\", \"stem-color\":\n",
        "RMSE: 0.172632, ROC AUC SCORE: 0.9942523477877359,Matriz de confusión: ([[2639,84],[98,3286]]).\n",
        "\n",
        "* Prueba 6: Con \"n_estimators\" = 10, \"min_samples_split\" = 2, \"min_samples_leaf\" = 2,\"max_features\" = 1, \"max_depth\" = \"None\", con todas las\n",
        "features sin Nans imputados:\n",
        "RMSE: 0.073509, ROC AUC SCORE: 0.9989480317824955,Matriz de confusión: ([[2701,22],[11,3373]]).\n",
        "\n",
        "* Prueba 7: Con \"n_estimators\" = 10, \"min_samples_split\" = 2, \"min_samples_leaf\" = 2,\"max_features\" = 1, \"max_depth\" = \"None\", con todas las features sin Nans imputados, \"gill-attachment\" y \"gill-spacing\":\n",
        "RMSE: 0.012796, ROC AUC SCORE: 0.9999998914769466,Matriz de confusión: ([[2722,1],[0,3384]]).\n",
        "\n",
        "* Prueba 8: Con \"n_estimators\" = 11, \"min_samples_split\" = 3, \"min_samples_leaf\" = 1,\"max_features\" = 3, \"max_depth\" = \"None\", con todas las features sin Nans imputados , \"gill-attachment\" y \"gill-spacing\":\n",
        "RMSE: 0.018097, ROC AUC SCORE: 0.99999983721542,Matriz de confusión: ([[2722,1],[1,3383]]).\n",
        "\n",
        "* Prueba 9: Con \"n_estimators\" = 12, \"min_samples_split\" = 2, \"min_samples_leaf\" = 1,\"max_features\" = 1, \"max_depth\" = \"None\", con todas las features sin Nans imputados, \"gill-attachment\" y \"gill-spacing\":\n",
        "RMSE: 0.018097, ROC AUC SCORE: 0.9999991860771,Matriz de confusión: ([[2722,1],[1,3383]]).\n",
        "\n",
        "* Prueba 10: Con \"n_estimators\" = 12, \"min_samples_split\" = 2, \"min_samples_leaf\" = 2,\"max_features\" = 1, \"max_depth\" = \"None\", con todas las features sin Nans imputados, \"gill-attachment\", \"ring-type\" y \"gill-spacing\":\n",
        "RMSE: 0.000000, ROC AUC SCORE: 1.0, Matriz de confusión([[2723, 0],[0,3384]]).\n",
        "\n",
        "Para este ejercicio, decidí ir agregando columnas de poco y ver las métricas e importancias de las features por cada prueba. Una vez que obtuve buenos resultados, para conseguir un Roc Auc Score de 1, empecé a probar distintos valores de híper parámetros modificando el diccionario de \"params\" hasta conseguir el resultado buscado.\n",
        "\n",
        "\n"
      ],
      "metadata": {
        "id": "-ztSuHGaoU6l"
      }
    },
    {
      "cell_type": "markdown",
      "source": [
        "# Importancias de las Features por prueba\n",
        "\n",
        "En esta sección se encuentra la evolución de la importancia de las features dependiendo de la prueba.\n",
        "Si bien esto no está pedido en el enunciado, decidí incluirlo para ver cómo van evolucionando las features a medida que busco los híper parámetros y en especial, al agregar o eliminar columnas.\n"
      ],
      "metadata": {
        "id": "UTkgEP-hIYY1"
      }
    },
    {
      "cell_type": "code",
      "source": [
        "def sumar_importancias(df_importancias, df_importancias_sumadas, features_individuales, feature):\n",
        "\n",
        "  suma_importancias = 0\n",
        "\n",
        "  for i in features_individuales:\n",
        "    suma_importancias += df_importancias[i].sum()\n",
        "  df_importancias_sumadas[feature] = suma_importancias"
      ],
      "metadata": {
        "id": "O4y_1XDWoG1N"
      },
      "execution_count": null,
      "outputs": []
    },
    {
      "cell_type": "code",
      "source": [
        "importancias_individuales = pd.DataFrame(model.feature_importances_).T\n",
        "importancias_individuales.columns = X_train.columns\n",
        "importancias_sumadas = pd.DataFrame()\n",
        "importancias_sumadas['cap-diameter'] = importancias_individuales['cap-diameter']\n",
        "importancias_sumadas['stem-height'] = importancias_individuales['stem-height']\n",
        "importancias_sumadas['stem-width'] = importancias_individuales['stem-width']\n",
        "sumar_importancias(importancias_individuales, importancias_sumadas, ['b0','c0','f0','o0','p0','s0','x0'], 'cap-shape')\n",
        "sumar_importancias(importancias_individuales, importancias_sumadas, ['b2','e2','g2','k2','l2','n2','o2','p2','r2','u2','w2','y2'], 'cap-color')\n",
        "sumar_importancias(importancias_individuales, importancias_sumadas, ['f3', 't3'], 'does-bruise-or-bleed')\n",
        "sumar_importancias(importancias_individuales, importancias_sumadas, ['a4','d4','e4','f4','o4','p4','s4','x4'], 'gill-attachment')\n",
        "sumar_importancias(importancias_individuales, importancias_sumadas, ['c5','d5','f5','o5'], 'gill-spacing')\n",
        "sumar_importancias(importancias_individuales, importancias_sumadas, ['b6','e6','f6','g6','k6','n6','o6', 'p6','r6','u6','w6','y6'], 'gill-color')\n",
        "sumar_importancias(importancias_individuales, importancias_sumadas, ['b9','e9','f9','g9','k9','l9','n9','o9','p9','r9','u9','w9','y9'], 'stem-color')\n",
        "sumar_importancias(importancias_individuales, importancias_sumadas, ['f12','t12'], 'has-ring')\n",
        "sumar_importancias(importancias_individuales, importancias_sumadas, ['e13','f13','g13','l13','m13','o13','p13','r13','z13'], 'ring-type')\n",
        "sumar_importancias(importancias_individuales, importancias_sumadas, ['d15','g15','h15','l15','m15','p15','u15','w15'], 'habitat')\n",
        "sumar_importancias(importancias_individuales, importancias_sumadas, ['a16','s16','u16','w16'], 'season')\n",
        "importancias_sumadas = importancias_sumadas.T.rename(columns={0:\"Importancia\"})"
      ],
      "metadata": {
        "id": "6bkIfMjzvE1Q"
      },
      "execution_count": null,
      "outputs": []
    },
    {
      "cell_type": "markdown",
      "source": [
        "Prueba 1"
      ],
      "metadata": {
        "id": "EnqDbyO4vahm"
      }
    },
    {
      "cell_type": "code",
      "source": [
        "plt.barh(importancias_sumadas.index, importancias_sumadas[\"Importancia\"],align='center')\n",
        "plt.title(\"Importancia de las Features con Random Forest\")\n",
        "plt.xlabel(\"Importancia\")\n",
        "plt.ylabel(\"Feature\")"
      ],
      "metadata": {
        "colab": {
          "base_uri": "https://localhost:8080/",
          "height": 489
        },
        "id": "ntKVPNI5TZyP",
        "outputId": "6272b7b1-c53b-4e36-ad4f-22f0ff2326b6"
      },
      "execution_count": null,
      "outputs": [
        {
          "output_type": "execute_result",
          "data": {
            "text/plain": [
              "Text(0, 0.5, 'Feature')"
            ]
          },
          "metadata": {},
          "execution_count": 116
        },
        {
          "output_type": "display_data",
          "data": {
            "text/plain": [
              "<Figure size 640x480 with 1 Axes>"
            ],
            "image/png": "[encoded data removed]"
          },
          "metadata": {}
        }
      ]
    },
    {
      "cell_type": "markdown",
      "source": [
        "Prueba 2"
      ],
      "metadata": {
        "id": "Jbz2Dc7Xw3mM"
      }
    },
    {
      "cell_type": "code",
      "source": [
        "plt.barh(importancias_sumadas.index, importancias_sumadas[\"Importancia\"],align='center')\n",
        "plt.title(\"Importancia de las Features con Random Forest\")\n",
        "plt.xlabel(\"Importancia\")\n",
        "plt.ylabel(\"Feature\")"
      ],
      "metadata": {
        "colab": {
          "base_uri": "https://localhost:8080/",
          "height": 489
        },
        "id": "G2r8hdeFvW-g",
        "outputId": "c3bfa2a5-41f6-4722-8a96-05388946002e"
      },
      "execution_count": null,
      "outputs": [
        {
          "output_type": "execute_result",
          "data": {
            "text/plain": [
              "Text(0, 0.5, 'Feature')"
            ]
          },
          "metadata": {},
          "execution_count": 56
        },
        {
          "output_type": "display_data",
          "data": {
            "text/plain": [
              "<Figure size 640x480 with 1 Axes>"
            ],
            "image/png": "[encoded data removed]"
          },
          "metadata": {}
        }
      ]
    },
    {
      "cell_type": "markdown",
      "source": [
        "Prueba 3"
      ],
      "metadata": {
        "id": "SK3CSp0-yPR2"
      }
    },
    {
      "cell_type": "code",
      "source": [
        "plt.barh(importancias_sumadas.index, importancias_sumadas[\"Importancia\"],align='center')\n",
        "plt.title(\"Importancia de las Features con Random Forest\")\n",
        "plt.xlabel(\"Importancia\")\n",
        "plt.ylabel(\"Feature\")"
      ],
      "metadata": {
        "colab": {
          "base_uri": "https://localhost:8080/",
          "height": 489
        },
        "id": "84xFLfzkw64n",
        "outputId": "df52c586-a3e7-4116-8699-818a380dd073"
      },
      "execution_count": null,
      "outputs": [
        {
          "output_type": "execute_result",
          "data": {
            "text/plain": [
              "Text(0, 0.5, 'Feature')"
            ]
          },
          "metadata": {},
          "execution_count": 90
        },
        {
          "output_type": "display_data",
          "data": {
            "text/plain": [
              "<Figure size 640x480 with 1 Axes>"
            ],
            "image/png": "[encoded data removed]"
          },
          "metadata": {}
        }
      ]
    },
    {
      "cell_type": "markdown",
      "source": [
        "Prueba 4"
      ],
      "metadata": {
        "id": "uAnChCRG0Hif"
      }
    },
    {
      "cell_type": "code",
      "source": [
        "plt.barh(importancias_sumadas.index, importancias_sumadas[\"Importancia\"],align='center')\n",
        "plt.title(\"Importancia de las Features con Random Forest\")\n",
        "plt.xlabel(\"Importancia\")\n",
        "plt.ylabel(\"Feature\")"
      ],
      "metadata": {
        "colab": {
          "base_uri": "https://localhost:8080/",
          "height": 489
        },
        "id": "a6MwvluQySV-",
        "outputId": "55715685-99a9-42a2-b5dd-0d9876f70649"
      },
      "execution_count": null,
      "outputs": [
        {
          "output_type": "execute_result",
          "data": {
            "text/plain": [
              "Text(0, 0.5, 'Feature')"
            ]
          },
          "metadata": {},
          "execution_count": 123
        },
        {
          "output_type": "display_data",
          "data": {
            "text/plain": [
              "<Figure size 640x480 with 1 Axes>"
            ],
            "image/png": "[encoded data removed]"
          },
          "metadata": {}
        }
      ]
    },
    {
      "cell_type": "markdown",
      "source": [
        "Prueba 5"
      ],
      "metadata": {
        "id": "x-YdhWDj1iWO"
      }
    },
    {
      "cell_type": "code",
      "source": [
        "plt.barh(importancias_sumadas.index, importancias_sumadas[\"Importancia\"],align='center')\n",
        "plt.title(\"Importancia de las Features con Random Forest\")\n",
        "plt.xlabel(\"Importancia\")\n",
        "plt.ylabel(\"Feature\")"
      ],
      "metadata": {
        "colab": {
          "base_uri": "https://localhost:8080/",
          "height": 489
        },
        "id": "sl3WCf_a0KBu",
        "outputId": "97e6c74f-b702-4bb2-c896-52459b952447"
      },
      "execution_count": null,
      "outputs": [
        {
          "output_type": "execute_result",
          "data": {
            "text/plain": [
              "Text(0, 0.5, 'Feature')"
            ]
          },
          "metadata": {},
          "execution_count": 156
        },
        {
          "output_type": "display_data",
          "data": {
            "text/plain": [
              "<Figure size 640x480 with 1 Axes>"
            ],
            "image/png": "[encoded data removed]"
          },
          "metadata": {}
        }
      ]
    },
    {
      "cell_type": "markdown",
      "source": [
        "Prueba 6"
      ],
      "metadata": {
        "id": "JOZTSpyY2gfe"
      }
    },
    {
      "cell_type": "code",
      "source": [
        "plt.barh(importancias_sumadas.index, importancias_sumadas[\"Importancia\"],align='center')\n",
        "plt.title(\"Importancia de las Features con Random Forest\")\n",
        "plt.xlabel(\"Importancia\")\n",
        "plt.ylabel(\"Feature\")"
      ],
      "metadata": {
        "colab": {
          "base_uri": "https://localhost:8080/",
          "height": 489
        },
        "id": "5RPb21ih1kJX",
        "outputId": "3c2ec181-d05e-4a7a-ca2b-4224343cb0cc"
      },
      "execution_count": null,
      "outputs": [
        {
          "output_type": "execute_result",
          "data": {
            "text/plain": [
              "Text(0, 0.5, 'Feature')"
            ]
          },
          "metadata": {},
          "execution_count": 192
        },
        {
          "output_type": "display_data",
          "data": {
            "text/plain": [
              "<Figure size 640x480 with 1 Axes>"
            ],
            "image/png": "[encoded data removed]"
          },
          "metadata": {}
        }
      ]
    },
    {
      "cell_type": "markdown",
      "source": [
        "Prueba 7"
      ],
      "metadata": {
        "id": "KKwRx0r32trG"
      }
    },
    {
      "cell_type": "code",
      "source": [
        "plt.barh(importancias_sumadas.index, importancias_sumadas[\"Importancia\"],align='center')\n",
        "plt.title(\"Importancia de las Features con Random Forest\")\n",
        "plt.xlabel(\"Importancia\")\n",
        "plt.ylabel(\"Feature\")"
      ],
      "metadata": {
        "colab": {
          "base_uri": "https://localhost:8080/",
          "height": 489
        },
        "id": "49zhFNa22iKN",
        "outputId": "0a1d931e-a77c-41ab-ea39-1cff3e60704e"
      },
      "execution_count": null,
      "outputs": [
        {
          "output_type": "execute_result",
          "data": {
            "text/plain": [
              "Text(0, 0.5, 'Feature')"
            ]
          },
          "metadata": {},
          "execution_count": 262
        },
        {
          "output_type": "display_data",
          "data": {
            "text/plain": [
              "<Figure size 640x480 with 1 Axes>"
            ],
            "image/png": "[encoded data removed]"
          },
          "metadata": {}
        }
      ]
    },
    {
      "cell_type": "markdown",
      "source": [
        "Pruebo 8"
      ],
      "metadata": {
        "id": "s8V5Ewg76Q0m"
      }
    },
    {
      "cell_type": "code",
      "source": [
        "plt.barh(importancias_sumadas.index, importancias_sumadas[\"Importancia\"],align='center')\n",
        "plt.title(\"Importancia de las Features con Random Forest\")\n",
        "plt.xlabel(\"Importancia\")\n",
        "plt.ylabel(\"Feature\")"
      ],
      "metadata": {
        "colab": {
          "base_uri": "https://localhost:8080/",
          "height": 489
        },
        "id": "67xj0QVj5C5S",
        "outputId": "a7c366bf-c3d2-4c84-a7f5-5e7cc3fd6a28"
      },
      "execution_count": null,
      "outputs": [
        {
          "output_type": "execute_result",
          "data": {
            "text/plain": [
              "Text(0, 0.5, 'Feature')"
            ]
          },
          "metadata": {},
          "execution_count": 304
        },
        {
          "output_type": "display_data",
          "data": {
            "text/plain": [
              "<Figure size 640x480 with 1 Axes>"
            ],
            "image/png": "[encoded data removed]"
          },
          "metadata": {}
        }
      ]
    },
    {
      "cell_type": "markdown",
      "source": [
        "Prueba 9"
      ],
      "metadata": {
        "id": "wCPMa6dy60Rw"
      }
    },
    {
      "cell_type": "code",
      "source": [
        "plt.barh(importancias_sumadas.index, importancias_sumadas[\"Importancia\"],align='center')\n",
        "plt.title(\"Importancia de las Features con Random Forest\")\n",
        "plt.xlabel(\"Importancia\")\n",
        "plt.ylabel(\"Feature\")"
      ],
      "metadata": {
        "colab": {
          "base_uri": "https://localhost:8080/",
          "height": 489
        },
        "id": "gmsocsyL6SfE",
        "outputId": "089aab02-96e9-41ad-c8b1-b22743590ed6"
      },
      "execution_count": null,
      "outputs": [
        {
          "output_type": "execute_result",
          "data": {
            "text/plain": [
              "Text(0, 0.5, 'Feature')"
            ]
          },
          "metadata": {},
          "execution_count": 315
        },
        {
          "output_type": "display_data",
          "data": {
            "text/plain": [
              "<Figure size 640x480 with 1 Axes>"
            ],
            "image/png": "[encoded data removed]"
          },
          "metadata": {}
        }
      ]
    },
    {
      "cell_type": "markdown",
      "source": [
        "# Importancia de las Features para la última prueba (Ejercicio extra)\n",
        "\n",
        "En esta sección esta la importancia final al obtener un Auc Roc Score de 1 para la última prueba realizada, obtenida al finalizar la etapa de entrenamiento.\n"
      ],
      "metadata": {
        "id": "p_h3ETomBkXp"
      }
    },
    {
      "cell_type": "markdown",
      "source": [
        "Prueba 10"
      ],
      "metadata": {
        "id": "Ix_lgqdM9D7b"
      }
    },
    {
      "cell_type": "code",
      "source": [
        "plt.barh(importancias_sumadas.index, importancias_sumadas[\"Importancia\"],align='center')\n",
        "plt.title(\"Importancia de las Features con Random Forest\")\n",
        "plt.xlabel(\"Importancia\")\n",
        "plt.ylabel(\"Feature\")"
      ],
      "metadata": {
        "colab": {
          "base_uri": "https://localhost:8080/",
          "height": 489
        },
        "id": "ML1pfJ2QvZPX",
        "outputId": "d0b57168-3c16-4516-99fc-ecbf5ee97b74"
      },
      "execution_count": null,
      "outputs": [
        {
          "output_type": "execute_result",
          "data": {
            "text/plain": [
              "Text(0, 0.5, 'Feature')"
            ]
          },
          "metadata": {},
          "execution_count": 378
        },
        {
          "output_type": "display_data",
          "data": {
            "text/plain": [
              "<Figure size 640x480 with 1 Axes>"
            ],
            "image/png": "[encoded data removed]"
          },
          "metadata": {}
        }
      ]
    },
    {
      "cell_type": "markdown",
      "source": [
        "En este caso y en relación a las importancias de las features de la parte 2, podemos ver a simple vista que al no utilizar todas las columnas, es muy probable que las importancias sean bastante distintas, no obstante puedo realizar las comparaciones.\n",
        "Al igual que en la Regresión Logística, las feautres de \"sason\", \"does-bruise-or-bleed\" y \"has-ring\" mantienen un rango de importancia menor y similar. Las features numéricas; \"stem-height\", \"cap-diameter\" y en especial \"stem-widht\" son mucho mas importantes para el Random Forest en comparación a la parte 2, que prácticamente poseen importancia nula. A su vez, las features mas importantes para ambos modelos no coinciden en nada, en donde \"gill-attachment\", \"gill-color\", \"stem-color\" y \"cap-color\" y \"stem-width\" son de gran valor para este modelo, pero aportan muy poco para la Regresión Logística, en donde tal como se dijo en la parte 2, las más features mas significativas para este segundo modelo son \"veil-color\", \"habitat\", \"spore-print-color\", \"stem-root\" y \"stem-surface\".\n"
      ],
      "metadata": {
        "id": "isSZBy32CKAg"
      }
    },
    {
      "cell_type": "markdown",
      "source": [
        "Aclaracion: Para esta parte no se realizo el testo en test ya que no se pide en el enunciado."
      ],
      "metadata": {
        "id": "31jLA_CEOh6u"
      }
    },
    {
      "cell_type": "code",
      "source": [],
      "metadata": {
        "id": "X4ixETRYlswT"
      },
      "execution_count": null,
      "outputs": []
    }
  ]
}