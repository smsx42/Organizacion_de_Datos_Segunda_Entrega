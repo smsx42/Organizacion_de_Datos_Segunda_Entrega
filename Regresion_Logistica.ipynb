{
  "nbformat": 4,
  "nbformat_minor": 0,
  "metadata": {
    "colab": {
      "provenance": []
    },
    "kernelspec": {
      "name": "python3",
      "display_name": "Python 3"
    },
    "language_info": {
      "name": "python"
    }
  },
  "cells": [
    {
      "cell_type": "markdown",
      "source": [
        "# Importación de librerías y lectura del data frame"
      ],
      "metadata": {
        "id": "2IKijoxVmtHq"
      }
    },
    {
      "cell_type": "code",
      "execution_count": null,
      "metadata": {
        "id": "IMFxSZJxMmK1"
      },
      "outputs": [],
      "source": [
        "import pandas as pd\n",
        "from sklearn.model_selection import train_test_split, RandomizedSearchCV\n",
        "import seaborn as sns\n",
        "import matplotlib.pyplot as plt\n",
        "import numpy as np\n",
        "from sklearn.preprocessing import OneHotEncoder\n",
        "from sklearn.linear_model import LogisticRegression\n",
        "from sklearn.metrics import confusion_matrix, accuracy_score, roc_auc_score, roc_curve"
      ]
    },
    {
      "cell_type": "code",
      "source": [
        "df_secundario = pd.read_csv(\"/content/drive/MyDrive/secondary_data.csv\", delimiter=';')"
      ],
      "metadata": {
        "id": "XDjqlENNMo7z"
      },
      "execution_count": null,
      "outputs": []
    },
    {
      "cell_type": "code",
      "source": [
        "df_secundario.info()"
      ],
      "metadata": {
        "colab": {
          "base_uri": "https://localhost:8080/"
        },
        "id": "ihxyfSHDD4rE",
        "outputId": "c0b36ab3-3bae-4dc8-e267-055e9d73bfb3"
      },
      "execution_count": null,
      "outputs": [
        {
          "output_type": "stream",
          "name": "stdout",
          "text": [
            "<class 'pandas.core.frame.DataFrame'>\n",
            "RangeIndex: 61069 entries, 0 to 61068\n",
            "Data columns (total 21 columns):\n",
            " #   Column                Non-Null Count  Dtype  \n",
            "---  ------                --------------  -----  \n",
            " 0   class                 61069 non-null  object \n",
            " 1   cap-diameter          61069 non-null  float64\n",
            " 2   cap-shape             61069 non-null  object \n",
            " 3   cap-surface           46949 non-null  object \n",
            " 4   cap-color             61069 non-null  object \n",
            " 5   does-bruise-or-bleed  61069 non-null  object \n",
            " 6   gill-attachment       51185 non-null  object \n",
            " 7   gill-spacing          36006 non-null  object \n",
            " 8   gill-color            61069 non-null  object \n",
            " 9   stem-height           61069 non-null  float64\n",
            " 10  stem-width            61069 non-null  float64\n",
            " 11  stem-root             9531 non-null   object \n",
            " 12  stem-surface          22945 non-null  object \n",
            " 13  stem-color            61069 non-null  object \n",
            " 14  veil-type             3177 non-null   object \n",
            " 15  veil-color            7413 non-null   object \n",
            " 16  has-ring              61069 non-null  object \n",
            " 17  ring-type             58598 non-null  object \n",
            " 18  spore-print-color     6354 non-null   object \n",
            " 19  habitat               61069 non-null  object \n",
            " 20  season                61069 non-null  object \n",
            "dtypes: float64(3), object(18)\n",
            "memory usage: 9.8+ MB\n"
          ]
        }
      ]
    },
    {
      "cell_type": "code",
      "source": [
        "df_2[\"class\"].loc[1] = \"e\""
      ],
      "metadata": {
        "colab": {
          "base_uri": "https://localhost:8080/"
        },
        "id": "iwcLV8AJEUus",
        "outputId": "d6b90d8d-18b6-4ae1-8a69-9d1f640cd1a3"
      },
      "execution_count": null,
      "outputs": [
        {
          "output_type": "stream",
          "name": "stderr",
          "text": [
            "<ipython-input-7-ead9be5d8ec5>:1: SettingWithCopyWarning: \n",
            "A value is trying to be set on a copy of a slice from a DataFrame\n",
            "\n",
            "See the caveats in the documentation: https://pandas.pydata.org/pandas-docs/stable/user_guide/indexing.html#returning-a-view-versus-a-copy\n",
            "  df_2[\"class\"].loc[1] = \"e\"\n"
          ]
        }
      ]
    },
    {
      "cell_type": "code",
      "source": [
        "df_2"
      ],
      "metadata": {
        "colab": {
          "base_uri": "https://localhost:8080/",
          "height": 540
        },
        "id": "kEgier0tEJVT",
        "outputId": "ace56e88-d92d-4a70-f845-251c015d2b69"
      },
      "execution_count": null,
      "outputs": [
        {
          "output_type": "execute_result",
          "data": {
            "text/plain": [
              "      class  cap-diameter cap-shape cap-surface cap-color  \\\n",
              "0         p         15.26         x           g         o   \n",
              "1         e         16.60         x           g         o   \n",
              "2         p         14.07         x           g         o   \n",
              "3         p         14.17         f           h         e   \n",
              "4         p         14.64         x           h         o   \n",
              "...     ...           ...       ...         ...       ...   \n",
              "61064     p          1.18         s           s         y   \n",
              "61065     p          1.27         f           s         y   \n",
              "61066     p          1.27         s           s         y   \n",
              "61067     p          1.24         f           s         y   \n",
              "61068     p          1.17         s           s         y   \n",
              "\n",
              "      does-bruise-or-bleed gill-attachment gill-spacing gill-color  \\\n",
              "0                        f               e          NaN          w   \n",
              "1                        f               e          NaN          w   \n",
              "2                        f               e          NaN          w   \n",
              "3                        f               e          NaN          w   \n",
              "4                        f               e          NaN          w   \n",
              "...                    ...             ...          ...        ...   \n",
              "61064                    f               f            f          f   \n",
              "61065                    f               f            f          f   \n",
              "61066                    f               f            f          f   \n",
              "61067                    f               f            f          f   \n",
              "61068                    f               f            f          f   \n",
              "\n",
              "       stem-height  ...  stem-root stem-surface stem-color veil-type  \\\n",
              "0            16.95  ...          s            y          w         u   \n",
              "1            17.99  ...          s            y          w         u   \n",
              "2            17.80  ...          s            y          w         u   \n",
              "3            15.77  ...          s            y          w         u   \n",
              "4            16.53  ...          s            y          w         u   \n",
              "...            ...  ...        ...          ...        ...       ...   \n",
              "61064         3.93  ...        NaN          NaN          y       NaN   \n",
              "61065         3.18  ...        NaN          NaN          y       NaN   \n",
              "61066         3.86  ...        NaN          NaN          y       NaN   \n",
              "61067         3.56  ...        NaN          NaN          y       NaN   \n",
              "61068         3.25  ...        NaN          NaN          y       NaN   \n",
              "\n",
              "      veil-color has-ring ring-type spore-print-color habitat season  \n",
              "0              w        t         g               NaN       d      w  \n",
              "1              w        t         g               NaN       d      u  \n",
              "2              w        t         g               NaN       d      w  \n",
              "3              w        t         p               NaN       d      w  \n",
              "4              w        t         p               NaN       d      w  \n",
              "...          ...      ...       ...               ...     ...    ...  \n",
              "61064        NaN        f         f               NaN       d      a  \n",
              "61065        NaN        f         f               NaN       d      a  \n",
              "61066        NaN        f         f               NaN       d      u  \n",
              "61067        NaN        f         f               NaN       d      u  \n",
              "61068        NaN        f         f               NaN       d      u  \n",
              "\n",
              "[61069 rows x 21 columns]"
            ],
            "text/html": [
              "\n",
              "\n",
              "  <div id=\"df-8b0612b2-83c8-411e-a0cd-b2c267da8006\">\n",
              "    <div class=\"colab-df-container\">\n",
              "      <div>\n",
              "<style scoped>\n",
              "    .dataframe tbody tr th:only-of-type {\n",
              "        vertical-align: middle;\n",
              "    }\n",
              "\n",
              "    .dataframe tbody tr th {\n",
              "        vertical-align: top;\n",
              "    }\n",
              "\n",
              "    .dataframe thead th {\n",
              "        text-align: right;\n",
              "    }\n",
              "</style>\n",
              "<table border=\"1\" class=\"dataframe\">\n",
              "  <thead>\n",
              "    <tr style=\"text-align: right;\">\n",
              "      <th></th>\n",
              "      <th>class</th>\n",
              "      <th>cap-diameter</th>\n",
              "      <th>cap-shape</th>\n",
              "      <th>cap-surface</th>\n",
              "      <th>cap-color</th>\n",
              "      <th>does-bruise-or-bleed</th>\n",
              "      <th>gill-attachment</th>\n",
              "      <th>gill-spacing</th>\n",
              "      <th>gill-color</th>\n",
              "      <th>stem-height</th>\n",
              "      <th>...</th>\n",
              "      <th>stem-root</th>\n",
              "      <th>stem-surface</th>\n",
              "      <th>stem-color</th>\n",
              "      <th>veil-type</th>\n",
              "      <th>veil-color</th>\n",
              "      <th>has-ring</th>\n",
              "      <th>ring-type</th>\n",
              "      <th>spore-print-color</th>\n",
              "      <th>habitat</th>\n",
              "      <th>season</th>\n",
              "    </tr>\n",
              "  </thead>\n",
              "  <tbody>\n",
              "    <tr>\n",
              "      <th>0</th>\n",
              "      <td>p</td>\n",
              "      <td>15.26</td>\n",
              "      <td>x</td>\n",
              "      <td>g</td>\n",
              "      <td>o</td>\n",
              "      <td>f</td>\n",
              "      <td>e</td>\n",
              "      <td>NaN</td>\n",
              "      <td>w</td>\n",
              "      <td>16.95</td>\n",
              "      <td>...</td>\n",
              "      <td>s</td>\n",
              "      <td>y</td>\n",
              "      <td>w</td>\n",
              "      <td>u</td>\n",
              "      <td>w</td>\n",
              "      <td>t</td>\n",
              "      <td>g</td>\n",
              "      <td>NaN</td>\n",
              "      <td>d</td>\n",
              "      <td>w</td>\n",
              "    </tr>\n",
              "    <tr>\n",
              "      <th>1</th>\n",
              "      <td>e</td>\n",
              "      <td>16.60</td>\n",
              "      <td>x</td>\n",
              "      <td>g</td>\n",
              "      <td>o</td>\n",
              "      <td>f</td>\n",
              "      <td>e</td>\n",
              "      <td>NaN</td>\n",
              "      <td>w</td>\n",
              "      <td>17.99</td>\n",
              "      <td>...</td>\n",
              "      <td>s</td>\n",
              "      <td>y</td>\n",
              "      <td>w</td>\n",
              "      <td>u</td>\n",
              "      <td>w</td>\n",
              "      <td>t</td>\n",
              "      <td>g</td>\n",
              "      <td>NaN</td>\n",
              "      <td>d</td>\n",
              "      <td>u</td>\n",
              "    </tr>\n",
              "    <tr>\n",
              "      <th>2</th>\n",
              "      <td>p</td>\n",
              "      <td>14.07</td>\n",
              "      <td>x</td>\n",
              "      <td>g</td>\n",
              "      <td>o</td>\n",
              "      <td>f</td>\n",
              "      <td>e</td>\n",
              "      <td>NaN</td>\n",
              "      <td>w</td>\n",
              "      <td>17.80</td>\n",
              "      <td>...</td>\n",
              "      <td>s</td>\n",
              "      <td>y</td>\n",
              "      <td>w</td>\n",
              "      <td>u</td>\n",
              "      <td>w</td>\n",
              "      <td>t</td>\n",
              "      <td>g</td>\n",
              "      <td>NaN</td>\n",
              "      <td>d</td>\n",
              "      <td>w</td>\n",
              "    </tr>\n",
              "    <tr>\n",
              "      <th>3</th>\n",
              "      <td>p</td>\n",
              "      <td>14.17</td>\n",
              "      <td>f</td>\n",
              "      <td>h</td>\n",
              "      <td>e</td>\n",
              "      <td>f</td>\n",
              "      <td>e</td>\n",
              "      <td>NaN</td>\n",
              "      <td>w</td>\n",
              "      <td>15.77</td>\n",
              "      <td>...</td>\n",
              "      <td>s</td>\n",
              "      <td>y</td>\n",
              "      <td>w</td>\n",
              "      <td>u</td>\n",
              "      <td>w</td>\n",
              "      <td>t</td>\n",
              "      <td>p</td>\n",
              "      <td>NaN</td>\n",
              "      <td>d</td>\n",
              "      <td>w</td>\n",
              "    </tr>\n",
              "    <tr>\n",
              "      <th>4</th>\n",
              "      <td>p</td>\n",
              "      <td>14.64</td>\n",
              "      <td>x</td>\n",
              "      <td>h</td>\n",
              "      <td>o</td>\n",
              "      <td>f</td>\n",
              "      <td>e</td>\n",
              "      <td>NaN</td>\n",
              "      <td>w</td>\n",
              "      <td>16.53</td>\n",
              "      <td>...</td>\n",
              "      <td>s</td>\n",
              "      <td>y</td>\n",
              "      <td>w</td>\n",
              "      <td>u</td>\n",
              "      <td>w</td>\n",
              "      <td>t</td>\n",
              "      <td>p</td>\n",
              "      <td>NaN</td>\n",
              "      <td>d</td>\n",
              "      <td>w</td>\n",
              "    </tr>\n",
              "    <tr>\n",
              "      <th>...</th>\n",
              "      <td>...</td>\n",
              "      <td>...</td>\n",
              "      <td>...</td>\n",
              "      <td>...</td>\n",
              "      <td>...</td>\n",
              "      <td>...</td>\n",
              "      <td>...</td>\n",
              "      <td>...</td>\n",
              "      <td>...</td>\n",
              "      <td>...</td>\n",
              "      <td>...</td>\n",
              "      <td>...</td>\n",
              "      <td>...</td>\n",
              "      <td>...</td>\n",
              "      <td>...</td>\n",
              "      <td>...</td>\n",
              "      <td>...</td>\n",
              "      <td>...</td>\n",
              "      <td>...</td>\n",
              "      <td>...</td>\n",
              "      <td>...</td>\n",
              "    </tr>\n",
              "    <tr>\n",
              "      <th>61064</th>\n",
              "      <td>p</td>\n",
              "      <td>1.18</td>\n",
              "      <td>s</td>\n",
              "      <td>s</td>\n",
              "      <td>y</td>\n",
              "      <td>f</td>\n",
              "      <td>f</td>\n",
              "      <td>f</td>\n",
              "      <td>f</td>\n",
              "      <td>3.93</td>\n",
              "      <td>...</td>\n",
              "      <td>NaN</td>\n",
              "      <td>NaN</td>\n",
              "      <td>y</td>\n",
              "      <td>NaN</td>\n",
              "      <td>NaN</td>\n",
              "      <td>f</td>\n",
              "      <td>f</td>\n",
              "      <td>NaN</td>\n",
              "      <td>d</td>\n",
              "      <td>a</td>\n",
              "    </tr>\n",
              "    <tr>\n",
              "      <th>61065</th>\n",
              "      <td>p</td>\n",
              "      <td>1.27</td>\n",
              "      <td>f</td>\n",
              "      <td>s</td>\n",
              "      <td>y</td>\n",
              "      <td>f</td>\n",
              "      <td>f</td>\n",
              "      <td>f</td>\n",
              "      <td>f</td>\n",
              "      <td>3.18</td>\n",
              "      <td>...</td>\n",
              "      <td>NaN</td>\n",
              "      <td>NaN</td>\n",
              "      <td>y</td>\n",
              "      <td>NaN</td>\n",
              "      <td>NaN</td>\n",
              "      <td>f</td>\n",
              "      <td>f</td>\n",
              "      <td>NaN</td>\n",
              "      <td>d</td>\n",
              "      <td>a</td>\n",
              "    </tr>\n",
              "    <tr>\n",
              "      <th>61066</th>\n",
              "      <td>p</td>\n",
              "      <td>1.27</td>\n",
              "      <td>s</td>\n",
              "      <td>s</td>\n",
              "      <td>y</td>\n",
              "      <td>f</td>\n",
              "      <td>f</td>\n",
              "      <td>f</td>\n",
              "      <td>f</td>\n",
              "      <td>3.86</td>\n",
              "      <td>...</td>\n",
              "      <td>NaN</td>\n",
              "      <td>NaN</td>\n",
              "      <td>y</td>\n",
              "      <td>NaN</td>\n",
              "      <td>NaN</td>\n",
              "      <td>f</td>\n",
              "      <td>f</td>\n",
              "      <td>NaN</td>\n",
              "      <td>d</td>\n",
              "      <td>u</td>\n",
              "    </tr>\n",
              "    <tr>\n",
              "      <th>61067</th>\n",
              "      <td>p</td>\n",
              "      <td>1.24</td>\n",
              "      <td>f</td>\n",
              "      <td>s</td>\n",
              "      <td>y</td>\n",
              "      <td>f</td>\n",
              "      <td>f</td>\n",
              "      <td>f</td>\n",
              "      <td>f</td>\n",
              "      <td>3.56</td>\n",
              "      <td>...</td>\n",
              "      <td>NaN</td>\n",
              "      <td>NaN</td>\n",
              "      <td>y</td>\n",
              "      <td>NaN</td>\n",
              "      <td>NaN</td>\n",
              "      <td>f</td>\n",
              "      <td>f</td>\n",
              "      <td>NaN</td>\n",
              "      <td>d</td>\n",
              "      <td>u</td>\n",
              "    </tr>\n",
              "    <tr>\n",
              "      <th>61068</th>\n",
              "      <td>p</td>\n",
              "      <td>1.17</td>\n",
              "      <td>s</td>\n",
              "      <td>s</td>\n",
              "      <td>y</td>\n",
              "      <td>f</td>\n",
              "      <td>f</td>\n",
              "      <td>f</td>\n",
              "      <td>f</td>\n",
              "      <td>3.25</td>\n",
              "      <td>...</td>\n",
              "      <td>NaN</td>\n",
              "      <td>NaN</td>\n",
              "      <td>y</td>\n",
              "      <td>NaN</td>\n",
              "      <td>NaN</td>\n",
              "      <td>f</td>\n",
              "      <td>f</td>\n",
              "      <td>NaN</td>\n",
              "      <td>d</td>\n",
              "      <td>u</td>\n",
              "    </tr>\n",
              "  </tbody>\n",
              "</table>\n",
              "<p>61069 rows × 21 columns</p>\n",
              "</div>\n",
              "      <button class=\"colab-df-convert\" onclick=\"convertToInteractive('df-8b0612b2-83c8-411e-a0cd-b2c267da8006')\"\n",
              "              title=\"Convert this dataframe to an interactive table.\"\n",
              "              style=\"display:none;\">\n",
              "\n",
              "  <svg xmlns=\"http://www.w3.org/2000/svg\" height=\"24px\"viewBox=\"0 0 24 24\"\n",
              "       width=\"24px\">\n",
              "    <path d=\"M0 0h24v24H0V0z\" fill=\"none\"/>\n",
              "    <path d=\"M18.56 5.44l.94 2.06.94-2.06 2.06-.94-2.06-.94-.94-2.06-.94 2.06-2.06.94zm-11 1L8.5 8.5l.94-2.06 2.06-.94-2.06-.94L8.5 2.5l-.94 2.06-2.06.94zm10 10l.94 2.06.94-2.06 2.06-.94-2.06-.94-.94-2.06-.94 2.06-2.06.94z\"/><path d=\"M17.41 7.96l-1.37-1.37c-.4-.4-.92-.59-1.43-.59-.52 0-1.04.2-1.43.59L10.3 9.45l-7.72 7.72c-.78.78-.78 2.05 0 2.83L4 21.41c.39.39.9.59 1.41.59.51 0 1.02-.2 1.41-.59l7.78-7.78 2.81-2.81c.8-.78.8-2.07 0-2.86zM5.41 20L4 18.59l7.72-7.72 1.47 1.35L5.41 20z\"/>\n",
              "  </svg>\n",
              "      </button>\n",
              "\n",
              "\n",
              "\n",
              "    <div id=\"df-f3d2ef01-dc81-4e7d-88f1-69ec32a84726\">\n",
              "      <button class=\"colab-df-quickchart\" onclick=\"quickchart('df-f3d2ef01-dc81-4e7d-88f1-69ec32a84726')\"\n",
              "              title=\"Suggest charts.\"\n",
              "              style=\"display:none;\">\n",
              "\n",
              "<svg xmlns=\"http://www.w3.org/2000/svg\" height=\"24px\"viewBox=\"0 0 24 24\"\n",
              "     width=\"24px\">\n",
              "    <g>\n",
              "        <path d=\"M19 3H5c-1.1 0-2 .9-2 2v14c0 1.1.9 2 2 2h14c1.1 0 2-.9 2-2V5c0-1.1-.9-2-2-2zM9 17H7v-7h2v7zm4 0h-2V7h2v10zm4 0h-2v-4h2v4z\"/>\n",
              "    </g>\n",
              "</svg>\n",
              "      </button>\n",
              "    </div>\n",
              "\n",
              "<style>\n",
              "  .colab-df-quickchart {\n",
              "    background-color: #E8F0FE;\n",
              "    border: none;\n",
              "    border-radius: 50%;\n",
              "    cursor: pointer;\n",
              "    display: none;\n",
              "    fill: #1967D2;\n",
              "    height: 32px;\n",
              "    padding: 0 0 0 0;\n",
              "    width: 32px;\n",
              "  }\n",
              "\n",
              "  .colab-df-quickchart:hover {\n",
              "    background-color: #E2EBFA;\n",
              "    box-shadow: 0px 1px 2px rgba(60, 64, 67, 0.3), 0px 1px 3px 1px rgba(60, 64, 67, 0.15);\n",
              "    fill: #174EA6;\n",
              "  }\n",
              "\n",
              "  [theme=dark] .colab-df-quickchart {\n",
              "    background-color: #3B4455;\n",
              "    fill: #D2E3FC;\n",
              "  }\n",
              "\n",
              "  [theme=dark] .colab-df-quickchart:hover {\n",
              "    background-color: #434B5C;\n",
              "    box-shadow: 0px 1px 3px 1px rgba(0, 0, 0, 0.15);\n",
              "    filter: drop-shadow(0px 1px 2px rgba(0, 0, 0, 0.3));\n",
              "    fill: #FFFFFF;\n",
              "  }\n",
              "</style>\n",
              "\n",
              "    <script>\n",
              "      async function quickchart(key) {\n",
              "        const containerElement = document.querySelector('#' + key);\n",
              "        const charts = await google.colab.kernel.invokeFunction(\n",
              "            'suggestCharts', [key], {});\n",
              "      }\n",
              "    </script>\n",
              "\n",
              "      <script>\n",
              "\n",
              "function displayQuickchartButton(domScope) {\n",
              "  let quickchartButtonEl =\n",
              "    domScope.querySelector('#df-f3d2ef01-dc81-4e7d-88f1-69ec32a84726 button.colab-df-quickchart');\n",
              "  quickchartButtonEl.style.display =\n",
              "    google.colab.kernel.accessAllowed ? 'block' : 'none';\n",
              "}\n",
              "\n",
              "        displayQuickchartButton(document);\n",
              "      </script>\n",
              "      <style>\n",
              "    .colab-df-container {\n",
              "      display:flex;\n",
              "      flex-wrap:wrap;\n",
              "      gap: 12px;\n",
              "    }\n",
              "\n",
              "    .colab-df-convert {\n",
              "      background-color: #E8F0FE;\n",
              "      border: none;\n",
              "      border-radius: 50%;\n",
              "      cursor: pointer;\n",
              "      display: none;\n",
              "      fill: #1967D2;\n",
              "      height: 32px;\n",
              "      padding: 0 0 0 0;\n",
              "      width: 32px;\n",
              "    }\n",
              "\n",
              "    .colab-df-convert:hover {\n",
              "      background-color: #E2EBFA;\n",
              "      box-shadow: 0px 1px 2px rgba(60, 64, 67, 0.3), 0px 1px 3px 1px rgba(60, 64, 67, 0.15);\n",
              "      fill: #174EA6;\n",
              "    }\n",
              "\n",
              "    [theme=dark] .colab-df-convert {\n",
              "      background-color: #3B4455;\n",
              "      fill: #D2E3FC;\n",
              "    }\n",
              "\n",
              "    [theme=dark] .colab-df-convert:hover {\n",
              "      background-color: #434B5C;\n",
              "      box-shadow: 0px 1px 3px 1px rgba(0, 0, 0, 0.15);\n",
              "      filter: drop-shadow(0px 1px 2px rgba(0, 0, 0, 0.3));\n",
              "      fill: #FFFFFF;\n",
              "    }\n",
              "  </style>\n",
              "\n",
              "      <script>\n",
              "        const buttonEl =\n",
              "          document.querySelector('#df-8b0612b2-83c8-411e-a0cd-b2c267da8006 button.colab-df-convert');\n",
              "        buttonEl.style.display =\n",
              "          google.colab.kernel.accessAllowed ? 'block' : 'none';\n",
              "\n",
              "        async function convertToInteractive(key) {\n",
              "          const element = document.querySelector('#df-8b0612b2-83c8-411e-a0cd-b2c267da8006');\n",
              "          const dataTable =\n",
              "            await google.colab.kernel.invokeFunction('convertToInteractive',\n",
              "                                                     [key], {});\n",
              "          if (!dataTable) return;\n",
              "\n",
              "          const docLinkHtml = 'Like what you see? Visit the ' +\n",
              "            '<a target=\"_blank\" href=https://colab.research.google.com/notebooks/data_table.ipynb>data table notebook</a>'\n",
              "            + ' to learn more about interactive tables.';\n",
              "          element.innerHTML = '';\n",
              "          dataTable['output_type'] = 'display_data';\n",
              "          await google.colab.output.renderOutput(dataTable, element);\n",
              "          const docLink = document.createElement('div');\n",
              "          docLink.innerHTML = docLinkHtml;\n",
              "          element.appendChild(docLink);\n",
              "        }\n",
              "      </script>\n",
              "    </div>\n",
              "  </div>\n"
            ]
          },
          "metadata": {},
          "execution_count": 8
        }
      ]
    },
    {
      "cell_type": "code",
      "source": [
        "pd.DataFrame(df_secundario.stack())"
      ],
      "metadata": {
        "colab": {
          "base_uri": "https://localhost:8080/",
          "height": 424
        },
        "id": "9MNFImV-0YV3",
        "outputId": "ac325710-110e-4708-cba4-a01fd61469e5"
      },
      "execution_count": null,
      "outputs": [
        {
          "output_type": "execute_result",
          "data": {
            "text/plain": [
              "                        0\n",
              "0     class             p\n",
              "      cap-diameter  15.26\n",
              "      cap-shape         x\n",
              "      cap-surface       g\n",
              "      cap-color         o\n",
              "...                   ...\n",
              "61068 stem-color        y\n",
              "      has-ring          f\n",
              "      ring-type         f\n",
              "      habitat           d\n",
              "      season            u\n",
              "\n",
              "[974986 rows x 1 columns]"
            ],
            "text/html": [
              "\n",
              "  <div id=\"df-1dd06900-2e0c-457b-9a88-c52f2c25a20b\">\n",
              "    <div class=\"colab-df-container\">\n",
              "      <div>\n",
              "<style scoped>\n",
              "    .dataframe tbody tr th:only-of-type {\n",
              "        vertical-align: middle;\n",
              "    }\n",
              "\n",
              "    .dataframe tbody tr th {\n",
              "        vertical-align: top;\n",
              "    }\n",
              "\n",
              "    .dataframe thead th {\n",
              "        text-align: right;\n",
              "    }\n",
              "</style>\n",
              "<table border=\"1\" class=\"dataframe\">\n",
              "  <thead>\n",
              "    <tr style=\"text-align: right;\">\n",
              "      <th></th>\n",
              "      <th></th>\n",
              "      <th>0</th>\n",
              "    </tr>\n",
              "  </thead>\n",
              "  <tbody>\n",
              "    <tr>\n",
              "      <th rowspan=\"5\" valign=\"top\">0</th>\n",
              "      <th>class</th>\n",
              "      <td>p</td>\n",
              "    </tr>\n",
              "    <tr>\n",
              "      <th>cap-diameter</th>\n",
              "      <td>15.26</td>\n",
              "    </tr>\n",
              "    <tr>\n",
              "      <th>cap-shape</th>\n",
              "      <td>x</td>\n",
              "    </tr>\n",
              "    <tr>\n",
              "      <th>cap-surface</th>\n",
              "      <td>g</td>\n",
              "    </tr>\n",
              "    <tr>\n",
              "      <th>cap-color</th>\n",
              "      <td>o</td>\n",
              "    </tr>\n",
              "    <tr>\n",
              "      <th>...</th>\n",
              "      <th>...</th>\n",
              "      <td>...</td>\n",
              "    </tr>\n",
              "    <tr>\n",
              "      <th rowspan=\"5\" valign=\"top\">61068</th>\n",
              "      <th>stem-color</th>\n",
              "      <td>y</td>\n",
              "    </tr>\n",
              "    <tr>\n",
              "      <th>has-ring</th>\n",
              "      <td>f</td>\n",
              "    </tr>\n",
              "    <tr>\n",
              "      <th>ring-type</th>\n",
              "      <td>f</td>\n",
              "    </tr>\n",
              "    <tr>\n",
              "      <th>habitat</th>\n",
              "      <td>d</td>\n",
              "    </tr>\n",
              "    <tr>\n",
              "      <th>season</th>\n",
              "      <td>u</td>\n",
              "    </tr>\n",
              "  </tbody>\n",
              "</table>\n",
              "<p>974986 rows × 1 columns</p>\n",
              "</div>\n",
              "      <button class=\"colab-df-convert\" onclick=\"convertToInteractive('df-1dd06900-2e0c-457b-9a88-c52f2c25a20b')\"\n",
              "              title=\"Convert this dataframe to an interactive table.\"\n",
              "              style=\"display:none;\">\n",
              "        \n",
              "  <svg xmlns=\"http://www.w3.org/2000/svg\" height=\"24px\"viewBox=\"0 0 24 24\"\n",
              "       width=\"24px\">\n",
              "    <path d=\"M0 0h24v24H0V0z\" fill=\"none\"/>\n",
              "    <path d=\"M18.56 5.44l.94 2.06.94-2.06 2.06-.94-2.06-.94-.94-2.06-.94 2.06-2.06.94zm-11 1L8.5 8.5l.94-2.06 2.06-.94-2.06-.94L8.5 2.5l-.94 2.06-2.06.94zm10 10l.94 2.06.94-2.06 2.06-.94-2.06-.94-.94-2.06-.94 2.06-2.06.94z\"/><path d=\"M17.41 7.96l-1.37-1.37c-.4-.4-.92-.59-1.43-.59-.52 0-1.04.2-1.43.59L10.3 9.45l-7.72 7.72c-.78.78-.78 2.05 0 2.83L4 21.41c.39.39.9.59 1.41.59.51 0 1.02-.2 1.41-.59l7.78-7.78 2.81-2.81c.8-.78.8-2.07 0-2.86zM5.41 20L4 18.59l7.72-7.72 1.47 1.35L5.41 20z\"/>\n",
              "  </svg>\n",
              "      </button>\n",
              "      \n",
              "  <style>\n",
              "    .colab-df-container {\n",
              "      display:flex;\n",
              "      flex-wrap:wrap;\n",
              "      gap: 12px;\n",
              "    }\n",
              "\n",
              "    .colab-df-convert {\n",
              "      background-color: #E8F0FE;\n",
              "      border: none;\n",
              "      border-radius: 50%;\n",
              "      cursor: pointer;\n",
              "      display: none;\n",
              "      fill: #1967D2;\n",
              "      height: 32px;\n",
              "      padding: 0 0 0 0;\n",
              "      width: 32px;\n",
              "    }\n",
              "\n",
              "    .colab-df-convert:hover {\n",
              "      background-color: #E2EBFA;\n",
              "      box-shadow: 0px 1px 2px rgba(60, 64, 67, 0.3), 0px 1px 3px 1px rgba(60, 64, 67, 0.15);\n",
              "      fill: #174EA6;\n",
              "    }\n",
              "\n",
              "    [theme=dark] .colab-df-convert {\n",
              "      background-color: #3B4455;\n",
              "      fill: #D2E3FC;\n",
              "    }\n",
              "\n",
              "    [theme=dark] .colab-df-convert:hover {\n",
              "      background-color: #434B5C;\n",
              "      box-shadow: 0px 1px 3px 1px rgba(0, 0, 0, 0.15);\n",
              "      filter: drop-shadow(0px 1px 2px rgba(0, 0, 0, 0.3));\n",
              "      fill: #FFFFFF;\n",
              "    }\n",
              "  </style>\n",
              "\n",
              "      <script>\n",
              "        const buttonEl =\n",
              "          document.querySelector('#df-1dd06900-2e0c-457b-9a88-c52f2c25a20b button.colab-df-convert');\n",
              "        buttonEl.style.display =\n",
              "          google.colab.kernel.accessAllowed ? 'block' : 'none';\n",
              "\n",
              "        async function convertToInteractive(key) {\n",
              "          const element = document.querySelector('#df-1dd06900-2e0c-457b-9a88-c52f2c25a20b');\n",
              "          const dataTable =\n",
              "            await google.colab.kernel.invokeFunction('convertToInteractive',\n",
              "                                                     [key], {});\n",
              "          if (!dataTable) return;\n",
              "\n",
              "          const docLinkHtml = 'Like what you see? Visit the ' +\n",
              "            '<a target=\"_blank\" href=https://colab.research.google.com/notebooks/data_table.ipynb>data table notebook</a>'\n",
              "            + ' to learn more about interactive tables.';\n",
              "          element.innerHTML = '';\n",
              "          dataTable['output_type'] = 'display_data';\n",
              "          await google.colab.output.renderOutput(dataTable, element);\n",
              "          const docLink = document.createElement('div');\n",
              "          docLink.innerHTML = docLinkHtml;\n",
              "          element.appendChild(docLink);\n",
              "        }\n",
              "      </script>\n",
              "    </div>\n",
              "  </div>\n",
              "  "
            ]
          },
          "metadata": {},
          "execution_count": 60
        }
      ]
    },
    {
      "cell_type": "code",
      "source": [
        "df_secundario[\"class\"].loc[1] = \"e\""
      ],
      "metadata": {
        "colab": {
          "base_uri": "https://localhost:8080/"
        },
        "id": "YFy2G9HOFHgU",
        "outputId": "b0ef80c5-7211-4180-e150-801fb030922e"
      },
      "execution_count": null,
      "outputs": [
        {
          "output_type": "stream",
          "name": "stderr",
          "text": [
            "<ipython-input-17-0425d746b2ad>:1: SettingWithCopyWarning: \n",
            "A value is trying to be set on a copy of a slice from a DataFrame\n",
            "\n",
            "See the caveats in the documentation: https://pandas.pydata.org/pandas-docs/stable/user_guide/indexing.html#returning-a-view-versus-a-copy\n",
            "  df_secundario[\"class\"].loc[1] = \"e\"\n"
          ]
        }
      ]
    },
    {
      "cell_type": "code",
      "source": [
        "pd.merge(df_secundario, df_2, left_on = \"class\", right_on = \"class\")"
      ],
      "metadata": {
        "id": "k56Av-BRFfYk"
      },
      "execution_count": null,
      "outputs": []
    },
    {
      "cell_type": "code",
      "source": [],
      "metadata": {
        "id": "xS9LA2gFGQg9"
      },
      "execution_count": null,
      "outputs": []
    },
    {
      "cell_type": "code",
      "source": [
        "pd.DataFrame(df_secundario.unstack())"
      ],
      "metadata": {
        "id": "3nTW0MaC5k5P",
        "outputId": "01e88884-d7d4-4c87-8991-dd9a3bd92677",
        "colab": {
          "base_uri": "https://localhost:8080/",
          "height": 424
        }
      },
      "execution_count": null,
      "outputs": [
        {
          "output_type": "execute_result",
          "data": {
            "text/plain": [
              "              0\n",
              "class  0      p\n",
              "       1      p\n",
              "       2      p\n",
              "       3      p\n",
              "       4      p\n",
              "...          ..\n",
              "season 61064  a\n",
              "       61065  a\n",
              "       61066  u\n",
              "       61067  u\n",
              "       61068  u\n",
              "\n",
              "[1282449 rows x 1 columns]"
            ],
            "text/html": [
              "\n",
              "  <div id=\"df-09e41cb2-c214-4429-813b-6c43cbb31c82\">\n",
              "    <div class=\"colab-df-container\">\n",
              "      <div>\n",
              "<style scoped>\n",
              "    .dataframe tbody tr th:only-of-type {\n",
              "        vertical-align: middle;\n",
              "    }\n",
              "\n",
              "    .dataframe tbody tr th {\n",
              "        vertical-align: top;\n",
              "    }\n",
              "\n",
              "    .dataframe thead th {\n",
              "        text-align: right;\n",
              "    }\n",
              "</style>\n",
              "<table border=\"1\" class=\"dataframe\">\n",
              "  <thead>\n",
              "    <tr style=\"text-align: right;\">\n",
              "      <th></th>\n",
              "      <th></th>\n",
              "      <th>0</th>\n",
              "    </tr>\n",
              "  </thead>\n",
              "  <tbody>\n",
              "    <tr>\n",
              "      <th rowspan=\"5\" valign=\"top\">class</th>\n",
              "      <th>0</th>\n",
              "      <td>p</td>\n",
              "    </tr>\n",
              "    <tr>\n",
              "      <th>1</th>\n",
              "      <td>p</td>\n",
              "    </tr>\n",
              "    <tr>\n",
              "      <th>2</th>\n",
              "      <td>p</td>\n",
              "    </tr>\n",
              "    <tr>\n",
              "      <th>3</th>\n",
              "      <td>p</td>\n",
              "    </tr>\n",
              "    <tr>\n",
              "      <th>4</th>\n",
              "      <td>p</td>\n",
              "    </tr>\n",
              "    <tr>\n",
              "      <th>...</th>\n",
              "      <th>...</th>\n",
              "      <td>...</td>\n",
              "    </tr>\n",
              "    <tr>\n",
              "      <th rowspan=\"5\" valign=\"top\">season</th>\n",
              "      <th>61064</th>\n",
              "      <td>a</td>\n",
              "    </tr>\n",
              "    <tr>\n",
              "      <th>61065</th>\n",
              "      <td>a</td>\n",
              "    </tr>\n",
              "    <tr>\n",
              "      <th>61066</th>\n",
              "      <td>u</td>\n",
              "    </tr>\n",
              "    <tr>\n",
              "      <th>61067</th>\n",
              "      <td>u</td>\n",
              "    </tr>\n",
              "    <tr>\n",
              "      <th>61068</th>\n",
              "      <td>u</td>\n",
              "    </tr>\n",
              "  </tbody>\n",
              "</table>\n",
              "<p>1282449 rows × 1 columns</p>\n",
              "</div>\n",
              "      <button class=\"colab-df-convert\" onclick=\"convertToInteractive('df-09e41cb2-c214-4429-813b-6c43cbb31c82')\"\n",
              "              title=\"Convert this dataframe to an interactive table.\"\n",
              "              style=\"display:none;\">\n",
              "        \n",
              "  <svg xmlns=\"http://www.w3.org/2000/svg\" height=\"24px\"viewBox=\"0 0 24 24\"\n",
              "       width=\"24px\">\n",
              "    <path d=\"M0 0h24v24H0V0z\" fill=\"none\"/>\n",
              "    <path d=\"M18.56 5.44l.94 2.06.94-2.06 2.06-.94-2.06-.94-.94-2.06-.94 2.06-2.06.94zm-11 1L8.5 8.5l.94-2.06 2.06-.94-2.06-.94L8.5 2.5l-.94 2.06-2.06.94zm10 10l.94 2.06.94-2.06 2.06-.94-2.06-.94-.94-2.06-.94 2.06-2.06.94z\"/><path d=\"M17.41 7.96l-1.37-1.37c-.4-.4-.92-.59-1.43-.59-.52 0-1.04.2-1.43.59L10.3 9.45l-7.72 7.72c-.78.78-.78 2.05 0 2.83L4 21.41c.39.39.9.59 1.41.59.51 0 1.02-.2 1.41-.59l7.78-7.78 2.81-2.81c.8-.78.8-2.07 0-2.86zM5.41 20L4 18.59l7.72-7.72 1.47 1.35L5.41 20z\"/>\n",
              "  </svg>\n",
              "      </button>\n",
              "      \n",
              "  <style>\n",
              "    .colab-df-container {\n",
              "      display:flex;\n",
              "      flex-wrap:wrap;\n",
              "      gap: 12px;\n",
              "    }\n",
              "\n",
              "    .colab-df-convert {\n",
              "      background-color: #E8F0FE;\n",
              "      border: none;\n",
              "      border-radius: 50%;\n",
              "      cursor: pointer;\n",
              "      display: none;\n",
              "      fill: #1967D2;\n",
              "      height: 32px;\n",
              "      padding: 0 0 0 0;\n",
              "      width: 32px;\n",
              "    }\n",
              "\n",
              "    .colab-df-convert:hover {\n",
              "      background-color: #E2EBFA;\n",
              "      box-shadow: 0px 1px 2px rgba(60, 64, 67, 0.3), 0px 1px 3px 1px rgba(60, 64, 67, 0.15);\n",
              "      fill: #174EA6;\n",
              "    }\n",
              "\n",
              "    [theme=dark] .colab-df-convert {\n",
              "      background-color: #3B4455;\n",
              "      fill: #D2E3FC;\n",
              "    }\n",
              "\n",
              "    [theme=dark] .colab-df-convert:hover {\n",
              "      background-color: #434B5C;\n",
              "      box-shadow: 0px 1px 3px 1px rgba(0, 0, 0, 0.15);\n",
              "      filter: drop-shadow(0px 1px 2px rgba(0, 0, 0, 0.3));\n",
              "      fill: #FFFFFF;\n",
              "    }\n",
              "  </style>\n",
              "\n",
              "      <script>\n",
              "        const buttonEl =\n",
              "          document.querySelector('#df-09e41cb2-c214-4429-813b-6c43cbb31c82 button.colab-df-convert');\n",
              "        buttonEl.style.display =\n",
              "          google.colab.kernel.accessAllowed ? 'block' : 'none';\n",
              "\n",
              "        async function convertToInteractive(key) {\n",
              "          const element = document.querySelector('#df-09e41cb2-c214-4429-813b-6c43cbb31c82');\n",
              "          const dataTable =\n",
              "            await google.colab.kernel.invokeFunction('convertToInteractive',\n",
              "                                                     [key], {});\n",
              "          if (!dataTable) return;\n",
              "\n",
              "          const docLinkHtml = 'Like what you see? Visit the ' +\n",
              "            '<a target=\"_blank\" href=https://colab.research.google.com/notebooks/data_table.ipynb>data table notebook</a>'\n",
              "            + ' to learn more about interactive tables.';\n",
              "          element.innerHTML = '';\n",
              "          dataTable['output_type'] = 'display_data';\n",
              "          await google.colab.output.renderOutput(dataTable, element);\n",
              "          const docLink = document.createElement('div');\n",
              "          docLink.innerHTML = docLinkHtml;\n",
              "          element.appendChild(docLink);\n",
              "        }\n",
              "      </script>\n",
              "    </div>\n",
              "  </div>\n",
              "  "
            ]
          },
          "metadata": {},
          "execution_count": 61
        }
      ]
    },
    {
      "cell_type": "code",
      "source": [
        "hola = df_secundario.groupby([\"class\"])"
      ],
      "metadata": {
        "id": "E2HSQQwH4WXZ"
      },
      "execution_count": null,
      "outputs": []
    },
    {
      "cell_type": "code",
      "source": [
        "hola.transform(\"count\")"
      ],
      "metadata": {
        "colab": {
          "base_uri": "https://localhost:8080/",
          "height": 540
        },
        "id": "rAV3QKj-4zih",
        "outputId": "c82ebe0b-8a47-409d-8e77-016ee299484f"
      },
      "execution_count": null,
      "outputs": [
        {
          "output_type": "execute_result",
          "data": {
            "text/plain": [
              "       cap-diameter  cap-shape  cap-surface  cap-color  does-bruise-or-bleed  \\\n",
              "0             33888      33888        26475      33888                 33888   \n",
              "1             33888      33888        26475      33888                 33888   \n",
              "2             33888      33888        26475      33888                 33888   \n",
              "3             33888      33888        26475      33888                 33888   \n",
              "4             33888      33888        26475      33888                 33888   \n",
              "...             ...        ...          ...        ...                   ...   \n",
              "61064         33888      33888        26475      33888                 33888   \n",
              "61065         33888      33888        26475      33888                 33888   \n",
              "61066         33888      33888        26475      33888                 33888   \n",
              "61067         33888      33888        26475      33888                 33888   \n",
              "61068         33888      33888        26475      33888                 33888   \n",
              "\n",
              "       gill-attachment  gill-spacing  gill-color  stem-height  stem-width  \\\n",
              "0                27534         19768       33888        33888       33888   \n",
              "1                27534         19768       33888        33888       33888   \n",
              "2                27534         19768       33888        33888       33888   \n",
              "3                27534         19768       33888        33888       33888   \n",
              "4                27534         19768       33888        33888       33888   \n",
              "...                ...           ...         ...          ...         ...   \n",
              "61064            27534         19768       33888        33888       33888   \n",
              "61065            27534         19768       33888        33888       33888   \n",
              "61066            27534         19768       33888        33888       33888   \n",
              "61067            27534         19768       33888        33888       33888   \n",
              "61068            27534         19768       33888        33888       33888   \n",
              "\n",
              "       stem-root  stem-surface  stem-color  veil-type  veil-color  has-ring  \\\n",
              "0           6001         14473       33888       2118        4236     33888   \n",
              "1           6001         14473       33888       2118        4236     33888   \n",
              "2           6001         14473       33888       2118        4236     33888   \n",
              "3           6001         14473       33888       2118        4236     33888   \n",
              "4           6001         14473       33888       2118        4236     33888   \n",
              "...          ...           ...         ...        ...         ...       ...   \n",
              "61064       6001         14473       33888       2118        4236     33888   \n",
              "61065       6001         14473       33888       2118        4236     33888   \n",
              "61066       6001         14473       33888       2118        4236     33888   \n",
              "61067       6001         14473       33888       2118        4236     33888   \n",
              "61068       6001         14473       33888       2118        4236     33888   \n",
              "\n",
              "       ring-type  spore-print-color  habitat  season  \n",
              "0          32829               4589    33888   33888  \n",
              "1          32829               4589    33888   33888  \n",
              "2          32829               4589    33888   33888  \n",
              "3          32829               4589    33888   33888  \n",
              "4          32829               4589    33888   33888  \n",
              "...          ...                ...      ...     ...  \n",
              "61064      32829               4589    33888   33888  \n",
              "61065      32829               4589    33888   33888  \n",
              "61066      32829               4589    33888   33888  \n",
              "61067      32829               4589    33888   33888  \n",
              "61068      32829               4589    33888   33888  \n",
              "\n",
              "[61069 rows x 20 columns]"
            ],
            "text/html": [
              "\n",
              "  <div id=\"df-34c39440-f725-4eef-a311-f7beab99be63\">\n",
              "    <div class=\"colab-df-container\">\n",
              "      <div>\n",
              "<style scoped>\n",
              "    .dataframe tbody tr th:only-of-type {\n",
              "        vertical-align: middle;\n",
              "    }\n",
              "\n",
              "    .dataframe tbody tr th {\n",
              "        vertical-align: top;\n",
              "    }\n",
              "\n",
              "    .dataframe thead th {\n",
              "        text-align: right;\n",
              "    }\n",
              "</style>\n",
              "<table border=\"1\" class=\"dataframe\">\n",
              "  <thead>\n",
              "    <tr style=\"text-align: right;\">\n",
              "      <th></th>\n",
              "      <th>cap-diameter</th>\n",
              "      <th>cap-shape</th>\n",
              "      <th>cap-surface</th>\n",
              "      <th>cap-color</th>\n",
              "      <th>does-bruise-or-bleed</th>\n",
              "      <th>gill-attachment</th>\n",
              "      <th>gill-spacing</th>\n",
              "      <th>gill-color</th>\n",
              "      <th>stem-height</th>\n",
              "      <th>stem-width</th>\n",
              "      <th>stem-root</th>\n",
              "      <th>stem-surface</th>\n",
              "      <th>stem-color</th>\n",
              "      <th>veil-type</th>\n",
              "      <th>veil-color</th>\n",
              "      <th>has-ring</th>\n",
              "      <th>ring-type</th>\n",
              "      <th>spore-print-color</th>\n",
              "      <th>habitat</th>\n",
              "      <th>season</th>\n",
              "    </tr>\n",
              "  </thead>\n",
              "  <tbody>\n",
              "    <tr>\n",
              "      <th>0</th>\n",
              "      <td>33888</td>\n",
              "      <td>33888</td>\n",
              "      <td>26475</td>\n",
              "      <td>33888</td>\n",
              "      <td>33888</td>\n",
              "      <td>27534</td>\n",
              "      <td>19768</td>\n",
              "      <td>33888</td>\n",
              "      <td>33888</td>\n",
              "      <td>33888</td>\n",
              "      <td>6001</td>\n",
              "      <td>14473</td>\n",
              "      <td>33888</td>\n",
              "      <td>2118</td>\n",
              "      <td>4236</td>\n",
              "      <td>33888</td>\n",
              "      <td>32829</td>\n",
              "      <td>4589</td>\n",
              "      <td>33888</td>\n",
              "      <td>33888</td>\n",
              "    </tr>\n",
              "    <tr>\n",
              "      <th>1</th>\n",
              "      <td>33888</td>\n",
              "      <td>33888</td>\n",
              "      <td>26475</td>\n",
              "      <td>33888</td>\n",
              "      <td>33888</td>\n",
              "      <td>27534</td>\n",
              "      <td>19768</td>\n",
              "      <td>33888</td>\n",
              "      <td>33888</td>\n",
              "      <td>33888</td>\n",
              "      <td>6001</td>\n",
              "      <td>14473</td>\n",
              "      <td>33888</td>\n",
              "      <td>2118</td>\n",
              "      <td>4236</td>\n",
              "      <td>33888</td>\n",
              "      <td>32829</td>\n",
              "      <td>4589</td>\n",
              "      <td>33888</td>\n",
              "      <td>33888</td>\n",
              "    </tr>\n",
              "    <tr>\n",
              "      <th>2</th>\n",
              "      <td>33888</td>\n",
              "      <td>33888</td>\n",
              "      <td>26475</td>\n",
              "      <td>33888</td>\n",
              "      <td>33888</td>\n",
              "      <td>27534</td>\n",
              "      <td>19768</td>\n",
              "      <td>33888</td>\n",
              "      <td>33888</td>\n",
              "      <td>33888</td>\n",
              "      <td>6001</td>\n",
              "      <td>14473</td>\n",
              "      <td>33888</td>\n",
              "      <td>2118</td>\n",
              "      <td>4236</td>\n",
              "      <td>33888</td>\n",
              "      <td>32829</td>\n",
              "      <td>4589</td>\n",
              "      <td>33888</td>\n",
              "      <td>33888</td>\n",
              "    </tr>\n",
              "    <tr>\n",
              "      <th>3</th>\n",
              "      <td>33888</td>\n",
              "      <td>33888</td>\n",
              "      <td>26475</td>\n",
              "      <td>33888</td>\n",
              "      <td>33888</td>\n",
              "      <td>27534</td>\n",
              "      <td>19768</td>\n",
              "      <td>33888</td>\n",
              "      <td>33888</td>\n",
              "      <td>33888</td>\n",
              "      <td>6001</td>\n",
              "      <td>14473</td>\n",
              "      <td>33888</td>\n",
              "      <td>2118</td>\n",
              "      <td>4236</td>\n",
              "      <td>33888</td>\n",
              "      <td>32829</td>\n",
              "      <td>4589</td>\n",
              "      <td>33888</td>\n",
              "      <td>33888</td>\n",
              "    </tr>\n",
              "    <tr>\n",
              "      <th>4</th>\n",
              "      <td>33888</td>\n",
              "      <td>33888</td>\n",
              "      <td>26475</td>\n",
              "      <td>33888</td>\n",
              "      <td>33888</td>\n",
              "      <td>27534</td>\n",
              "      <td>19768</td>\n",
              "      <td>33888</td>\n",
              "      <td>33888</td>\n",
              "      <td>33888</td>\n",
              "      <td>6001</td>\n",
              "      <td>14473</td>\n",
              "      <td>33888</td>\n",
              "      <td>2118</td>\n",
              "      <td>4236</td>\n",
              "      <td>33888</td>\n",
              "      <td>32829</td>\n",
              "      <td>4589</td>\n",
              "      <td>33888</td>\n",
              "      <td>33888</td>\n",
              "    </tr>\n",
              "    <tr>\n",
              "      <th>...</th>\n",
              "      <td>...</td>\n",
              "      <td>...</td>\n",
              "      <td>...</td>\n",
              "      <td>...</td>\n",
              "      <td>...</td>\n",
              "      <td>...</td>\n",
              "      <td>...</td>\n",
              "      <td>...</td>\n",
              "      <td>...</td>\n",
              "      <td>...</td>\n",
              "      <td>...</td>\n",
              "      <td>...</td>\n",
              "      <td>...</td>\n",
              "      <td>...</td>\n",
              "      <td>...</td>\n",
              "      <td>...</td>\n",
              "      <td>...</td>\n",
              "      <td>...</td>\n",
              "      <td>...</td>\n",
              "      <td>...</td>\n",
              "    </tr>\n",
              "    <tr>\n",
              "      <th>61064</th>\n",
              "      <td>33888</td>\n",
              "      <td>33888</td>\n",
              "      <td>26475</td>\n",
              "      <td>33888</td>\n",
              "      <td>33888</td>\n",
              "      <td>27534</td>\n",
              "      <td>19768</td>\n",
              "      <td>33888</td>\n",
              "      <td>33888</td>\n",
              "      <td>33888</td>\n",
              "      <td>6001</td>\n",
              "      <td>14473</td>\n",
              "      <td>33888</td>\n",
              "      <td>2118</td>\n",
              "      <td>4236</td>\n",
              "      <td>33888</td>\n",
              "      <td>32829</td>\n",
              "      <td>4589</td>\n",
              "      <td>33888</td>\n",
              "      <td>33888</td>\n",
              "    </tr>\n",
              "    <tr>\n",
              "      <th>61065</th>\n",
              "      <td>33888</td>\n",
              "      <td>33888</td>\n",
              "      <td>26475</td>\n",
              "      <td>33888</td>\n",
              "      <td>33888</td>\n",
              "      <td>27534</td>\n",
              "      <td>19768</td>\n",
              "      <td>33888</td>\n",
              "      <td>33888</td>\n",
              "      <td>33888</td>\n",
              "      <td>6001</td>\n",
              "      <td>14473</td>\n",
              "      <td>33888</td>\n",
              "      <td>2118</td>\n",
              "      <td>4236</td>\n",
              "      <td>33888</td>\n",
              "      <td>32829</td>\n",
              "      <td>4589</td>\n",
              "      <td>33888</td>\n",
              "      <td>33888</td>\n",
              "    </tr>\n",
              "    <tr>\n",
              "      <th>61066</th>\n",
              "      <td>33888</td>\n",
              "      <td>33888</td>\n",
              "      <td>26475</td>\n",
              "      <td>33888</td>\n",
              "      <td>33888</td>\n",
              "      <td>27534</td>\n",
              "      <td>19768</td>\n",
              "      <td>33888</td>\n",
              "      <td>33888</td>\n",
              "      <td>33888</td>\n",
              "      <td>6001</td>\n",
              "      <td>14473</td>\n",
              "      <td>33888</td>\n",
              "      <td>2118</td>\n",
              "      <td>4236</td>\n",
              "      <td>33888</td>\n",
              "      <td>32829</td>\n",
              "      <td>4589</td>\n",
              "      <td>33888</td>\n",
              "      <td>33888</td>\n",
              "    </tr>\n",
              "    <tr>\n",
              "      <th>61067</th>\n",
              "      <td>33888</td>\n",
              "      <td>33888</td>\n",
              "      <td>26475</td>\n",
              "      <td>33888</td>\n",
              "      <td>33888</td>\n",
              "      <td>27534</td>\n",
              "      <td>19768</td>\n",
              "      <td>33888</td>\n",
              "      <td>33888</td>\n",
              "      <td>33888</td>\n",
              "      <td>6001</td>\n",
              "      <td>14473</td>\n",
              "      <td>33888</td>\n",
              "      <td>2118</td>\n",
              "      <td>4236</td>\n",
              "      <td>33888</td>\n",
              "      <td>32829</td>\n",
              "      <td>4589</td>\n",
              "      <td>33888</td>\n",
              "      <td>33888</td>\n",
              "    </tr>\n",
              "    <tr>\n",
              "      <th>61068</th>\n",
              "      <td>33888</td>\n",
              "      <td>33888</td>\n",
              "      <td>26475</td>\n",
              "      <td>33888</td>\n",
              "      <td>33888</td>\n",
              "      <td>27534</td>\n",
              "      <td>19768</td>\n",
              "      <td>33888</td>\n",
              "      <td>33888</td>\n",
              "      <td>33888</td>\n",
              "      <td>6001</td>\n",
              "      <td>14473</td>\n",
              "      <td>33888</td>\n",
              "      <td>2118</td>\n",
              "      <td>4236</td>\n",
              "      <td>33888</td>\n",
              "      <td>32829</td>\n",
              "      <td>4589</td>\n",
              "      <td>33888</td>\n",
              "      <td>33888</td>\n",
              "    </tr>\n",
              "  </tbody>\n",
              "</table>\n",
              "<p>61069 rows × 20 columns</p>\n",
              "</div>\n",
              "      <button class=\"colab-df-convert\" onclick=\"convertToInteractive('df-34c39440-f725-4eef-a311-f7beab99be63')\"\n",
              "              title=\"Convert this dataframe to an interactive table.\"\n",
              "              style=\"display:none;\">\n",
              "        \n",
              "  <svg xmlns=\"http://www.w3.org/2000/svg\" height=\"24px\"viewBox=\"0 0 24 24\"\n",
              "       width=\"24px\">\n",
              "    <path d=\"M0 0h24v24H0V0z\" fill=\"none\"/>\n",
              "    <path d=\"M18.56 5.44l.94 2.06.94-2.06 2.06-.94-2.06-.94-.94-2.06-.94 2.06-2.06.94zm-11 1L8.5 8.5l.94-2.06 2.06-.94-2.06-.94L8.5 2.5l-.94 2.06-2.06.94zm10 10l.94 2.06.94-2.06 2.06-.94-2.06-.94-.94-2.06-.94 2.06-2.06.94z\"/><path d=\"M17.41 7.96l-1.37-1.37c-.4-.4-.92-.59-1.43-.59-.52 0-1.04.2-1.43.59L10.3 9.45l-7.72 7.72c-.78.78-.78 2.05 0 2.83L4 21.41c.39.39.9.59 1.41.59.51 0 1.02-.2 1.41-.59l7.78-7.78 2.81-2.81c.8-.78.8-2.07 0-2.86zM5.41 20L4 18.59l7.72-7.72 1.47 1.35L5.41 20z\"/>\n",
              "  </svg>\n",
              "      </button>\n",
              "      \n",
              "  <style>\n",
              "    .colab-df-container {\n",
              "      display:flex;\n",
              "      flex-wrap:wrap;\n",
              "      gap: 12px;\n",
              "    }\n",
              "\n",
              "    .colab-df-convert {\n",
              "      background-color: #E8F0FE;\n",
              "      border: none;\n",
              "      border-radius: 50%;\n",
              "      cursor: pointer;\n",
              "      display: none;\n",
              "      fill: #1967D2;\n",
              "      height: 32px;\n",
              "      padding: 0 0 0 0;\n",
              "      width: 32px;\n",
              "    }\n",
              "\n",
              "    .colab-df-convert:hover {\n",
              "      background-color: #E2EBFA;\n",
              "      box-shadow: 0px 1px 2px rgba(60, 64, 67, 0.3), 0px 1px 3px 1px rgba(60, 64, 67, 0.15);\n",
              "      fill: #174EA6;\n",
              "    }\n",
              "\n",
              "    [theme=dark] .colab-df-convert {\n",
              "      background-color: #3B4455;\n",
              "      fill: #D2E3FC;\n",
              "    }\n",
              "\n",
              "    [theme=dark] .colab-df-convert:hover {\n",
              "      background-color: #434B5C;\n",
              "      box-shadow: 0px 1px 3px 1px rgba(0, 0, 0, 0.15);\n",
              "      filter: drop-shadow(0px 1px 2px rgba(0, 0, 0, 0.3));\n",
              "      fill: #FFFFFF;\n",
              "    }\n",
              "  </style>\n",
              "\n",
              "      <script>\n",
              "        const buttonEl =\n",
              "          document.querySelector('#df-34c39440-f725-4eef-a311-f7beab99be63 button.colab-df-convert');\n",
              "        buttonEl.style.display =\n",
              "          google.colab.kernel.accessAllowed ? 'block' : 'none';\n",
              "\n",
              "        async function convertToInteractive(key) {\n",
              "          const element = document.querySelector('#df-34c39440-f725-4eef-a311-f7beab99be63');\n",
              "          const dataTable =\n",
              "            await google.colab.kernel.invokeFunction('convertToInteractive',\n",
              "                                                     [key], {});\n",
              "          if (!dataTable) return;\n",
              "\n",
              "          const docLinkHtml = 'Like what you see? Visit the ' +\n",
              "            '<a target=\"_blank\" href=https://colab.research.google.com/notebooks/data_table.ipynb>data table notebook</a>'\n",
              "            + ' to learn more about interactive tables.';\n",
              "          element.innerHTML = '';\n",
              "          dataTable['output_type'] = 'display_data';\n",
              "          await google.colab.output.renderOutput(dataTable, element);\n",
              "          const docLink = document.createElement('div');\n",
              "          docLink.innerHTML = docLinkHtml;\n",
              "          element.appendChild(docLink);\n",
              "        }\n",
              "      </script>\n",
              "    </div>\n",
              "  </div>\n",
              "  "
            ]
          },
          "metadata": {},
          "execution_count": 54
        }
      ]
    },
    {
      "cell_type": "markdown",
      "source": [
        "# Exporación de los datos\n",
        "\n",
        "En esta sección se busca explorar todos los datos del Data Frame en donde se va tomar un criterio de decisión para la imputación de los Nans, en donde dicho criterio se utilizara en el resto de los ejercicios de la entrega."
      ],
      "metadata": {
        "id": "D8FVlwy7JwR0"
      }
    },
    {
      "cell_type": "code",
      "source": [
        "df_secundario.head()"
      ],
      "metadata": {
        "colab": {
          "base_uri": "https://localhost:8080/",
          "height": 352
        },
        "id": "Eg-3R_y4s77t",
        "outputId": "4bc98ccb-edd4-4972-b2da-10f03f575f00"
      },
      "execution_count": null,
      "outputs": [
        {
          "output_type": "execute_result",
          "data": {
            "text/plain": [
              "  class  cap-diameter cap-shape cap-surface cap-color does-bruise-or-bleed  \\\n",
              "0     p         15.26         x           g         o                    f   \n",
              "1     p         16.60         x           g         o                    f   \n",
              "2     p         14.07         x           g         o                    f   \n",
              "3     p         14.17         f           h         e                    f   \n",
              "4     p         14.64         x           h         o                    f   \n",
              "\n",
              "  gill-attachment gill-spacing gill-color  stem-height  ...  stem-root  \\\n",
              "0               e          NaN          w        16.95  ...          s   \n",
              "1               e          NaN          w        17.99  ...          s   \n",
              "2               e          NaN          w        17.80  ...          s   \n",
              "3               e          NaN          w        15.77  ...          s   \n",
              "4               e          NaN          w        16.53  ...          s   \n",
              "\n",
              "  stem-surface stem-color veil-type veil-color has-ring ring-type  \\\n",
              "0            y          w         u          w        t         g   \n",
              "1            y          w         u          w        t         g   \n",
              "2            y          w         u          w        t         g   \n",
              "3            y          w         u          w        t         p   \n",
              "4            y          w         u          w        t         p   \n",
              "\n",
              "  spore-print-color habitat season  \n",
              "0               NaN       d      w  \n",
              "1               NaN       d      u  \n",
              "2               NaN       d      w  \n",
              "3               NaN       d      w  \n",
              "4               NaN       d      w  \n",
              "\n",
              "[5 rows x 21 columns]"
            ],
            "text/html": [
              "\n",
              "  <div id=\"df-b6c8ac8a-662a-4ace-818d-0b989b355efd\">\n",
              "    <div class=\"colab-df-container\">\n",
              "      <div>\n",
              "<style scoped>\n",
              "    .dataframe tbody tr th:only-of-type {\n",
              "        vertical-align: middle;\n",
              "    }\n",
              "\n",
              "    .dataframe tbody tr th {\n",
              "        vertical-align: top;\n",
              "    }\n",
              "\n",
              "    .dataframe thead th {\n",
              "        text-align: right;\n",
              "    }\n",
              "</style>\n",
              "<table border=\"1\" class=\"dataframe\">\n",
              "  <thead>\n",
              "    <tr style=\"text-align: right;\">\n",
              "      <th></th>\n",
              "      <th>class</th>\n",
              "      <th>cap-diameter</th>\n",
              "      <th>cap-shape</th>\n",
              "      <th>cap-surface</th>\n",
              "      <th>cap-color</th>\n",
              "      <th>does-bruise-or-bleed</th>\n",
              "      <th>gill-attachment</th>\n",
              "      <th>gill-spacing</th>\n",
              "      <th>gill-color</th>\n",
              "      <th>stem-height</th>\n",
              "      <th>...</th>\n",
              "      <th>stem-root</th>\n",
              "      <th>stem-surface</th>\n",
              "      <th>stem-color</th>\n",
              "      <th>veil-type</th>\n",
              "      <th>veil-color</th>\n",
              "      <th>has-ring</th>\n",
              "      <th>ring-type</th>\n",
              "      <th>spore-print-color</th>\n",
              "      <th>habitat</th>\n",
              "      <th>season</th>\n",
              "    </tr>\n",
              "  </thead>\n",
              "  <tbody>\n",
              "    <tr>\n",
              "      <th>0</th>\n",
              "      <td>p</td>\n",
              "      <td>15.26</td>\n",
              "      <td>x</td>\n",
              "      <td>g</td>\n",
              "      <td>o</td>\n",
              "      <td>f</td>\n",
              "      <td>e</td>\n",
              "      <td>NaN</td>\n",
              "      <td>w</td>\n",
              "      <td>16.95</td>\n",
              "      <td>...</td>\n",
              "      <td>s</td>\n",
              "      <td>y</td>\n",
              "      <td>w</td>\n",
              "      <td>u</td>\n",
              "      <td>w</td>\n",
              "      <td>t</td>\n",
              "      <td>g</td>\n",
              "      <td>NaN</td>\n",
              "      <td>d</td>\n",
              "      <td>w</td>\n",
              "    </tr>\n",
              "    <tr>\n",
              "      <th>1</th>\n",
              "      <td>p</td>\n",
              "      <td>16.60</td>\n",
              "      <td>x</td>\n",
              "      <td>g</td>\n",
              "      <td>o</td>\n",
              "      <td>f</td>\n",
              "      <td>e</td>\n",
              "      <td>NaN</td>\n",
              "      <td>w</td>\n",
              "      <td>17.99</td>\n",
              "      <td>...</td>\n",
              "      <td>s</td>\n",
              "      <td>y</td>\n",
              "      <td>w</td>\n",
              "      <td>u</td>\n",
              "      <td>w</td>\n",
              "      <td>t</td>\n",
              "      <td>g</td>\n",
              "      <td>NaN</td>\n",
              "      <td>d</td>\n",
              "      <td>u</td>\n",
              "    </tr>\n",
              "    <tr>\n",
              "      <th>2</th>\n",
              "      <td>p</td>\n",
              "      <td>14.07</td>\n",
              "      <td>x</td>\n",
              "      <td>g</td>\n",
              "      <td>o</td>\n",
              "      <td>f</td>\n",
              "      <td>e</td>\n",
              "      <td>NaN</td>\n",
              "      <td>w</td>\n",
              "      <td>17.80</td>\n",
              "      <td>...</td>\n",
              "      <td>s</td>\n",
              "      <td>y</td>\n",
              "      <td>w</td>\n",
              "      <td>u</td>\n",
              "      <td>w</td>\n",
              "      <td>t</td>\n",
              "      <td>g</td>\n",
              "      <td>NaN</td>\n",
              "      <td>d</td>\n",
              "      <td>w</td>\n",
              "    </tr>\n",
              "    <tr>\n",
              "      <th>3</th>\n",
              "      <td>p</td>\n",
              "      <td>14.17</td>\n",
              "      <td>f</td>\n",
              "      <td>h</td>\n",
              "      <td>e</td>\n",
              "      <td>f</td>\n",
              "      <td>e</td>\n",
              "      <td>NaN</td>\n",
              "      <td>w</td>\n",
              "      <td>15.77</td>\n",
              "      <td>...</td>\n",
              "      <td>s</td>\n",
              "      <td>y</td>\n",
              "      <td>w</td>\n",
              "      <td>u</td>\n",
              "      <td>w</td>\n",
              "      <td>t</td>\n",
              "      <td>p</td>\n",
              "      <td>NaN</td>\n",
              "      <td>d</td>\n",
              "      <td>w</td>\n",
              "    </tr>\n",
              "    <tr>\n",
              "      <th>4</th>\n",
              "      <td>p</td>\n",
              "      <td>14.64</td>\n",
              "      <td>x</td>\n",
              "      <td>h</td>\n",
              "      <td>o</td>\n",
              "      <td>f</td>\n",
              "      <td>e</td>\n",
              "      <td>NaN</td>\n",
              "      <td>w</td>\n",
              "      <td>16.53</td>\n",
              "      <td>...</td>\n",
              "      <td>s</td>\n",
              "      <td>y</td>\n",
              "      <td>w</td>\n",
              "      <td>u</td>\n",
              "      <td>w</td>\n",
              "      <td>t</td>\n",
              "      <td>p</td>\n",
              "      <td>NaN</td>\n",
              "      <td>d</td>\n",
              "      <td>w</td>\n",
              "    </tr>\n",
              "  </tbody>\n",
              "</table>\n",
              "<p>5 rows × 21 columns</p>\n",
              "</div>\n",
              "      <button class=\"colab-df-convert\" onclick=\"convertToInteractive('df-b6c8ac8a-662a-4ace-818d-0b989b355efd')\"\n",
              "              title=\"Convert this dataframe to an interactive table.\"\n",
              "              style=\"display:none;\">\n",
              "        \n",
              "  <svg xmlns=\"http://www.w3.org/2000/svg\" height=\"24px\"viewBox=\"0 0 24 24\"\n",
              "       width=\"24px\">\n",
              "    <path d=\"M0 0h24v24H0V0z\" fill=\"none\"/>\n",
              "    <path d=\"M18.56 5.44l.94 2.06.94-2.06 2.06-.94-2.06-.94-.94-2.06-.94 2.06-2.06.94zm-11 1L8.5 8.5l.94-2.06 2.06-.94-2.06-.94L8.5 2.5l-.94 2.06-2.06.94zm10 10l.94 2.06.94-2.06 2.06-.94-2.06-.94-.94-2.06-.94 2.06-2.06.94z\"/><path d=\"M17.41 7.96l-1.37-1.37c-.4-.4-.92-.59-1.43-.59-.52 0-1.04.2-1.43.59L10.3 9.45l-7.72 7.72c-.78.78-.78 2.05 0 2.83L4 21.41c.39.39.9.59 1.41.59.51 0 1.02-.2 1.41-.59l7.78-7.78 2.81-2.81c.8-.78.8-2.07 0-2.86zM5.41 20L4 18.59l7.72-7.72 1.47 1.35L5.41 20z\"/>\n",
              "  </svg>\n",
              "      </button>\n",
              "      \n",
              "  <style>\n",
              "    .colab-df-container {\n",
              "      display:flex;\n",
              "      flex-wrap:wrap;\n",
              "      gap: 12px;\n",
              "    }\n",
              "\n",
              "    .colab-df-convert {\n",
              "      background-color: #E8F0FE;\n",
              "      border: none;\n",
              "      border-radius: 50%;\n",
              "      cursor: pointer;\n",
              "      display: none;\n",
              "      fill: #1967D2;\n",
              "      height: 32px;\n",
              "      padding: 0 0 0 0;\n",
              "      width: 32px;\n",
              "    }\n",
              "\n",
              "    .colab-df-convert:hover {\n",
              "      background-color: #E2EBFA;\n",
              "      box-shadow: 0px 1px 2px rgba(60, 64, 67, 0.3), 0px 1px 3px 1px rgba(60, 64, 67, 0.15);\n",
              "      fill: #174EA6;\n",
              "    }\n",
              "\n",
              "    [theme=dark] .colab-df-convert {\n",
              "      background-color: #3B4455;\n",
              "      fill: #D2E3FC;\n",
              "    }\n",
              "\n",
              "    [theme=dark] .colab-df-convert:hover {\n",
              "      background-color: #434B5C;\n",
              "      box-shadow: 0px 1px 3px 1px rgba(0, 0, 0, 0.15);\n",
              "      filter: drop-shadow(0px 1px 2px rgba(0, 0, 0, 0.3));\n",
              "      fill: #FFFFFF;\n",
              "    }\n",
              "  </style>\n",
              "\n",
              "      <script>\n",
              "        const buttonEl =\n",
              "          document.querySelector('#df-b6c8ac8a-662a-4ace-818d-0b989b355efd button.colab-df-convert');\n",
              "        buttonEl.style.display =\n",
              "          google.colab.kernel.accessAllowed ? 'block' : 'none';\n",
              "\n",
              "        async function convertToInteractive(key) {\n",
              "          const element = document.querySelector('#df-b6c8ac8a-662a-4ace-818d-0b989b355efd');\n",
              "          const dataTable =\n",
              "            await google.colab.kernel.invokeFunction('convertToInteractive',\n",
              "                                                     [key], {});\n",
              "          if (!dataTable) return;\n",
              "\n",
              "          const docLinkHtml = 'Like what you see? Visit the ' +\n",
              "            '<a target=\"_blank\" href=https://colab.research.google.com/notebooks/data_table.ipynb>data table notebook</a>'\n",
              "            + ' to learn more about interactive tables.';\n",
              "          element.innerHTML = '';\n",
              "          dataTable['output_type'] = 'display_data';\n",
              "          await google.colab.output.renderOutput(dataTable, element);\n",
              "          const docLink = document.createElement('div');\n",
              "          docLink.innerHTML = docLinkHtml;\n",
              "          element.appendChild(docLink);\n",
              "        }\n",
              "      </script>\n",
              "    </div>\n",
              "  </div>\n",
              "  "
            ]
          },
          "metadata": {},
          "execution_count": 3
        }
      ]
    },
    {
      "cell_type": "code",
      "source": [
        "df_secundario.info()"
      ],
      "metadata": {
        "colab": {
          "base_uri": "https://localhost:8080/"
        },
        "id": "8Xd0sJjgJu5C",
        "outputId": "7e1a5693-a584-4eb6-cdd7-b1f20296ff9f"
      },
      "execution_count": null,
      "outputs": [
        {
          "output_type": "stream",
          "name": "stdout",
          "text": [
            "<class 'pandas.core.frame.DataFrame'>\n",
            "RangeIndex: 61069 entries, 0 to 61068\n",
            "Data columns (total 21 columns):\n",
            " #   Column                Non-Null Count  Dtype  \n",
            "---  ------                --------------  -----  \n",
            " 0   class                 61069 non-null  object \n",
            " 1   cap-diameter          61069 non-null  float64\n",
            " 2   cap-shape             61069 non-null  object \n",
            " 3   cap-surface           46949 non-null  object \n",
            " 4   cap-color             61069 non-null  object \n",
            " 5   does-bruise-or-bleed  61069 non-null  object \n",
            " 6   gill-attachment       51185 non-null  object \n",
            " 7   gill-spacing          36006 non-null  object \n",
            " 8   gill-color            61069 non-null  object \n",
            " 9   stem-height           61069 non-null  float64\n",
            " 10  stem-width            61069 non-null  float64\n",
            " 11  stem-root             9531 non-null   object \n",
            " 12  stem-surface          22945 non-null  object \n",
            " 13  stem-color            61069 non-null  object \n",
            " 14  veil-type             3177 non-null   object \n",
            " 15  veil-color            7413 non-null   object \n",
            " 16  has-ring              61069 non-null  object \n",
            " 17  ring-type             58598 non-null  object \n",
            " 18  spore-print-color     6354 non-null   object \n",
            " 19  habitat               61069 non-null  object \n",
            " 20  season                61069 non-null  object \n",
            "dtypes: float64(3), object(18)\n",
            "memory usage: 9.8+ MB\n"
          ]
        }
      ]
    },
    {
      "cell_type": "markdown",
      "source": [
        "A continuación voy a ver que puede estar sucediendo con las features que tienen Nans. Para darme una idea de a que se deben los Nans, voy a utilizar la información original del data set, y en base a esto voy a tomar un criterio de decisión para imputarlos."
      ],
      "metadata": {
        "id": "PIuggLu0KTBP"
      }
    },
    {
      "cell_type": "code",
      "source": [
        "df_secundario['cap-surface'].unique()"
      ],
      "metadata": {
        "colab": {
          "base_uri": "https://localhost:8080/"
        },
        "id": "NCC347VsKMIv",
        "outputId": "cff5ff14-f96a-4907-ca53-47ab525f1ab9"
      },
      "execution_count": null,
      "outputs": [
        {
          "output_type": "execute_result",
          "data": {
            "text/plain": [
              "array(['g', 'h', nan, 't', 'y', 'e', 's', 'l', 'd', 'w', 'i', 'k'],\n",
              "      dtype=object)"
            ]
          },
          "metadata": {},
          "execution_count": 5
        }
      ]
    },
    {
      "cell_type": "code",
      "source": [
        "df_secundario['gill-attachment'].unique()"
      ],
      "metadata": {
        "colab": {
          "base_uri": "https://localhost:8080/"
        },
        "id": "QsL5BdkBKyeA",
        "outputId": "b820d567-beba-43af-d911-21fb07bfb8f9"
      },
      "execution_count": null,
      "outputs": [
        {
          "output_type": "execute_result",
          "data": {
            "text/plain": [
              "array(['e', nan, 'a', 'd', 's', 'x', 'p', 'f'], dtype=object)"
            ]
          },
          "metadata": {},
          "execution_count": 6
        }
      ]
    },
    {
      "cell_type": "code",
      "source": [
        "df_secundario['gill-spacing'].unique()"
      ],
      "metadata": {
        "colab": {
          "base_uri": "https://localhost:8080/"
        },
        "id": "SjUqXGp2K40A",
        "outputId": "6f303ec8-393c-4c8a-d3c4-27a23f53628b"
      },
      "execution_count": null,
      "outputs": [
        {
          "output_type": "execute_result",
          "data": {
            "text/plain": [
              "array([nan, 'c', 'd', 'f'], dtype=object)"
            ]
          },
          "metadata": {},
          "execution_count": 7
        }
      ]
    },
    {
      "cell_type": "code",
      "source": [
        "df_secundario['stem-root'].unique()"
      ],
      "metadata": {
        "colab": {
          "base_uri": "https://localhost:8080/"
        },
        "id": "PgLs4PXtK-TY",
        "outputId": "89e79c01-e8a6-4602-c635-d1a5d40b8e32"
      },
      "execution_count": null,
      "outputs": [
        {
          "output_type": "execute_result",
          "data": {
            "text/plain": [
              "array(['s', nan, 'b', 'r', 'c', 'f'], dtype=object)"
            ]
          },
          "metadata": {},
          "execution_count": 8
        }
      ]
    },
    {
      "cell_type": "code",
      "source": [
        "df_secundario['stem-surface'].unique()"
      ],
      "metadata": {
        "colab": {
          "base_uri": "https://localhost:8080/"
        },
        "id": "Jitb-5HlLC0H",
        "outputId": "f3cef095-4dea-48b3-b3b7-593139edee59"
      },
      "execution_count": null,
      "outputs": [
        {
          "output_type": "execute_result",
          "data": {
            "text/plain": [
              "array(['y', nan, 's', 'k', 'i', 'h', 't', 'g', 'f'], dtype=object)"
            ]
          },
          "metadata": {},
          "execution_count": 9
        }
      ]
    },
    {
      "cell_type": "code",
      "source": [
        "df_secundario['veil-type'].unique()"
      ],
      "metadata": {
        "colab": {
          "base_uri": "https://localhost:8080/"
        },
        "id": "TYRdwYyKvFOA",
        "outputId": "a3542c76-6b50-43a6-fa57-f5a1b0df2cd9"
      },
      "execution_count": null,
      "outputs": [
        {
          "output_type": "execute_result",
          "data": {
            "text/plain": [
              "array(['u', nan], dtype=object)"
            ]
          },
          "metadata": {},
          "execution_count": 10
        }
      ]
    },
    {
      "cell_type": "code",
      "source": [
        "df_secundario['veil-color'].unique()"
      ],
      "metadata": {
        "colab": {
          "base_uri": "https://localhost:8080/"
        },
        "id": "Hetc979FLGy-",
        "outputId": "fda6be64-ea73-4590-ce64-ab82335f8b05"
      },
      "execution_count": null,
      "outputs": [
        {
          "output_type": "execute_result",
          "data": {
            "text/plain": [
              "array(['w', 'y', nan, 'n', 'e', 'u', 'k'], dtype=object)"
            ]
          },
          "metadata": {},
          "execution_count": 11
        }
      ]
    },
    {
      "cell_type": "code",
      "source": [
        "df_secundario['ring-type'].unique()"
      ],
      "metadata": {
        "colab": {
          "base_uri": "https://localhost:8080/"
        },
        "id": "hlyqKqSjLOai",
        "outputId": "523f1736-077e-4db1-9d83-918ad36f80d1"
      },
      "execution_count": null,
      "outputs": [
        {
          "output_type": "execute_result",
          "data": {
            "text/plain": [
              "array(['g', 'p', 'e', 'l', 'f', 'm', nan, 'r', 'z'], dtype=object)"
            ]
          },
          "metadata": {},
          "execution_count": 12
        }
      ]
    },
    {
      "cell_type": "code",
      "source": [
        "df_secundario['spore-print-color'].unique()"
      ],
      "metadata": {
        "colab": {
          "base_uri": "https://localhost:8080/"
        },
        "id": "tjDfQlSuLSoI",
        "outputId": "f8371832-7842-42a0-bb5d-937d3a4c1bb3"
      },
      "execution_count": null,
      "outputs": [
        {
          "output_type": "execute_result",
          "data": {
            "text/plain": [
              "array([nan, 'w', 'p', 'k', 'r', 'u', 'n', 'g'], dtype=object)"
            ]
          },
          "metadata": {},
          "execution_count": 13
        }
      ]
    },
    {
      "cell_type": "markdown",
      "source": [
        "Más abajo se muestra el criterio para imputar los Nans dependiendo de la feature. Un dato a tener en cuenta es que el autor utilizar el carácter 'f' para referirse a una característica faltante del hongo, y usa la 'o' para aquellas características que por alguna cuestión de implementación fue incluida en la categoría 'otro'.\n",
        "\n",
        "* Cap-surface: Teniendo en cuenta que todos los hongos tienen una \"gorra\" y que en el data set, está la 'f',  voy a suponer que los Nans pertenecen a la clase 'o'.\n",
        "\n",
        "* gill-attachment: Como hay hongos que no tienen branquias (clase 'f' en gill-color), en esta sección coinciden las 'f'; entonces los Nans los considero de la clase 'o'.\n",
        "\n",
        "* gill-spacing: Sucede los mismo que el caso anterior; entonces los Nans son de la clase 'o'.\n",
        "\n",
        "* stem-root: En la información del data set aparecen clases faltantes en este data set, que son 'z', 'e' y 'u'. A su vez, aparece una clase no especificada llamada 'f'. Para este caso voy a suponer que 'f' quiere decir que no tiene \"raíz\", y que los Nans se distribuyen en alguna de las otras tres clases como 'o'.\n",
        "\n",
        "* stem-surface: Como nos estamos refiriendo a la superficie del tallo, los Nans van a pertenecer a la clase 'o'.\n",
        "\n",
        "* veil-type: Esta clase la tuve que comparar con \"veil-color\", en donde según la información del data set, hay dos tipos de velo: 'u' y 'p', pero la segunda clase no figura. Como en “vail-color” para algunas filas hay colores asignados cuando en \"veil-type\" hay un Nan, voy a suponer que en esos casos hay una 'p' asignada. En los demás casos voy a suponer que el hongo no tiene velo, entonces no hay color y en ambas clases va 'f'.\n",
        "\n",
        "* veil-color: Use el mismo criterio que \"veil-type\".\n",
        "\n",
        "* ring-type: Como en las 'f' de esta categoría y \"has-ring\" coinciden, los Nan va a 'o'.\n",
        "\n",
        "* spore-print-color: Tengo entendido que todos los hongos tienen esporas, entonces los Nans los reemplazo por la clase 'o'.\n"
      ],
      "metadata": {
        "id": "u10dOsIFvNBG"
      }
    },
    {
      "cell_type": "code",
      "source": [
        "# Imputa los Nans dados un data frame, el nombre de la features y un caracter.\n",
        "def imputar_nans(df, nombre_feature, caracter):\n",
        "\n",
        "  df[nombre_feature] = df[nombre_feature].fillna(caracter)\n"
      ],
      "metadata": {
        "id": "mY-1ZXI7LWBO"
      },
      "execution_count": null,
      "outputs": []
    },
    {
      "cell_type": "code",
      "source": [
        "#Esta linea es para agregar la p en ciertos hongos en \"veil-type\".\n",
        "serie_velos = df_secundario[(df_secundario['veil-type'].isna() == True) & (df_secundario['veil-color'].isna() == False)]['veil-type']\n",
        "indices_sv = serie_velos.index.values\n",
        "for i in indices_sv:\n",
        "  df_secundario['veil-type'].loc[i] = 'p'"
      ],
      "metadata": {
        "id": "q-Stu9R1MVXv",
        "colab": {
          "base_uri": "https://localhost:8080/"
        },
        "outputId": "045e6c05-15ff-4506-cfda-5a8eafb9dbe7"
      },
      "execution_count": null,
      "outputs": [
        {
          "output_type": "stream",
          "name": "stderr",
          "text": [
            "<ipython-input-15-c20033db68ee>:5: SettingWithCopyWarning: \n",
            "A value is trying to be set on a copy of a slice from a DataFrame\n",
            "\n",
            "See the caveats in the documentation: https://pandas.pydata.org/pandas-docs/stable/user_guide/indexing.html#returning-a-view-versus-a-copy\n",
            "  df_secundario['veil-type'].loc[i] = 'p'\n"
          ]
        }
      ]
    },
    {
      "cell_type": "code",
      "source": [
        "#Esta linea es para reemplazar la 'd' por 'o' ya que no esta escificada en la inforamcion del data set.\n",
        "df_secundario['cap-surface'] = df_secundario[\"cap-surface\"].map(lambda x: 'o' if x == 'd' else x)"
      ],
      "metadata": {
        "id": "1JfprqzcMXSp"
      },
      "execution_count": null,
      "outputs": []
    },
    {
      "cell_type": "code",
      "source": [
        "imputar_nans(df_secundario, 'cap-surface', 'o')\n",
        "imputar_nans(df_secundario, 'gill-attachment', 'o')\n",
        "imputar_nans(df_secundario, 'gill-spacing', 'o')\n",
        "imputar_nans(df_secundario, 'stem-root', 'o')\n",
        "imputar_nans(df_secundario, 'stem-surface', 'o')\n",
        "imputar_nans(df_secundario, 'veil-color', 'f')\n",
        "imputar_nans(df_secundario, 'veil-type', 'f')\n",
        "imputar_nans(df_secundario, 'ring-type', 'o')\n",
        "imputar_nans(df_secundario, 'spore-print-color', 'o')"
      ],
      "metadata": {
        "id": "91kZVrUBMyV0"
      },
      "execution_count": null,
      "outputs": []
    },
    {
      "cell_type": "markdown",
      "source": [
        "# Preparación de los datos\n",
        "\n",
        "En esta sección se preparan los datos para realizar una Regresión Logística. Cabe aclarar que por el enunciado del ejercicio, si o si se van a utilizar todas las columnas del data set ya que, más allá de que hay features en donde en su mayoría hay Nans, no puedo descartarlas por los criterios dichos anteriormente; y así mismo, considero que podría utilizar todas las features en este ejercicio."
      ],
      "metadata": {
        "id": "ivXIC9lKNNVv"
      }
    },
    {
      "cell_type": "markdown",
      "source": [
        "Separo el target del resto del data frame."
      ],
      "metadata": {
        "id": "pdDd8CPsE3dp"
      }
    },
    {
      "cell_type": "code",
      "source": [
        "X = df_secundario.drop('class', axis=1)"
      ],
      "metadata": {
        "id": "34_sAwjGM0Eh"
      },
      "execution_count": null,
      "outputs": []
    },
    {
      "cell_type": "code",
      "source": [
        "y = df_secundario['class']"
      ],
      "metadata": {
        "id": "nnIFgLB9M-LM"
      },
      "execution_count": null,
      "outputs": []
    },
    {
      "cell_type": "markdown",
      "source": [
        "Creo un set de entrenamiento y uno de medición."
      ],
      "metadata": {
        "id": "u1KOgzISE_0M"
      }
    },
    {
      "cell_type": "code",
      "source": [
        "X_train, X_med, y_train, y_med = train_test_split(X, y, test_size=0.2, random_state=13)"
      ],
      "metadata": {
        "id": "5YgWFGVbM_Nu"
      },
      "execution_count": null,
      "outputs": []
    },
    {
      "cell_type": "markdown",
      "source": [
        "Creo un set de testeo y uno de validación a partir del de medición. Con respecto a al set de entrenamineto y de validación, conviene que el primero tenga muchos mas datos(en este caso el 80%) que el segundo."
      ],
      "metadata": {
        "id": "qYDaSNgUFICC"
      }
    },
    {
      "cell_type": "code",
      "source": [
        "X_test, X_validation, y_test, y_validation = train_test_split(X_med, y_med, test_size=0.5, random_state=13)"
      ],
      "metadata": {
        "id": "7LVv5aY-NChG"
      },
      "execution_count": null,
      "outputs": []
    },
    {
      "cell_type": "markdown",
      "metadata": {
        "id": "kiY8HtVtqnCp"
      },
      "source": [
        "Voy a utilizar una variable binaria {0, 1} para representar al target (\"class\") en donde 1 es para indicar que el hongo es venenoso ('p') y 0 si el hongo es comestible ('e')."
      ]
    },
    {
      "cell_type": "code",
      "source": [
        "y_train =  y_train.map(lambda x: 1 if x == 'p' else 0)"
      ],
      "metadata": {
        "id": "nrdaiGsiNJG0"
      },
      "execution_count": null,
      "outputs": []
    },
    {
      "cell_type": "code",
      "source": [
        "y_validation =  y_validation.map(lambda x: 1 if x == 'p' else 0)"
      ],
      "metadata": {
        "id": "uOPEh5ixN11C"
      },
      "execution_count": null,
      "outputs": []
    },
    {
      "cell_type": "code",
      "source": [
        "y_test =  y_test.map(lambda x: 1 if x == 'p' else 0)"
      ],
      "metadata": {
        "id": "q4pXPUM1OBQe"
      },
      "execution_count": null,
      "outputs": []
    },
    {
      "cell_type": "markdown",
      "metadata": {
        "id": "-HBc5FyxVTxm"
      },
      "source": [
        "Aplico un encoding a todas las columnas. En este caso, al no tener una gran cantidad de columnas por cada clase, voy a utilizar OHE para todas las features categóricas."
      ]
    },
    {
      "cell_type": "code",
      "source": [
        "#Aplica OHE a cada columna de X_train, X_test y X_validation dado una feature y su nombre.\n",
        "def aplicar_ohe(nombre_feature, columnas):\n",
        "\n",
        "  global X_train, X_test, X_validation\n",
        "  ohe = OneHotEncoder()\n",
        "  encoded_train = ohe.fit_transform(X_train[[nombre_feature]]).todense().astype(int)\n",
        "  encoded_test = ohe.fit_transform(X_test[[nombre_feature]]).todense().astype(int)\n",
        "  encoded_validation = ohe.transform(X_validation[[nombre_feature]]).todense().astype(int)\n",
        "  X_train = X_train.reset_index().drop(['index', nombre_feature],axis=1).join(pd.DataFrame(encoded_train))\n",
        "  X_test = X_test.reset_index().drop(['index', nombre_feature],axis=1).join(pd.DataFrame(encoded_test))\n",
        "  X_validation = X_validation.reset_index().drop(['index', nombre_feature],axis=1).join(pd.DataFrame(encoded_validation))\n",
        "  X_train = X_train.rename(columns=columnas)\n",
        "  X_test = X_test.rename(columns=columnas)\n",
        "  X_validation = X_validation.rename(columns=columnas)"
      ],
      "metadata": {
        "id": "i0I3NuJWOJsU"
      },
      "execution_count": null,
      "outputs": []
    },
    {
      "cell_type": "markdown",
      "source": [
        "Con \"cap-shape\":"
      ],
      "metadata": {
        "id": "ZEf8p-yKFp1O"
      }
    },
    {
      "cell_type": "code",
      "source": [
        "aplicar_ohe('cap-shape', {0:'b0',1:'c0',2:'f0',3:'o0',4:'p0',5:'s0',6:'x0'})"
      ],
      "metadata": {
        "id": "J3KrDH5WFr5V"
      },
      "execution_count": null,
      "outputs": []
    },
    {
      "cell_type": "markdown",
      "source": [
        "Con \"cap-surface\":"
      ],
      "metadata": {
        "id": "iKxW5j3jFxl6"
      }
    },
    {
      "cell_type": "code",
      "source": [
        "aplicar_ohe('cap-surface', {0:'e1',1:'g1',2:'h1',3:'i1',4:'k1',5:'l1',6:'o1',7:'s1',8:'t1',9:'w1',10:'y1'})"
      ],
      "metadata": {
        "id": "kk5x1aHUF9Kz"
      },
      "execution_count": null,
      "outputs": []
    },
    {
      "cell_type": "markdown",
      "source": [
        "Con \"cap-color\":"
      ],
      "metadata": {
        "id": "C3D7ZEZfGRWE"
      }
    },
    {
      "cell_type": "code",
      "source": [
        "aplicar_ohe('cap-color', {0:'b2',1:'e2',2:'g2',3:'k2',4:'l2',5:'n2',6:'o2', 7:'p2', 8:'r2', 9:'u2', 10:'w2', 11:'y2'})"
      ],
      "metadata": {
        "id": "oW1-2Z8QGWS1"
      },
      "execution_count": null,
      "outputs": []
    },
    {
      "cell_type": "markdown",
      "source": [
        "Con \"does-bruise-or-bleed\":"
      ],
      "metadata": {
        "id": "X0MyYuWoGb6I"
      }
    },
    {
      "cell_type": "code",
      "source": [
        "aplicar_ohe('does-bruise-or-bleed', {0:'f3',1:'t3'})"
      ],
      "metadata": {
        "id": "EiRcQbbAGf6R"
      },
      "execution_count": null,
      "outputs": []
    },
    {
      "cell_type": "markdown",
      "metadata": {
        "id": "-kFw7zvUm9Mc"
      },
      "source": [
        "Con \"gill-attachment\":"
      ]
    },
    {
      "cell_type": "code",
      "source": [
        "aplicar_ohe('gill-attachment', {0:'a4',1:'d4',2:'e4',3:'f4',4:'o4',5:'p4',6:'s4', 7:'x4'})"
      ],
      "metadata": {
        "id": "GXKLZfybGqFO"
      },
      "execution_count": null,
      "outputs": []
    },
    {
      "cell_type": "markdown",
      "metadata": {
        "id": "9wg7UsPOo85D"
      },
      "source": [
        "Con \"gill-spacing\":"
      ]
    },
    {
      "cell_type": "code",
      "source": [
        "aplicar_ohe('gill-spacing', {0:'c5',1:'d5',2:'f5',3:'o5'})"
      ],
      "metadata": {
        "id": "F1Y9kCZuGw93"
      },
      "execution_count": null,
      "outputs": []
    },
    {
      "cell_type": "markdown",
      "metadata": {
        "id": "XEhrQKlCpoua"
      },
      "source": [
        "Con \"gill-color\":"
      ]
    },
    {
      "cell_type": "code",
      "source": [
        "aplicar_ohe('gill-color', {0:'b6',1:'e6',2:'f6',3:'g6',4:'k6',5:'n6',6:'o6', 7:'p6', 8:'r6', 9:'u6', 10:'w6', 11:'y6'})"
      ],
      "metadata": {
        "id": "sXOV_2M_G7Iq"
      },
      "execution_count": null,
      "outputs": []
    },
    {
      "cell_type": "markdown",
      "metadata": {
        "id": "oQkm_l8eqK14"
      },
      "source": [
        "Con \"stem-root\":"
      ]
    },
    {
      "cell_type": "code",
      "source": [
        "aplicar_ohe('stem-root', {0:'b7',1:'c7',2:'f7',3:'o7',4:'r7',5:'s7'})"
      ],
      "metadata": {
        "id": "09slsZtPHEld"
      },
      "execution_count": null,
      "outputs": []
    },
    {
      "cell_type": "markdown",
      "metadata": {
        "id": "VKSKObWMrCtF"
      },
      "source": [
        "Con \"stem-surface\":"
      ]
    },
    {
      "cell_type": "code",
      "source": [
        "aplicar_ohe('stem-surface', {0:'f8',1:'g8',2:'h8',3:'i8',4:'k8',5:'o8',6:'s8', 7:'t8',8:'y8'})"
      ],
      "metadata": {
        "id": "6rLNb1IfHMGB"
      },
      "execution_count": null,
      "outputs": []
    },
    {
      "cell_type": "markdown",
      "metadata": {
        "id": "LLwKgt4ir9KL"
      },
      "source": [
        "Con \"stem-color\":"
      ]
    },
    {
      "cell_type": "code",
      "source": [
        "aplicar_ohe('stem-color', {0:'b9',1:'e9',2:'f9',3:'g9',4:'k9',5:'l9',6:'n9', 7:'o9', 8:'p9', 9:'r9', 10:'u9', 11:'w9', 12:'y9'})"
      ],
      "metadata": {
        "id": "0RFuDi2WHSt6"
      },
      "execution_count": null,
      "outputs": []
    },
    {
      "cell_type": "markdown",
      "metadata": {
        "id": "hLLCfJlOsn5e"
      },
      "source": [
        "Con \"veil-type\":"
      ]
    },
    {
      "cell_type": "code",
      "source": [
        "aplicar_ohe('veil-type', {0:'f10',1:'p10',2:'u10'})"
      ],
      "metadata": {
        "id": "aARq3pAnHbeX"
      },
      "execution_count": null,
      "outputs": []
    },
    {
      "cell_type": "markdown",
      "metadata": {
        "id": "T9sXR0Fzs-ZV"
      },
      "source": [
        "Con \"veil-color\":"
      ]
    },
    {
      "cell_type": "code",
      "source": [
        "aplicar_ohe('veil-color', {0:'e11',1:'h11',2:'n11',3:'o11',4:'u11',5:'w11',6:'y11'})"
      ],
      "metadata": {
        "id": "fW-dRMM9HkrR"
      },
      "execution_count": null,
      "outputs": []
    },
    {
      "cell_type": "markdown",
      "metadata": {
        "id": "by1Uz3RIuxmf"
      },
      "source": [
        "Con \"has-ring\":"
      ]
    },
    {
      "cell_type": "code",
      "source": [
        "aplicar_ohe('has-ring', {0:'f12',1:'t12'})"
      ],
      "metadata": {
        "id": "4Uh0Kt0zHo_c"
      },
      "execution_count": null,
      "outputs": []
    },
    {
      "cell_type": "markdown",
      "metadata": {
        "id": "HqMqt4rpvfgp"
      },
      "source": [
        "Con \"ring-type\":"
      ]
    },
    {
      "cell_type": "code",
      "source": [
        "aplicar_ohe('ring-type', {0:'e13',1:'f13',2:'g13',3:'l13',4:'m13',5:'o13',6:'p13', 7:'r13', 8:'z13'})"
      ],
      "metadata": {
        "id": "fz9XyQVMHv7Z"
      },
      "execution_count": null,
      "outputs": []
    },
    {
      "cell_type": "markdown",
      "metadata": {
        "id": "m5kE3wzowSST"
      },
      "source": [
        "Con \"spore-print-color\":"
      ]
    },
    {
      "cell_type": "code",
      "source": [
        "aplicar_ohe('spore-print-color', {0:'g14',1:'k14',2:'n14',3:'o14',4:'p14',5:'r14',6:'u14', 7:'w14'})"
      ],
      "metadata": {
        "id": "N5Behl4XH54T"
      },
      "execution_count": null,
      "outputs": []
    },
    {
      "cell_type": "markdown",
      "metadata": {
        "id": "FDOleFR7yGgZ"
      },
      "source": [
        "Con \"habitat\":"
      ]
    },
    {
      "cell_type": "code",
      "source": [
        "aplicar_ohe('habitat', {0:'d15',1:'g15',2:'h15',3:'l15',4:'m15',5:'p15',6:'u15', 7:'w15'})"
      ],
      "metadata": {
        "id": "XWDj_7MQH_pp"
      },
      "execution_count": null,
      "outputs": []
    },
    {
      "cell_type": "markdown",
      "metadata": {
        "id": "_kId_v6Uy6kD"
      },
      "source": [
        "Con \"season\":"
      ]
    },
    {
      "cell_type": "code",
      "source": [
        "aplicar_ohe('season', {0:'a16',1:'s16',2:'u16',3:'w16'})"
      ],
      "metadata": {
        "id": "ttOb0llwIGr1"
      },
      "execution_count": null,
      "outputs": []
    },
    {
      "cell_type": "markdown",
      "source": [
        "Aclaración: Ya sé que los nombres no son los ideales para las columnas, la idea es que pueda aplicar OHE para poder realizar el entrenamiento y se pueda reconocer a que feature pertenece cada categoría; también por esta razón no utilice un ciclo for para encodear todas las features al mismo tiempo y preferí separarlas por nombre."
      ],
      "metadata": {
        "id": "5gZUQiLwsHIE"
      }
    },
    {
      "cell_type": "code",
      "source": [
        "X_train"
      ],
      "metadata": {
        "colab": {
          "base_uri": "https://localhost:8080/",
          "height": 485
        },
        "id": "Ru5h8OtfO8sA",
        "outputId": "11bb75c3-9d39-4f94-979a-bb61a325ecf0"
      },
      "execution_count": null,
      "outputs": [
        {
          "output_type": "execute_result",
          "data": {
            "text/plain": [
              "       cap-diameter  stem-height  stem-width  b0  c0  f0  o0  p0  s0  x0  ...  \\\n",
              "0             15.74         5.02       28.73   0   0   1   0   0   0   0  ...   \n",
              "1              1.27         3.79        5.63   0   0   1   0   0   0   0  ...   \n",
              "2             12.05         6.03       23.98   0   0   1   0   0   0   0  ...   \n",
              "3              8.08         6.04       14.95   0   0   0   0   0   0   1  ...   \n",
              "4              6.44        12.23       12.77   0   0   0   0   0   0   1  ...   \n",
              "...             ...          ...         ...  ..  ..  ..  ..  ..  ..  ..  ...   \n",
              "48850          8.53         3.63       25.28   0   0   0   1   0   0   0  ...   \n",
              "48851         10.66         5.10       19.52   0   0   1   0   0   0   0  ...   \n",
              "48852          1.62         3.73        2.63   0   0   0   0   0   0   1  ...   \n",
              "48853          1.29         5.00        2.45   0   0   0   0   0   0   1  ...   \n",
              "48854          2.46         3.41        2.38   0   0   1   0   0   0   0  ...   \n",
              "\n",
              "       h15  l15  m15  p15  u15  w15  a16  s16  u16  w16  \n",
              "0        0    0    0    0    0    0    1    0    0    0  \n",
              "1        0    0    0    0    0    0    1    0    0    0  \n",
              "2        0    0    0    0    0    0    1    0    0    0  \n",
              "3        0    0    0    0    0    0    1    0    0    0  \n",
              "4        0    0    0    0    0    0    0    0    1    0  \n",
              "...    ...  ...  ...  ...  ...  ...  ...  ...  ...  ...  \n",
              "48850    0    0    0    0    0    0    0    1    0    0  \n",
              "48851    0    0    0    0    0    0    1    0    0    0  \n",
              "48852    0    0    0    0    0    0    1    0    0    0  \n",
              "48853    0    0    0    0    0    0    1    0    0    0  \n",
              "48854    0    0    0    0    0    0    0    0    1    0  \n",
              "\n",
              "[48855 rows x 128 columns]"
            ],
            "text/html": [
              "\n",
              "  <div id=\"df-0a126521-115c-4351-a5e0-08d7d269f0b3\">\n",
              "    <div class=\"colab-df-container\">\n",
              "      <div>\n",
              "<style scoped>\n",
              "    .dataframe tbody tr th:only-of-type {\n",
              "        vertical-align: middle;\n",
              "    }\n",
              "\n",
              "    .dataframe tbody tr th {\n",
              "        vertical-align: top;\n",
              "    }\n",
              "\n",
              "    .dataframe thead th {\n",
              "        text-align: right;\n",
              "    }\n",
              "</style>\n",
              "<table border=\"1\" class=\"dataframe\">\n",
              "  <thead>\n",
              "    <tr style=\"text-align: right;\">\n",
              "      <th></th>\n",
              "      <th>cap-diameter</th>\n",
              "      <th>stem-height</th>\n",
              "      <th>stem-width</th>\n",
              "      <th>b0</th>\n",
              "      <th>c0</th>\n",
              "      <th>f0</th>\n",
              "      <th>o0</th>\n",
              "      <th>p0</th>\n",
              "      <th>s0</th>\n",
              "      <th>x0</th>\n",
              "      <th>...</th>\n",
              "      <th>h15</th>\n",
              "      <th>l15</th>\n",
              "      <th>m15</th>\n",
              "      <th>p15</th>\n",
              "      <th>u15</th>\n",
              "      <th>w15</th>\n",
              "      <th>a16</th>\n",
              "      <th>s16</th>\n",
              "      <th>u16</th>\n",
              "      <th>w16</th>\n",
              "    </tr>\n",
              "  </thead>\n",
              "  <tbody>\n",
              "    <tr>\n",
              "      <th>0</th>\n",
              "      <td>15.74</td>\n",
              "      <td>5.02</td>\n",
              "      <td>28.73</td>\n",
              "      <td>0</td>\n",
              "      <td>0</td>\n",
              "      <td>1</td>\n",
              "      <td>0</td>\n",
              "      <td>0</td>\n",
              "      <td>0</td>\n",
              "      <td>0</td>\n",
              "      <td>...</td>\n",
              "      <td>0</td>\n",
              "      <td>0</td>\n",
              "      <td>0</td>\n",
              "      <td>0</td>\n",
              "      <td>0</td>\n",
              "      <td>0</td>\n",
              "      <td>1</td>\n",
              "      <td>0</td>\n",
              "      <td>0</td>\n",
              "      <td>0</td>\n",
              "    </tr>\n",
              "    <tr>\n",
              "      <th>1</th>\n",
              "      <td>1.27</td>\n",
              "      <td>3.79</td>\n",
              "      <td>5.63</td>\n",
              "      <td>0</td>\n",
              "      <td>0</td>\n",
              "      <td>1</td>\n",
              "      <td>0</td>\n",
              "      <td>0</td>\n",
              "      <td>0</td>\n",
              "      <td>0</td>\n",
              "      <td>...</td>\n",
              "      <td>0</td>\n",
              "      <td>0</td>\n",
              "      <td>0</td>\n",
              "      <td>0</td>\n",
              "      <td>0</td>\n",
              "      <td>0</td>\n",
              "      <td>1</td>\n",
              "      <td>0</td>\n",
              "      <td>0</td>\n",
              "      <td>0</td>\n",
              "    </tr>\n",
              "    <tr>\n",
              "      <th>2</th>\n",
              "      <td>12.05</td>\n",
              "      <td>6.03</td>\n",
              "      <td>23.98</td>\n",
              "      <td>0</td>\n",
              "      <td>0</td>\n",
              "      <td>1</td>\n",
              "      <td>0</td>\n",
              "      <td>0</td>\n",
              "      <td>0</td>\n",
              "      <td>0</td>\n",
              "      <td>...</td>\n",
              "      <td>0</td>\n",
              "      <td>0</td>\n",
              "      <td>0</td>\n",
              "      <td>0</td>\n",
              "      <td>0</td>\n",
              "      <td>0</td>\n",
              "      <td>1</td>\n",
              "      <td>0</td>\n",
              "      <td>0</td>\n",
              "      <td>0</td>\n",
              "    </tr>\n",
              "    <tr>\n",
              "      <th>3</th>\n",
              "      <td>8.08</td>\n",
              "      <td>6.04</td>\n",
              "      <td>14.95</td>\n",
              "      <td>0</td>\n",
              "      <td>0</td>\n",
              "      <td>0</td>\n",
              "      <td>0</td>\n",
              "      <td>0</td>\n",
              "      <td>0</td>\n",
              "      <td>1</td>\n",
              "      <td>...</td>\n",
              "      <td>0</td>\n",
              "      <td>0</td>\n",
              "      <td>0</td>\n",
              "      <td>0</td>\n",
              "      <td>0</td>\n",
              "      <td>0</td>\n",
              "      <td>1</td>\n",
              "      <td>0</td>\n",
              "      <td>0</td>\n",
              "      <td>0</td>\n",
              "    </tr>\n",
              "    <tr>\n",
              "      <th>4</th>\n",
              "      <td>6.44</td>\n",
              "      <td>12.23</td>\n",
              "      <td>12.77</td>\n",
              "      <td>0</td>\n",
              "      <td>0</td>\n",
              "      <td>0</td>\n",
              "      <td>0</td>\n",
              "      <td>0</td>\n",
              "      <td>0</td>\n",
              "      <td>1</td>\n",
              "      <td>...</td>\n",
              "      <td>0</td>\n",
              "      <td>0</td>\n",
              "      <td>0</td>\n",
              "      <td>0</td>\n",
              "      <td>0</td>\n",
              "      <td>0</td>\n",
              "      <td>0</td>\n",
              "      <td>0</td>\n",
              "      <td>1</td>\n",
              "      <td>0</td>\n",
              "    </tr>\n",
              "    <tr>\n",
              "      <th>...</th>\n",
              "      <td>...</td>\n",
              "      <td>...</td>\n",
              "      <td>...</td>\n",
              "      <td>...</td>\n",
              "      <td>...</td>\n",
              "      <td>...</td>\n",
              "      <td>...</td>\n",
              "      <td>...</td>\n",
              "      <td>...</td>\n",
              "      <td>...</td>\n",
              "      <td>...</td>\n",
              "      <td>...</td>\n",
              "      <td>...</td>\n",
              "      <td>...</td>\n",
              "      <td>...</td>\n",
              "      <td>...</td>\n",
              "      <td>...</td>\n",
              "      <td>...</td>\n",
              "      <td>...</td>\n",
              "      <td>...</td>\n",
              "      <td>...</td>\n",
              "    </tr>\n",
              "    <tr>\n",
              "      <th>48850</th>\n",
              "      <td>8.53</td>\n",
              "      <td>3.63</td>\n",
              "      <td>25.28</td>\n",
              "      <td>0</td>\n",
              "      <td>0</td>\n",
              "      <td>0</td>\n",
              "      <td>1</td>\n",
              "      <td>0</td>\n",
              "      <td>0</td>\n",
              "      <td>0</td>\n",
              "      <td>...</td>\n",
              "      <td>0</td>\n",
              "      <td>0</td>\n",
              "      <td>0</td>\n",
              "      <td>0</td>\n",
              "      <td>0</td>\n",
              "      <td>0</td>\n",
              "      <td>0</td>\n",
              "      <td>1</td>\n",
              "      <td>0</td>\n",
              "      <td>0</td>\n",
              "    </tr>\n",
              "    <tr>\n",
              "      <th>48851</th>\n",
              "      <td>10.66</td>\n",
              "      <td>5.10</td>\n",
              "      <td>19.52</td>\n",
              "      <td>0</td>\n",
              "      <td>0</td>\n",
              "      <td>1</td>\n",
              "      <td>0</td>\n",
              "      <td>0</td>\n",
              "      <td>0</td>\n",
              "      <td>0</td>\n",
              "      <td>...</td>\n",
              "      <td>0</td>\n",
              "      <td>0</td>\n",
              "      <td>0</td>\n",
              "      <td>0</td>\n",
              "      <td>0</td>\n",
              "      <td>0</td>\n",
              "      <td>1</td>\n",
              "      <td>0</td>\n",
              "      <td>0</td>\n",
              "      <td>0</td>\n",
              "    </tr>\n",
              "    <tr>\n",
              "      <th>48852</th>\n",
              "      <td>1.62</td>\n",
              "      <td>3.73</td>\n",
              "      <td>2.63</td>\n",
              "      <td>0</td>\n",
              "      <td>0</td>\n",
              "      <td>0</td>\n",
              "      <td>0</td>\n",
              "      <td>0</td>\n",
              "      <td>0</td>\n",
              "      <td>1</td>\n",
              "      <td>...</td>\n",
              "      <td>0</td>\n",
              "      <td>0</td>\n",
              "      <td>0</td>\n",
              "      <td>0</td>\n",
              "      <td>0</td>\n",
              "      <td>0</td>\n",
              "      <td>1</td>\n",
              "      <td>0</td>\n",
              "      <td>0</td>\n",
              "      <td>0</td>\n",
              "    </tr>\n",
              "    <tr>\n",
              "      <th>48853</th>\n",
              "      <td>1.29</td>\n",
              "      <td>5.00</td>\n",
              "      <td>2.45</td>\n",
              "      <td>0</td>\n",
              "      <td>0</td>\n",
              "      <td>0</td>\n",
              "      <td>0</td>\n",
              "      <td>0</td>\n",
              "      <td>0</td>\n",
              "      <td>1</td>\n",
              "      <td>...</td>\n",
              "      <td>0</td>\n",
              "      <td>0</td>\n",
              "      <td>0</td>\n",
              "      <td>0</td>\n",
              "      <td>0</td>\n",
              "      <td>0</td>\n",
              "      <td>1</td>\n",
              "      <td>0</td>\n",
              "      <td>0</td>\n",
              "      <td>0</td>\n",
              "    </tr>\n",
              "    <tr>\n",
              "      <th>48854</th>\n",
              "      <td>2.46</td>\n",
              "      <td>3.41</td>\n",
              "      <td>2.38</td>\n",
              "      <td>0</td>\n",
              "      <td>0</td>\n",
              "      <td>1</td>\n",
              "      <td>0</td>\n",
              "      <td>0</td>\n",
              "      <td>0</td>\n",
              "      <td>0</td>\n",
              "      <td>...</td>\n",
              "      <td>0</td>\n",
              "      <td>0</td>\n",
              "      <td>0</td>\n",
              "      <td>0</td>\n",
              "      <td>0</td>\n",
              "      <td>0</td>\n",
              "      <td>0</td>\n",
              "      <td>0</td>\n",
              "      <td>1</td>\n",
              "      <td>0</td>\n",
              "    </tr>\n",
              "  </tbody>\n",
              "</table>\n",
              "<p>48855 rows × 128 columns</p>\n",
              "</div>\n",
              "      <button class=\"colab-df-convert\" onclick=\"convertToInteractive('df-0a126521-115c-4351-a5e0-08d7d269f0b3')\"\n",
              "              title=\"Convert this dataframe to an interactive table.\"\n",
              "              style=\"display:none;\">\n",
              "        \n",
              "  <svg xmlns=\"http://www.w3.org/2000/svg\" height=\"24px\"viewBox=\"0 0 24 24\"\n",
              "       width=\"24px\">\n",
              "    <path d=\"M0 0h24v24H0V0z\" fill=\"none\"/>\n",
              "    <path d=\"M18.56 5.44l.94 2.06.94-2.06 2.06-.94-2.06-.94-.94-2.06-.94 2.06-2.06.94zm-11 1L8.5 8.5l.94-2.06 2.06-.94-2.06-.94L8.5 2.5l-.94 2.06-2.06.94zm10 10l.94 2.06.94-2.06 2.06-.94-2.06-.94-.94-2.06-.94 2.06-2.06.94z\"/><path d=\"M17.41 7.96l-1.37-1.37c-.4-.4-.92-.59-1.43-.59-.52 0-1.04.2-1.43.59L10.3 9.45l-7.72 7.72c-.78.78-.78 2.05 0 2.83L4 21.41c.39.39.9.59 1.41.59.51 0 1.02-.2 1.41-.59l7.78-7.78 2.81-2.81c.8-.78.8-2.07 0-2.86zM5.41 20L4 18.59l7.72-7.72 1.47 1.35L5.41 20z\"/>\n",
              "  </svg>\n",
              "      </button>\n",
              "      \n",
              "  <style>\n",
              "    .colab-df-container {\n",
              "      display:flex;\n",
              "      flex-wrap:wrap;\n",
              "      gap: 12px;\n",
              "    }\n",
              "\n",
              "    .colab-df-convert {\n",
              "      background-color: #E8F0FE;\n",
              "      border: none;\n",
              "      border-radius: 50%;\n",
              "      cursor: pointer;\n",
              "      display: none;\n",
              "      fill: #1967D2;\n",
              "      height: 32px;\n",
              "      padding: 0 0 0 0;\n",
              "      width: 32px;\n",
              "    }\n",
              "\n",
              "    .colab-df-convert:hover {\n",
              "      background-color: #E2EBFA;\n",
              "      box-shadow: 0px 1px 2px rgba(60, 64, 67, 0.3), 0px 1px 3px 1px rgba(60, 64, 67, 0.15);\n",
              "      fill: #174EA6;\n",
              "    }\n",
              "\n",
              "    [theme=dark] .colab-df-convert {\n",
              "      background-color: #3B4455;\n",
              "      fill: #D2E3FC;\n",
              "    }\n",
              "\n",
              "    [theme=dark] .colab-df-convert:hover {\n",
              "      background-color: #434B5C;\n",
              "      box-shadow: 0px 1px 3px 1px rgba(0, 0, 0, 0.15);\n",
              "      filter: drop-shadow(0px 1px 2px rgba(0, 0, 0, 0.3));\n",
              "      fill: #FFFFFF;\n",
              "    }\n",
              "  </style>\n",
              "\n",
              "      <script>\n",
              "        const buttonEl =\n",
              "          document.querySelector('#df-0a126521-115c-4351-a5e0-08d7d269f0b3 button.colab-df-convert');\n",
              "        buttonEl.style.display =\n",
              "          google.colab.kernel.accessAllowed ? 'block' : 'none';\n",
              "\n",
              "        async function convertToInteractive(key) {\n",
              "          const element = document.querySelector('#df-0a126521-115c-4351-a5e0-08d7d269f0b3');\n",
              "          const dataTable =\n",
              "            await google.colab.kernel.invokeFunction('convertToInteractive',\n",
              "                                                     [key], {});\n",
              "          if (!dataTable) return;\n",
              "\n",
              "          const docLinkHtml = 'Like what you see? Visit the ' +\n",
              "            '<a target=\"_blank\" href=https://colab.research.google.com/notebooks/data_table.ipynb>data table notebook</a>'\n",
              "            + ' to learn more about interactive tables.';\n",
              "          element.innerHTML = '';\n",
              "          dataTable['output_type'] = 'display_data';\n",
              "          await google.colab.output.renderOutput(dataTable, element);\n",
              "          const docLink = document.createElement('div');\n",
              "          docLink.innerHTML = docLinkHtml;\n",
              "          element.appendChild(docLink);\n",
              "        }\n",
              "      </script>\n",
              "    </div>\n",
              "  </div>\n",
              "  "
            ]
          },
          "metadata": {},
          "execution_count": 43
        }
      ]
    },
    {
      "cell_type": "code",
      "source": [
        "X_validation"
      ],
      "metadata": {
        "colab": {
          "base_uri": "https://localhost:8080/",
          "height": 485
        },
        "id": "1pTWCUO-O9aw",
        "outputId": "6324a169-f443-4b67-a120-c4372c62af22"
      },
      "execution_count": null,
      "outputs": [
        {
          "output_type": "execute_result",
          "data": {
            "text/plain": [
              "      cap-diameter  stem-height  stem-width  b0  c0  f0  o0  p0  s0  x0  ...  \\\n",
              "0             2.38         8.13        2.59   0   0   0   0   1   0   0  ...   \n",
              "1             2.35         5.48        2.31   1   0   0   0   0   0   0  ...   \n",
              "2             7.70        14.78       18.18   1   0   0   0   0   0   0  ...   \n",
              "3             5.64         6.76       12.15   0   1   0   0   0   0   0  ...   \n",
              "4             5.69         7.84       14.56   0   0   0   0   0   0   1  ...   \n",
              "...            ...          ...         ...  ..  ..  ..  ..  ..  ..  ..  ...   \n",
              "6102         10.65        10.00       22.49   0   0   0   0   0   0   1  ...   \n",
              "6103          5.20        12.43       13.25   0   1   0   0   0   0   0  ...   \n",
              "6104          8.51         4.52       13.00   0   0   1   0   0   0   0  ...   \n",
              "6105          9.27        11.46       32.54   0   0   0   0   0   0   1  ...   \n",
              "6106          6.26         6.09       14.68   0   0   0   0   0   0   1  ...   \n",
              "\n",
              "      h15  l15  m15  p15  u15  w15  a16  s16  u16  w16  \n",
              "0       0    0    1    0    0    0    1    0    0    0  \n",
              "1       0    0    0    0    0    0    0    0    1    0  \n",
              "2       0    0    0    0    0    0    1    0    0    0  \n",
              "3       0    0    0    0    0    0    1    0    0    0  \n",
              "4       0    0    0    0    0    0    1    0    0    0  \n",
              "...   ...  ...  ...  ...  ...  ...  ...  ...  ...  ...  \n",
              "6102    0    0    0    0    0    0    1    0    0    0  \n",
              "6103    0    0    0    0    0    0    0    0    1    0  \n",
              "6104    0    0    0    0    0    1    1    0    0    0  \n",
              "6105    0    0    0    0    0    0    1    0    0    0  \n",
              "6106    0    0    0    0    0    0    1    0    0    0  \n",
              "\n",
              "[6107 rows x 128 columns]"
            ],
            "text/html": [
              "\n",
              "  <div id=\"df-92e446c4-e1dd-45a9-8065-1196a4f027a3\">\n",
              "    <div class=\"colab-df-container\">\n",
              "      <div>\n",
              "<style scoped>\n",
              "    .dataframe tbody tr th:only-of-type {\n",
              "        vertical-align: middle;\n",
              "    }\n",
              "\n",
              "    .dataframe tbody tr th {\n",
              "        vertical-align: top;\n",
              "    }\n",
              "\n",
              "    .dataframe thead th {\n",
              "        text-align: right;\n",
              "    }\n",
              "</style>\n",
              "<table border=\"1\" class=\"dataframe\">\n",
              "  <thead>\n",
              "    <tr style=\"text-align: right;\">\n",
              "      <th></th>\n",
              "      <th>cap-diameter</th>\n",
              "      <th>stem-height</th>\n",
              "      <th>stem-width</th>\n",
              "      <th>b0</th>\n",
              "      <th>c0</th>\n",
              "      <th>f0</th>\n",
              "      <th>o0</th>\n",
              "      <th>p0</th>\n",
              "      <th>s0</th>\n",
              "      <th>x0</th>\n",
              "      <th>...</th>\n",
              "      <th>h15</th>\n",
              "      <th>l15</th>\n",
              "      <th>m15</th>\n",
              "      <th>p15</th>\n",
              "      <th>u15</th>\n",
              "      <th>w15</th>\n",
              "      <th>a16</th>\n",
              "      <th>s16</th>\n",
              "      <th>u16</th>\n",
              "      <th>w16</th>\n",
              "    </tr>\n",
              "  </thead>\n",
              "  <tbody>\n",
              "    <tr>\n",
              "      <th>0</th>\n",
              "      <td>2.38</td>\n",
              "      <td>8.13</td>\n",
              "      <td>2.59</td>\n",
              "      <td>0</td>\n",
              "      <td>0</td>\n",
              "      <td>0</td>\n",
              "      <td>0</td>\n",
              "      <td>1</td>\n",
              "      <td>0</td>\n",
              "      <td>0</td>\n",
              "      <td>...</td>\n",
              "      <td>0</td>\n",
              "      <td>0</td>\n",
              "      <td>1</td>\n",
              "      <td>0</td>\n",
              "      <td>0</td>\n",
              "      <td>0</td>\n",
              "      <td>1</td>\n",
              "      <td>0</td>\n",
              "      <td>0</td>\n",
              "      <td>0</td>\n",
              "    </tr>\n",
              "    <tr>\n",
              "      <th>1</th>\n",
              "      <td>2.35</td>\n",
              "      <td>5.48</td>\n",
              "      <td>2.31</td>\n",
              "      <td>1</td>\n",
              "      <td>0</td>\n",
              "      <td>0</td>\n",
              "      <td>0</td>\n",
              "      <td>0</td>\n",
              "      <td>0</td>\n",
              "      <td>0</td>\n",
              "      <td>...</td>\n",
              "      <td>0</td>\n",
              "      <td>0</td>\n",
              "      <td>0</td>\n",
              "      <td>0</td>\n",
              "      <td>0</td>\n",
              "      <td>0</td>\n",
              "      <td>0</td>\n",
              "      <td>0</td>\n",
              "      <td>1</td>\n",
              "      <td>0</td>\n",
              "    </tr>\n",
              "    <tr>\n",
              "      <th>2</th>\n",
              "      <td>7.70</td>\n",
              "      <td>14.78</td>\n",
              "      <td>18.18</td>\n",
              "      <td>1</td>\n",
              "      <td>0</td>\n",
              "      <td>0</td>\n",
              "      <td>0</td>\n",
              "      <td>0</td>\n",
              "      <td>0</td>\n",
              "      <td>0</td>\n",
              "      <td>...</td>\n",
              "      <td>0</td>\n",
              "      <td>0</td>\n",
              "      <td>0</td>\n",
              "      <td>0</td>\n",
              "      <td>0</td>\n",
              "      <td>0</td>\n",
              "      <td>1</td>\n",
              "      <td>0</td>\n",
              "      <td>0</td>\n",
              "      <td>0</td>\n",
              "    </tr>\n",
              "    <tr>\n",
              "      <th>3</th>\n",
              "      <td>5.64</td>\n",
              "      <td>6.76</td>\n",
              "      <td>12.15</td>\n",
              "      <td>0</td>\n",
              "      <td>1</td>\n",
              "      <td>0</td>\n",
              "      <td>0</td>\n",
              "      <td>0</td>\n",
              "      <td>0</td>\n",
              "      <td>0</td>\n",
              "      <td>...</td>\n",
              "      <td>0</td>\n",
              "      <td>0</td>\n",
              "      <td>0</td>\n",
              "      <td>0</td>\n",
              "      <td>0</td>\n",
              "      <td>0</td>\n",
              "      <td>1</td>\n",
              "      <td>0</td>\n",
              "      <td>0</td>\n",
              "      <td>0</td>\n",
              "    </tr>\n",
              "    <tr>\n",
              "      <th>4</th>\n",
              "      <td>5.69</td>\n",
              "      <td>7.84</td>\n",
              "      <td>14.56</td>\n",
              "      <td>0</td>\n",
              "      <td>0</td>\n",
              "      <td>0</td>\n",
              "      <td>0</td>\n",
              "      <td>0</td>\n",
              "      <td>0</td>\n",
              "      <td>1</td>\n",
              "      <td>...</td>\n",
              "      <td>0</td>\n",
              "      <td>0</td>\n",
              "      <td>0</td>\n",
              "      <td>0</td>\n",
              "      <td>0</td>\n",
              "      <td>0</td>\n",
              "      <td>1</td>\n",
              "      <td>0</td>\n",
              "      <td>0</td>\n",
              "      <td>0</td>\n",
              "    </tr>\n",
              "    <tr>\n",
              "      <th>...</th>\n",
              "      <td>...</td>\n",
              "      <td>...</td>\n",
              "      <td>...</td>\n",
              "      <td>...</td>\n",
              "      <td>...</td>\n",
              "      <td>...</td>\n",
              "      <td>...</td>\n",
              "      <td>...</td>\n",
              "      <td>...</td>\n",
              "      <td>...</td>\n",
              "      <td>...</td>\n",
              "      <td>...</td>\n",
              "      <td>...</td>\n",
              "      <td>...</td>\n",
              "      <td>...</td>\n",
              "      <td>...</td>\n",
              "      <td>...</td>\n",
              "      <td>...</td>\n",
              "      <td>...</td>\n",
              "      <td>...</td>\n",
              "      <td>...</td>\n",
              "    </tr>\n",
              "    <tr>\n",
              "      <th>6102</th>\n",
              "      <td>10.65</td>\n",
              "      <td>10.00</td>\n",
              "      <td>22.49</td>\n",
              "      <td>0</td>\n",
              "      <td>0</td>\n",
              "      <td>0</td>\n",
              "      <td>0</td>\n",
              "      <td>0</td>\n",
              "      <td>0</td>\n",
              "      <td>1</td>\n",
              "      <td>...</td>\n",
              "      <td>0</td>\n",
              "      <td>0</td>\n",
              "      <td>0</td>\n",
              "      <td>0</td>\n",
              "      <td>0</td>\n",
              "      <td>0</td>\n",
              "      <td>1</td>\n",
              "      <td>0</td>\n",
              "      <td>0</td>\n",
              "      <td>0</td>\n",
              "    </tr>\n",
              "    <tr>\n",
              "      <th>6103</th>\n",
              "      <td>5.20</td>\n",
              "      <td>12.43</td>\n",
              "      <td>13.25</td>\n",
              "      <td>0</td>\n",
              "      <td>1</td>\n",
              "      <td>0</td>\n",
              "      <td>0</td>\n",
              "      <td>0</td>\n",
              "      <td>0</td>\n",
              "      <td>0</td>\n",
              "      <td>...</td>\n",
              "      <td>0</td>\n",
              "      <td>0</td>\n",
              "      <td>0</td>\n",
              "      <td>0</td>\n",
              "      <td>0</td>\n",
              "      <td>0</td>\n",
              "      <td>0</td>\n",
              "      <td>0</td>\n",
              "      <td>1</td>\n",
              "      <td>0</td>\n",
              "    </tr>\n",
              "    <tr>\n",
              "      <th>6104</th>\n",
              "      <td>8.51</td>\n",
              "      <td>4.52</td>\n",
              "      <td>13.00</td>\n",
              "      <td>0</td>\n",
              "      <td>0</td>\n",
              "      <td>1</td>\n",
              "      <td>0</td>\n",
              "      <td>0</td>\n",
              "      <td>0</td>\n",
              "      <td>0</td>\n",
              "      <td>...</td>\n",
              "      <td>0</td>\n",
              "      <td>0</td>\n",
              "      <td>0</td>\n",
              "      <td>0</td>\n",
              "      <td>0</td>\n",
              "      <td>1</td>\n",
              "      <td>1</td>\n",
              "      <td>0</td>\n",
              "      <td>0</td>\n",
              "      <td>0</td>\n",
              "    </tr>\n",
              "    <tr>\n",
              "      <th>6105</th>\n",
              "      <td>9.27</td>\n",
              "      <td>11.46</td>\n",
              "      <td>32.54</td>\n",
              "      <td>0</td>\n",
              "      <td>0</td>\n",
              "      <td>0</td>\n",
              "      <td>0</td>\n",
              "      <td>0</td>\n",
              "      <td>0</td>\n",
              "      <td>1</td>\n",
              "      <td>...</td>\n",
              "      <td>0</td>\n",
              "      <td>0</td>\n",
              "      <td>0</td>\n",
              "      <td>0</td>\n",
              "      <td>0</td>\n",
              "      <td>0</td>\n",
              "      <td>1</td>\n",
              "      <td>0</td>\n",
              "      <td>0</td>\n",
              "      <td>0</td>\n",
              "    </tr>\n",
              "    <tr>\n",
              "      <th>6106</th>\n",
              "      <td>6.26</td>\n",
              "      <td>6.09</td>\n",
              "      <td>14.68</td>\n",
              "      <td>0</td>\n",
              "      <td>0</td>\n",
              "      <td>0</td>\n",
              "      <td>0</td>\n",
              "      <td>0</td>\n",
              "      <td>0</td>\n",
              "      <td>1</td>\n",
              "      <td>...</td>\n",
              "      <td>0</td>\n",
              "      <td>0</td>\n",
              "      <td>0</td>\n",
              "      <td>0</td>\n",
              "      <td>0</td>\n",
              "      <td>0</td>\n",
              "      <td>1</td>\n",
              "      <td>0</td>\n",
              "      <td>0</td>\n",
              "      <td>0</td>\n",
              "    </tr>\n",
              "  </tbody>\n",
              "</table>\n",
              "<p>6107 rows × 128 columns</p>\n",
              "</div>\n",
              "      <button class=\"colab-df-convert\" onclick=\"convertToInteractive('df-92e446c4-e1dd-45a9-8065-1196a4f027a3')\"\n",
              "              title=\"Convert this dataframe to an interactive table.\"\n",
              "              style=\"display:none;\">\n",
              "        \n",
              "  <svg xmlns=\"http://www.w3.org/2000/svg\" height=\"24px\"viewBox=\"0 0 24 24\"\n",
              "       width=\"24px\">\n",
              "    <path d=\"M0 0h24v24H0V0z\" fill=\"none\"/>\n",
              "    <path d=\"M18.56 5.44l.94 2.06.94-2.06 2.06-.94-2.06-.94-.94-2.06-.94 2.06-2.06.94zm-11 1L8.5 8.5l.94-2.06 2.06-.94-2.06-.94L8.5 2.5l-.94 2.06-2.06.94zm10 10l.94 2.06.94-2.06 2.06-.94-2.06-.94-.94-2.06-.94 2.06-2.06.94z\"/><path d=\"M17.41 7.96l-1.37-1.37c-.4-.4-.92-.59-1.43-.59-.52 0-1.04.2-1.43.59L10.3 9.45l-7.72 7.72c-.78.78-.78 2.05 0 2.83L4 21.41c.39.39.9.59 1.41.59.51 0 1.02-.2 1.41-.59l7.78-7.78 2.81-2.81c.8-.78.8-2.07 0-2.86zM5.41 20L4 18.59l7.72-7.72 1.47 1.35L5.41 20z\"/>\n",
              "  </svg>\n",
              "      </button>\n",
              "      \n",
              "  <style>\n",
              "    .colab-df-container {\n",
              "      display:flex;\n",
              "      flex-wrap:wrap;\n",
              "      gap: 12px;\n",
              "    }\n",
              "\n",
              "    .colab-df-convert {\n",
              "      background-color: #E8F0FE;\n",
              "      border: none;\n",
              "      border-radius: 50%;\n",
              "      cursor: pointer;\n",
              "      display: none;\n",
              "      fill: #1967D2;\n",
              "      height: 32px;\n",
              "      padding: 0 0 0 0;\n",
              "      width: 32px;\n",
              "    }\n",
              "\n",
              "    .colab-df-convert:hover {\n",
              "      background-color: #E2EBFA;\n",
              "      box-shadow: 0px 1px 2px rgba(60, 64, 67, 0.3), 0px 1px 3px 1px rgba(60, 64, 67, 0.15);\n",
              "      fill: #174EA6;\n",
              "    }\n",
              "\n",
              "    [theme=dark] .colab-df-convert {\n",
              "      background-color: #3B4455;\n",
              "      fill: #D2E3FC;\n",
              "    }\n",
              "\n",
              "    [theme=dark] .colab-df-convert:hover {\n",
              "      background-color: #434B5C;\n",
              "      box-shadow: 0px 1px 3px 1px rgba(0, 0, 0, 0.15);\n",
              "      filter: drop-shadow(0px 1px 2px rgba(0, 0, 0, 0.3));\n",
              "      fill: #FFFFFF;\n",
              "    }\n",
              "  </style>\n",
              "\n",
              "      <script>\n",
              "        const buttonEl =\n",
              "          document.querySelector('#df-92e446c4-e1dd-45a9-8065-1196a4f027a3 button.colab-df-convert');\n",
              "        buttonEl.style.display =\n",
              "          google.colab.kernel.accessAllowed ? 'block' : 'none';\n",
              "\n",
              "        async function convertToInteractive(key) {\n",
              "          const element = document.querySelector('#df-92e446c4-e1dd-45a9-8065-1196a4f027a3');\n",
              "          const dataTable =\n",
              "            await google.colab.kernel.invokeFunction('convertToInteractive',\n",
              "                                                     [key], {});\n",
              "          if (!dataTable) return;\n",
              "\n",
              "          const docLinkHtml = 'Like what you see? Visit the ' +\n",
              "            '<a target=\"_blank\" href=https://colab.research.google.com/notebooks/data_table.ipynb>data table notebook</a>'\n",
              "            + ' to learn more about interactive tables.';\n",
              "          element.innerHTML = '';\n",
              "          dataTable['output_type'] = 'display_data';\n",
              "          await google.colab.output.renderOutput(dataTable, element);\n",
              "          const docLink = document.createElement('div');\n",
              "          docLink.innerHTML = docLinkHtml;\n",
              "          element.appendChild(docLink);\n",
              "        }\n",
              "      </script>\n",
              "    </div>\n",
              "  </div>\n",
              "  "
            ]
          },
          "metadata": {},
          "execution_count": 44
        }
      ]
    },
    {
      "cell_type": "code",
      "source": [
        "X_test"
      ],
      "metadata": {
        "colab": {
          "base_uri": "https://localhost:8080/",
          "height": 485
        },
        "id": "oQqbYsYdPHUr",
        "outputId": "1b366375-8fa1-47eb-ea8c-3623e60b21a3"
      },
      "execution_count": null,
      "outputs": [
        {
          "output_type": "execute_result",
          "data": {
            "text/plain": [
              "      cap-diameter  stem-height  stem-width  b0  c0  f0  o0  p0  s0  x0  ...  \\\n",
              "0             7.81         6.27       18.18   0   0   0   0   0   1   0  ...   \n",
              "1            10.96         3.89       26.20   0   0   0   1   0   0   0  ...   \n",
              "2             9.27        11.77       18.76   0   0   0   0   0   0   1  ...   \n",
              "3             7.93         7.56       13.68   0   0   0   0   0   0   1  ...   \n",
              "4             9.96         8.33       15.72   0   0   0   0   0   0   1  ...   \n",
              "...            ...          ...         ...  ..  ..  ..  ..  ..  ..  ..  ...   \n",
              "6102         13.53         6.19       16.40   0   0   1   0   0   0   0  ...   \n",
              "6103          3.55         4.84        6.47   0   0   0   0   0   0   1  ...   \n",
              "6104          4.16         5.16       10.51   0   0   0   0   0   0   1  ...   \n",
              "6105          4.51         6.44        9.02   0   0   0   0   0   0   1  ...   \n",
              "6106          4.10         5.69        7.02   0   0   0   0   0   0   1  ...   \n",
              "\n",
              "      h15  l15  m15  p15  u15  w15  a16  s16  u16  w16  \n",
              "0       0    0    0    0    0    0    1    0    0    0  \n",
              "1       0    0    0    0    0    0    0    1    0    0  \n",
              "2       0    0    0    0    0    0    1    0    0    0  \n",
              "3       0    0    0    0    0    0    1    0    0    0  \n",
              "4       0    0    0    0    0    0    0    0    1    0  \n",
              "...   ...  ...  ...  ...  ...  ...  ...  ...  ...  ...  \n",
              "6102    0    0    0    0    0    0    1    0    0    0  \n",
              "6103    0    0    0    0    0    0    0    0    0    1  \n",
              "6104    0    0    0    0    0    0    0    0    1    0  \n",
              "6105    0    0    0    0    0    0    1    0    0    0  \n",
              "6106    0    0    0    0    0    0    0    0    1    0  \n",
              "\n",
              "[6107 rows x 128 columns]"
            ],
            "text/html": [
              "\n",
              "  <div id=\"df-0d02358a-9cd9-48b5-9525-d4f8b8df341b\">\n",
              "    <div class=\"colab-df-container\">\n",
              "      <div>\n",
              "<style scoped>\n",
              "    .dataframe tbody tr th:only-of-type {\n",
              "        vertical-align: middle;\n",
              "    }\n",
              "\n",
              "    .dataframe tbody tr th {\n",
              "        vertical-align: top;\n",
              "    }\n",
              "\n",
              "    .dataframe thead th {\n",
              "        text-align: right;\n",
              "    }\n",
              "</style>\n",
              "<table border=\"1\" class=\"dataframe\">\n",
              "  <thead>\n",
              "    <tr style=\"text-align: right;\">\n",
              "      <th></th>\n",
              "      <th>cap-diameter</th>\n",
              "      <th>stem-height</th>\n",
              "      <th>stem-width</th>\n",
              "      <th>b0</th>\n",
              "      <th>c0</th>\n",
              "      <th>f0</th>\n",
              "      <th>o0</th>\n",
              "      <th>p0</th>\n",
              "      <th>s0</th>\n",
              "      <th>x0</th>\n",
              "      <th>...</th>\n",
              "      <th>h15</th>\n",
              "      <th>l15</th>\n",
              "      <th>m15</th>\n",
              "      <th>p15</th>\n",
              "      <th>u15</th>\n",
              "      <th>w15</th>\n",
              "      <th>a16</th>\n",
              "      <th>s16</th>\n",
              "      <th>u16</th>\n",
              "      <th>w16</th>\n",
              "    </tr>\n",
              "  </thead>\n",
              "  <tbody>\n",
              "    <tr>\n",
              "      <th>0</th>\n",
              "      <td>7.81</td>\n",
              "      <td>6.27</td>\n",
              "      <td>18.18</td>\n",
              "      <td>0</td>\n",
              "      <td>0</td>\n",
              "      <td>0</td>\n",
              "      <td>0</td>\n",
              "      <td>0</td>\n",
              "      <td>1</td>\n",
              "      <td>0</td>\n",
              "      <td>...</td>\n",
              "      <td>0</td>\n",
              "      <td>0</td>\n",
              "      <td>0</td>\n",
              "      <td>0</td>\n",
              "      <td>0</td>\n",
              "      <td>0</td>\n",
              "      <td>1</td>\n",
              "      <td>0</td>\n",
              "      <td>0</td>\n",
              "      <td>0</td>\n",
              "    </tr>\n",
              "    <tr>\n",
              "      <th>1</th>\n",
              "      <td>10.96</td>\n",
              "      <td>3.89</td>\n",
              "      <td>26.20</td>\n",
              "      <td>0</td>\n",
              "      <td>0</td>\n",
              "      <td>0</td>\n",
              "      <td>1</td>\n",
              "      <td>0</td>\n",
              "      <td>0</td>\n",
              "      <td>0</td>\n",
              "      <td>...</td>\n",
              "      <td>0</td>\n",
              "      <td>0</td>\n",
              "      <td>0</td>\n",
              "      <td>0</td>\n",
              "      <td>0</td>\n",
              "      <td>0</td>\n",
              "      <td>0</td>\n",
              "      <td>1</td>\n",
              "      <td>0</td>\n",
              "      <td>0</td>\n",
              "    </tr>\n",
              "    <tr>\n",
              "      <th>2</th>\n",
              "      <td>9.27</td>\n",
              "      <td>11.77</td>\n",
              "      <td>18.76</td>\n",
              "      <td>0</td>\n",
              "      <td>0</td>\n",
              "      <td>0</td>\n",
              "      <td>0</td>\n",
              "      <td>0</td>\n",
              "      <td>0</td>\n",
              "      <td>1</td>\n",
              "      <td>...</td>\n",
              "      <td>0</td>\n",
              "      <td>0</td>\n",
              "      <td>0</td>\n",
              "      <td>0</td>\n",
              "      <td>0</td>\n",
              "      <td>0</td>\n",
              "      <td>1</td>\n",
              "      <td>0</td>\n",
              "      <td>0</td>\n",
              "      <td>0</td>\n",
              "    </tr>\n",
              "    <tr>\n",
              "      <th>3</th>\n",
              "      <td>7.93</td>\n",
              "      <td>7.56</td>\n",
              "      <td>13.68</td>\n",
              "      <td>0</td>\n",
              "      <td>0</td>\n",
              "      <td>0</td>\n",
              "      <td>0</td>\n",
              "      <td>0</td>\n",
              "      <td>0</td>\n",
              "      <td>1</td>\n",
              "      <td>...</td>\n",
              "      <td>0</td>\n",
              "      <td>0</td>\n",
              "      <td>0</td>\n",
              "      <td>0</td>\n",
              "      <td>0</td>\n",
              "      <td>0</td>\n",
              "      <td>1</td>\n",
              "      <td>0</td>\n",
              "      <td>0</td>\n",
              "      <td>0</td>\n",
              "    </tr>\n",
              "    <tr>\n",
              "      <th>4</th>\n",
              "      <td>9.96</td>\n",
              "      <td>8.33</td>\n",
              "      <td>15.72</td>\n",
              "      <td>0</td>\n",
              "      <td>0</td>\n",
              "      <td>0</td>\n",
              "      <td>0</td>\n",
              "      <td>0</td>\n",
              "      <td>0</td>\n",
              "      <td>1</td>\n",
              "      <td>...</td>\n",
              "      <td>0</td>\n",
              "      <td>0</td>\n",
              "      <td>0</td>\n",
              "      <td>0</td>\n",
              "      <td>0</td>\n",
              "      <td>0</td>\n",
              "      <td>0</td>\n",
              "      <td>0</td>\n",
              "      <td>1</td>\n",
              "      <td>0</td>\n",
              "    </tr>\n",
              "    <tr>\n",
              "      <th>...</th>\n",
              "      <td>...</td>\n",
              "      <td>...</td>\n",
              "      <td>...</td>\n",
              "      <td>...</td>\n",
              "      <td>...</td>\n",
              "      <td>...</td>\n",
              "      <td>...</td>\n",
              "      <td>...</td>\n",
              "      <td>...</td>\n",
              "      <td>...</td>\n",
              "      <td>...</td>\n",
              "      <td>...</td>\n",
              "      <td>...</td>\n",
              "      <td>...</td>\n",
              "      <td>...</td>\n",
              "      <td>...</td>\n",
              "      <td>...</td>\n",
              "      <td>...</td>\n",
              "      <td>...</td>\n",
              "      <td>...</td>\n",
              "      <td>...</td>\n",
              "    </tr>\n",
              "    <tr>\n",
              "      <th>6102</th>\n",
              "      <td>13.53</td>\n",
              "      <td>6.19</td>\n",
              "      <td>16.40</td>\n",
              "      <td>0</td>\n",
              "      <td>0</td>\n",
              "      <td>1</td>\n",
              "      <td>0</td>\n",
              "      <td>0</td>\n",
              "      <td>0</td>\n",
              "      <td>0</td>\n",
              "      <td>...</td>\n",
              "      <td>0</td>\n",
              "      <td>0</td>\n",
              "      <td>0</td>\n",
              "      <td>0</td>\n",
              "      <td>0</td>\n",
              "      <td>0</td>\n",
              "      <td>1</td>\n",
              "      <td>0</td>\n",
              "      <td>0</td>\n",
              "      <td>0</td>\n",
              "    </tr>\n",
              "    <tr>\n",
              "      <th>6103</th>\n",
              "      <td>3.55</td>\n",
              "      <td>4.84</td>\n",
              "      <td>6.47</td>\n",
              "      <td>0</td>\n",
              "      <td>0</td>\n",
              "      <td>0</td>\n",
              "      <td>0</td>\n",
              "      <td>0</td>\n",
              "      <td>0</td>\n",
              "      <td>1</td>\n",
              "      <td>...</td>\n",
              "      <td>0</td>\n",
              "      <td>0</td>\n",
              "      <td>0</td>\n",
              "      <td>0</td>\n",
              "      <td>0</td>\n",
              "      <td>0</td>\n",
              "      <td>0</td>\n",
              "      <td>0</td>\n",
              "      <td>0</td>\n",
              "      <td>1</td>\n",
              "    </tr>\n",
              "    <tr>\n",
              "      <th>6104</th>\n",
              "      <td>4.16</td>\n",
              "      <td>5.16</td>\n",
              "      <td>10.51</td>\n",
              "      <td>0</td>\n",
              "      <td>0</td>\n",
              "      <td>0</td>\n",
              "      <td>0</td>\n",
              "      <td>0</td>\n",
              "      <td>0</td>\n",
              "      <td>1</td>\n",
              "      <td>...</td>\n",
              "      <td>0</td>\n",
              "      <td>0</td>\n",
              "      <td>0</td>\n",
              "      <td>0</td>\n",
              "      <td>0</td>\n",
              "      <td>0</td>\n",
              "      <td>0</td>\n",
              "      <td>0</td>\n",
              "      <td>1</td>\n",
              "      <td>0</td>\n",
              "    </tr>\n",
              "    <tr>\n",
              "      <th>6105</th>\n",
              "      <td>4.51</td>\n",
              "      <td>6.44</td>\n",
              "      <td>9.02</td>\n",
              "      <td>0</td>\n",
              "      <td>0</td>\n",
              "      <td>0</td>\n",
              "      <td>0</td>\n",
              "      <td>0</td>\n",
              "      <td>0</td>\n",
              "      <td>1</td>\n",
              "      <td>...</td>\n",
              "      <td>0</td>\n",
              "      <td>0</td>\n",
              "      <td>0</td>\n",
              "      <td>0</td>\n",
              "      <td>0</td>\n",
              "      <td>0</td>\n",
              "      <td>1</td>\n",
              "      <td>0</td>\n",
              "      <td>0</td>\n",
              "      <td>0</td>\n",
              "    </tr>\n",
              "    <tr>\n",
              "      <th>6106</th>\n",
              "      <td>4.10</td>\n",
              "      <td>5.69</td>\n",
              "      <td>7.02</td>\n",
              "      <td>0</td>\n",
              "      <td>0</td>\n",
              "      <td>0</td>\n",
              "      <td>0</td>\n",
              "      <td>0</td>\n",
              "      <td>0</td>\n",
              "      <td>1</td>\n",
              "      <td>...</td>\n",
              "      <td>0</td>\n",
              "      <td>0</td>\n",
              "      <td>0</td>\n",
              "      <td>0</td>\n",
              "      <td>0</td>\n",
              "      <td>0</td>\n",
              "      <td>0</td>\n",
              "      <td>0</td>\n",
              "      <td>1</td>\n",
              "      <td>0</td>\n",
              "    </tr>\n",
              "  </tbody>\n",
              "</table>\n",
              "<p>6107 rows × 128 columns</p>\n",
              "</div>\n",
              "      <button class=\"colab-df-convert\" onclick=\"convertToInteractive('df-0d02358a-9cd9-48b5-9525-d4f8b8df341b')\"\n",
              "              title=\"Convert this dataframe to an interactive table.\"\n",
              "              style=\"display:none;\">\n",
              "        \n",
              "  <svg xmlns=\"http://www.w3.org/2000/svg\" height=\"24px\"viewBox=\"0 0 24 24\"\n",
              "       width=\"24px\">\n",
              "    <path d=\"M0 0h24v24H0V0z\" fill=\"none\"/>\n",
              "    <path d=\"M18.56 5.44l.94 2.06.94-2.06 2.06-.94-2.06-.94-.94-2.06-.94 2.06-2.06.94zm-11 1L8.5 8.5l.94-2.06 2.06-.94-2.06-.94L8.5 2.5l-.94 2.06-2.06.94zm10 10l.94 2.06.94-2.06 2.06-.94-2.06-.94-.94-2.06-.94 2.06-2.06.94z\"/><path d=\"M17.41 7.96l-1.37-1.37c-.4-.4-.92-.59-1.43-.59-.52 0-1.04.2-1.43.59L10.3 9.45l-7.72 7.72c-.78.78-.78 2.05 0 2.83L4 21.41c.39.39.9.59 1.41.59.51 0 1.02-.2 1.41-.59l7.78-7.78 2.81-2.81c.8-.78.8-2.07 0-2.86zM5.41 20L4 18.59l7.72-7.72 1.47 1.35L5.41 20z\"/>\n",
              "  </svg>\n",
              "      </button>\n",
              "      \n",
              "  <style>\n",
              "    .colab-df-container {\n",
              "      display:flex;\n",
              "      flex-wrap:wrap;\n",
              "      gap: 12px;\n",
              "    }\n",
              "\n",
              "    .colab-df-convert {\n",
              "      background-color: #E8F0FE;\n",
              "      border: none;\n",
              "      border-radius: 50%;\n",
              "      cursor: pointer;\n",
              "      display: none;\n",
              "      fill: #1967D2;\n",
              "      height: 32px;\n",
              "      padding: 0 0 0 0;\n",
              "      width: 32px;\n",
              "    }\n",
              "\n",
              "    .colab-df-convert:hover {\n",
              "      background-color: #E2EBFA;\n",
              "      box-shadow: 0px 1px 2px rgba(60, 64, 67, 0.3), 0px 1px 3px 1px rgba(60, 64, 67, 0.15);\n",
              "      fill: #174EA6;\n",
              "    }\n",
              "\n",
              "    [theme=dark] .colab-df-convert {\n",
              "      background-color: #3B4455;\n",
              "      fill: #D2E3FC;\n",
              "    }\n",
              "\n",
              "    [theme=dark] .colab-df-convert:hover {\n",
              "      background-color: #434B5C;\n",
              "      box-shadow: 0px 1px 3px 1px rgba(0, 0, 0, 0.15);\n",
              "      filter: drop-shadow(0px 1px 2px rgba(0, 0, 0, 0.3));\n",
              "      fill: #FFFFFF;\n",
              "    }\n",
              "  </style>\n",
              "\n",
              "      <script>\n",
              "        const buttonEl =\n",
              "          document.querySelector('#df-0d02358a-9cd9-48b5-9525-d4f8b8df341b button.colab-df-convert');\n",
              "        buttonEl.style.display =\n",
              "          google.colab.kernel.accessAllowed ? 'block' : 'none';\n",
              "\n",
              "        async function convertToInteractive(key) {\n",
              "          const element = document.querySelector('#df-0d02358a-9cd9-48b5-9525-d4f8b8df341b');\n",
              "          const dataTable =\n",
              "            await google.colab.kernel.invokeFunction('convertToInteractive',\n",
              "                                                     [key], {});\n",
              "          if (!dataTable) return;\n",
              "\n",
              "          const docLinkHtml = 'Like what you see? Visit the ' +\n",
              "            '<a target=\"_blank\" href=https://colab.research.google.com/notebooks/data_table.ipynb>data table notebook</a>'\n",
              "            + ' to learn more about interactive tables.';\n",
              "          element.innerHTML = '';\n",
              "          dataTable['output_type'] = 'display_data';\n",
              "          await google.colab.output.renderOutput(dataTable, element);\n",
              "          const docLink = document.createElement('div');\n",
              "          docLink.innerHTML = docLinkHtml;\n",
              "          element.appendChild(docLink);\n",
              "        }\n",
              "      </script>\n",
              "    </div>\n",
              "  </div>\n",
              "  "
            ]
          },
          "metadata": {},
          "execution_count": 45
        }
      ]
    },
    {
      "cell_type": "markdown",
      "source": [
        "# Entrenamiento y validación del modelo\n",
        "\n",
        "En esta sección se encuentra el entrenamiento y búsqueda de híper parámetros del modelo mediante los set de entrenamiento y validación."
      ],
      "metadata": {
        "id": "KnzgwSqcI-cw"
      }
    },
    {
      "cell_type": "markdown",
      "metadata": {
        "id": "b6Y5W4tVRRoH"
      },
      "source": [
        "Entreno una Regresión Logística."
      ]
    },
    {
      "cell_type": "code",
      "source": [
        "log_reg = LogisticRegression(random_state = 13, max_iter=2000)\n",
        "\n",
        "params = [\n",
        "    {'penalty': ['l1', 'l2', 'elasticnet', 'none']},\n",
        "    {'C': [0.001, 0.01,0.1,1 ,10, 100]},\n",
        "]\n",
        "\n",
        "rs = RandomizedSearchCV(log_reg, param_distributions=params, n_iter=10, random_state=13, scoring='roc_auc')"
      ],
      "metadata": {
        "id": "7eHE0ZufNlLP"
      },
      "execution_count": null,
      "outputs": []
    },
    {
      "cell_type": "code",
      "source": [
        "rs.fit(X_train, y_train)"
      ],
      "metadata": {
        "colab": {
          "base_uri": "https://localhost:8080/",
          "height": 901
        },
        "id": "So86uG-PN_Ut",
        "outputId": "f67ae85d-738d-4b4a-d8cf-2b851f039d6e"
      },
      "execution_count": null,
      "outputs": [
        {
          "output_type": "stream",
          "name": "stderr",
          "text": [
            "/usr/local/lib/python3.10/dist-packages/sklearn/linear_model/_logistic.py:1173: FutureWarning: `penalty='none'`has been deprecated in 1.2 and will be removed in 1.4. To keep the past behaviour, set `penalty=None`.\n",
            "  warnings.warn(\n",
            "/usr/local/lib/python3.10/dist-packages/sklearn/linear_model/_logistic.py:1173: FutureWarning: `penalty='none'`has been deprecated in 1.2 and will be removed in 1.4. To keep the past behaviour, set `penalty=None`.\n",
            "  warnings.warn(\n",
            "/usr/local/lib/python3.10/dist-packages/sklearn/linear_model/_logistic.py:1173: FutureWarning: `penalty='none'`has been deprecated in 1.2 and will be removed in 1.4. To keep the past behaviour, set `penalty=None`.\n",
            "  warnings.warn(\n",
            "/usr/local/lib/python3.10/dist-packages/sklearn/linear_model/_logistic.py:1173: FutureWarning: `penalty='none'`has been deprecated in 1.2 and will be removed in 1.4. To keep the past behaviour, set `penalty=None`.\n",
            "  warnings.warn(\n",
            "/usr/local/lib/python3.10/dist-packages/sklearn/linear_model/_logistic.py:1173: FutureWarning: `penalty='none'`has been deprecated in 1.2 and will be removed in 1.4. To keep the past behaviour, set `penalty=None`.\n",
            "  warnings.warn(\n",
            "/usr/local/lib/python3.10/dist-packages/sklearn/model_selection/_validation.py:378: FitFailedWarning: \n",
            "10 fits failed out of a total of 50.\n",
            "The score on these train-test partitions for these parameters will be set to nan.\n",
            "If these failures are not expected, you can try to debug them by setting error_score='raise'.\n",
            "\n",
            "Below are more details about the failures:\n",
            "--------------------------------------------------------------------------------\n",
            "5 fits failed with the following error:\n",
            "Traceback (most recent call last):\n",
            "  File \"/usr/local/lib/python3.10/dist-packages/sklearn/model_selection/_validation.py\", line 686, in _fit_and_score\n",
            "    estimator.fit(X_train, y_train, **fit_params)\n",
            "  File \"/usr/local/lib/python3.10/dist-packages/sklearn/linear_model/_logistic.py\", line 1162, in fit\n",
            "    solver = _check_solver(self.solver, self.penalty, self.dual)\n",
            "  File \"/usr/local/lib/python3.10/dist-packages/sklearn/linear_model/_logistic.py\", line 54, in _check_solver\n",
            "    raise ValueError(\n",
            "ValueError: Solver lbfgs supports only 'l2' or 'none' penalties, got l1 penalty.\n",
            "\n",
            "--------------------------------------------------------------------------------\n",
            "5 fits failed with the following error:\n",
            "Traceback (most recent call last):\n",
            "  File \"/usr/local/lib/python3.10/dist-packages/sklearn/model_selection/_validation.py\", line 686, in _fit_and_score\n",
            "    estimator.fit(X_train, y_train, **fit_params)\n",
            "  File \"/usr/local/lib/python3.10/dist-packages/sklearn/linear_model/_logistic.py\", line 1162, in fit\n",
            "    solver = _check_solver(self.solver, self.penalty, self.dual)\n",
            "  File \"/usr/local/lib/python3.10/dist-packages/sklearn/linear_model/_logistic.py\", line 54, in _check_solver\n",
            "    raise ValueError(\n",
            "ValueError: Solver lbfgs supports only 'l2' or 'none' penalties, got elasticnet penalty.\n",
            "\n",
            "  warnings.warn(some_fits_failed_message, FitFailedWarning)\n",
            "/usr/local/lib/python3.10/dist-packages/sklearn/model_selection/_search.py:952: UserWarning: One or more of the test scores are non-finite: [       nan 0.93597695        nan 0.9374179  0.86065063 0.9105792\n",
            " 0.92938704 0.93597695 0.9372724  0.93740717]\n",
            "  warnings.warn(\n",
            "/usr/local/lib/python3.10/dist-packages/sklearn/linear_model/_logistic.py:1173: FutureWarning: `penalty='none'`has been deprecated in 1.2 and will be removed in 1.4. To keep the past behaviour, set `penalty=None`.\n",
            "  warnings.warn(\n"
          ]
        },
        {
          "output_type": "execute_result",
          "data": {
            "text/plain": [
              "RandomizedSearchCV(estimator=LogisticRegression(max_iter=2000, random_state=13),\n",
              "                   param_distributions=[{'penalty': ['l1', 'l2', 'elasticnet',\n",
              "                                                     'none']},\n",
              "                                        {'C': [0.001, 0.01, 0.1, 1, 10, 100]}],\n",
              "                   random_state=13, scoring='roc_auc')"
            ],
            "text/html": [
              "<style>#sk-container-id-1 {color: black;background-color: white;}#sk-container-id-1 pre{padding: 0;}#sk-container-id-1 div.sk-toggleable {background-color: white;}#sk-container-id-1 label.sk-toggleable__label {cursor: pointer;display: block;width: 100%;margin-bottom: 0;padding: 0.3em;box-sizing: border-box;text-align: center;}#sk-container-id-1 label.sk-toggleable__label-arrow:before {content: \"▸\";float: left;margin-right: 0.25em;color: #696969;}#sk-container-id-1 label.sk-toggleable__label-arrow:hover:before {color: black;}#sk-container-id-1 div.sk-estimator:hover label.sk-toggleable__label-arrow:before {color: black;}#sk-container-id-1 div.sk-toggleable__content {max-height: 0;max-width: 0;overflow: hidden;text-align: left;background-color: #f0f8ff;}#sk-container-id-1 div.sk-toggleable__content pre {margin: 0.2em;color: black;border-radius: 0.25em;background-color: #f0f8ff;}#sk-container-id-1 input.sk-toggleable__control:checked~div.sk-toggleable__content {max-height: 200px;max-width: 100%;overflow: auto;}#sk-container-id-1 input.sk-toggleable__control:checked~label.sk-toggleable__label-arrow:before {content: \"▾\";}#sk-container-id-1 div.sk-estimator input.sk-toggleable__control:checked~label.sk-toggleable__label {background-color: #d4ebff;}#sk-container-id-1 div.sk-label input.sk-toggleable__control:checked~label.sk-toggleable__label {background-color: #d4ebff;}#sk-container-id-1 input.sk-hidden--visually {border: 0;clip: rect(1px 1px 1px 1px);clip: rect(1px, 1px, 1px, 1px);height: 1px;margin: -1px;overflow: hidden;padding: 0;position: absolute;width: 1px;}#sk-container-id-1 div.sk-estimator {font-family: monospace;background-color: #f0f8ff;border: 1px dotted black;border-radius: 0.25em;box-sizing: border-box;margin-bottom: 0.5em;}#sk-container-id-1 div.sk-estimator:hover {background-color: #d4ebff;}#sk-container-id-1 div.sk-parallel-item::after {content: \"\";width: 100%;border-bottom: 1px solid gray;flex-grow: 1;}#sk-container-id-1 div.sk-label:hover label.sk-toggleable__label {background-color: #d4ebff;}#sk-container-id-1 div.sk-serial::before {content: \"\";position: absolute;border-left: 1px solid gray;box-sizing: border-box;top: 0;bottom: 0;left: 50%;z-index: 0;}#sk-container-id-1 div.sk-serial {display: flex;flex-direction: column;align-items: center;background-color: white;padding-right: 0.2em;padding-left: 0.2em;position: relative;}#sk-container-id-1 div.sk-item {position: relative;z-index: 1;}#sk-container-id-1 div.sk-parallel {display: flex;align-items: stretch;justify-content: center;background-color: white;position: relative;}#sk-container-id-1 div.sk-item::before, #sk-container-id-1 div.sk-parallel-item::before {content: \"\";position: absolute;border-left: 1px solid gray;box-sizing: border-box;top: 0;bottom: 0;left: 50%;z-index: -1;}#sk-container-id-1 div.sk-parallel-item {display: flex;flex-direction: column;z-index: 1;position: relative;background-color: white;}#sk-container-id-1 div.sk-parallel-item:first-child::after {align-self: flex-end;width: 50%;}#sk-container-id-1 div.sk-parallel-item:last-child::after {align-self: flex-start;width: 50%;}#sk-container-id-1 div.sk-parallel-item:only-child::after {width: 0;}#sk-container-id-1 div.sk-dashed-wrapped {border: 1px dashed gray;margin: 0 0.4em 0.5em 0.4em;box-sizing: border-box;padding-bottom: 0.4em;background-color: white;}#sk-container-id-1 div.sk-label label {font-family: monospace;font-weight: bold;display: inline-block;line-height: 1.2em;}#sk-container-id-1 div.sk-label-container {text-align: center;}#sk-container-id-1 div.sk-container {/* jupyter's `normalize.less` sets `[hidden] { display: none; }` but bootstrap.min.css set `[hidden] { display: none !important; }` so we also need the `!important` here to be able to override the default hidden behavior on the sphinx rendered scikit-learn.org. See: https://github.com/scikit-learn/scikit-learn/issues/21755 */display: inline-block !important;position: relative;}#sk-container-id-1 div.sk-text-repr-fallback {display: none;}</style><div id=\"sk-container-id-1\" class=\"sk-top-container\"><div class=\"sk-text-repr-fallback\"><pre>RandomizedSearchCV(estimator=LogisticRegression(max_iter=2000, random_state=13),\n",
              "                   param_distributions=[{&#x27;penalty&#x27;: [&#x27;l1&#x27;, &#x27;l2&#x27;, &#x27;elasticnet&#x27;,\n",
              "                                                     &#x27;none&#x27;]},\n",
              "                                        {&#x27;C&#x27;: [0.001, 0.01, 0.1, 1, 10, 100]}],\n",
              "                   random_state=13, scoring=&#x27;roc_auc&#x27;)</pre><b>In a Jupyter environment, please rerun this cell to show the HTML representation or trust the notebook. <br />On GitHub, the HTML representation is unable to render, please try loading this page with nbviewer.org.</b></div><div class=\"sk-container\" hidden><div class=\"sk-item sk-dashed-wrapped\"><div class=\"sk-label-container\"><div class=\"sk-label sk-toggleable\"><input class=\"sk-toggleable__control sk-hidden--visually\" id=\"sk-estimator-id-1\" type=\"checkbox\" ><label for=\"sk-estimator-id-1\" class=\"sk-toggleable__label sk-toggleable__label-arrow\">RandomizedSearchCV</label><div class=\"sk-toggleable__content\"><pre>RandomizedSearchCV(estimator=LogisticRegression(max_iter=2000, random_state=13),\n",
              "                   param_distributions=[{&#x27;penalty&#x27;: [&#x27;l1&#x27;, &#x27;l2&#x27;, &#x27;elasticnet&#x27;,\n",
              "                                                     &#x27;none&#x27;]},\n",
              "                                        {&#x27;C&#x27;: [0.001, 0.01, 0.1, 1, 10, 100]}],\n",
              "                   random_state=13, scoring=&#x27;roc_auc&#x27;)</pre></div></div></div><div class=\"sk-parallel\"><div class=\"sk-parallel-item\"><div class=\"sk-item\"><div class=\"sk-label-container\"><div class=\"sk-label sk-toggleable\"><input class=\"sk-toggleable__control sk-hidden--visually\" id=\"sk-estimator-id-2\" type=\"checkbox\" ><label for=\"sk-estimator-id-2\" class=\"sk-toggleable__label sk-toggleable__label-arrow\">estimator: LogisticRegression</label><div class=\"sk-toggleable__content\"><pre>LogisticRegression(max_iter=2000, random_state=13)</pre></div></div></div><div class=\"sk-serial\"><div class=\"sk-item\"><div class=\"sk-estimator sk-toggleable\"><input class=\"sk-toggleable__control sk-hidden--visually\" id=\"sk-estimator-id-3\" type=\"checkbox\" ><label for=\"sk-estimator-id-3\" class=\"sk-toggleable__label sk-toggleable__label-arrow\">LogisticRegression</label><div class=\"sk-toggleable__content\"><pre>LogisticRegression(max_iter=2000, random_state=13)</pre></div></div></div></div></div></div></div></div></div></div>"
            ]
          },
          "metadata": {},
          "execution_count": 47
        }
      ]
    },
    {
      "cell_type": "code",
      "source": [
        "rs.best_params_"
      ],
      "metadata": {
        "colab": {
          "base_uri": "https://localhost:8080/"
        },
        "id": "Yir29lbsODBh",
        "outputId": "196cb928-aee3-4610-c64c-ee2aa314ccbd"
      },
      "execution_count": null,
      "outputs": [
        {
          "output_type": "execute_result",
          "data": {
            "text/plain": [
              "{'penalty': 'none'}"
            ]
          },
          "metadata": {},
          "execution_count": 48
        }
      ]
    },
    {
      "cell_type": "code",
      "source": [
        "model = rs.best_estimator_"
      ],
      "metadata": {
        "id": "AF7Rd44cbJvC"
      },
      "execution_count": null,
      "outputs": []
    },
    {
      "cell_type": "markdown",
      "source": [
        "Entreno el modelo con los mejores parámetros encontrados."
      ],
      "metadata": {
        "id": "Cdf7yEL4vZ9c"
      }
    },
    {
      "cell_type": "code",
      "source": [
        "model.fit(X_train, y_train)"
      ],
      "metadata": {
        "colab": {
          "base_uri": "https://localhost:8080/",
          "height": 129
        },
        "id": "KZrtmp6qbNbD",
        "outputId": "d8b0890a-b824-46a6-9388-da5da05ca989"
      },
      "execution_count": null,
      "outputs": [
        {
          "output_type": "stream",
          "name": "stderr",
          "text": [
            "/usr/local/lib/python3.10/dist-packages/sklearn/linear_model/_logistic.py:1173: FutureWarning: `penalty='none'`has been deprecated in 1.2 and will be removed in 1.4. To keep the past behaviour, set `penalty=None`.\n",
            "  warnings.warn(\n"
          ]
        },
        {
          "output_type": "execute_result",
          "data": {
            "text/plain": [
              "LogisticRegression(max_iter=2000, penalty='none', random_state=13)"
            ],
            "text/html": [
              "<style>#sk-container-id-2 {color: black;background-color: white;}#sk-container-id-2 pre{padding: 0;}#sk-container-id-2 div.sk-toggleable {background-color: white;}#sk-container-id-2 label.sk-toggleable__label {cursor: pointer;display: block;width: 100%;margin-bottom: 0;padding: 0.3em;box-sizing: border-box;text-align: center;}#sk-container-id-2 label.sk-toggleable__label-arrow:before {content: \"▸\";float: left;margin-right: 0.25em;color: #696969;}#sk-container-id-2 label.sk-toggleable__label-arrow:hover:before {color: black;}#sk-container-id-2 div.sk-estimator:hover label.sk-toggleable__label-arrow:before {color: black;}#sk-container-id-2 div.sk-toggleable__content {max-height: 0;max-width: 0;overflow: hidden;text-align: left;background-color: #f0f8ff;}#sk-container-id-2 div.sk-toggleable__content pre {margin: 0.2em;color: black;border-radius: 0.25em;background-color: #f0f8ff;}#sk-container-id-2 input.sk-toggleable__control:checked~div.sk-toggleable__content {max-height: 200px;max-width: 100%;overflow: auto;}#sk-container-id-2 input.sk-toggleable__control:checked~label.sk-toggleable__label-arrow:before {content: \"▾\";}#sk-container-id-2 div.sk-estimator input.sk-toggleable__control:checked~label.sk-toggleable__label {background-color: #d4ebff;}#sk-container-id-2 div.sk-label input.sk-toggleable__control:checked~label.sk-toggleable__label {background-color: #d4ebff;}#sk-container-id-2 input.sk-hidden--visually {border: 0;clip: rect(1px 1px 1px 1px);clip: rect(1px, 1px, 1px, 1px);height: 1px;margin: -1px;overflow: hidden;padding: 0;position: absolute;width: 1px;}#sk-container-id-2 div.sk-estimator {font-family: monospace;background-color: #f0f8ff;border: 1px dotted black;border-radius: 0.25em;box-sizing: border-box;margin-bottom: 0.5em;}#sk-container-id-2 div.sk-estimator:hover {background-color: #d4ebff;}#sk-container-id-2 div.sk-parallel-item::after {content: \"\";width: 100%;border-bottom: 1px solid gray;flex-grow: 1;}#sk-container-id-2 div.sk-label:hover label.sk-toggleable__label {background-color: #d4ebff;}#sk-container-id-2 div.sk-serial::before {content: \"\";position: absolute;border-left: 1px solid gray;box-sizing: border-box;top: 0;bottom: 0;left: 50%;z-index: 0;}#sk-container-id-2 div.sk-serial {display: flex;flex-direction: column;align-items: center;background-color: white;padding-right: 0.2em;padding-left: 0.2em;position: relative;}#sk-container-id-2 div.sk-item {position: relative;z-index: 1;}#sk-container-id-2 div.sk-parallel {display: flex;align-items: stretch;justify-content: center;background-color: white;position: relative;}#sk-container-id-2 div.sk-item::before, #sk-container-id-2 div.sk-parallel-item::before {content: \"\";position: absolute;border-left: 1px solid gray;box-sizing: border-box;top: 0;bottom: 0;left: 50%;z-index: -1;}#sk-container-id-2 div.sk-parallel-item {display: flex;flex-direction: column;z-index: 1;position: relative;background-color: white;}#sk-container-id-2 div.sk-parallel-item:first-child::after {align-self: flex-end;width: 50%;}#sk-container-id-2 div.sk-parallel-item:last-child::after {align-self: flex-start;width: 50%;}#sk-container-id-2 div.sk-parallel-item:only-child::after {width: 0;}#sk-container-id-2 div.sk-dashed-wrapped {border: 1px dashed gray;margin: 0 0.4em 0.5em 0.4em;box-sizing: border-box;padding-bottom: 0.4em;background-color: white;}#sk-container-id-2 div.sk-label label {font-family: monospace;font-weight: bold;display: inline-block;line-height: 1.2em;}#sk-container-id-2 div.sk-label-container {text-align: center;}#sk-container-id-2 div.sk-container {/* jupyter's `normalize.less` sets `[hidden] { display: none; }` but bootstrap.min.css set `[hidden] { display: none !important; }` so we also need the `!important` here to be able to override the default hidden behavior on the sphinx rendered scikit-learn.org. See: https://github.com/scikit-learn/scikit-learn/issues/21755 */display: inline-block !important;position: relative;}#sk-container-id-2 div.sk-text-repr-fallback {display: none;}</style><div id=\"sk-container-id-2\" class=\"sk-top-container\"><div class=\"sk-text-repr-fallback\"><pre>LogisticRegression(max_iter=2000, penalty=&#x27;none&#x27;, random_state=13)</pre><b>In a Jupyter environment, please rerun this cell to show the HTML representation or trust the notebook. <br />On GitHub, the HTML representation is unable to render, please try loading this page with nbviewer.org.</b></div><div class=\"sk-container\" hidden><div class=\"sk-item\"><div class=\"sk-estimator sk-toggleable\"><input class=\"sk-toggleable__control sk-hidden--visually\" id=\"sk-estimator-id-4\" type=\"checkbox\" checked><label for=\"sk-estimator-id-4\" class=\"sk-toggleable__label sk-toggleable__label-arrow\">LogisticRegression</label><div class=\"sk-toggleable__content\"><pre>LogisticRegression(max_iter=2000, penalty=&#x27;none&#x27;, random_state=13)</pre></div></div></div></div></div>"
            ]
          },
          "metadata": {},
          "execution_count": 50
        }
      ]
    },
    {
      "cell_type": "markdown",
      "source": [
        "Utilizo el set de validación para la búsqueda de los híper parámetros."
      ],
      "metadata": {
        "id": "1Jm6yY1kZ9if"
      }
    },
    {
      "cell_type": "code",
      "source": [
        "y_pred_validation = model.predict(X_validation)"
      ],
      "metadata": {
        "id": "ajrym4KTbR9t"
      },
      "execution_count": null,
      "outputs": []
    },
    {
      "cell_type": "code",
      "source": [
        "y_pred_validation"
      ],
      "metadata": {
        "colab": {
          "base_uri": "https://localhost:8080/"
        },
        "id": "MCG1efQEbacw",
        "outputId": "1bfaca39-2305-4682-f35c-0f64408b8806"
      },
      "execution_count": null,
      "outputs": [
        {
          "output_type": "execute_result",
          "data": {
            "text/plain": [
              "array([1, 1, 1, ..., 0, 0, 0])"
            ]
          },
          "metadata": {},
          "execution_count": 52
        }
      ]
    },
    {
      "cell_type": "markdown",
      "source": [
        "Realizo una matriz de confusión para el set de validación."
      ],
      "metadata": {
        "id": "DuCG0rN0aXJx"
      }
    },
    {
      "cell_type": "code",
      "source": [
        "matriz_confusion_validation = confusion_matrix(y_validation, y_pred_validation)"
      ],
      "metadata": {
        "id": "FpA3ucCCaTsg"
      },
      "execution_count": null,
      "outputs": []
    },
    {
      "cell_type": "code",
      "source": [
        "matriz_confusion_validation"
      ],
      "metadata": {
        "colab": {
          "base_uri": "https://localhost:8080/"
        },
        "id": "DuEttHYaafDH",
        "outputId": "6d8ec635-4cb1-4dab-c5aa-2701e91690fe"
      },
      "execution_count": null,
      "outputs": [
        {
          "output_type": "execute_result",
          "data": {
            "text/plain": [
              "array([[2320,  403],\n",
              "       [ 420, 2964]])"
            ]
          },
          "metadata": {},
          "execution_count": 54
        }
      ]
    },
    {
      "cell_type": "code",
      "source": [
        "sns.heatmap(matriz_confusion_validation, annot=True, cmap='Blues', fmt='g')\n",
        "plt.title('Matriz de Confusión')\n",
        "plt.xlabel('Predicción')\n",
        "plt.ylabel('Actual')\n",
        "plt.show()"
      ],
      "metadata": {
        "colab": {
          "base_uri": "https://localhost:8080/",
          "height": 472
        },
        "id": "zTk3H3xIahq4",
        "outputId": "80208546-3133-4f5d-a37e-821673ee217d"
      },
      "execution_count": null,
      "outputs": [
        {
          "output_type": "display_data",
          "data": {
            "text/plain": [
              "<Figure size 640x480 with 2 Axes>"
            ],
            "image/png": "[encoded data removed]"
          },
          "metadata": {}
        }
      ]
    },
    {
      "cell_type": "markdown",
      "source": [
        "Doy las mediciones del set de validación.\n"
      ],
      "metadata": {
        "id": "DwgI5qLcDllx"
      }
    },
    {
      "cell_type": "code",
      "source": [
        "roc_auc = roc_auc_score(y_validation, model.predict_proba(X_validation)[:, 1])\n",
        "print(\"ROC AUC SCORE:\", roc_auc)"
      ],
      "metadata": {
        "colab": {
          "base_uri": "https://localhost:8080/"
        },
        "id": "t3CLg8Oibw1a",
        "outputId": "71c8b922-8673-4129-af20-267eed315852"
      },
      "execution_count": null,
      "outputs": [
        {
          "output_type": "stream",
          "name": "stdout",
          "text": [
            "ROC AUC SCORE: 0.9385660762144381\n"
          ]
        }
      ]
    },
    {
      "cell_type": "code",
      "source": [
        "accuracy = accuracy_score(y_validation, y_pred_validation)\n",
        "print(\"ACCURACY SCORE:\", accuracy)"
      ],
      "metadata": {
        "colab": {
          "base_uri": "https://localhost:8080/"
        },
        "id": "_hzCa92hcGz0",
        "outputId": "ba92fe8d-df94-420c-bc7a-de19e3522c69"
      },
      "execution_count": null,
      "outputs": [
        {
          "output_type": "stream",
          "name": "stdout",
          "text": [
            "ACCURACY SCORE: 0.8652366137219584\n"
          ]
        }
      ]
    },
    {
      "cell_type": "markdown",
      "source": [
        "# Pruebas realizadas\n",
        "\n",
        "En esta sección están las pruebas realizados con el set de validación en busca de los híper parámetros. Cabe aclarar que al ser un modelo más simple que los otros, no se profundizo demasiado en esta sección.\n"
      ],
      "metadata": {
        "id": "0tY3iDH7EBpz"
      }
    },
    {
      "cell_type": "markdown",
      "source": [
        "Pruebas:\n",
        "* Prueba 1: Con \"C\" = 10 y todos los demás parámetros por defecto sin convergencia del modelo:\n",
        "ROC AUC SCORE: 0.9312605213100209, ACCURACY SCORE: 0.8550843294579991, Matriz de confusión:([[2302,421],[ 464,2920]]).\n",
        "\n",
        "* Prueba 2: Con \"penalty\" = \"none\", \"max iter\" = 500 y todos los demás parámetros por defecto sin convergencia del modelo:\n",
        "ROC AUC SCORE: 0.9385575028932247, ACCURACY SCORE: 0.8634354019977075, Matriz de confusión:([[2314,409],[ 425,2959]]).\n",
        "\n",
        "* Prueba 3: Con \"C\" = 100, max iter = 1000 y todos los demás parámetros por defeco sin convergencia del modelo:\n",
        "ROC AUC SCORE: 0.9385584796007046, ACCURACY SCORE: 0.8652366137219584, Matriz de confusión:([[2320,403],[ 420,2964]]).\n",
        "\n",
        "* Prueba 4: Con \"penality\" = \"none\", \"max iter\" = 2000 y todos los demás parámetros por defeco con convergencia del modelo:\n",
        "ROC AUC SCORE: 0.9385660762144381, ACCURACY SCORE: 0.8652366137219584, Matriz de confusión:([[2320,403],[420,2964]]).\n",
        "\n",
        "Como puede verse, con respecto al set de validación, el mejor Roc Auc Score para las pruebas realizadas es de\n",
        "0.9385660762144381, el cual, es la métrica utilizada en este informe para evaluar la eficacia del metodo utilizado.\n",
        "Para este modelo,  la diferencia de las métricas obtenidas durante todas las pruebas, resulta ser  mínima; en donde el modelo no se pensó para ser perfecto, sino que sea un modelo simple y que cumpla con lo pedido por la consigna.\n"
      ],
      "metadata": {
        "id": "D8AXFw8fih8d"
      }
    },
    {
      "cell_type": "markdown",
      "source": [
        "# Testeo del modelo con el set de testeo\n",
        "\n",
        "La idea de esta seccion es ver algunas metricas del modelo final.\n"
      ],
      "metadata": {
        "id": "1ZiJsxO0vfFx"
      }
    },
    {
      "cell_type": "code",
      "source": [
        "y_pred_test = model.predict(X_test)"
      ],
      "metadata": {
        "id": "vQ-cG1AuuvlY"
      },
      "execution_count": null,
      "outputs": []
    },
    {
      "cell_type": "markdown",
      "source": [
        "Realizo una matriz de confusión para el set de testeo."
      ],
      "metadata": {
        "id": "OdrBCKJCwF8S"
      }
    },
    {
      "cell_type": "code",
      "source": [
        "matriz_confusion_test = confusion_matrix(y_test, y_pred_test)"
      ],
      "metadata": {
        "id": "1xtfLniCwKuS"
      },
      "execution_count": null,
      "outputs": []
    },
    {
      "cell_type": "code",
      "source": [
        "sns.heatmap(matriz_confusion_test, annot=True, cmap='Blues', fmt='g')\n",
        "plt.title('Matriz de Confusión')\n",
        "plt.xlabel('Predicción')\n",
        "plt.ylabel('Actual')\n",
        "plt.show()"
      ],
      "metadata": {
        "colab": {
          "base_uri": "https://localhost:8080/",
          "height": 472
        },
        "id": "WP7jL7uXwUUZ",
        "outputId": "6bcb11d7-0fa8-4f06-ea49-28e79609faf6"
      },
      "execution_count": null,
      "outputs": [
        {
          "output_type": "display_data",
          "data": {
            "text/plain": [
              "<Figure size 640x480 with 2 Axes>"
            ],
            "image/png": "[encoded data removed]"
          },
          "metadata": {}
        }
      ]
    },
    {
      "cell_type": "markdown",
      "source": [
        "Doy las métricas del set de testeo."
      ],
      "metadata": {
        "id": "B8wfnmoWwZHx"
      }
    },
    {
      "cell_type": "code",
      "source": [
        "roc_auc_test = roc_auc_score(y_test, model.predict_proba(X_test)[:, 1])\n",
        "print(\"ROC AUC SCORE:\", roc_auc_test)"
      ],
      "metadata": {
        "colab": {
          "base_uri": "https://localhost:8080/"
        },
        "id": "ulw8mwC5wdwa",
        "outputId": "75f665ac-9c3f-4c39-d4a8-516ebc57d37d"
      },
      "execution_count": null,
      "outputs": [
        {
          "output_type": "stream",
          "name": "stdout",
          "text": [
            "ROC AUC SCORE: 0.9387020609811669\n"
          ]
        }
      ]
    },
    {
      "cell_type": "code",
      "source": [
        "accuracy = accuracy_score(y_test, y_pred_test)\n",
        "print(\"ACCURACY SCORE:\", accuracy)"
      ],
      "metadata": {
        "colab": {
          "base_uri": "https://localhost:8080/"
        },
        "id": "AFyEQcV5wmcr",
        "outputId": "d0dc6320-b528-4431-9e9c-a1cfc31dee1f"
      },
      "execution_count": null,
      "outputs": [
        {
          "output_type": "stream",
          "name": "stdout",
          "text": [
            "ACCURACY SCORE: 0.8603242181103652\n"
          ]
        }
      ]
    },
    {
      "cell_type": "markdown",
      "source": [
        "En este caso el score obtenido es muy similar al de validación, el cual, en  ROC AUC SCORE, da 0. 9387020609811669. A continuación doy un archivo.csv con las predicciones."
      ],
      "metadata": {
        "id": "_LzWSAfPxBj4"
      }
    },
    {
      "cell_type": "code",
      "source": [
        "df_test = pd.DataFrame(y_test)"
      ],
      "metadata": {
        "id": "uFZ5C2FJxR6U"
      },
      "execution_count": null,
      "outputs": []
    },
    {
      "cell_type": "code",
      "source": [
        "df_test.columns = ['Actual']"
      ],
      "metadata": {
        "id": "CBUcrdXGxh8A"
      },
      "execution_count": null,
      "outputs": []
    },
    {
      "cell_type": "code",
      "source": [
        "df_test[\"Prediccion\"] = y_pred_test"
      ],
      "metadata": {
        "id": "tRcm47K2xqqm"
      },
      "execution_count": null,
      "outputs": []
    },
    {
      "cell_type": "code",
      "source": [
        "df_test"
      ],
      "metadata": {
        "colab": {
          "base_uri": "https://localhost:8080/",
          "height": 424
        },
        "id": "DgmVDipRx4Ma",
        "outputId": "dce7fbe8-df78-448c-feb1-e51968265792"
      },
      "execution_count": null,
      "outputs": [
        {
          "output_type": "execute_result",
          "data": {
            "text/plain": [
              "       Actual  Prediccion\n",
              "22594       1           1\n",
              "60018       1           1\n",
              "38408       1           1\n",
              "43407       1           1\n",
              "52538       0           0\n",
              "...       ...         ...\n",
              "53557       1           1\n",
              "35871       1           1\n",
              "51464       0           0\n",
              "37312       1           1\n",
              "19368       1           1\n",
              "\n",
              "[6107 rows x 2 columns]"
            ],
            "text/html": [
              "\n",
              "  <div id=\"df-f1cf5a57-e1ac-4afd-89cb-d37e0f64ed56\">\n",
              "    <div class=\"colab-df-container\">\n",
              "      <div>\n",
              "<style scoped>\n",
              "    .dataframe tbody tr th:only-of-type {\n",
              "        vertical-align: middle;\n",
              "    }\n",
              "\n",
              "    .dataframe tbody tr th {\n",
              "        vertical-align: top;\n",
              "    }\n",
              "\n",
              "    .dataframe thead th {\n",
              "        text-align: right;\n",
              "    }\n",
              "</style>\n",
              "<table border=\"1\" class=\"dataframe\">\n",
              "  <thead>\n",
              "    <tr style=\"text-align: right;\">\n",
              "      <th></th>\n",
              "      <th>Actual</th>\n",
              "      <th>Prediccion</th>\n",
              "    </tr>\n",
              "  </thead>\n",
              "  <tbody>\n",
              "    <tr>\n",
              "      <th>22594</th>\n",
              "      <td>1</td>\n",
              "      <td>1</td>\n",
              "    </tr>\n",
              "    <tr>\n",
              "      <th>60018</th>\n",
              "      <td>1</td>\n",
              "      <td>1</td>\n",
              "    </tr>\n",
              "    <tr>\n",
              "      <th>38408</th>\n",
              "      <td>1</td>\n",
              "      <td>1</td>\n",
              "    </tr>\n",
              "    <tr>\n",
              "      <th>43407</th>\n",
              "      <td>1</td>\n",
              "      <td>1</td>\n",
              "    </tr>\n",
              "    <tr>\n",
              "      <th>52538</th>\n",
              "      <td>0</td>\n",
              "      <td>0</td>\n",
              "    </tr>\n",
              "    <tr>\n",
              "      <th>...</th>\n",
              "      <td>...</td>\n",
              "      <td>...</td>\n",
              "    </tr>\n",
              "    <tr>\n",
              "      <th>53557</th>\n",
              "      <td>1</td>\n",
              "      <td>1</td>\n",
              "    </tr>\n",
              "    <tr>\n",
              "      <th>35871</th>\n",
              "      <td>1</td>\n",
              "      <td>1</td>\n",
              "    </tr>\n",
              "    <tr>\n",
              "      <th>51464</th>\n",
              "      <td>0</td>\n",
              "      <td>0</td>\n",
              "    </tr>\n",
              "    <tr>\n",
              "      <th>37312</th>\n",
              "      <td>1</td>\n",
              "      <td>1</td>\n",
              "    </tr>\n",
              "    <tr>\n",
              "      <th>19368</th>\n",
              "      <td>1</td>\n",
              "      <td>1</td>\n",
              "    </tr>\n",
              "  </tbody>\n",
              "</table>\n",
              "<p>6107 rows × 2 columns</p>\n",
              "</div>\n",
              "      <button class=\"colab-df-convert\" onclick=\"convertToInteractive('df-f1cf5a57-e1ac-4afd-89cb-d37e0f64ed56')\"\n",
              "              title=\"Convert this dataframe to an interactive table.\"\n",
              "              style=\"display:none;\">\n",
              "        \n",
              "  <svg xmlns=\"http://www.w3.org/2000/svg\" height=\"24px\"viewBox=\"0 0 24 24\"\n",
              "       width=\"24px\">\n",
              "    <path d=\"M0 0h24v24H0V0z\" fill=\"none\"/>\n",
              "    <path d=\"M18.56 5.44l.94 2.06.94-2.06 2.06-.94-2.06-.94-.94-2.06-.94 2.06-2.06.94zm-11 1L8.5 8.5l.94-2.06 2.06-.94-2.06-.94L8.5 2.5l-.94 2.06-2.06.94zm10 10l.94 2.06.94-2.06 2.06-.94-2.06-.94-.94-2.06-.94 2.06-2.06.94z\"/><path d=\"M17.41 7.96l-1.37-1.37c-.4-.4-.92-.59-1.43-.59-.52 0-1.04.2-1.43.59L10.3 9.45l-7.72 7.72c-.78.78-.78 2.05 0 2.83L4 21.41c.39.39.9.59 1.41.59.51 0 1.02-.2 1.41-.59l7.78-7.78 2.81-2.81c.8-.78.8-2.07 0-2.86zM5.41 20L4 18.59l7.72-7.72 1.47 1.35L5.41 20z\"/>\n",
              "  </svg>\n",
              "      </button>\n",
              "      \n",
              "  <style>\n",
              "    .colab-df-container {\n",
              "      display:flex;\n",
              "      flex-wrap:wrap;\n",
              "      gap: 12px;\n",
              "    }\n",
              "\n",
              "    .colab-df-convert {\n",
              "      background-color: #E8F0FE;\n",
              "      border: none;\n",
              "      border-radius: 50%;\n",
              "      cursor: pointer;\n",
              "      display: none;\n",
              "      fill: #1967D2;\n",
              "      height: 32px;\n",
              "      padding: 0 0 0 0;\n",
              "      width: 32px;\n",
              "    }\n",
              "\n",
              "    .colab-df-convert:hover {\n",
              "      background-color: #E2EBFA;\n",
              "      box-shadow: 0px 1px 2px rgba(60, 64, 67, 0.3), 0px 1px 3px 1px rgba(60, 64, 67, 0.15);\n",
              "      fill: #174EA6;\n",
              "    }\n",
              "\n",
              "    [theme=dark] .colab-df-convert {\n",
              "      background-color: #3B4455;\n",
              "      fill: #D2E3FC;\n",
              "    }\n",
              "\n",
              "    [theme=dark] .colab-df-convert:hover {\n",
              "      background-color: #434B5C;\n",
              "      box-shadow: 0px 1px 3px 1px rgba(0, 0, 0, 0.15);\n",
              "      filter: drop-shadow(0px 1px 2px rgba(0, 0, 0, 0.3));\n",
              "      fill: #FFFFFF;\n",
              "    }\n",
              "  </style>\n",
              "\n",
              "      <script>\n",
              "        const buttonEl =\n",
              "          document.querySelector('#df-f1cf5a57-e1ac-4afd-89cb-d37e0f64ed56 button.colab-df-convert');\n",
              "        buttonEl.style.display =\n",
              "          google.colab.kernel.accessAllowed ? 'block' : 'none';\n",
              "\n",
              "        async function convertToInteractive(key) {\n",
              "          const element = document.querySelector('#df-f1cf5a57-e1ac-4afd-89cb-d37e0f64ed56');\n",
              "          const dataTable =\n",
              "            await google.colab.kernel.invokeFunction('convertToInteractive',\n",
              "                                                     [key], {});\n",
              "          if (!dataTable) return;\n",
              "\n",
              "          const docLinkHtml = 'Like what you see? Visit the ' +\n",
              "            '<a target=\"_blank\" href=https://colab.research.google.com/notebooks/data_table.ipynb>data table notebook</a>'\n",
              "            + ' to learn more about interactive tables.';\n",
              "          element.innerHTML = '';\n",
              "          dataTable['output_type'] = 'display_data';\n",
              "          await google.colab.output.renderOutput(dataTable, element);\n",
              "          const docLink = document.createElement('div');\n",
              "          docLink.innerHTML = docLinkHtml;\n",
              "          element.appendChild(docLink);\n",
              "        }\n",
              "      </script>\n",
              "    </div>\n",
              "  </div>\n",
              "  "
            ]
          },
          "metadata": {},
          "execution_count": 69
        }
      ]
    },
    {
      "cell_type": "code",
      "source": [
        "df_test.to_csv('test.csv')"
      ],
      "metadata": {
        "id": "SwNfHzoazqbj"
      },
      "execution_count": null,
      "outputs": []
    },
    {
      "cell_type": "markdown",
      "source": [
        "El archivo.csv aparecerá para descargarse en la notebook."
      ],
      "metadata": {
        "id": "c7bK_EK31pRn"
      }
    },
    {
      "cell_type": "markdown",
      "source": [
        "# Importancia de las Features\n",
        "\n",
        "En esta sección se encuentra la importancia de las features de la Regresión Logística."
      ],
      "metadata": {
        "id": "WTWjFJnmjRkz"
      }
    },
    {
      "cell_type": "code",
      "source": [
        "# Suma todas las importancias de las features dado un data frame de importancias individuales, uno con las importancias\n",
        "# sumadas, las features individuales y la feature a la que pertenecen.\n",
        "def sumar_importancias(df_importancias, df_importancias_sumadas, features_individuales, feature):\n",
        "\n",
        "  suma_importancias = 0\n",
        "\n",
        "  for i in features_individuales:\n",
        "    suma_importancias += df_importancias[i].sum()\n",
        "  df_importancias_sumadas[feature] = suma_importancias"
      ],
      "metadata": {
        "id": "xjlwbLAxjK3m"
      },
      "execution_count": null,
      "outputs": []
    },
    {
      "cell_type": "code",
      "source": [
        "importancias_individuales = pd.DataFrame(np.abs(model.coef_[0])).T\n",
        "importancias_individuales.columns = X_train.columns\n",
        "importancias_sumadas = pd.DataFrame()\n",
        "importancias_sumadas['cap-diameter'] = importancias_individuales['cap-diameter']\n",
        "importancias_sumadas['stem-height'] = importancias_individuales['stem-height']\n",
        "importancias_sumadas['stem-width'] = importancias_individuales['stem-width']\n",
        "sumar_importancias(importancias_individuales, importancias_sumadas, ['b0','c0','f0','o0','p0','s0','x0'], 'cap-shape')\n",
        "sumar_importancias(importancias_individuales, importancias_sumadas, ['e1','g1','h1','i1','k1','l1','o1','s1','t1','w1','y1'], 'cap-surface')\n",
        "sumar_importancias(importancias_individuales, importancias_sumadas, ['b2','e2','g2','k2','l2','n2','o2','p2','r2','u2','w2','y2'], 'cap-color')\n",
        "sumar_importancias(importancias_individuales, importancias_sumadas, ['f3', 't3'], 'does-bruise-or-bleed')\n",
        "sumar_importancias(importancias_individuales, importancias_sumadas, ['a4','d4','e4','f4','o4','p4','s4','x4'], 'gill-attachment')\n",
        "sumar_importancias(importancias_individuales, importancias_sumadas, ['c5','d5','f5','o5'], 'gill-spacing')\n",
        "sumar_importancias(importancias_individuales, importancias_sumadas, ['b6','e6','f6','g6','k6','n6','o6', 'p6','r6','u6','w6','y6'], 'gill-color')\n",
        "sumar_importancias(importancias_individuales, importancias_sumadas, ['b7','c7','f7','o7','r7','s7'], 'stem-root')\n",
        "sumar_importancias(importancias_individuales, importancias_sumadas, ['f8','g8','h8','i8','k8','o8','s8','t8','y8'], 'stem-surface')\n",
        "sumar_importancias(importancias_individuales, importancias_sumadas, ['b9','e9','f9','g9','k9','l9','n9','o9','p9','r9','u9','w9','y9'], 'stem-color')\n",
        "sumar_importancias(importancias_individuales, importancias_sumadas, ['f10','p10','u10'], 'veil-type')\n",
        "sumar_importancias(importancias_individuales, importancias_sumadas, ['e11','h11','n11','o11','u11','w11','y11'], 'veil-color')\n",
        "sumar_importancias(importancias_individuales, importancias_sumadas, ['f12','t12'], 'has-ring')\n",
        "sumar_importancias(importancias_individuales, importancias_sumadas, ['e13','f13','g13','l13','m13','o13','p13','r13','z13'], 'ring-type')\n",
        "sumar_importancias(importancias_individuales, importancias_sumadas, ['g14','k14','n14','o14','p14','r14','u14','w14'], 'spore-print-color')\n",
        "sumar_importancias(importancias_individuales, importancias_sumadas, ['d15','g15','h15','l15','m15','p15','u15','w15'], 'habitat')\n",
        "sumar_importancias(importancias_individuales, importancias_sumadas, ['a16','s16','u16','w16'], 'season')\n",
        "importancias_sumadas = importancias_sumadas.T.rename(columns={0:\"Importancia\"})"
      ],
      "metadata": {
        "id": "0NoJmZ3lj_uJ"
      },
      "execution_count": null,
      "outputs": []
    },
    {
      "cell_type": "code",
      "source": [
        "importancias_sumadas"
      ],
      "metadata": {
        "colab": {
          "base_uri": "https://localhost:8080/",
          "height": 677
        },
        "id": "QgIyxHunlhkE",
        "outputId": "0e555dff-f614-44ac-fac7-9020112c3f3d"
      },
      "execution_count": null,
      "outputs": [
        {
          "output_type": "execute_result",
          "data": {
            "text/plain": [
              "                      Importancia\n",
              "cap-diameter             0.046432\n",
              "stem-height              0.116543\n",
              "stem-width               0.023430\n",
              "cap-shape                8.952411\n",
              "cap-surface             12.303319\n",
              "cap-color               13.586107\n",
              "does-bruise-or-bleed     6.865965\n",
              "gill-attachment         15.139951\n",
              "gill-spacing             6.865965\n",
              "gill-color               8.870241\n",
              "stem-root               66.441403\n",
              "stem-surface            66.172674\n",
              "stem-color              36.633200\n",
              "veil-type               23.493143\n",
              "veil-color             126.071178\n",
              "has-ring                 6.865965\n",
              "ring-type               80.440801\n",
              "spore-print-color       62.147846\n",
              "habitat                 55.784353\n",
              "season                   6.865965"
            ],
            "text/html": [
              "\n",
              "  <div id=\"df-a7364adf-341a-46db-8f23-3b5d2f86fa21\">\n",
              "    <div class=\"colab-df-container\">\n",
              "      <div>\n",
              "<style scoped>\n",
              "    .dataframe tbody tr th:only-of-type {\n",
              "        vertical-align: middle;\n",
              "    }\n",
              "\n",
              "    .dataframe tbody tr th {\n",
              "        vertical-align: top;\n",
              "    }\n",
              "\n",
              "    .dataframe thead th {\n",
              "        text-align: right;\n",
              "    }\n",
              "</style>\n",
              "<table border=\"1\" class=\"dataframe\">\n",
              "  <thead>\n",
              "    <tr style=\"text-align: right;\">\n",
              "      <th></th>\n",
              "      <th>Importancia</th>\n",
              "    </tr>\n",
              "  </thead>\n",
              "  <tbody>\n",
              "    <tr>\n",
              "      <th>cap-diameter</th>\n",
              "      <td>0.046432</td>\n",
              "    </tr>\n",
              "    <tr>\n",
              "      <th>stem-height</th>\n",
              "      <td>0.116543</td>\n",
              "    </tr>\n",
              "    <tr>\n",
              "      <th>stem-width</th>\n",
              "      <td>0.023430</td>\n",
              "    </tr>\n",
              "    <tr>\n",
              "      <th>cap-shape</th>\n",
              "      <td>8.952411</td>\n",
              "    </tr>\n",
              "    <tr>\n",
              "      <th>cap-surface</th>\n",
              "      <td>12.303319</td>\n",
              "    </tr>\n",
              "    <tr>\n",
              "      <th>cap-color</th>\n",
              "      <td>13.586107</td>\n",
              "    </tr>\n",
              "    <tr>\n",
              "      <th>does-bruise-or-bleed</th>\n",
              "      <td>6.865965</td>\n",
              "    </tr>\n",
              "    <tr>\n",
              "      <th>gill-attachment</th>\n",
              "      <td>15.139951</td>\n",
              "    </tr>\n",
              "    <tr>\n",
              "      <th>gill-spacing</th>\n",
              "      <td>6.865965</td>\n",
              "    </tr>\n",
              "    <tr>\n",
              "      <th>gill-color</th>\n",
              "      <td>8.870241</td>\n",
              "    </tr>\n",
              "    <tr>\n",
              "      <th>stem-root</th>\n",
              "      <td>66.441403</td>\n",
              "    </tr>\n",
              "    <tr>\n",
              "      <th>stem-surface</th>\n",
              "      <td>66.172674</td>\n",
              "    </tr>\n",
              "    <tr>\n",
              "      <th>stem-color</th>\n",
              "      <td>36.633200</td>\n",
              "    </tr>\n",
              "    <tr>\n",
              "      <th>veil-type</th>\n",
              "      <td>23.493143</td>\n",
              "    </tr>\n",
              "    <tr>\n",
              "      <th>veil-color</th>\n",
              "      <td>126.071178</td>\n",
              "    </tr>\n",
              "    <tr>\n",
              "      <th>has-ring</th>\n",
              "      <td>6.865965</td>\n",
              "    </tr>\n",
              "    <tr>\n",
              "      <th>ring-type</th>\n",
              "      <td>80.440801</td>\n",
              "    </tr>\n",
              "    <tr>\n",
              "      <th>spore-print-color</th>\n",
              "      <td>62.147846</td>\n",
              "    </tr>\n",
              "    <tr>\n",
              "      <th>habitat</th>\n",
              "      <td>55.784353</td>\n",
              "    </tr>\n",
              "    <tr>\n",
              "      <th>season</th>\n",
              "      <td>6.865965</td>\n",
              "    </tr>\n",
              "  </tbody>\n",
              "</table>\n",
              "</div>\n",
              "      <button class=\"colab-df-convert\" onclick=\"convertToInteractive('df-a7364adf-341a-46db-8f23-3b5d2f86fa21')\"\n",
              "              title=\"Convert this dataframe to an interactive table.\"\n",
              "              style=\"display:none;\">\n",
              "        \n",
              "  <svg xmlns=\"http://www.w3.org/2000/svg\" height=\"24px\"viewBox=\"0 0 24 24\"\n",
              "       width=\"24px\">\n",
              "    <path d=\"M0 0h24v24H0V0z\" fill=\"none\"/>\n",
              "    <path d=\"M18.56 5.44l.94 2.06.94-2.06 2.06-.94-2.06-.94-.94-2.06-.94 2.06-2.06.94zm-11 1L8.5 8.5l.94-2.06 2.06-.94-2.06-.94L8.5 2.5l-.94 2.06-2.06.94zm10 10l.94 2.06.94-2.06 2.06-.94-2.06-.94-.94-2.06-.94 2.06-2.06.94z\"/><path d=\"M17.41 7.96l-1.37-1.37c-.4-.4-.92-.59-1.43-.59-.52 0-1.04.2-1.43.59L10.3 9.45l-7.72 7.72c-.78.78-.78 2.05 0 2.83L4 21.41c.39.39.9.59 1.41.59.51 0 1.02-.2 1.41-.59l7.78-7.78 2.81-2.81c.8-.78.8-2.07 0-2.86zM5.41 20L4 18.59l7.72-7.72 1.47 1.35L5.41 20z\"/>\n",
              "  </svg>\n",
              "      </button>\n",
              "      \n",
              "  <style>\n",
              "    .colab-df-container {\n",
              "      display:flex;\n",
              "      flex-wrap:wrap;\n",
              "      gap: 12px;\n",
              "    }\n",
              "\n",
              "    .colab-df-convert {\n",
              "      background-color: #E8F0FE;\n",
              "      border: none;\n",
              "      border-radius: 50%;\n",
              "      cursor: pointer;\n",
              "      display: none;\n",
              "      fill: #1967D2;\n",
              "      height: 32px;\n",
              "      padding: 0 0 0 0;\n",
              "      width: 32px;\n",
              "    }\n",
              "\n",
              "    .colab-df-convert:hover {\n",
              "      background-color: #E2EBFA;\n",
              "      box-shadow: 0px 1px 2px rgba(60, 64, 67, 0.3), 0px 1px 3px 1px rgba(60, 64, 67, 0.15);\n",
              "      fill: #174EA6;\n",
              "    }\n",
              "\n",
              "    [theme=dark] .colab-df-convert {\n",
              "      background-color: #3B4455;\n",
              "      fill: #D2E3FC;\n",
              "    }\n",
              "\n",
              "    [theme=dark] .colab-df-convert:hover {\n",
              "      background-color: #434B5C;\n",
              "      box-shadow: 0px 1px 3px 1px rgba(0, 0, 0, 0.15);\n",
              "      filter: drop-shadow(0px 1px 2px rgba(0, 0, 0, 0.3));\n",
              "      fill: #FFFFFF;\n",
              "    }\n",
              "  </style>\n",
              "\n",
              "      <script>\n",
              "        const buttonEl =\n",
              "          document.querySelector('#df-a7364adf-341a-46db-8f23-3b5d2f86fa21 button.colab-df-convert');\n",
              "        buttonEl.style.display =\n",
              "          google.colab.kernel.accessAllowed ? 'block' : 'none';\n",
              "\n",
              "        async function convertToInteractive(key) {\n",
              "          const element = document.querySelector('#df-a7364adf-341a-46db-8f23-3b5d2f86fa21');\n",
              "          const dataTable =\n",
              "            await google.colab.kernel.invokeFunction('convertToInteractive',\n",
              "                                                     [key], {});\n",
              "          if (!dataTable) return;\n",
              "\n",
              "          const docLinkHtml = 'Like what you see? Visit the ' +\n",
              "            '<a target=\"_blank\" href=https://colab.research.google.com/notebooks/data_table.ipynb>data table notebook</a>'\n",
              "            + ' to learn more about interactive tables.';\n",
              "          element.innerHTML = '';\n",
              "          dataTable['output_type'] = 'display_data';\n",
              "          await google.colab.output.renderOutput(dataTable, element);\n",
              "          const docLink = document.createElement('div');\n",
              "          docLink.innerHTML = docLinkHtml;\n",
              "          element.appendChild(docLink);\n",
              "        }\n",
              "      </script>\n",
              "    </div>\n",
              "  </div>\n",
              "  "
            ]
          },
          "metadata": {},
          "execution_count": 73
        }
      ]
    },
    {
      "cell_type": "code",
      "source": [
        "plt.barh(importancias_sumadas.index, importancias_sumadas[\"Importancia\"],align='center')\n",
        "plt.title(\"Importancia de las Features con Regresión Logística.\")\n",
        "plt.xlabel(\"Importancia\")\n",
        "plt.ylabel(\"Feature\")"
      ],
      "metadata": {
        "colab": {
          "base_uri": "https://localhost:8080/",
          "height": 489
        },
        "id": "_J8y5VDkmGvn",
        "outputId": "c2c58f7b-eb10-4aa0-c689-b3e8e65c4b43"
      },
      "execution_count": null,
      "outputs": [
        {
          "output_type": "execute_result",
          "data": {
            "text/plain": [
              "Text(0, 0.5, 'Feature')"
            ]
          },
          "metadata": {},
          "execution_count": 75
        },
        {
          "output_type": "display_data",
          "data": {
            "text/plain": [
              "<Figure size 640x480 with 1 Axes>"
            ],
            "image/png": "[encoded data removed]"
          },
          "metadata": {}
        }
      ]
    },
    {
      "cell_type": "markdown",
      "source": [
        "Como puede verse en el gráfico, claramente para este modelo las features numéricas \"cap-diameter\", \"stem-height\" y \"stem-width\" no aportan prácticamente nada al modelo. Después en líneas generales, la mayoría de las features aportan poco al modelo, a excepción de \"veil-color\" (la que más aporta y con diferencia), \"habitat\", \"spore-print-color\", \"stem-root\" y \"stem-surface\". Cabe destacar, que estas importancias podrían variar significativamente si se utilizasen distintos híper parámetros a los obtenidos en la última prueba realizada."
      ],
      "metadata": {
        "id": "LSxD2Je5t1YB"
      }
    },
    {
      "cell_type": "code",
      "source": [],
      "metadata": {
        "id": "0AlNDE55mOGn"
      },
      "execution_count": null,
      "outputs": []
    }
  ]
}